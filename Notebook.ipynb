{
 "cells": [
  {
   "cell_type": "markdown",
   "metadata": {},
   "source": [
    "## Supreme Court Decision Prediction"
   ]
  },
  {
   "cell_type": "markdown",
   "metadata": {},
   "source": [
    "### Load In Data"
   ]
  },
  {
   "cell_type": "code",
   "execution_count": 228,
   "metadata": {},
   "outputs": [],
   "source": [
    "import pandas as pd\n",
    "import numpy as np\n",
    "import re\n",
    "import warnings\n",
    "\n",
    "warnings.filterwarnings('ignore')"
   ]
  },
  {
   "cell_type": "code",
   "execution_count": 229,
   "metadata": {},
   "outputs": [],
   "source": [
    "cases = pd.read_csv('csvs/justice2.csv')\n",
    "cases2 = pd.read_csv('csvs/justice2.csv')\n",
    "judges = pd.read_csv('csvs/table_of_justices.csv')\n",
    "presidents = pd.read_csv('csvs/presidents.csv')"
   ]
  },
  {
   "cell_type": "code",
   "execution_count": 230,
   "metadata": {},
   "outputs": [
    {
     "name": "stdout",
     "output_type": "stream",
     "text": [
      "<class 'pandas.core.frame.DataFrame'>\n",
      "RangeIndex: 3303 entries, 0 to 3302\n",
      "Data columns (total 16 columns):\n",
      " #   Column              Non-Null Count  Dtype \n",
      "---  ------              --------------  ----- \n",
      " 0   Unnamed: 0          3303 non-null   int64 \n",
      " 1   ID                  3303 non-null   int64 \n",
      " 2   name                3303 non-null   object\n",
      " 3   href                3303 non-null   object\n",
      " 4   docket              3292 non-null   object\n",
      " 5   term                3303 non-null   int64 \n",
      " 6   first_party         3302 non-null   object\n",
      " 7   second_party        3302 non-null   object\n",
      " 8   facts               3303 non-null   object\n",
      " 9   facts_len           3303 non-null   int64 \n",
      " 10  majority_vote       3303 non-null   int64 \n",
      " 11  minority_vote       3303 non-null   int64 \n",
      " 12  first_party_winner  3288 non-null   object\n",
      " 13  decision_type       3296 non-null   object\n",
      " 14  disposition         3231 non-null   object\n",
      " 15  issue_area          3161 non-null   object\n",
      "dtypes: int64(6), object(10)\n",
      "memory usage: 413.0+ KB\n"
     ]
    }
   ],
   "source": [
    "cases.info()"
   ]
  },
  {
   "cell_type": "code",
   "execution_count": 231,
   "metadata": {},
   "outputs": [
    {
     "name": "stdout",
     "output_type": "stream",
     "text": [
      "<class 'pandas.core.frame.DataFrame'>\n",
      "RangeIndex: 121 entries, 0 to 120\n",
      "Data columns (total 6 columns):\n",
      " #   Column                    Non-Null Count  Dtype \n",
      "---  ------                    --------------  ----- \n",
      " 0   Index                     121 non-null    int64 \n",
      " 1   Justice Name              121 non-null    object\n",
      " 2   Supreme Court Term Start  121 non-null    object\n",
      " 3   Supreme Court Term End    121 non-null    object\n",
      " 4   Appointing President      121 non-null    object\n",
      " 5   Notable Opinion(s)        121 non-null    object\n",
      "dtypes: int64(1), object(5)\n",
      "memory usage: 5.8+ KB\n"
     ]
    }
   ],
   "source": [
    "judges.info()"
   ]
  },
  {
   "cell_type": "markdown",
   "metadata": {},
   "source": [
    "It's nice to note that there isn't any missing information regarding the entered judges here. Every judge has\n",
    "* Name\n",
    "* Start Term\n",
    "* End Term\n",
    "* Appointing President\n",
    "\n",
    "This will help us to potentially classify the judge's political affiliations when creating features for our model."
   ]
  },
  {
   "cell_type": "code",
   "execution_count": 232,
   "metadata": {},
   "outputs": [
    {
     "name": "stdout",
     "output_type": "stream",
     "text": [
      "<class 'pandas.core.frame.DataFrame'>\n",
      "RangeIndex: 46 entries, 0 to 45\n",
      "Data columns (total 2 columns):\n",
      " #   Column      Non-Null Count  Dtype \n",
      "---  ------      --------------  ----- \n",
      " 0   President   46 non-null     object\n",
      " 1   Party       46 non-null     object\n",
      "dtypes: object(2)\n",
      "memory usage: 864.0+ bytes\n"
     ]
    }
   ],
   "source": [
    "presidents.info()"
   ]
  },
  {
   "cell_type": "markdown",
   "metadata": {},
   "source": [
    "### Data Prep"
   ]
  },
  {
   "cell_type": "markdown",
   "metadata": {},
   "source": [
    "#### Get All Dates in Terms of Years"
   ]
  },
  {
   "cell_type": "code",
   "execution_count": 233,
   "metadata": {},
   "outputs": [],
   "source": [
    "judges['start_year'] = pd.to_datetime(judges['Supreme Court Term Start']).dt.year\n",
    "judges['end_year'] = pd.to_datetime(judges['Supreme Court Term End'].replace(\"--\",\"01-Mar-24\")).dt.year\n",
    "cases[\"feat_term\"] = cases[\"term\"]"
   ]
  },
  {
   "cell_type": "markdown",
   "metadata": {},
   "source": [
    "All cases just have a \"term\" in which a ruling was placed, not an actual date. Therefore, we will need to make an assumption that if a Supreme Court Justice's service encapsulates the term in which a ruling was passed, they will in fact have had been part of that ruling."
   ]
  },
  {
   "cell_type": "markdown",
   "metadata": {},
   "source": [
    "#### Match Judges to their Party Affiliations"
   ]
  },
  {
   "cell_type": "code",
   "execution_count": 234,
   "metadata": {},
   "outputs": [],
   "source": [
    "judges['president_last_name'] = judges[\"Appointing President\"].str.extract(r'^(\\w+),')\n",
    "presidents['president_last_name']= presidents['President '].str.extract(r'\\s(\\w+)$') "
   ]
  },
  {
   "cell_type": "code",
   "execution_count": 235,
   "metadata": {},
   "outputs": [],
   "source": [
    "president_party_dict = presidents.set_index('president_last_name')['Party '].to_dict()\n",
    "judges['party'] = np.where(judges['president_last_name'].isin(president_party_dict.keys()),\n",
    "                           judges['president_last_name'].map(president_party_dict),\n",
    "                           None)\n",
    "judges['party'] = judges['party'].dropna().apply(lambda x: x.strip())"
   ]
  },
  {
   "cell_type": "markdown",
   "metadata": {},
   "source": [
    "We make the assumption that the judges will have the same political affiliation as the President that inaugarated him/her. Therefore, it is helpful to map the President's party affiliation to the corresponding Supreme Court Justices they appointed."
   ]
  },
  {
   "cell_type": "code",
   "execution_count": 236,
   "metadata": {},
   "outputs": [
    {
     "data": {
      "text/plain": [
       "party\n",
       "Republican                                   49\n",
       "Democratic                                   44\n",
       "Independent                                  11\n",
       "Democratic-Republican                         6\n",
       "Republican/National Union                     5\n",
       "Democratic-Republican/National Republican     4\n",
       "Whig                                          2\n",
       "Name: count, dtype: int64"
      ]
     },
     "execution_count": 236,
     "metadata": {},
     "output_type": "execute_result"
    }
   ],
   "source": [
    "judges.value_counts(\"party\")"
   ]
  },
  {
   "cell_type": "markdown",
   "metadata": {},
   "source": [
    "This is a problem that was unforseen. There have been some different sounding political parties over the years with some unique ideals. It's hard to classify distinction with the change of names because...\n",
    "\n",
    "`Democratic` + `Republican` != `Democratic-Republican`\n",
    "\n",
    "Our solution here is to instead to map party ideology into \"neutral\", \"conservative\", or \"liberal\" utilizing our pre-existing knowledge of these parties."
   ]
  },
  {
   "cell_type": "code",
   "execution_count": 237,
   "metadata": {},
   "outputs": [],
   "source": [
    "ideology_map = {\n",
    "    \"Republican\": \"feat_conservative\",\n",
    "    \"Democratic\": \"feat_liberal\",\n",
    "    \"Independent\": \"feat_neutral\", \n",
    "    \"Whig\": \"feat_conservative\",\n",
    "    \"Democratic-Republican/National Republican\": \"feat_conservative\",\n",
    "    \"Republican/National Union\": \"feat_conservative\",\n",
    "    \"Democratic-Republican\": \"feat_liberal\"\n",
    "}"
   ]
  },
  {
   "cell_type": "code",
   "execution_count": 238,
   "metadata": {},
   "outputs": [],
   "source": [
    "judges['ideology'] = np.where(judges['party'].isin(ideology_map.keys()),\n",
    "                           judges['party'].map(ideology_map),\n",
    "                           None)"
   ]
  },
  {
   "cell_type": "markdown",
   "metadata": {},
   "source": [
    "#### Match Cases to Judges to Get Counts for Each Ideology\n"
   ]
  },
  {
   "cell_type": "code",
   "execution_count": 239,
   "metadata": {},
   "outputs": [],
   "source": [
    "cases[\"feat_conservative\"] = 0\n",
    "cases[\"feat_liberal\"] = 0\n",
    "cases[\"feat_neutral\"] = 0"
   ]
  },
  {
   "cell_type": "code",
   "execution_count": 240,
   "metadata": {},
   "outputs": [],
   "source": [
    "for case_index, term in enumerate(cases.term):\n",
    "    for judge_index, (start, end) in enumerate(zip(judges.start_year, judges.end_year)):\n",
    "        if (start <= term <= end):\n",
    "            judge_ideology = judges.ideology[judge_index]\n",
    "            cases.loc[case_index, judge_ideology] += 1\n",
    "        else:\n",
    "            pass"
   ]
  },
  {
   "cell_type": "markdown",
   "metadata": {},
   "source": [
    "#### Remove Rows Missing \"`Issue_area` \", `\"disposition\"`, and \"`first_party_winner`\""
   ]
  },
  {
   "cell_type": "code",
   "execution_count": 241,
   "metadata": {},
   "outputs": [],
   "source": [
    "cases = cases.loc[cases.issue_area.notnull()]\n",
    "cases = cases.loc[cases.first_party_winner.notnull()]\n",
    "cases = cases[cases.disposition != \"none\"]"
   ]
  },
  {
   "cell_type": "markdown",
   "metadata": {},
   "source": [
    "#### Regularize Facts Statements"
   ]
  },
  {
   "cell_type": "code",
   "execution_count": 242,
   "metadata": {},
   "outputs": [
    {
     "name": "stderr",
     "output_type": "stream",
     "text": [
      "[nltk_data] Downloading package punkt to\n",
      "[nltk_data]     C:\\Users\\brand\\AppData\\Roaming\\nltk_data...\n",
      "[nltk_data]   Package punkt is already up-to-date!\n",
      "[nltk_data] Downloading package stopwords to\n",
      "[nltk_data]     C:\\Users\\brand\\AppData\\Roaming\\nltk_data...\n",
      "[nltk_data]   Package stopwords is already up-to-date!\n",
      "[nltk_data] Downloading package wordnet to\n",
      "[nltk_data]     C:\\Users\\brand\\AppData\\Roaming\\nltk_data...\n",
      "[nltk_data]   Package wordnet is already up-to-date!\n"
     ]
    }
   ],
   "source": [
    "import nltk\n",
    "import string\n",
    "from nltk.corpus import stopwords\n",
    "from nltk.stem import WordNetLemmatizer\n",
    "\n",
    "\n",
    "nltk.download('punkt')\n",
    "nltk.download('stopwords')\n",
    "nltk.download('wordnet')\n",
    "\n",
    "stop_words = set(stopwords.words('english'))\n",
    "lemmatizer = WordNetLemmatizer()\n",
    "\n",
    "def tokenizer(text):\n",
    "    ''' Tokenize document text by stripping the text into individual tokens, removing digit characters, removing punctuation, remove stop words, and lemmatizing the tokens.\n",
    "    \n",
    "    Parameters\n",
    "    ----------\n",
    "    text : str\n",
    "        The body of text that you would like to tokenize\n",
    "    \n",
    "    Returns\n",
    "    -------\n",
    "    cleaned_doc_tokens : str\n",
    "        The cleaned and tokenized text\n",
    "\n",
    "    Example\n",
    "    -------\n",
    "    text = \"Hailey Naugle was quite the important contributor to this Supreme Court analysis. - Brandon Owens\"\n",
    "\n",
    "    clean_text = tokenizer(text)\n",
    "    \n",
    "    Will output:\n",
    "        \"hailey naugle important contributor supreme court analysis brandon owens\"\n",
    "\n",
    "    '''\n",
    "\n",
    "    text_tokens = []\n",
    "    sentences = nltk.sent_tokenize(text)\n",
    "    for sentence in sentences:\n",
    "        sent_tokens = nltk.word_tokenize(sentence)\n",
    "        sent_tokens = [lemmatizer.lemmatize(word.lower()) for word in sent_tokens \n",
    "                       if (word.lower() not in stop_words) and (word not in string.punctuation) and (len(word) > 1) and not(word.isdigit())]\n",
    "        text_tokens += sent_tokens\n",
    "\n",
    "    cleaned_doc_tokens = ' '.join(text_tokens)\n",
    "\n",
    "    return cleaned_doc_tokens\n"
   ]
  },
  {
   "cell_type": "code",
   "execution_count": 243,
   "metadata": {},
   "outputs": [],
   "source": [
    "cases[\"cleaned_facts\"] = cases[\"facts\"].apply(lambda x: tokenizer(x))"
   ]
  },
  {
   "cell_type": "markdown",
   "metadata": {},
   "source": [
    "#### Convert Some Columns to Binary"
   ]
  },
  {
   "cell_type": "code",
   "execution_count": 244,
   "metadata": {},
   "outputs": [],
   "source": [
    "issue_areas = pd.get_dummies(cases.issue_area)\n",
    "combo_dummies = pd.concat([issue_areas], axis = 1, join=\"inner\")"
   ]
  },
  {
   "cell_type": "code",
   "execution_count": 245,
   "metadata": {},
   "outputs": [],
   "source": [
    "cols = [\"name\", \"feat_term\", \"first_party\", \"second_party\", \"facts\", \"cleaned_facts\", \"disposition\", \"majority_vote\", \"minority_vote\", \"first_party_winner\", \"feat_conservative\", \"feat_liberal\", \"feat_neutral\"]\n",
    "cases = pd.concat([cases[cols], combo_dummies], axis=1, join=\"inner\")"
   ]
  },
  {
   "cell_type": "code",
   "execution_count": 246,
   "metadata": {},
   "outputs": [],
   "source": [
    "cases = cases.replace({True: 1, False: 0})"
   ]
  },
  {
   "cell_type": "code",
   "execution_count": 247,
   "metadata": {},
   "outputs": [
    {
     "data": {
      "text/html": [
       "<div>\n",
       "<style scoped>\n",
       "    .dataframe tbody tr th:only-of-type {\n",
       "        vertical-align: middle;\n",
       "    }\n",
       "\n",
       "    .dataframe tbody tr th {\n",
       "        vertical-align: top;\n",
       "    }\n",
       "\n",
       "    .dataframe thead th {\n",
       "        text-align: right;\n",
       "    }\n",
       "</style>\n",
       "<table border=\"1\" class=\"dataframe\">\n",
       "  <thead>\n",
       "    <tr style=\"text-align: right;\">\n",
       "      <th></th>\n",
       "      <th>index</th>\n",
       "      <th>name</th>\n",
       "      <th>feat_term</th>\n",
       "      <th>first_party</th>\n",
       "      <th>second_party</th>\n",
       "      <th>facts</th>\n",
       "      <th>cleaned_facts</th>\n",
       "      <th>disposition</th>\n",
       "      <th>majority_vote</th>\n",
       "      <th>minority_vote</th>\n",
       "      <th>...</th>\n",
       "      <th>Economic Activity</th>\n",
       "      <th>Federal Taxation</th>\n",
       "      <th>Federalism</th>\n",
       "      <th>First Amendment</th>\n",
       "      <th>Interstate Relations</th>\n",
       "      <th>Judicial Power</th>\n",
       "      <th>Miscellaneous</th>\n",
       "      <th>Privacy</th>\n",
       "      <th>Private Action</th>\n",
       "      <th>Unions</th>\n",
       "    </tr>\n",
       "  </thead>\n",
       "  <tbody>\n",
       "    <tr>\n",
       "      <th>0</th>\n",
       "      <td>1</td>\n",
       "      <td>Stanley v. Illinois</td>\n",
       "      <td>1971</td>\n",
       "      <td>Peter Stanley, Sr.</td>\n",
       "      <td>Illinois</td>\n",
       "      <td>&lt;p&gt;Joan Stanley had three children with Peter ...</td>\n",
       "      <td>joan stanley three child peter stanley stanley...</td>\n",
       "      <td>reversed/remanded</td>\n",
       "      <td>5</td>\n",
       "      <td>2</td>\n",
       "      <td>...</td>\n",
       "      <td>0</td>\n",
       "      <td>0</td>\n",
       "      <td>0</td>\n",
       "      <td>0</td>\n",
       "      <td>0</td>\n",
       "      <td>0</td>\n",
       "      <td>0</td>\n",
       "      <td>0</td>\n",
       "      <td>0</td>\n",
       "      <td>0</td>\n",
       "    </tr>\n",
       "    <tr>\n",
       "      <th>1</th>\n",
       "      <td>2</td>\n",
       "      <td>Giglio v. United States</td>\n",
       "      <td>1971</td>\n",
       "      <td>John Giglio</td>\n",
       "      <td>United States</td>\n",
       "      <td>&lt;p&gt;John Giglio was convicted of passing forged...</td>\n",
       "      <td>john giglio convicted passing forged money ord...</td>\n",
       "      <td>reversed/remanded</td>\n",
       "      <td>7</td>\n",
       "      <td>0</td>\n",
       "      <td>...</td>\n",
       "      <td>0</td>\n",
       "      <td>0</td>\n",
       "      <td>0</td>\n",
       "      <td>0</td>\n",
       "      <td>0</td>\n",
       "      <td>0</td>\n",
       "      <td>0</td>\n",
       "      <td>0</td>\n",
       "      <td>0</td>\n",
       "      <td>0</td>\n",
       "    </tr>\n",
       "    <tr>\n",
       "      <th>2</th>\n",
       "      <td>3</td>\n",
       "      <td>Reed v. Reed</td>\n",
       "      <td>1971</td>\n",
       "      <td>Sally Reed</td>\n",
       "      <td>Cecil Reed</td>\n",
       "      <td>&lt;p&gt;The Idaho Probate Code specified that \"male...</td>\n",
       "      <td>idaho probate code specified `` male must pref...</td>\n",
       "      <td>reversed/remanded</td>\n",
       "      <td>7</td>\n",
       "      <td>0</td>\n",
       "      <td>...</td>\n",
       "      <td>0</td>\n",
       "      <td>0</td>\n",
       "      <td>0</td>\n",
       "      <td>0</td>\n",
       "      <td>0</td>\n",
       "      <td>0</td>\n",
       "      <td>0</td>\n",
       "      <td>0</td>\n",
       "      <td>0</td>\n",
       "      <td>0</td>\n",
       "    </tr>\n",
       "    <tr>\n",
       "      <th>3</th>\n",
       "      <td>4</td>\n",
       "      <td>Miller v. California</td>\n",
       "      <td>1971</td>\n",
       "      <td>Marvin Miller</td>\n",
       "      <td>California</td>\n",
       "      <td>&lt;p&gt;Miller, after conducting a mass mailing cam...</td>\n",
       "      <td>miller conducting mass mailing campaign advert...</td>\n",
       "      <td>vacated/remanded</td>\n",
       "      <td>5</td>\n",
       "      <td>4</td>\n",
       "      <td>...</td>\n",
       "      <td>0</td>\n",
       "      <td>0</td>\n",
       "      <td>0</td>\n",
       "      <td>1</td>\n",
       "      <td>0</td>\n",
       "      <td>0</td>\n",
       "      <td>0</td>\n",
       "      <td>0</td>\n",
       "      <td>0</td>\n",
       "      <td>0</td>\n",
       "    </tr>\n",
       "    <tr>\n",
       "      <th>4</th>\n",
       "      <td>5</td>\n",
       "      <td>Kleindienst v. Mandel</td>\n",
       "      <td>1971</td>\n",
       "      <td>Richard G. Kleindienst, Attorney General of th...</td>\n",
       "      <td>Ernest E. Mandel, et al.</td>\n",
       "      <td>&lt;p&gt;Ernest E. Mandel was a Belgian professional...</td>\n",
       "      <td>ernest e. mandel belgian professional journali...</td>\n",
       "      <td>reversed</td>\n",
       "      <td>6</td>\n",
       "      <td>3</td>\n",
       "      <td>...</td>\n",
       "      <td>0</td>\n",
       "      <td>0</td>\n",
       "      <td>0</td>\n",
       "      <td>1</td>\n",
       "      <td>0</td>\n",
       "      <td>0</td>\n",
       "      <td>0</td>\n",
       "      <td>0</td>\n",
       "      <td>0</td>\n",
       "      <td>0</td>\n",
       "    </tr>\n",
       "    <tr>\n",
       "      <th>...</th>\n",
       "      <td>...</td>\n",
       "      <td>...</td>\n",
       "      <td>...</td>\n",
       "      <td>...</td>\n",
       "      <td>...</td>\n",
       "      <td>...</td>\n",
       "      <td>...</td>\n",
       "      <td>...</td>\n",
       "      <td>...</td>\n",
       "      <td>...</td>\n",
       "      <td>...</td>\n",
       "      <td>...</td>\n",
       "      <td>...</td>\n",
       "      <td>...</td>\n",
       "      <td>...</td>\n",
       "      <td>...</td>\n",
       "      <td>...</td>\n",
       "      <td>...</td>\n",
       "      <td>...</td>\n",
       "      <td>...</td>\n",
       "      <td>...</td>\n",
       "    </tr>\n",
       "    <tr>\n",
       "      <th>3141</th>\n",
       "      <td>3297</td>\n",
       "      <td>Yellen v. Confederated Tribes of the Chehalis ...</td>\n",
       "      <td>2020</td>\n",
       "      <td>Janet L. Yellen, Secretary of the Treasury</td>\n",
       "      <td>Confederated Tribes of the Chehalis Reservatio...</td>\n",
       "      <td>&lt;p&gt;For over a century after the Alaska Purchas...</td>\n",
       "      <td>century alaska purchase federal government set...</td>\n",
       "      <td>reversed/remanded</td>\n",
       "      <td>6</td>\n",
       "      <td>3</td>\n",
       "      <td>...</td>\n",
       "      <td>0</td>\n",
       "      <td>0</td>\n",
       "      <td>0</td>\n",
       "      <td>0</td>\n",
       "      <td>0</td>\n",
       "      <td>0</td>\n",
       "      <td>0</td>\n",
       "      <td>0</td>\n",
       "      <td>0</td>\n",
       "      <td>0</td>\n",
       "    </tr>\n",
       "    <tr>\n",
       "      <th>3142</th>\n",
       "      <td>3298</td>\n",
       "      <td>United States v. Palomar-Santiago</td>\n",
       "      <td>2020</td>\n",
       "      <td>United States</td>\n",
       "      <td>Refugio Palomar-Santiago</td>\n",
       "      <td>&lt;p&gt;Refugio Palomar-Santiago, a Mexican nationa...</td>\n",
       "      <td>refugio palomar-santiago mexican national gran...</td>\n",
       "      <td>reversed/remanded</td>\n",
       "      <td>9</td>\n",
       "      <td>0</td>\n",
       "      <td>...</td>\n",
       "      <td>0</td>\n",
       "      <td>0</td>\n",
       "      <td>0</td>\n",
       "      <td>0</td>\n",
       "      <td>0</td>\n",
       "      <td>0</td>\n",
       "      <td>0</td>\n",
       "      <td>0</td>\n",
       "      <td>0</td>\n",
       "      <td>0</td>\n",
       "    </tr>\n",
       "    <tr>\n",
       "      <th>3143</th>\n",
       "      <td>3299</td>\n",
       "      <td>Terry v. United States</td>\n",
       "      <td>2020</td>\n",
       "      <td>Tarahrick Terry</td>\n",
       "      <td>United States</td>\n",
       "      <td>&lt;p&gt;Tarahrick Terry pleaded guilty to one count...</td>\n",
       "      <td>tarahrick terry pleaded guilty one count posse...</td>\n",
       "      <td>affirmed</td>\n",
       "      <td>9</td>\n",
       "      <td>0</td>\n",
       "      <td>...</td>\n",
       "      <td>0</td>\n",
       "      <td>0</td>\n",
       "      <td>0</td>\n",
       "      <td>0</td>\n",
       "      <td>0</td>\n",
       "      <td>0</td>\n",
       "      <td>0</td>\n",
       "      <td>0</td>\n",
       "      <td>0</td>\n",
       "      <td>0</td>\n",
       "    </tr>\n",
       "    <tr>\n",
       "      <th>3144</th>\n",
       "      <td>3300</td>\n",
       "      <td>United States v. Cooley</td>\n",
       "      <td>2020</td>\n",
       "      <td>United States</td>\n",
       "      <td>Joshua James Cooley</td>\n",
       "      <td>&lt;p&gt;Joshua James Cooley was parked in his picku...</td>\n",
       "      <td>joshua james cooley parked pickup truck side r...</td>\n",
       "      <td>vacated/remanded</td>\n",
       "      <td>9</td>\n",
       "      <td>0</td>\n",
       "      <td>...</td>\n",
       "      <td>0</td>\n",
       "      <td>0</td>\n",
       "      <td>0</td>\n",
       "      <td>0</td>\n",
       "      <td>0</td>\n",
       "      <td>0</td>\n",
       "      <td>0</td>\n",
       "      <td>0</td>\n",
       "      <td>0</td>\n",
       "      <td>0</td>\n",
       "    </tr>\n",
       "    <tr>\n",
       "      <th>3145</th>\n",
       "      <td>3302</td>\n",
       "      <td>PennEast Pipeline Co. v. New Jersey</td>\n",
       "      <td>2020</td>\n",
       "      <td>PennEast Pipeline Co. LLC</td>\n",
       "      <td>New Jersey, et al.</td>\n",
       "      <td>&lt;p&gt;The Natural Gas Act (NGA), 15 U.S.C. §§ 717...</td>\n",
       "      <td>natural gas act nga u.s.c §§ 717–717z permit p...</td>\n",
       "      <td>reversed/remanded</td>\n",
       "      <td>5</td>\n",
       "      <td>4</td>\n",
       "      <td>...</td>\n",
       "      <td>0</td>\n",
       "      <td>0</td>\n",
       "      <td>0</td>\n",
       "      <td>0</td>\n",
       "      <td>0</td>\n",
       "      <td>0</td>\n",
       "      <td>0</td>\n",
       "      <td>0</td>\n",
       "      <td>0</td>\n",
       "      <td>0</td>\n",
       "    </tr>\n",
       "  </tbody>\n",
       "</table>\n",
       "<p>3146 rows × 28 columns</p>\n",
       "</div>"
      ],
      "text/plain": [
       "      index                                               name  feat_term  \\\n",
       "0         1                                Stanley v. Illinois       1971   \n",
       "1         2                            Giglio v. United States       1971   \n",
       "2         3                                       Reed v. Reed       1971   \n",
       "3         4                               Miller v. California       1971   \n",
       "4         5                              Kleindienst v. Mandel       1971   \n",
       "...     ...                                                ...        ...   \n",
       "3141   3297  Yellen v. Confederated Tribes of the Chehalis ...       2020   \n",
       "3142   3298                  United States v. Palomar-Santiago       2020   \n",
       "3143   3299                             Terry v. United States       2020   \n",
       "3144   3300                            United States v. Cooley       2020   \n",
       "3145   3302                PennEast Pipeline Co. v. New Jersey       2020   \n",
       "\n",
       "                                            first_party  \\\n",
       "0                                   Peter Stanley, Sr.    \n",
       "1                                          John Giglio    \n",
       "2                                            Sally Reed   \n",
       "3                                         Marvin Miller   \n",
       "4     Richard G. Kleindienst, Attorney General of th...   \n",
       "...                                                 ...   \n",
       "3141         Janet L. Yellen, Secretary of the Treasury   \n",
       "3142                                      United States   \n",
       "3143                                    Tarahrick Terry   \n",
       "3144                                      United States   \n",
       "3145                          PennEast Pipeline Co. LLC   \n",
       "\n",
       "                                           second_party  \\\n",
       "0                                              Illinois   \n",
       "1                                         United States   \n",
       "2                                            Cecil Reed   \n",
       "3                                            California   \n",
       "4                              Ernest E. Mandel, et al.   \n",
       "...                                                 ...   \n",
       "3141  Confederated Tribes of the Chehalis Reservatio...   \n",
       "3142                           Refugio Palomar-Santiago   \n",
       "3143                                      United States   \n",
       "3144                                Joshua James Cooley   \n",
       "3145                                 New Jersey, et al.   \n",
       "\n",
       "                                                  facts  \\\n",
       "0     <p>Joan Stanley had three children with Peter ...   \n",
       "1     <p>John Giglio was convicted of passing forged...   \n",
       "2     <p>The Idaho Probate Code specified that \"male...   \n",
       "3     <p>Miller, after conducting a mass mailing cam...   \n",
       "4     <p>Ernest E. Mandel was a Belgian professional...   \n",
       "...                                                 ...   \n",
       "3141  <p>For over a century after the Alaska Purchas...   \n",
       "3142  <p>Refugio Palomar-Santiago, a Mexican nationa...   \n",
       "3143  <p>Tarahrick Terry pleaded guilty to one count...   \n",
       "3144  <p>Joshua James Cooley was parked in his picku...   \n",
       "3145  <p>The Natural Gas Act (NGA), 15 U.S.C. §§ 717...   \n",
       "\n",
       "                                          cleaned_facts        disposition  \\\n",
       "0     joan stanley three child peter stanley stanley...  reversed/remanded   \n",
       "1     john giglio convicted passing forged money ord...  reversed/remanded   \n",
       "2     idaho probate code specified `` male must pref...  reversed/remanded   \n",
       "3     miller conducting mass mailing campaign advert...   vacated/remanded   \n",
       "4     ernest e. mandel belgian professional journali...           reversed   \n",
       "...                                                 ...                ...   \n",
       "3141  century alaska purchase federal government set...  reversed/remanded   \n",
       "3142  refugio palomar-santiago mexican national gran...  reversed/remanded   \n",
       "3143  tarahrick terry pleaded guilty one count posse...           affirmed   \n",
       "3144  joshua james cooley parked pickup truck side r...   vacated/remanded   \n",
       "3145  natural gas act nga u.s.c §§ 717–717z permit p...  reversed/remanded   \n",
       "\n",
       "      majority_vote  minority_vote  ...  Economic Activity  Federal Taxation  \\\n",
       "0                 5              2  ...                  0                 0   \n",
       "1                 7              0  ...                  0                 0   \n",
       "2                 7              0  ...                  0                 0   \n",
       "3                 5              4  ...                  0                 0   \n",
       "4                 6              3  ...                  0                 0   \n",
       "...             ...            ...  ...                ...               ...   \n",
       "3141              6              3  ...                  0                 0   \n",
       "3142              9              0  ...                  0                 0   \n",
       "3143              9              0  ...                  0                 0   \n",
       "3144              9              0  ...                  0                 0   \n",
       "3145              5              4  ...                  0                 0   \n",
       "\n",
       "      Federalism  First Amendment  Interstate Relations  Judicial Power  \\\n",
       "0              0                0                     0               0   \n",
       "1              0                0                     0               0   \n",
       "2              0                0                     0               0   \n",
       "3              0                1                     0               0   \n",
       "4              0                1                     0               0   \n",
       "...          ...              ...                   ...             ...   \n",
       "3141           0                0                     0               0   \n",
       "3142           0                0                     0               0   \n",
       "3143           0                0                     0               0   \n",
       "3144           0                0                     0               0   \n",
       "3145           0                0                     0               0   \n",
       "\n",
       "      Miscellaneous  Privacy  Private Action  Unions  \n",
       "0                 0        0               0       0  \n",
       "1                 0        0               0       0  \n",
       "2                 0        0               0       0  \n",
       "3                 0        0               0       0  \n",
       "4                 0        0               0       0  \n",
       "...             ...      ...             ...     ...  \n",
       "3141              0        0               0       0  \n",
       "3142              0        0               0       0  \n",
       "3143              0        0               0       0  \n",
       "3144              0        0               0       0  \n",
       "3145              0        0               0       0  \n",
       "\n",
       "[3146 rows x 28 columns]"
      ]
     },
     "execution_count": 247,
     "metadata": {},
     "output_type": "execute_result"
    }
   ],
   "source": [
    "cases.reset_index()"
   ]
  },
  {
   "cell_type": "code",
   "execution_count": 248,
   "metadata": {},
   "outputs": [
    {
     "data": {
      "text/plain": [
       "Index(['name', 'feat_term', 'first_party', 'second_party', 'facts',\n",
       "       'cleaned_facts', 'disposition', 'majority_vote', 'minority_vote',\n",
       "       'first_party_winner', 'feat_conservative', 'feat_liberal',\n",
       "       'feat_neutral', 'Attorneys', 'Civil Rights', 'Criminal Procedure',\n",
       "       'Due Process', 'Economic Activity', 'Federal Taxation', 'Federalism',\n",
       "       'First Amendment', 'Interstate Relations', 'Judicial Power',\n",
       "       'Miscellaneous', 'Privacy', 'Private Action', 'Unions'],\n",
       "      dtype='object')"
      ]
     },
     "execution_count": 248,
     "metadata": {},
     "output_type": "execute_result"
    }
   ],
   "source": [
    "cases.columns"
   ]
  },
  {
   "cell_type": "code",
   "execution_count": 249,
   "metadata": {},
   "outputs": [],
   "source": [
    "cases['first_party_winner'] = cases.first_party_winner.astype(int)"
   ]
  },
  {
   "cell_type": "markdown",
   "metadata": {},
   "source": [
    "#### Feature Engineer: Ratio of Conservative to Liberal"
   ]
  },
  {
   "cell_type": "code",
   "execution_count": 250,
   "metadata": {},
   "outputs": [
    {
     "data": {
      "text/plain": [
       "1       1.25\n",
       "2       1.25\n",
       "3       1.25\n",
       "4       1.25\n",
       "5       1.25\n",
       "        ... \n",
       "3297    1.50\n",
       "3298    1.50\n",
       "3299    1.50\n",
       "3300    1.50\n",
       "3302    1.50\n",
       "Name: ratio_conservative_to_liberal, Length: 3146, dtype: float64"
      ]
     },
     "execution_count": 250,
     "metadata": {},
     "output_type": "execute_result"
    }
   ],
   "source": [
    "cases['ratio_conservative_to_liberal'] = cases.feat_conservative / cases.feat_liberal\n",
    "\n",
    "cases['ratio_conservative_to_liberal']"
   ]
  },
  {
   "cell_type": "markdown",
   "metadata": {},
   "source": [
    "### EDA"
   ]
  },
  {
   "cell_type": "code",
   "execution_count": 251,
   "metadata": {},
   "outputs": [],
   "source": [
    "%matplotlib inline\n",
    "import matplotlib.pyplot as plt"
   ]
  },
  {
   "cell_type": "code",
   "execution_count": 252,
   "metadata": {},
   "outputs": [],
   "source": [
    "from sklearn.feature_extraction.text import CountVectorizer\n",
    "from sklearn.feature_extraction.text import TfidfVectorizer\n",
    "\n",
    "count_vectorizer = CountVectorizer()\n",
    "tfidf_vectorizer = TfidfVectorizer()"
   ]
  },
  {
   "cell_type": "code",
   "execution_count": 253,
   "metadata": {},
   "outputs": [],
   "source": [
    "counts_vectorized = count_vectorizer.fit_transform(cases[\"cleaned_facts\"]) \n",
    "counts_array = counts_vectorized.toarray()\n",
    "counts_df = pd.DataFrame(counts_array, columns = count_vectorizer.vocabulary_.keys())"
   ]
  },
  {
   "cell_type": "code",
   "execution_count": 254,
   "metadata": {},
   "outputs": [
    {
     "data": {
      "text/html": [
       "<div>\n",
       "<style scoped>\n",
       "    .dataframe tbody tr th:only-of-type {\n",
       "        vertical-align: middle;\n",
       "    }\n",
       "\n",
       "    .dataframe tbody tr th {\n",
       "        vertical-align: top;\n",
       "    }\n",
       "\n",
       "    .dataframe thead th {\n",
       "        text-align: right;\n",
       "    }\n",
       "</style>\n",
       "<table border=\"1\" class=\"dataframe\">\n",
       "  <thead>\n",
       "    <tr style=\"text-align: right;\">\n",
       "      <th></th>\n",
       "      <th>joan</th>\n",
       "      <th>stanley</th>\n",
       "      <th>three</th>\n",
       "      <th>child</th>\n",
       "      <th>peter</th>\n",
       "      <th>never</th>\n",
       "      <th>married</th>\n",
       "      <th>lived</th>\n",
       "      <th>together</th>\n",
       "      <th>year</th>\n",
       "      <th>...</th>\n",
       "      <th>aquino</th>\n",
       "      <th>aguilera</th>\n",
       "      <th>rios</th>\n",
       "      <th>tarahrick</th>\n",
       "      <th>cooley</th>\n",
       "      <th>saylor</th>\n",
       "      <th>icra</th>\n",
       "      <th>717</th>\n",
       "      <th>717z</th>\n",
       "      <th>penneast</th>\n",
       "    </tr>\n",
       "  </thead>\n",
       "  <tbody>\n",
       "    <tr>\n",
       "      <th>0</th>\n",
       "      <td>0</td>\n",
       "      <td>0</td>\n",
       "      <td>0</td>\n",
       "      <td>0</td>\n",
       "      <td>0</td>\n",
       "      <td>0</td>\n",
       "      <td>0</td>\n",
       "      <td>0</td>\n",
       "      <td>0</td>\n",
       "      <td>0</td>\n",
       "      <td>...</td>\n",
       "      <td>0</td>\n",
       "      <td>0</td>\n",
       "      <td>0</td>\n",
       "      <td>0</td>\n",
       "      <td>0</td>\n",
       "      <td>0</td>\n",
       "      <td>0</td>\n",
       "      <td>0</td>\n",
       "      <td>0</td>\n",
       "      <td>0</td>\n",
       "    </tr>\n",
       "    <tr>\n",
       "      <th>1</th>\n",
       "      <td>0</td>\n",
       "      <td>0</td>\n",
       "      <td>0</td>\n",
       "      <td>0</td>\n",
       "      <td>0</td>\n",
       "      <td>0</td>\n",
       "      <td>0</td>\n",
       "      <td>0</td>\n",
       "      <td>0</td>\n",
       "      <td>0</td>\n",
       "      <td>...</td>\n",
       "      <td>0</td>\n",
       "      <td>0</td>\n",
       "      <td>0</td>\n",
       "      <td>0</td>\n",
       "      <td>0</td>\n",
       "      <td>0</td>\n",
       "      <td>0</td>\n",
       "      <td>0</td>\n",
       "      <td>0</td>\n",
       "      <td>0</td>\n",
       "    </tr>\n",
       "    <tr>\n",
       "      <th>2</th>\n",
       "      <td>0</td>\n",
       "      <td>0</td>\n",
       "      <td>0</td>\n",
       "      <td>0</td>\n",
       "      <td>0</td>\n",
       "      <td>0</td>\n",
       "      <td>0</td>\n",
       "      <td>0</td>\n",
       "      <td>0</td>\n",
       "      <td>0</td>\n",
       "      <td>...</td>\n",
       "      <td>0</td>\n",
       "      <td>0</td>\n",
       "      <td>0</td>\n",
       "      <td>0</td>\n",
       "      <td>0</td>\n",
       "      <td>0</td>\n",
       "      <td>0</td>\n",
       "      <td>0</td>\n",
       "      <td>0</td>\n",
       "      <td>0</td>\n",
       "    </tr>\n",
       "    <tr>\n",
       "      <th>3</th>\n",
       "      <td>0</td>\n",
       "      <td>0</td>\n",
       "      <td>0</td>\n",
       "      <td>0</td>\n",
       "      <td>0</td>\n",
       "      <td>0</td>\n",
       "      <td>0</td>\n",
       "      <td>0</td>\n",
       "      <td>0</td>\n",
       "      <td>0</td>\n",
       "      <td>...</td>\n",
       "      <td>0</td>\n",
       "      <td>0</td>\n",
       "      <td>0</td>\n",
       "      <td>0</td>\n",
       "      <td>0</td>\n",
       "      <td>0</td>\n",
       "      <td>0</td>\n",
       "      <td>0</td>\n",
       "      <td>0</td>\n",
       "      <td>0</td>\n",
       "    </tr>\n",
       "    <tr>\n",
       "      <th>4</th>\n",
       "      <td>0</td>\n",
       "      <td>0</td>\n",
       "      <td>0</td>\n",
       "      <td>0</td>\n",
       "      <td>0</td>\n",
       "      <td>0</td>\n",
       "      <td>0</td>\n",
       "      <td>0</td>\n",
       "      <td>0</td>\n",
       "      <td>0</td>\n",
       "      <td>...</td>\n",
       "      <td>0</td>\n",
       "      <td>0</td>\n",
       "      <td>0</td>\n",
       "      <td>0</td>\n",
       "      <td>0</td>\n",
       "      <td>0</td>\n",
       "      <td>0</td>\n",
       "      <td>0</td>\n",
       "      <td>0</td>\n",
       "      <td>0</td>\n",
       "    </tr>\n",
       "    <tr>\n",
       "      <th>...</th>\n",
       "      <td>...</td>\n",
       "      <td>...</td>\n",
       "      <td>...</td>\n",
       "      <td>...</td>\n",
       "      <td>...</td>\n",
       "      <td>...</td>\n",
       "      <td>...</td>\n",
       "      <td>...</td>\n",
       "      <td>...</td>\n",
       "      <td>...</td>\n",
       "      <td>...</td>\n",
       "      <td>...</td>\n",
       "      <td>...</td>\n",
       "      <td>...</td>\n",
       "      <td>...</td>\n",
       "      <td>...</td>\n",
       "      <td>...</td>\n",
       "      <td>...</td>\n",
       "      <td>...</td>\n",
       "      <td>...</td>\n",
       "      <td>...</td>\n",
       "    </tr>\n",
       "    <tr>\n",
       "      <th>3141</th>\n",
       "      <td>0</td>\n",
       "      <td>0</td>\n",
       "      <td>0</td>\n",
       "      <td>0</td>\n",
       "      <td>0</td>\n",
       "      <td>0</td>\n",
       "      <td>0</td>\n",
       "      <td>0</td>\n",
       "      <td>0</td>\n",
       "      <td>0</td>\n",
       "      <td>...</td>\n",
       "      <td>0</td>\n",
       "      <td>0</td>\n",
       "      <td>0</td>\n",
       "      <td>0</td>\n",
       "      <td>0</td>\n",
       "      <td>0</td>\n",
       "      <td>0</td>\n",
       "      <td>0</td>\n",
       "      <td>0</td>\n",
       "      <td>0</td>\n",
       "    </tr>\n",
       "    <tr>\n",
       "      <th>3142</th>\n",
       "      <td>0</td>\n",
       "      <td>0</td>\n",
       "      <td>0</td>\n",
       "      <td>0</td>\n",
       "      <td>0</td>\n",
       "      <td>0</td>\n",
       "      <td>0</td>\n",
       "      <td>0</td>\n",
       "      <td>0</td>\n",
       "      <td>0</td>\n",
       "      <td>...</td>\n",
       "      <td>0</td>\n",
       "      <td>0</td>\n",
       "      <td>0</td>\n",
       "      <td>0</td>\n",
       "      <td>0</td>\n",
       "      <td>0</td>\n",
       "      <td>0</td>\n",
       "      <td>0</td>\n",
       "      <td>0</td>\n",
       "      <td>0</td>\n",
       "    </tr>\n",
       "    <tr>\n",
       "      <th>3143</th>\n",
       "      <td>0</td>\n",
       "      <td>0</td>\n",
       "      <td>0</td>\n",
       "      <td>0</td>\n",
       "      <td>0</td>\n",
       "      <td>0</td>\n",
       "      <td>0</td>\n",
       "      <td>0</td>\n",
       "      <td>0</td>\n",
       "      <td>0</td>\n",
       "      <td>...</td>\n",
       "      <td>0</td>\n",
       "      <td>0</td>\n",
       "      <td>0</td>\n",
       "      <td>0</td>\n",
       "      <td>0</td>\n",
       "      <td>0</td>\n",
       "      <td>0</td>\n",
       "      <td>0</td>\n",
       "      <td>0</td>\n",
       "      <td>0</td>\n",
       "    </tr>\n",
       "    <tr>\n",
       "      <th>3144</th>\n",
       "      <td>0</td>\n",
       "      <td>0</td>\n",
       "      <td>0</td>\n",
       "      <td>0</td>\n",
       "      <td>0</td>\n",
       "      <td>0</td>\n",
       "      <td>0</td>\n",
       "      <td>0</td>\n",
       "      <td>0</td>\n",
       "      <td>0</td>\n",
       "      <td>...</td>\n",
       "      <td>0</td>\n",
       "      <td>0</td>\n",
       "      <td>0</td>\n",
       "      <td>0</td>\n",
       "      <td>0</td>\n",
       "      <td>0</td>\n",
       "      <td>0</td>\n",
       "      <td>0</td>\n",
       "      <td>0</td>\n",
       "      <td>0</td>\n",
       "    </tr>\n",
       "    <tr>\n",
       "      <th>3145</th>\n",
       "      <td>0</td>\n",
       "      <td>0</td>\n",
       "      <td>0</td>\n",
       "      <td>0</td>\n",
       "      <td>0</td>\n",
       "      <td>0</td>\n",
       "      <td>0</td>\n",
       "      <td>0</td>\n",
       "      <td>0</td>\n",
       "      <td>0</td>\n",
       "      <td>...</td>\n",
       "      <td>0</td>\n",
       "      <td>0</td>\n",
       "      <td>0</td>\n",
       "      <td>0</td>\n",
       "      <td>0</td>\n",
       "      <td>0</td>\n",
       "      <td>0</td>\n",
       "      <td>0</td>\n",
       "      <td>0</td>\n",
       "      <td>0</td>\n",
       "    </tr>\n",
       "  </tbody>\n",
       "</table>\n",
       "<p>3146 rows × 17576 columns</p>\n",
       "</div>"
      ],
      "text/plain": [
       "      joan  stanley  three  child  peter  never  married  lived  together  \\\n",
       "0        0        0      0      0      0      0        0      0         0   \n",
       "1        0        0      0      0      0      0        0      0         0   \n",
       "2        0        0      0      0      0      0        0      0         0   \n",
       "3        0        0      0      0      0      0        0      0         0   \n",
       "4        0        0      0      0      0      0        0      0         0   \n",
       "...    ...      ...    ...    ...    ...    ...      ...    ...       ...   \n",
       "3141     0        0      0      0      0      0        0      0         0   \n",
       "3142     0        0      0      0      0      0        0      0         0   \n",
       "3143     0        0      0      0      0      0        0      0         0   \n",
       "3144     0        0      0      0      0      0        0      0         0   \n",
       "3145     0        0      0      0      0      0        0      0         0   \n",
       "\n",
       "      year  ...  aquino  aguilera  rios  tarahrick  cooley  saylor  icra  717  \\\n",
       "0        0  ...       0         0     0          0       0       0     0    0   \n",
       "1        0  ...       0         0     0          0       0       0     0    0   \n",
       "2        0  ...       0         0     0          0       0       0     0    0   \n",
       "3        0  ...       0         0     0          0       0       0     0    0   \n",
       "4        0  ...       0         0     0          0       0       0     0    0   \n",
       "...    ...  ...     ...       ...   ...        ...     ...     ...   ...  ...   \n",
       "3141     0  ...       0         0     0          0       0       0     0    0   \n",
       "3142     0  ...       0         0     0          0       0       0     0    0   \n",
       "3143     0  ...       0         0     0          0       0       0     0    0   \n",
       "3144     0  ...       0         0     0          0       0       0     0    0   \n",
       "3145     0  ...       0         0     0          0       0       0     0    0   \n",
       "\n",
       "      717z  penneast  \n",
       "0        0         0  \n",
       "1        0         0  \n",
       "2        0         0  \n",
       "3        0         0  \n",
       "4        0         0  \n",
       "...    ...       ...  \n",
       "3141     0         0  \n",
       "3142     0         0  \n",
       "3143     0         0  \n",
       "3144     0         0  \n",
       "3145     0         0  \n",
       "\n",
       "[3146 rows x 17576 columns]"
      ]
     },
     "execution_count": 254,
     "metadata": {},
     "output_type": "execute_result"
    }
   ],
   "source": [
    "counts_df"
   ]
  },
  {
   "cell_type": "code",
   "execution_count": 226,
   "metadata": {},
   "outputs": [
    {
     "data": {
      "text/plain": [
       "0.6586141131595677"
      ]
     },
     "execution_count": 226,
     "metadata": {},
     "output_type": "execute_result"
    }
   ],
   "source": [
    "cases.first_party_winner.mean()\n"
   ]
  },
  {
   "cell_type": "markdown",
   "metadata": {},
   "source": [
    "#### Cases By Term"
   ]
  },
  {
   "cell_type": "code",
   "execution_count": 255,
   "metadata": {},
   "outputs": [
    {
     "data": {
      "text/plain": [
       "Text(0, 0.5, 'count')"
      ]
     },
     "execution_count": 255,
     "metadata": {},
     "output_type": "execute_result"
    },
    {
     "data": {
      "image/png": "[encoded data removed]",
      "text/plain": [
       "<Figure size 640x480 with 1 Axes>"
      ]
     },
     "metadata": {},
     "output_type": "display_data"
    }
   ],
   "source": [
    "ax = cases.feat_term.hist(color = 'skyblue', grid = False)\n",
    "ax.set_title('Histogram of Cases by Term')\n",
    "ax.set_xlabel('Term')\n",
    "ax.set_ylabel('count')"
   ]
  },
  {
   "cell_type": "markdown",
   "metadata": {},
   "source": [
    "From this histogram, we can see that the vast majority of the cases in this data set happened between 1950 and 2023"
   ]
  },
  {
   "cell_type": "markdown",
   "metadata": {},
   "source": [
    "#### First Party Winners"
   ]
  },
  {
   "cell_type": "code",
   "execution_count": 256,
   "metadata": {},
   "outputs": [
    {
     "data": {
      "text/plain": [
       "([<matplotlib.axis.XTick at 0x2d8fcaf5b10>,\n",
       "  <matplotlib.axis.XTick at 0x2d8fcaf5ae0>],\n",
       " [Text(0, 0, 'False'), Text(1, 0, 'True')])"
      ]
     },
     "execution_count": 256,
     "metadata": {},
     "output_type": "execute_result"
    },
    {
     "data": {
      "image/png": "[encoded data removed]",
      "text/plain": [
       "<Figure size 640x480 with 1 Axes>"
      ]
     },
     "metadata": {},
     "output_type": "display_data"
    }
   ],
   "source": [
    "winner_counts = cases.first_party_winner.value_counts()\n",
    " \n",
    "\n",
    "plt.figure()\n",
    "plt.bar(winner_counts.index, winner_counts, color = ['skyblue', 'purple'])\n",
    "plt.title('Count Plot of First party winner')\n",
    "plt.xlabel('First party winner')\n",
    "plt.ylabel('Count')\n",
    "plt.xticks( [0,1], [False, True])"
   ]
  },
  {
   "cell_type": "code",
   "execution_count": 257,
   "metadata": {},
   "outputs": [
    {
     "data": {
      "image/png": "[encoded data removed]",
      "text/plain": [
       "<Figure size 640x480 with 1 Axes>"
      ]
     },
     "metadata": {},
     "output_type": "display_data"
    }
   ],
   "source": [
    "issue_counts = cases2.issue_area.value_counts()\n",
    "issue_true = cases2[cases2.first_party_winner == True].issue_area.value_counts()\n",
    "issue_false = cases2[cases2.first_party_winner == False].issue_area.value_counts()\n",
    "\n",
    "bar_width = 0.35\n",
    "bar_p1 = np.arange(len(issue_counts.index))\n",
    "bar_p2 = bar_p1 + bar_width\n",
    "\n",
    "plt.bar(bar_p1, issue_true, width=bar_width, label='First Party Won', color='skyblue')\n",
    "plt.bar(bar_p2, issue_false, width=bar_width, label='First Party Lost', color='purple')\n",
    "plt.xlabel('Issue Area')\n",
    "plt.ylabel('Count')\n",
    "plt.xticks(bar_p1 + bar_width/2, issue_counts.index.tolist(), rotation = 90)\n",
    "plt.title('Bar Graph of count of Issue Areas by Outcome')\n",
    "plt.legend()\n",
    "plt.show()"
   ]
  },
  {
   "cell_type": "markdown",
   "metadata": {},
   "source": [
    "This graph allows us to compare the number of cases in each issue area where the first party won to those where the first party lost. To get the percent of times the first party won for each area, we run to following code:"
   ]
  },
  {
   "cell_type": "code",
   "execution_count": 258,
   "metadata": {},
   "outputs": [
    {
     "data": {
      "text/plain": [
       "issue_area\n",
       "Attorneys               0.729730\n",
       "Civil Rights            0.658451\n",
       "Criminal Procedure      0.690338\n",
       "Due Process             0.671875\n",
       "Economic Activity       0.652495\n",
       "Federal Taxation        0.568627\n",
       "Federalism              0.552000\n",
       "First Amendment         0.662890\n",
       "Interstate Relations    0.500000\n",
       "Judicial Power          0.624633\n",
       "Miscellaneous           0.450000\n",
       "Privacy                 0.700000\n",
       "Private Action          0.500000\n",
       "Unions                  0.616667\n",
       "Name: first_party_winner, dtype: float64"
      ]
     },
     "execution_count": 258,
     "metadata": {},
     "output_type": "execute_result"
    }
   ],
   "source": [
    "cases2.groupby(['issue_area'])['first_party_winner'].apply(lambda x: x.mean())"
   ]
  },
  {
   "cell_type": "markdown",
   "metadata": {},
   "source": [
    "There seem to be slight differences in the percentages by issue area, these might be significant. We will inculde factor this in future models. "
   ]
  },
  {
   "cell_type": "code",
   "execution_count": 259,
   "metadata": {},
   "outputs": [
    {
     "data": {
      "image/png": "[encoded data removed]",
      "text/plain": [
       "<Figure size 640x480 with 1 Axes>"
      ]
     },
     "metadata": {},
     "output_type": "display_data"
    }
   ],
   "source": [
    "ideology_counts = cases.ratio_conservative_to_liberal.value_counts()\n",
    "ideology_true = cases[cases.first_party_winner == True].ratio_conservative_to_liberal.value_counts()\n",
    "ideology_false = cases[cases.first_party_winner == False].ratio_conservative_to_liberal.value_counts()\n",
    "\n",
    "bar_width = 0.4\n",
    "bar_p1 = np.arange(len(ideology_counts.index))\n",
    "bar_p2 = bar_p1 + bar_width\n",
    "loc = bar_p1 + bar_width/2\n",
    "rounded_ideology_ratios = [round(x,2) for x in ideology_counts.index.tolist()] \n",
    "\n",
    "\n",
    "plt.bar(bar_p1, ideology_true, width=bar_width, label='First Party Won', color='skyblue')\n",
    "plt.bar(bar_p2, ideology_false, width=bar_width, label='First Party Lost', color='purple')\n",
    "plt.xlabel('Ratio of Conservative to Liberal Judge Ideologies')\n",
    "plt.ylabel('Count')\n",
    "plt.xticks(loc, rounded_ideology_ratios, rotation = 90)\n",
    "plt.title('Bar Graph of count of Ratio of Conservative to Liberal Judge Ideologies by Outcome')\n",
    "plt.legend()\n",
    "plt.show()"
   ]
  },
  {
   "cell_type": "code",
   "execution_count": 260,
   "metadata": {},
   "outputs": [
    {
     "data": {
      "text/plain": [
       "ratio_conservative_to_liberal\n",
       "0.285714    0.833333\n",
       "0.428571    0.722222\n",
       "0.666667    0.691176\n",
       "0.800000    0.758621\n",
       "0.833333    0.842105\n",
       "1.000000    0.594595\n",
       "1.250000    0.655285\n",
       "1.500000    0.688889\n",
       "2.000000    0.733333\n",
       "2.333333    0.735043\n",
       "3.500000    0.637199\n",
       "4.000000    0.657492\n",
       "4.500000    0.591837\n",
       "8.000000    0.586207\n",
       "Name: first_party_winner, dtype: float64"
      ]
     },
     "execution_count": 260,
     "metadata": {},
     "output_type": "execute_result"
    }
   ],
   "source": [
    "cases.groupby(['ratio_conservative_to_liberal'])['first_party_winner'].apply(lambda x: x.mean())"
   ]
  },
  {
   "cell_type": "markdown",
   "metadata": {},
   "source": [
    "There seem to be slight differences in the percentages by ratio of ideology, these might be significant. We will inculde factor this in future models. "
   ]
  },
  {
   "cell_type": "markdown",
   "metadata": {},
   "source": [
    "## Modeling"
   ]
  },
  {
   "cell_type": "markdown",
   "metadata": {},
   "source": [
    "#### Baseline Model"
   ]
  },
  {
   "cell_type": "code",
   "execution_count": 261,
   "metadata": {},
   "outputs": [
    {
     "data": {
      "text/plain": [
       "disposition\n",
       "reversed/remanded            1052\n",
       "affirmed                      967\n",
       "reversed                      563\n",
       "vacated/remanded              417\n",
       "reversed in-part/remanded      61\n",
       "reversed in-part               19\n",
       "vacated                         6\n",
       "vacated in-part/remanded        5\n",
       "Name: count, dtype: int64"
      ]
     },
     "execution_count": 261,
     "metadata": {},
     "output_type": "execute_result"
    }
   ],
   "source": [
    "cases.value_counts(\"disposition\")"
   ]
  },
  {
   "cell_type": "markdown",
   "metadata": {},
   "source": [
    "What do these disposition terms mean exactly?\n",
    "* Reversed/Remanded: The Supreme Court disagrees with the decision of the lower court and sent it back for further consideration. \n",
    "* Affirmed: The Supreme Court agrees and upholds the lower court's decision.\n",
    "* Vacated/Remanded: The Supreme Court nullified the decision of the lower court and sent it back for further consideration.\n",
    "* Reversed-in-Part: The Supreme Court partially disagreed with the decision of the lower court but did not send the case back for further consideration.\n",
    "* Vacated: The Supreme Court nullified the decision of the lower court without sending it back for further consideration.\n",
    "* Vacated-in-Part/Remanded: The Supreme Court nullified part of the decision of the lower court and sent it back for further consideration.\n",
    "\n",
    "> Therefore, we are going to assume that our justice system gets things right well enough (if only!) to the point where there is no form of reversal ruling. "
   ]
  },
  {
   "cell_type": "code",
   "execution_count": 262,
   "metadata": {},
   "outputs": [
    {
     "name": "stdout",
     "output_type": "stream",
     "text": [
      "0.6401780038143674\n"
     ]
    }
   ],
   "source": [
    "from sklearn.model_selection import train_test_split\n",
    "\n",
    "null_acc = cases[(cases.disposition != \"reversed/remanded\") & (cases.disposition != \"reversed in-part/remanded\") & (cases.disposition != \"reversed in-part\")].count()[1] / len(cases)\n",
    "print(null_acc)"
   ]
  },
  {
   "cell_type": "markdown",
   "metadata": {},
   "source": [
    "**<null style=\"color:red;\">SCORE TO BEAT:</null>** 64.0% Accuracy"
   ]
  },
  {
   "cell_type": "markdown",
   "metadata": {},
   "source": [
    " Here, we see that the accuracy of this null model is around the same for the test and training data at about 66%. The sensitivity of the null model is 1 because it will never predict 0 for the target value and will always catch when it should be a 1. The Specificity is 0 because the null model will always assume 1 for the target value when it should be 0."
   ]
  },
  {
   "cell_type": "code",
   "execution_count": 263,
   "metadata": {},
   "outputs": [],
   "source": [
    "from sklearn.pipeline import Pipeline\n",
    "from sklearn.linear_model import LogisticRegression\n",
    "from sklearn.tree import DecisionTreeClassifier\n",
    "from sklearn.ensemble import RandomForestClassifier\n",
    "from sklearn.neighbors import KNeighborsClassifier\n",
    "from sklearn.metrics import accuracy_score"
   ]
  },
  {
   "cell_type": "markdown",
   "metadata": {},
   "source": [
    "#### Features without NLP"
   ]
  },
  {
   "cell_type": "code",
   "execution_count": 264,
   "metadata": {},
   "outputs": [],
   "source": [
    "features = cases[[\"feat_term\", \"feat_conservative\", \"feat_liberal\", \"feat_neutral\", \"ratio_conservative_to_liberal\", 'Attorneys', 'Civil Rights', 'Criminal Procedure', 'Due Process',\n",
    "       'Economic Activity', 'Federal Taxation', 'Federalism',\n",
    "       'First Amendment', 'Interstate Relations', 'Judicial Power',\n",
    "       'Miscellaneous', 'Privacy', 'Private Action', 'Unions']]\n",
    "targets = cases['first_party_winner']"
   ]
  },
  {
   "cell_type": "code",
   "execution_count": 265,
   "metadata": {},
   "outputs": [],
   "source": [
    "X_train, X_test, y_train, y_test = train_test_split(features, targets, test_size=0.2, random_state=27)"
   ]
  },
  {
   "cell_type": "markdown",
   "metadata": {},
   "source": [
    "##### LR"
   ]
  },
  {
   "cell_type": "code",
   "execution_count": 266,
   "metadata": {},
   "outputs": [
    {
     "name": "stdout",
     "output_type": "stream",
     "text": [
      "0.6565977742448331\n",
      "0.6666666666666666\n"
     ]
    }
   ],
   "source": [
    "clf = LogisticRegression(random_state=27).fit(X_train, y_train)\n",
    "print(clf.score(X_train, y_train))\n",
    "print(clf.score(X_test, y_test))"
   ]
  },
  {
   "cell_type": "markdown",
   "metadata": {},
   "source": [
    "##### Decision Tree"
   ]
  },
  {
   "cell_type": "code",
   "execution_count": 267,
   "metadata": {},
   "outputs": [
    {
     "name": "stdout",
     "output_type": "stream",
     "text": [
      "0.7273449920508744\n",
      "0.5936507936507937\n"
     ]
    }
   ],
   "source": [
    "dt = DecisionTreeClassifier(random_state=27).fit(X_train, y_train)\n",
    "print(dt.score(X_train, y_train))\n",
    "print(dt.score(X_test, y_test))"
   ]
  },
  {
   "cell_type": "markdown",
   "metadata": {},
   "source": [
    "##### Random Forest"
   ]
  },
  {
   "cell_type": "code",
   "execution_count": 268,
   "metadata": {},
   "outputs": [
    {
     "name": "stdout",
     "output_type": "stream",
     "text": [
      "0.7273449920508744\n",
      "0.5952380952380952\n"
     ]
    }
   ],
   "source": [
    "rf = RandomForestClassifier(random_state=27).fit(X_train, y_train)\n",
    "print(rf.score(X_train, y_train))\n",
    "print(rf.score(X_test, y_test))"
   ]
  },
  {
   "cell_type": "markdown",
   "metadata": {},
   "source": [
    "##### K-Nearest Neighbor"
   ]
  },
  {
   "cell_type": "code",
   "execution_count": 269,
   "metadata": {},
   "outputs": [
    {
     "name": "stdout",
     "output_type": "stream",
     "text": [
      "0.6864069952305246\n",
      "0.6063492063492063\n"
     ]
    }
   ],
   "source": [
    "knn = KNeighborsClassifier().fit(X_train, y_train)\n",
    "knn_X_train = X_train.to_numpy()\n",
    "knn_X_test = X_test.to_numpy()\n",
    "print(knn.score(knn_X_train, y_train))\n",
    "print(knn.score(knn_X_test, y_test))\n"
   ]
  },
  {
   "cell_type": "markdown",
   "metadata": {},
   "source": [
    "#### NLP Extraction without Features"
   ]
  },
  {
   "cell_type": "code",
   "execution_count": 270,
   "metadata": {},
   "outputs": [],
   "source": [
    "features = cases[\"cleaned_facts\"]"
   ]
  },
  {
   "cell_type": "code",
   "execution_count": 271,
   "metadata": {},
   "outputs": [],
   "source": [
    "X_train, X_test, y_train, y_test = train_test_split(features, targets, test_size=0.2, random_state=27)"
   ]
  },
  {
   "cell_type": "markdown",
   "metadata": {},
   "source": [
    "##### LR"
   ]
  },
  {
   "cell_type": "code",
   "execution_count": 272,
   "metadata": {},
   "outputs": [],
   "source": [
    "pipe_count_lr = Pipeline(steps=[('cv', CountVectorizer()),('lr', LogisticRegression(solver='liblinear'))])\n",
    "pipe_tfidf_lr = Pipeline(steps=[('tfidfv', TfidfVectorizer()),('lr', LogisticRegression(solver='liblinear'))])"
   ]
  },
  {
   "cell_type": "code",
   "execution_count": 273,
   "metadata": {},
   "outputs": [
    {
     "name": "stdout",
     "output_type": "stream",
     "text": [
      "1.0\n",
      "0.5777777777777777\n"
     ]
    }
   ],
   "source": [
    "pipe_count_lr.fit(X_train, y_train)\n",
    "print(pipe_count_lr.score(X_train, y_train))\n",
    "print(pipe_count_lr.score(X_test, y_test))"
   ]
  },
  {
   "cell_type": "code",
   "execution_count": 274,
   "metadata": {},
   "outputs": [
    {
     "name": "stdout",
     "output_type": "stream",
     "text": [
      "0.7452305246422893\n",
      "0.6666666666666666\n"
     ]
    }
   ],
   "source": [
    "pipe_tfidf_lr.fit(X_train, y_train)\n",
    "print(pipe_tfidf_lr.score(X_train, y_train))\n",
    "print(pipe_tfidf_lr.score(X_test, y_test))"
   ]
  },
  {
   "cell_type": "markdown",
   "metadata": {},
   "source": [
    "##### Decision Tree"
   ]
  },
  {
   "cell_type": "code",
   "execution_count": 275,
   "metadata": {},
   "outputs": [],
   "source": [
    "pipe_count_dt = Pipeline(steps=[('cv', CountVectorizer()),('dt', DecisionTreeClassifier(random_state=27))])\n",
    "pipe_tfidf_dt = Pipeline(steps=[('tfidfv', TfidfVectorizer()),('dt', DecisionTreeClassifier(random_state=27))])"
   ]
  },
  {
   "cell_type": "code",
   "execution_count": 276,
   "metadata": {},
   "outputs": [
    {
     "name": "stdout",
     "output_type": "stream",
     "text": [
      "1.0\n",
      "0.573015873015873\n"
     ]
    }
   ],
   "source": [
    "pipe_count_dt.fit(X_train, y_train)\n",
    "print(pipe_count_dt.score(X_train, y_train))\n",
    "print(pipe_count_dt.score(X_test, y_test))"
   ]
  },
  {
   "cell_type": "code",
   "execution_count": 277,
   "metadata": {},
   "outputs": [
    {
     "name": "stdout",
     "output_type": "stream",
     "text": [
      "1.0\n",
      "0.553968253968254\n"
     ]
    }
   ],
   "source": [
    "pipe_tfidf_dt.fit(X_train, y_train)\n",
    "print(pipe_tfidf_dt.score(X_train, y_train))\n",
    "print(pipe_tfidf_dt.score(X_test, y_test))"
   ]
  },
  {
   "cell_type": "markdown",
   "metadata": {},
   "source": [
    "##### Random Forest\n"
   ]
  },
  {
   "cell_type": "code",
   "execution_count": 278,
   "metadata": {},
   "outputs": [],
   "source": [
    "pipe_count_rf = Pipeline(steps=[('cv', CountVectorizer()),('rf', RandomForestClassifier(random_state=27))])\n",
    "pipe_tfidf_rf = Pipeline(steps=[('tfidfv', TfidfVectorizer()),('rf', RandomForestClassifier(random_state=27))])"
   ]
  },
  {
   "cell_type": "code",
   "execution_count": 279,
   "metadata": {},
   "outputs": [
    {
     "name": "stdout",
     "output_type": "stream",
     "text": [
      "1.0\n",
      "0.6682539682539682\n"
     ]
    }
   ],
   "source": [
    "pipe_count_rf.fit(X_train, y_train)\n",
    "print(pipe_count_rf.score(X_train, y_train))\n",
    "print(pipe_count_rf.score(X_test, y_test))"
   ]
  },
  {
   "cell_type": "code",
   "execution_count": 280,
   "metadata": {},
   "outputs": [
    {
     "name": "stdout",
     "output_type": "stream",
     "text": [
      "1.0\n",
      "0.6571428571428571\n"
     ]
    }
   ],
   "source": [
    "pipe_tfidf_rf.fit(X_train, y_train)\n",
    "print(pipe_tfidf_rf.score(X_train, y_train))\n",
    "print(pipe_tfidf_rf.score(X_test, y_test))"
   ]
  },
  {
   "cell_type": "markdown",
   "metadata": {},
   "source": [
    "##### K-Nearest Neighbors"
   ]
  },
  {
   "cell_type": "code",
   "execution_count": 281,
   "metadata": {},
   "outputs": [],
   "source": [
    "pipe_count_knn = Pipeline(steps=[('cv', CountVectorizer()),('knn', KNeighborsClassifier())])\n",
    "pipe_tfidf_knn = Pipeline(steps=[('tfidfv', TfidfVectorizer()),('knn', KNeighborsClassifier())])"
   ]
  },
  {
   "cell_type": "code",
   "execution_count": 282,
   "metadata": {},
   "outputs": [],
   "source": [
    "knn_X_train = X_train.to_numpy()\n",
    "knn_X_test = X_test.to_numpy()"
   ]
  },
  {
   "cell_type": "code",
   "execution_count": 283,
   "metadata": {},
   "outputs": [
    {
     "name": "stdout",
     "output_type": "stream",
     "text": [
      "0.7217806041335453\n",
      "0.6349206349206349\n"
     ]
    }
   ],
   "source": [
    "pipe_count_knn.fit(X_train, y_train)\n",
    "print(pipe_count_knn.score(knn_X_train, y_train))\n",
    "print(pipe_count_knn.score(knn_X_test, y_test))"
   ]
  },
  {
   "cell_type": "code",
   "execution_count": 284,
   "metadata": {},
   "outputs": [
    {
     "name": "stdout",
     "output_type": "stream",
     "text": [
      "0.7424483306836248\n",
      "0.5603174603174603\n"
     ]
    }
   ],
   "source": [
    "pipe_tfidf_knn.fit(X_train, y_train)\n",
    "print(pipe_tfidf_knn.score(knn_X_train, y_train))\n",
    "print(pipe_tfidf_knn.score(knn_X_test, y_test))"
   ]
  },
  {
   "cell_type": "markdown",
   "metadata": {},
   "source": [
    "#### Combine BOW Vectors with Features"
   ]
  },
  {
   "cell_type": "code",
   "execution_count": 285,
   "metadata": {},
   "outputs": [],
   "source": [
    "facts_count_vectorized = count_vectorizer.fit_transform(cases[\"cleaned_facts\"]) \n",
    "dense_counts_vector_array = facts_count_vectorized.toarray()\n",
    "counts_df = pd.DataFrame(dense_counts_vector_array, columns = count_vectorizer.vocabulary_.keys())"
   ]
  },
  {
   "cell_type": "code",
   "execution_count": 286,
   "metadata": {},
   "outputs": [],
   "source": [
    "facts_tfidf_vectorized = tfidf_vectorizer.fit_transform(cases[\"cleaned_facts\"]) \n",
    "dense_tfidf_vector_array = facts_tfidf_vectorized.toarray()\n",
    "tfidf_df = pd.DataFrame(dense_tfidf_vector_array, columns = tfidf_vectorizer.vocabulary_.keys())"
   ]
  },
  {
   "cell_type": "code",
   "execution_count": 287,
   "metadata": {},
   "outputs": [],
   "source": [
    "counts_features_df = pd.concat([counts_df, cases], axis=1, join=\"inner\")\n",
    "tfidf_features_df = pd.concat([tfidf_df, cases], axis=1, join=\"inner\")"
   ]
  },
  {
   "cell_type": "code",
   "execution_count": 288,
   "metadata": {},
   "outputs": [],
   "source": [
    "log_reg = LogisticRegression()\n",
    "rf = RandomForestClassifier()"
   ]
  },
  {
   "cell_type": "code",
   "execution_count": 289,
   "metadata": {},
   "outputs": [],
   "source": [
    "unncessary_cols = [\"name\", \"first_party\", \"second_party\", \"facts\", \"cleaned_facts\", \"majority_vote\", \"minority_vote\", \"first_party_winner\", \"disposition\"]\n",
    "counts_features = counts_features_df.loc[:, ~counts_features_df.columns.isin(unncessary_cols)]\n",
    "tfidf_features = tfidf_features_df.loc[:, ~tfidf_features_df.columns.isin(unncessary_cols)]\n",
    "targets = counts_features_df.loc[:, \"first_party_winner\"]"
   ]
  },
  {
   "cell_type": "code",
   "execution_count": 290,
   "metadata": {},
   "outputs": [],
   "source": [
    "Xc_train, Xc_test, yc_train, yc_test = train_test_split(counts_features, targets, test_size=0.2, random_state=27)\n",
    "Xt_train, Xt_test, yt_train, yt_test = train_test_split(tfidf_features, targets, test_size=0.2, random_state=27)"
   ]
  },
  {
   "cell_type": "markdown",
   "metadata": {},
   "source": [
    "##### Grid Search LR"
   ]
  },
  {
   "cell_type": "code",
   "execution_count": 127,
   "metadata": {},
   "outputs": [],
   "source": [
    "from sklearn.model_selection import GridSearchCV"
   ]
  },
  {
   "cell_type": "code",
   "execution_count": 292,
   "metadata": {},
   "outputs": [],
   "source": [
    "lr_param_grid = {\n",
    "    \"penalty\":[\"l1\", \"l2\", \"elasticnet\"],\n",
    "    \"solver\":[\"lbfgs\", \"liblinear\"],\n",
    "    \"C\": [0.001, 0.01, 0.1, 1],\n",
    "}\n",
    "\n",
    "grid_search = GridSearchCV(estimator=log_reg, param_grid=lr_param_grid, cv=5, verbose=10)"
   ]
  },
  {
   "cell_type": "code",
   "execution_count": 293,
   "metadata": {},
   "outputs": [
    {
     "name": "stdout",
     "output_type": "stream",
     "text": [
      "Fitting 5 folds for each of 24 candidates, totalling 120 fits\n",
      "[CV 1/5; 1/24] START C=0.001, penalty=l1, solver=lbfgs..........................\n",
      "[CV 1/5; 1/24] END C=0.001, penalty=l1, solver=lbfgs;, score=nan total time=   0.0s\n",
      "[CV 2/5; 1/24] START C=0.001, penalty=l1, solver=lbfgs..........................\n",
      "[CV 2/5; 1/24] END C=0.001, penalty=l1, solver=lbfgs;, score=nan total time=   0.0s\n",
      "[CV 3/5; 1/24] START C=0.001, penalty=l1, solver=lbfgs..........................\n",
      "[CV 3/5; 1/24] END C=0.001, penalty=l1, solver=lbfgs;, score=nan total time=   0.0s\n",
      "[CV 4/5; 1/24] START C=0.001, penalty=l1, solver=lbfgs..........................\n",
      "[CV 4/5; 1/24] END C=0.001, penalty=l1, solver=lbfgs;, score=nan total time=   0.0s\n",
      "[CV 5/5; 1/24] START C=0.001, penalty=l1, solver=lbfgs..........................\n",
      "[CV 5/5; 1/24] END C=0.001, penalty=l1, solver=lbfgs;, score=nan total time=   0.0s\n",
      "[CV 1/5; 2/24] START C=0.001, penalty=l1, solver=liblinear......................\n",
      "[CV 1/5; 2/24] END C=0.001, penalty=l1, solver=liblinear;, score=0.658 total time=   0.8s\n",
      "[CV 2/5; 2/24] START C=0.001, penalty=l1, solver=liblinear......................\n",
      "[CV 2/5; 2/24] END C=0.001, penalty=l1, solver=liblinear;, score=0.656 total time=   0.8s\n",
      "[CV 3/5; 2/24] START C=0.001, penalty=l1, solver=liblinear......................\n",
      "[CV 3/5; 2/24] END C=0.001, penalty=l1, solver=liblinear;, score=0.656 total time=   0.8s\n",
      "[CV 4/5; 2/24] START C=0.001, penalty=l1, solver=liblinear......................\n",
      "[CV 4/5; 2/24] END C=0.001, penalty=l1, solver=liblinear;, score=0.658 total time=   0.8s\n",
      "[CV 5/5; 2/24] START C=0.001, penalty=l1, solver=liblinear......................\n",
      "[CV 5/5; 2/24] END C=0.001, penalty=l1, solver=liblinear;, score=0.658 total time=   0.8s\n",
      "[CV 1/5; 3/24] START C=0.001, penalty=l2, solver=lbfgs..........................\n",
      "[CV 1/5; 3/24] END C=0.001, penalty=l2, solver=lbfgs;, score=0.658 total time=   2.7s\n",
      "[CV 2/5; 3/24] START C=0.001, penalty=l2, solver=lbfgs..........................\n",
      "[CV 2/5; 3/24] END C=0.001, penalty=l2, solver=lbfgs;, score=0.656 total time=   2.9s\n",
      "[CV 3/5; 3/24] START C=0.001, penalty=l2, solver=lbfgs..........................\n",
      "[CV 3/5; 3/24] END C=0.001, penalty=l2, solver=lbfgs;, score=0.656 total time=   2.0s\n",
      "[CV 4/5; 3/24] START C=0.001, penalty=l2, solver=lbfgs..........................\n",
      "[CV 4/5; 3/24] END C=0.001, penalty=l2, solver=lbfgs;, score=0.658 total time=   3.0s\n",
      "[CV 5/5; 3/24] START C=0.001, penalty=l2, solver=lbfgs..........................\n",
      "[CV 5/5; 3/24] END C=0.001, penalty=l2, solver=lbfgs;, score=0.658 total time=   3.0s\n",
      "[CV 1/5; 4/24] START C=0.001, penalty=l2, solver=liblinear......................\n",
      "[CV 1/5; 4/24] END C=0.001, penalty=l2, solver=liblinear;, score=0.658 total time=   0.9s\n",
      "[CV 2/5; 4/24] START C=0.001, penalty=l2, solver=liblinear......................\n",
      "[CV 2/5; 4/24] END C=0.001, penalty=l2, solver=liblinear;, score=0.656 total time=   0.8s\n",
      "[CV 3/5; 4/24] START C=0.001, penalty=l2, solver=liblinear......................\n",
      "[CV 3/5; 4/24] END C=0.001, penalty=l2, solver=liblinear;, score=0.656 total time=   0.8s\n",
      "[CV 4/5; 4/24] START C=0.001, penalty=l2, solver=liblinear......................\n",
      "[CV 4/5; 4/24] END C=0.001, penalty=l2, solver=liblinear;, score=0.658 total time=   0.8s\n",
      "[CV 5/5; 4/24] START C=0.001, penalty=l2, solver=liblinear......................\n",
      "[CV 5/5; 4/24] END C=0.001, penalty=l2, solver=liblinear;, score=0.658 total time=   0.9s\n",
      "[CV 1/5; 5/24] START C=0.001, penalty=elasticnet, solver=lbfgs..................\n",
      "[CV 1/5; 5/24] END C=0.001, penalty=elasticnet, solver=lbfgs;, score=nan total time=   0.0s\n",
      "[CV 2/5; 5/24] START C=0.001, penalty=elasticnet, solver=lbfgs..................\n",
      "[CV 2/5; 5/24] END C=0.001, penalty=elasticnet, solver=lbfgs;, score=nan total time=   0.0s\n",
      "[CV 3/5; 5/24] START C=0.001, penalty=elasticnet, solver=lbfgs..................\n",
      "[CV 3/5; 5/24] END C=0.001, penalty=elasticnet, solver=lbfgs;, score=nan total time=   0.0s\n",
      "[CV 4/5; 5/24] START C=0.001, penalty=elasticnet, solver=lbfgs..................\n",
      "[CV 4/5; 5/24] END C=0.001, penalty=elasticnet, solver=lbfgs;, score=nan total time=   0.0s\n",
      "[CV 5/5; 5/24] START C=0.001, penalty=elasticnet, solver=lbfgs..................\n",
      "[CV 5/5; 5/24] END C=0.001, penalty=elasticnet, solver=lbfgs;, score=nan total time=   0.0s\n",
      "[CV 1/5; 6/24] START C=0.001, penalty=elasticnet, solver=liblinear..............\n",
      "[CV 1/5; 6/24] END C=0.001, penalty=elasticnet, solver=liblinear;, score=nan total time=   0.0s\n",
      "[CV 2/5; 6/24] START C=0.001, penalty=elasticnet, solver=liblinear..............\n",
      "[CV 2/5; 6/24] END C=0.001, penalty=elasticnet, solver=liblinear;, score=nan total time=   0.0s\n",
      "[CV 3/5; 6/24] START C=0.001, penalty=elasticnet, solver=liblinear..............\n",
      "[CV 3/5; 6/24] END C=0.001, penalty=elasticnet, solver=liblinear;, score=nan total time=   0.0s\n",
      "[CV 4/5; 6/24] START C=0.001, penalty=elasticnet, solver=liblinear..............\n",
      "[CV 4/5; 6/24] END C=0.001, penalty=elasticnet, solver=liblinear;, score=nan total time=   0.0s\n",
      "[CV 5/5; 6/24] START C=0.001, penalty=elasticnet, solver=liblinear..............\n",
      "[CV 5/5; 6/24] END C=0.001, penalty=elasticnet, solver=liblinear;, score=nan total time=   0.0s\n",
      "[CV 1/5; 7/24] START C=0.01, penalty=l1, solver=lbfgs...........................\n",
      "[CV 1/5; 7/24] END C=0.01, penalty=l1, solver=lbfgs;, score=nan total time=   0.0s\n",
      "[CV 2/5; 7/24] START C=0.01, penalty=l1, solver=lbfgs...........................\n",
      "[CV 2/5; 7/24] END C=0.01, penalty=l1, solver=lbfgs;, score=nan total time=   0.0s\n",
      "[CV 3/5; 7/24] START C=0.01, penalty=l1, solver=lbfgs...........................\n",
      "[CV 3/5; 7/24] END C=0.01, penalty=l1, solver=lbfgs;, score=nan total time=   0.0s\n",
      "[CV 4/5; 7/24] START C=0.01, penalty=l1, solver=lbfgs...........................\n",
      "[CV 4/5; 7/24] END C=0.01, penalty=l1, solver=lbfgs;, score=nan total time=   0.0s\n",
      "[CV 5/5; 7/24] START C=0.01, penalty=l1, solver=lbfgs...........................\n",
      "[CV 5/5; 7/24] END C=0.01, penalty=l1, solver=lbfgs;, score=nan total time=   0.0s\n",
      "[CV 1/5; 8/24] START C=0.01, penalty=l1, solver=liblinear.......................\n",
      "[CV 1/5; 8/24] END C=0.01, penalty=l1, solver=liblinear;, score=0.658 total time=   0.9s\n",
      "[CV 2/5; 8/24] START C=0.01, penalty=l1, solver=liblinear.......................\n",
      "[CV 2/5; 8/24] END C=0.01, penalty=l1, solver=liblinear;, score=0.656 total time=   1.0s\n",
      "[CV 3/5; 8/24] START C=0.01, penalty=l1, solver=liblinear.......................\n",
      "[CV 3/5; 8/24] END C=0.01, penalty=l1, solver=liblinear;, score=0.656 total time=   1.0s\n",
      "[CV 4/5; 8/24] START C=0.01, penalty=l1, solver=liblinear.......................\n",
      "[CV 4/5; 8/24] END C=0.01, penalty=l1, solver=liblinear;, score=0.658 total time=   0.9s\n",
      "[CV 5/5; 8/24] START C=0.01, penalty=l1, solver=liblinear.......................\n",
      "[CV 5/5; 8/24] END C=0.01, penalty=l1, solver=liblinear;, score=0.658 total time=   0.8s\n",
      "[CV 1/5; 9/24] START C=0.01, penalty=l2, solver=lbfgs...........................\n",
      "[CV 1/5; 9/24] END C=0.01, penalty=l2, solver=lbfgs;, score=0.646 total time=   3.6s\n",
      "[CV 2/5; 9/24] START C=0.01, penalty=l2, solver=lbfgs...........................\n",
      "[CV 2/5; 9/24] END C=0.01, penalty=l2, solver=lbfgs;, score=0.646 total time=   3.6s\n",
      "[CV 3/5; 9/24] START C=0.01, penalty=l2, solver=lbfgs...........................\n",
      "[CV 3/5; 9/24] END C=0.01, penalty=l2, solver=lbfgs;, score=0.613 total time=   3.6s\n",
      "[CV 4/5; 9/24] START C=0.01, penalty=l2, solver=lbfgs...........................\n",
      "[CV 4/5; 9/24] END C=0.01, penalty=l2, solver=lbfgs;, score=0.649 total time=   3.7s\n",
      "[CV 5/5; 9/24] START C=0.01, penalty=l2, solver=lbfgs...........................\n",
      "[CV 5/5; 9/24] END C=0.01, penalty=l2, solver=lbfgs;, score=0.626 total time=   3.8s\n",
      "[CV 1/5; 10/24] START C=0.01, penalty=l2, solver=liblinear......................\n",
      "[CV 1/5; 10/24] END C=0.01, penalty=l2, solver=liblinear;, score=0.635 total time=   0.8s\n",
      "[CV 2/5; 10/24] START C=0.01, penalty=l2, solver=liblinear......................\n",
      "[CV 2/5; 10/24] END C=0.01, penalty=l2, solver=liblinear;, score=0.644 total time=   0.9s\n",
      "[CV 3/5; 10/24] START C=0.01, penalty=l2, solver=liblinear......................\n",
      "[CV 3/5; 10/24] END C=0.01, penalty=l2, solver=liblinear;, score=0.625 total time=   0.8s\n",
      "[CV 4/5; 10/24] START C=0.01, penalty=l2, solver=liblinear......................\n",
      "[CV 4/5; 10/24] END C=0.01, penalty=l2, solver=liblinear;, score=0.647 total time=   1.1s\n",
      "[CV 5/5; 10/24] START C=0.01, penalty=l2, solver=liblinear......................\n",
      "[CV 5/5; 10/24] END C=0.01, penalty=l2, solver=liblinear;, score=0.639 total time=   1.3s\n",
      "[CV 1/5; 11/24] START C=0.01, penalty=elasticnet, solver=lbfgs..................\n",
      "[CV 1/5; 11/24] END C=0.01, penalty=elasticnet, solver=lbfgs;, score=nan total time=   0.0s\n",
      "[CV 2/5; 11/24] START C=0.01, penalty=elasticnet, solver=lbfgs..................\n",
      "[CV 2/5; 11/24] END C=0.01, penalty=elasticnet, solver=lbfgs;, score=nan total time=   0.0s\n",
      "[CV 3/5; 11/24] START C=0.01, penalty=elasticnet, solver=lbfgs..................\n",
      "[CV 3/5; 11/24] END C=0.01, penalty=elasticnet, solver=lbfgs;, score=nan total time=   0.0s\n",
      "[CV 4/5; 11/24] START C=0.01, penalty=elasticnet, solver=lbfgs..................\n",
      "[CV 4/5; 11/24] END C=0.01, penalty=elasticnet, solver=lbfgs;, score=nan total time=   0.0s\n",
      "[CV 5/5; 11/24] START C=0.01, penalty=elasticnet, solver=lbfgs..................\n",
      "[CV 5/5; 11/24] END C=0.01, penalty=elasticnet, solver=lbfgs;, score=nan total time=   0.0s\n",
      "[CV 1/5; 12/24] START C=0.01, penalty=elasticnet, solver=liblinear..............\n",
      "[CV 1/5; 12/24] END C=0.01, penalty=elasticnet, solver=liblinear;, score=nan total time=   0.0s\n",
      "[CV 2/5; 12/24] START C=0.01, penalty=elasticnet, solver=liblinear..............\n",
      "[CV 2/5; 12/24] END C=0.01, penalty=elasticnet, solver=liblinear;, score=nan total time=   0.0s\n",
      "[CV 3/5; 12/24] START C=0.01, penalty=elasticnet, solver=liblinear..............\n",
      "[CV 3/5; 12/24] END C=0.01, penalty=elasticnet, solver=liblinear;, score=nan total time=   0.0s\n",
      "[CV 4/5; 12/24] START C=0.01, penalty=elasticnet, solver=liblinear..............\n",
      "[CV 4/5; 12/24] END C=0.01, penalty=elasticnet, solver=liblinear;, score=nan total time=   0.0s\n",
      "[CV 5/5; 12/24] START C=0.01, penalty=elasticnet, solver=liblinear..............\n",
      "[CV 5/5; 12/24] END C=0.01, penalty=elasticnet, solver=liblinear;, score=nan total time=   0.0s\n",
      "[CV 1/5; 13/24] START C=0.1, penalty=l1, solver=lbfgs...........................\n",
      "[CV 1/5; 13/24] END C=0.1, penalty=l1, solver=lbfgs;, score=nan total time=   0.0s\n",
      "[CV 2/5; 13/24] START C=0.1, penalty=l1, solver=lbfgs...........................\n",
      "[CV 2/5; 13/24] END C=0.1, penalty=l1, solver=lbfgs;, score=nan total time=   0.0s\n",
      "[CV 3/5; 13/24] START C=0.1, penalty=l1, solver=lbfgs...........................\n",
      "[CV 3/5; 13/24] END C=0.1, penalty=l1, solver=lbfgs;, score=nan total time=   0.0s\n",
      "[CV 4/5; 13/24] START C=0.1, penalty=l1, solver=lbfgs...........................\n",
      "[CV 4/5; 13/24] END C=0.1, penalty=l1, solver=lbfgs;, score=nan total time=   0.0s\n",
      "[CV 5/5; 13/24] START C=0.1, penalty=l1, solver=lbfgs...........................\n",
      "[CV 5/5; 13/24] END C=0.1, penalty=l1, solver=lbfgs;, score=nan total time=   0.0s\n",
      "[CV 1/5; 14/24] START C=0.1, penalty=l1, solver=liblinear.......................\n",
      "[CV 1/5; 14/24] END C=0.1, penalty=l1, solver=liblinear;, score=0.642 total time=   1.0s\n",
      "[CV 2/5; 14/24] START C=0.1, penalty=l1, solver=liblinear.......................\n",
      "[CV 2/5; 14/24] END C=0.1, penalty=l1, solver=liblinear;, score=0.652 total time=   1.0s\n",
      "[CV 3/5; 14/24] START C=0.1, penalty=l1, solver=liblinear.......................\n",
      "[CV 3/5; 14/24] END C=0.1, penalty=l1, solver=liblinear;, score=0.648 total time=   0.9s\n",
      "[CV 4/5; 14/24] START C=0.1, penalty=l1, solver=liblinear.......................\n",
      "[CV 4/5; 14/24] END C=0.1, penalty=l1, solver=liblinear;, score=0.668 total time=   1.0s\n",
      "[CV 5/5; 14/24] START C=0.1, penalty=l1, solver=liblinear.......................\n",
      "[CV 5/5; 14/24] END C=0.1, penalty=l1, solver=liblinear;, score=0.643 total time=   0.9s\n",
      "[CV 1/5; 15/24] START C=0.1, penalty=l2, solver=lbfgs...........................\n",
      "[CV 1/5; 15/24] END C=0.1, penalty=l2, solver=lbfgs;, score=0.596 total time=   3.7s\n",
      "[CV 2/5; 15/24] START C=0.1, penalty=l2, solver=lbfgs...........................\n",
      "[CV 2/5; 15/24] END C=0.1, penalty=l2, solver=lbfgs;, score=0.588 total time=   3.7s\n",
      "[CV 3/5; 15/24] START C=0.1, penalty=l2, solver=lbfgs...........................\n",
      "[CV 3/5; 15/24] END C=0.1, penalty=l2, solver=lbfgs;, score=0.588 total time=   3.8s\n",
      "[CV 4/5; 15/24] START C=0.1, penalty=l2, solver=lbfgs...........................\n",
      "[CV 4/5; 15/24] END C=0.1, penalty=l2, solver=lbfgs;, score=0.587 total time=   3.7s\n",
      "[CV 5/5; 15/24] START C=0.1, penalty=l2, solver=lbfgs...........................\n",
      "[CV 5/5; 15/24] END C=0.1, penalty=l2, solver=lbfgs;, score=0.605 total time=   4.0s\n",
      "[CV 1/5; 16/24] START C=0.1, penalty=l2, solver=liblinear.......................\n",
      "[CV 1/5; 16/24] END C=0.1, penalty=l2, solver=liblinear;, score=0.592 total time=   0.9s\n",
      "[CV 2/5; 16/24] START C=0.1, penalty=l2, solver=liblinear.......................\n",
      "[CV 2/5; 16/24] END C=0.1, penalty=l2, solver=liblinear;, score=0.596 total time=   0.9s\n",
      "[CV 3/5; 16/24] START C=0.1, penalty=l2, solver=liblinear.......................\n",
      "[CV 3/5; 16/24] END C=0.1, penalty=l2, solver=liblinear;, score=0.588 total time=   0.9s\n",
      "[CV 4/5; 16/24] START C=0.1, penalty=l2, solver=liblinear.......................\n",
      "[CV 4/5; 16/24] END C=0.1, penalty=l2, solver=liblinear;, score=0.591 total time=   0.9s\n",
      "[CV 5/5; 16/24] START C=0.1, penalty=l2, solver=liblinear.......................\n",
      "[CV 5/5; 16/24] END C=0.1, penalty=l2, solver=liblinear;, score=0.612 total time=   0.9s\n",
      "[CV 1/5; 17/24] START C=0.1, penalty=elasticnet, solver=lbfgs...................\n",
      "[CV 1/5; 17/24] END C=0.1, penalty=elasticnet, solver=lbfgs;, score=nan total time=   0.0s\n",
      "[CV 2/5; 17/24] START C=0.1, penalty=elasticnet, solver=lbfgs...................\n",
      "[CV 2/5; 17/24] END C=0.1, penalty=elasticnet, solver=lbfgs;, score=nan total time=   0.0s\n",
      "[CV 3/5; 17/24] START C=0.1, penalty=elasticnet, solver=lbfgs...................\n",
      "[CV 3/5; 17/24] END C=0.1, penalty=elasticnet, solver=lbfgs;, score=nan total time=   0.0s\n",
      "[CV 4/5; 17/24] START C=0.1, penalty=elasticnet, solver=lbfgs...................\n",
      "[CV 4/5; 17/24] END C=0.1, penalty=elasticnet, solver=lbfgs;, score=nan total time=   0.0s\n",
      "[CV 5/5; 17/24] START C=0.1, penalty=elasticnet, solver=lbfgs...................\n",
      "[CV 5/5; 17/24] END C=0.1, penalty=elasticnet, solver=lbfgs;, score=nan total time=   0.0s\n",
      "[CV 1/5; 18/24] START C=0.1, penalty=elasticnet, solver=liblinear...............\n",
      "[CV 1/5; 18/24] END C=0.1, penalty=elasticnet, solver=liblinear;, score=nan total time=   0.0s\n",
      "[CV 2/5; 18/24] START C=0.1, penalty=elasticnet, solver=liblinear...............\n",
      "[CV 2/5; 18/24] END C=0.1, penalty=elasticnet, solver=liblinear;, score=nan total time=   0.0s\n",
      "[CV 3/5; 18/24] START C=0.1, penalty=elasticnet, solver=liblinear...............\n",
      "[CV 3/5; 18/24] END C=0.1, penalty=elasticnet, solver=liblinear;, score=nan total time=   0.0s\n",
      "[CV 4/5; 18/24] START C=0.1, penalty=elasticnet, solver=liblinear...............\n",
      "[CV 4/5; 18/24] END C=0.1, penalty=elasticnet, solver=liblinear;, score=nan total time=   0.0s\n",
      "[CV 5/5; 18/24] START C=0.1, penalty=elasticnet, solver=liblinear...............\n",
      "[CV 5/5; 18/24] END C=0.1, penalty=elasticnet, solver=liblinear;, score=nan total time=   0.0s\n",
      "[CV 1/5; 19/24] START C=1, penalty=l1, solver=lbfgs.............................\n",
      "[CV 1/5; 19/24] END C=1, penalty=l1, solver=lbfgs;, score=nan total time=   0.0s\n",
      "[CV 2/5; 19/24] START C=1, penalty=l1, solver=lbfgs.............................\n",
      "[CV 2/5; 19/24] END C=1, penalty=l1, solver=lbfgs;, score=nan total time=   0.0s\n",
      "[CV 3/5; 19/24] START C=1, penalty=l1, solver=lbfgs.............................\n",
      "[CV 3/5; 19/24] END C=1, penalty=l1, solver=lbfgs;, score=nan total time=   0.0s\n",
      "[CV 4/5; 19/24] START C=1, penalty=l1, solver=lbfgs.............................\n",
      "[CV 4/5; 19/24] END C=1, penalty=l1, solver=lbfgs;, score=nan total time=   0.0s\n",
      "[CV 5/5; 19/24] START C=1, penalty=l1, solver=lbfgs.............................\n",
      "[CV 5/5; 19/24] END C=1, penalty=l1, solver=lbfgs;, score=nan total time=   0.0s\n",
      "[CV 1/5; 20/24] START C=1, penalty=l1, solver=liblinear.........................\n",
      "[CV 1/5; 20/24] END C=1, penalty=l1, solver=liblinear;, score=0.598 total time=   1.0s\n",
      "[CV 2/5; 20/24] START C=1, penalty=l1, solver=liblinear.........................\n",
      "[CV 2/5; 20/24] END C=1, penalty=l1, solver=liblinear;, score=0.552 total time=   1.2s\n",
      "[CV 3/5; 20/24] START C=1, penalty=l1, solver=liblinear.........................\n",
      "[CV 3/5; 20/24] END C=1, penalty=l1, solver=liblinear;, score=0.579 total time=   1.1s\n",
      "[CV 4/5; 20/24] START C=1, penalty=l1, solver=liblinear.........................\n",
      "[CV 4/5; 20/24] END C=1, penalty=l1, solver=liblinear;, score=0.610 total time=   1.2s\n",
      "[CV 5/5; 20/24] START C=1, penalty=l1, solver=liblinear.........................\n",
      "[CV 5/5; 20/24] END C=1, penalty=l1, solver=liblinear;, score=0.570 total time=   1.1s\n",
      "[CV 1/5; 21/24] START C=1, penalty=l2, solver=lbfgs.............................\n",
      "[CV 1/5; 21/24] END C=1, penalty=l2, solver=lbfgs;, score=0.594 total time=   3.8s\n",
      "[CV 2/5; 21/24] START C=1, penalty=l2, solver=lbfgs.............................\n",
      "[CV 2/5; 21/24] END C=1, penalty=l2, solver=lbfgs;, score=0.581 total time=   3.9s\n",
      "[CV 3/5; 21/24] START C=1, penalty=l2, solver=lbfgs.............................\n",
      "[CV 3/5; 21/24] END C=1, penalty=l2, solver=lbfgs;, score=0.565 total time=   3.7s\n",
      "[CV 4/5; 21/24] START C=1, penalty=l2, solver=lbfgs.............................\n",
      "[CV 4/5; 21/24] END C=1, penalty=l2, solver=lbfgs;, score=0.568 total time=   3.8s\n",
      "[CV 5/5; 21/24] START C=1, penalty=l2, solver=lbfgs.............................\n",
      "[CV 5/5; 21/24] END C=1, penalty=l2, solver=lbfgs;, score=0.614 total time=   3.8s\n",
      "[CV 1/5; 22/24] START C=1, penalty=l2, solver=liblinear.........................\n",
      "[CV 1/5; 22/24] END C=1, penalty=l2, solver=liblinear;, score=0.581 total time=   0.9s\n",
      "[CV 2/5; 22/24] START C=1, penalty=l2, solver=liblinear.........................\n",
      "[CV 2/5; 22/24] END C=1, penalty=l2, solver=liblinear;, score=0.571 total time=   0.9s\n",
      "[CV 3/5; 22/24] START C=1, penalty=l2, solver=liblinear.........................\n",
      "[CV 3/5; 22/24] END C=1, penalty=l2, solver=liblinear;, score=0.608 total time=   0.9s\n",
      "[CV 4/5; 22/24] START C=1, penalty=l2, solver=liblinear.........................\n",
      "[CV 4/5; 22/24] END C=1, penalty=l2, solver=liblinear;, score=0.574 total time=   0.9s\n",
      "[CV 5/5; 22/24] START C=1, penalty=l2, solver=liblinear.........................\n",
      "[CV 5/5; 22/24] END C=1, penalty=l2, solver=liblinear;, score=0.591 total time=   0.9s\n",
      "[CV 1/5; 23/24] START C=1, penalty=elasticnet, solver=lbfgs.....................\n",
      "[CV 1/5; 23/24] END C=1, penalty=elasticnet, solver=lbfgs;, score=nan total time=   0.0s\n",
      "[CV 2/5; 23/24] START C=1, penalty=elasticnet, solver=lbfgs.....................\n",
      "[CV 2/5; 23/24] END C=1, penalty=elasticnet, solver=lbfgs;, score=nan total time=   0.0s\n",
      "[CV 3/5; 23/24] START C=1, penalty=elasticnet, solver=lbfgs.....................\n",
      "[CV 3/5; 23/24] END C=1, penalty=elasticnet, solver=lbfgs;, score=nan total time=   0.0s\n",
      "[CV 4/5; 23/24] START C=1, penalty=elasticnet, solver=lbfgs.....................\n",
      "[CV 4/5; 23/24] END C=1, penalty=elasticnet, solver=lbfgs;, score=nan total time=   0.0s\n",
      "[CV 5/5; 23/24] START C=1, penalty=elasticnet, solver=lbfgs.....................\n",
      "[CV 5/5; 23/24] END C=1, penalty=elasticnet, solver=lbfgs;, score=nan total time=   0.0s\n",
      "[CV 1/5; 24/24] START C=1, penalty=elasticnet, solver=liblinear.................\n",
      "[CV 1/5; 24/24] END C=1, penalty=elasticnet, solver=liblinear;, score=nan total time=   0.0s\n",
      "[CV 2/5; 24/24] START C=1, penalty=elasticnet, solver=liblinear.................\n",
      "[CV 2/5; 24/24] END C=1, penalty=elasticnet, solver=liblinear;, score=nan total time=   0.0s\n",
      "[CV 3/5; 24/24] START C=1, penalty=elasticnet, solver=liblinear.................\n",
      "[CV 3/5; 24/24] END C=1, penalty=elasticnet, solver=liblinear;, score=nan total time=   0.0s\n",
      "[CV 4/5; 24/24] START C=1, penalty=elasticnet, solver=liblinear.................\n",
      "[CV 4/5; 24/24] END C=1, penalty=elasticnet, solver=liblinear;, score=nan total time=   0.0s\n",
      "[CV 5/5; 24/24] START C=1, penalty=elasticnet, solver=liblinear.................\n",
      "[CV 5/5; 24/24] END C=1, penalty=elasticnet, solver=liblinear;, score=nan total time=   0.0s\n",
      "Count Best Params: {'C': 0.001, 'penalty': 'l1', 'solver': 'liblinear'}\n"
     ]
    }
   ],
   "source": [
    "grid_search.fit(Xc_train, yc_train)\n",
    "best_model_counts = grid_search.best_estimator_\n",
    "print(\"Count Best Params:\", grid_search.best_params_)"
   ]
  },
  {
   "cell_type": "code",
   "execution_count": 295,
   "metadata": {},
   "outputs": [
    {
     "name": "stdout",
     "output_type": "stream",
     "text": [
      "Fitting 5 folds for each of 24 candidates, totalling 120 fits\n",
      "[CV 1/5; 1/24] START C=0.001, penalty=l1, solver=lbfgs..........................\n",
      "[CV 1/5; 1/24] END C=0.001, penalty=l1, solver=lbfgs;, score=nan total time=   0.0s\n",
      "[CV 2/5; 1/24] START C=0.001, penalty=l1, solver=lbfgs..........................\n",
      "[CV 2/5; 1/24] END C=0.001, penalty=l1, solver=lbfgs;, score=nan total time=   0.0s\n",
      "[CV 3/5; 1/24] START C=0.001, penalty=l1, solver=lbfgs..........................\n",
      "[CV 3/5; 1/24] END C=0.001, penalty=l1, solver=lbfgs;, score=nan total time=   0.0s\n",
      "[CV 4/5; 1/24] START C=0.001, penalty=l1, solver=lbfgs..........................\n",
      "[CV 4/5; 1/24] END C=0.001, penalty=l1, solver=lbfgs;, score=nan total time=   0.0s\n",
      "[CV 5/5; 1/24] START C=0.001, penalty=l1, solver=lbfgs..........................\n",
      "[CV 5/5; 1/24] END C=0.001, penalty=l1, solver=lbfgs;, score=nan total time=   0.0s\n",
      "[CV 1/5; 2/24] START C=0.001, penalty=l1, solver=liblinear......................\n",
      "[CV 1/5; 2/24] END C=0.001, penalty=l1, solver=liblinear;, score=0.658 total time=   1.0s\n",
      "[CV 2/5; 2/24] START C=0.001, penalty=l1, solver=liblinear......................\n",
      "[CV 2/5; 2/24] END C=0.001, penalty=l1, solver=liblinear;, score=0.656 total time=   0.9s\n",
      "[CV 3/5; 2/24] START C=0.001, penalty=l1, solver=liblinear......................\n",
      "[CV 3/5; 2/24] END C=0.001, penalty=l1, solver=liblinear;, score=0.656 total time=   0.9s\n",
      "[CV 4/5; 2/24] START C=0.001, penalty=l1, solver=liblinear......................\n",
      "[CV 4/5; 2/24] END C=0.001, penalty=l1, solver=liblinear;, score=0.658 total time=   0.9s\n",
      "[CV 5/5; 2/24] START C=0.001, penalty=l1, solver=liblinear......................\n",
      "[CV 5/5; 2/24] END C=0.001, penalty=l1, solver=liblinear;, score=0.658 total time=   0.9s\n",
      "[CV 1/5; 3/24] START C=0.001, penalty=l2, solver=lbfgs..........................\n",
      "[CV 1/5; 3/24] END C=0.001, penalty=l2, solver=lbfgs;, score=0.658 total time=   1.9s\n",
      "[CV 2/5; 3/24] START C=0.001, penalty=l2, solver=lbfgs..........................\n",
      "[CV 2/5; 3/24] END C=0.001, penalty=l2, solver=lbfgs;, score=0.656 total time=   1.7s\n",
      "[CV 3/5; 3/24] START C=0.001, penalty=l2, solver=lbfgs..........................\n",
      "[CV 3/5; 3/24] END C=0.001, penalty=l2, solver=lbfgs;, score=0.656 total time=   1.9s\n",
      "[CV 4/5; 3/24] START C=0.001, penalty=l2, solver=lbfgs..........................\n",
      "[CV 4/5; 3/24] END C=0.001, penalty=l2, solver=lbfgs;, score=0.658 total time=   1.8s\n",
      "[CV 5/5; 3/24] START C=0.001, penalty=l2, solver=lbfgs..........................\n",
      "[CV 5/5; 3/24] END C=0.001, penalty=l2, solver=lbfgs;, score=0.658 total time=   1.9s\n",
      "[CV 1/5; 4/24] START C=0.001, penalty=l2, solver=liblinear......................\n",
      "[CV 1/5; 4/24] END C=0.001, penalty=l2, solver=liblinear;, score=0.658 total time=   0.9s\n",
      "[CV 2/5; 4/24] START C=0.001, penalty=l2, solver=liblinear......................\n",
      "[CV 2/5; 4/24] END C=0.001, penalty=l2, solver=liblinear;, score=0.656 total time=   0.9s\n",
      "[CV 3/5; 4/24] START C=0.001, penalty=l2, solver=liblinear......................\n",
      "[CV 3/5; 4/24] END C=0.001, penalty=l2, solver=liblinear;, score=0.656 total time=   0.9s\n",
      "[CV 4/5; 4/24] START C=0.001, penalty=l2, solver=liblinear......................\n",
      "[CV 4/5; 4/24] END C=0.001, penalty=l2, solver=liblinear;, score=0.658 total time=   0.9s\n",
      "[CV 5/5; 4/24] START C=0.001, penalty=l2, solver=liblinear......................\n",
      "[CV 5/5; 4/24] END C=0.001, penalty=l2, solver=liblinear;, score=0.658 total time=   0.9s\n",
      "[CV 1/5; 5/24] START C=0.001, penalty=elasticnet, solver=lbfgs..................\n",
      "[CV 1/5; 5/24] END C=0.001, penalty=elasticnet, solver=lbfgs;, score=nan total time=   0.0s\n",
      "[CV 2/5; 5/24] START C=0.001, penalty=elasticnet, solver=lbfgs..................\n",
      "[CV 2/5; 5/24] END C=0.001, penalty=elasticnet, solver=lbfgs;, score=nan total time=   0.0s\n",
      "[CV 3/5; 5/24] START C=0.001, penalty=elasticnet, solver=lbfgs..................\n",
      "[CV 3/5; 5/24] END C=0.001, penalty=elasticnet, solver=lbfgs;, score=nan total time=   0.0s\n",
      "[CV 4/5; 5/24] START C=0.001, penalty=elasticnet, solver=lbfgs..................\n",
      "[CV 4/5; 5/24] END C=0.001, penalty=elasticnet, solver=lbfgs;, score=nan total time=   0.0s\n",
      "[CV 5/5; 5/24] START C=0.001, penalty=elasticnet, solver=lbfgs..................\n",
      "[CV 5/5; 5/24] END C=0.001, penalty=elasticnet, solver=lbfgs;, score=nan total time=   0.0s\n",
      "[CV 1/5; 6/24] START C=0.001, penalty=elasticnet, solver=liblinear..............\n",
      "[CV 1/5; 6/24] END C=0.001, penalty=elasticnet, solver=liblinear;, score=nan total time=   0.0s\n",
      "[CV 2/5; 6/24] START C=0.001, penalty=elasticnet, solver=liblinear..............\n",
      "[CV 2/5; 6/24] END C=0.001, penalty=elasticnet, solver=liblinear;, score=nan total time=   0.0s\n",
      "[CV 3/5; 6/24] START C=0.001, penalty=elasticnet, solver=liblinear..............\n",
      "[CV 3/5; 6/24] END C=0.001, penalty=elasticnet, solver=liblinear;, score=nan total time=   0.0s\n",
      "[CV 4/5; 6/24] START C=0.001, penalty=elasticnet, solver=liblinear..............\n",
      "[CV 4/5; 6/24] END C=0.001, penalty=elasticnet, solver=liblinear;, score=nan total time=   0.0s\n",
      "[CV 5/5; 6/24] START C=0.001, penalty=elasticnet, solver=liblinear..............\n",
      "[CV 5/5; 6/24] END C=0.001, penalty=elasticnet, solver=liblinear;, score=nan total time=   0.0s\n",
      "[CV 1/5; 7/24] START C=0.01, penalty=l1, solver=lbfgs...........................\n",
      "[CV 1/5; 7/24] END C=0.01, penalty=l1, solver=lbfgs;, score=nan total time=   0.0s\n",
      "[CV 2/5; 7/24] START C=0.01, penalty=l1, solver=lbfgs...........................\n",
      "[CV 2/5; 7/24] END C=0.01, penalty=l1, solver=lbfgs;, score=nan total time=   0.0s\n",
      "[CV 3/5; 7/24] START C=0.01, penalty=l1, solver=lbfgs...........................\n",
      "[CV 3/5; 7/24] END C=0.01, penalty=l1, solver=lbfgs;, score=nan total time=   0.0s\n",
      "[CV 4/5; 7/24] START C=0.01, penalty=l1, solver=lbfgs...........................\n",
      "[CV 4/5; 7/24] END C=0.01, penalty=l1, solver=lbfgs;, score=nan total time=   0.0s\n",
      "[CV 5/5; 7/24] START C=0.01, penalty=l1, solver=lbfgs...........................\n",
      "[CV 5/5; 7/24] END C=0.01, penalty=l1, solver=lbfgs;, score=nan total time=   0.0s\n",
      "[CV 1/5; 8/24] START C=0.01, penalty=l1, solver=liblinear.......................\n",
      "[CV 1/5; 8/24] END C=0.01, penalty=l1, solver=liblinear;, score=0.658 total time=   0.9s\n",
      "[CV 2/5; 8/24] START C=0.01, penalty=l1, solver=liblinear.......................\n",
      "[CV 2/5; 8/24] END C=0.01, penalty=l1, solver=liblinear;, score=0.656 total time=   0.8s\n",
      "[CV 3/5; 8/24] START C=0.01, penalty=l1, solver=liblinear.......................\n",
      "[CV 3/5; 8/24] END C=0.01, penalty=l1, solver=liblinear;, score=0.656 total time=   0.9s\n",
      "[CV 4/5; 8/24] START C=0.01, penalty=l1, solver=liblinear.......................\n",
      "[CV 4/5; 8/24] END C=0.01, penalty=l1, solver=liblinear;, score=0.658 total time=   0.8s\n",
      "[CV 5/5; 8/24] START C=0.01, penalty=l1, solver=liblinear.......................\n",
      "[CV 5/5; 8/24] END C=0.01, penalty=l1, solver=liblinear;, score=0.658 total time=   0.8s\n",
      "[CV 1/5; 9/24] START C=0.01, penalty=l2, solver=lbfgs...........................\n",
      "[CV 1/5; 9/24] END C=0.01, penalty=l2, solver=lbfgs;, score=0.658 total time=   2.6s\n",
      "[CV 2/5; 9/24] START C=0.01, penalty=l2, solver=lbfgs...........................\n",
      "[CV 2/5; 9/24] END C=0.01, penalty=l2, solver=lbfgs;, score=0.656 total time=   2.2s\n",
      "[CV 3/5; 9/24] START C=0.01, penalty=l2, solver=lbfgs...........................\n",
      "[CV 3/5; 9/24] END C=0.01, penalty=l2, solver=lbfgs;, score=0.656 total time=   1.7s\n",
      "[CV 4/5; 9/24] START C=0.01, penalty=l2, solver=lbfgs...........................\n",
      "[CV 4/5; 9/24] END C=0.01, penalty=l2, solver=lbfgs;, score=0.658 total time=   1.9s\n",
      "[CV 5/5; 9/24] START C=0.01, penalty=l2, solver=lbfgs...........................\n",
      "[CV 5/5; 9/24] END C=0.01, penalty=l2, solver=lbfgs;, score=0.658 total time=   1.7s\n",
      "[CV 1/5; 10/24] START C=0.01, penalty=l2, solver=liblinear......................\n",
      "[CV 1/5; 10/24] END C=0.01, penalty=l2, solver=liblinear;, score=0.658 total time=   0.9s\n",
      "[CV 2/5; 10/24] START C=0.01, penalty=l2, solver=liblinear......................\n",
      "[CV 2/5; 10/24] END C=0.01, penalty=l2, solver=liblinear;, score=0.656 total time=   0.8s\n",
      "[CV 3/5; 10/24] START C=0.01, penalty=l2, solver=liblinear......................\n",
      "[CV 3/5; 10/24] END C=0.01, penalty=l2, solver=liblinear;, score=0.656 total time=   0.9s\n",
      "[CV 4/5; 10/24] START C=0.01, penalty=l2, solver=liblinear......................\n",
      "[CV 4/5; 10/24] END C=0.01, penalty=l2, solver=liblinear;, score=0.658 total time=   0.9s\n",
      "[CV 5/5; 10/24] START C=0.01, penalty=l2, solver=liblinear......................\n",
      "[CV 5/5; 10/24] END C=0.01, penalty=l2, solver=liblinear;, score=0.658 total time=   0.9s\n",
      "[CV 1/5; 11/24] START C=0.01, penalty=elasticnet, solver=lbfgs..................\n",
      "[CV 1/5; 11/24] END C=0.01, penalty=elasticnet, solver=lbfgs;, score=nan total time=   0.0s\n",
      "[CV 2/5; 11/24] START C=0.01, penalty=elasticnet, solver=lbfgs..................\n",
      "[CV 2/5; 11/24] END C=0.01, penalty=elasticnet, solver=lbfgs;, score=nan total time=   0.0s\n",
      "[CV 3/5; 11/24] START C=0.01, penalty=elasticnet, solver=lbfgs..................\n",
      "[CV 3/5; 11/24] END C=0.01, penalty=elasticnet, solver=lbfgs;, score=nan total time=   0.0s\n",
      "[CV 4/5; 11/24] START C=0.01, penalty=elasticnet, solver=lbfgs..................\n",
      "[CV 4/5; 11/24] END C=0.01, penalty=elasticnet, solver=lbfgs;, score=nan total time=   0.0s\n",
      "[CV 5/5; 11/24] START C=0.01, penalty=elasticnet, solver=lbfgs..................\n",
      "[CV 5/5; 11/24] END C=0.01, penalty=elasticnet, solver=lbfgs;, score=nan total time=   0.0s\n",
      "[CV 1/5; 12/24] START C=0.01, penalty=elasticnet, solver=liblinear..............\n",
      "[CV 1/5; 12/24] END C=0.01, penalty=elasticnet, solver=liblinear;, score=nan total time=   0.0s\n",
      "[CV 2/5; 12/24] START C=0.01, penalty=elasticnet, solver=liblinear..............\n",
      "[CV 2/5; 12/24] END C=0.01, penalty=elasticnet, solver=liblinear;, score=nan total time=   0.0s\n",
      "[CV 3/5; 12/24] START C=0.01, penalty=elasticnet, solver=liblinear..............\n",
      "[CV 3/5; 12/24] END C=0.01, penalty=elasticnet, solver=liblinear;, score=nan total time=   0.0s\n",
      "[CV 4/5; 12/24] START C=0.01, penalty=elasticnet, solver=liblinear..............\n",
      "[CV 4/5; 12/24] END C=0.01, penalty=elasticnet, solver=liblinear;, score=nan total time=   0.0s\n",
      "[CV 5/5; 12/24] START C=0.01, penalty=elasticnet, solver=liblinear..............\n",
      "[CV 5/5; 12/24] END C=0.01, penalty=elasticnet, solver=liblinear;, score=nan total time=   0.0s\n",
      "[CV 1/5; 13/24] START C=0.1, penalty=l1, solver=lbfgs...........................\n",
      "[CV 1/5; 13/24] END C=0.1, penalty=l1, solver=lbfgs;, score=nan total time=   0.0s\n",
      "[CV 2/5; 13/24] START C=0.1, penalty=l1, solver=lbfgs...........................\n",
      "[CV 2/5; 13/24] END C=0.1, penalty=l1, solver=lbfgs;, score=nan total time=   0.0s\n",
      "[CV 3/5; 13/24] START C=0.1, penalty=l1, solver=lbfgs...........................\n",
      "[CV 3/5; 13/24] END C=0.1, penalty=l1, solver=lbfgs;, score=nan total time=   0.0s\n",
      "[CV 4/5; 13/24] START C=0.1, penalty=l1, solver=lbfgs...........................\n",
      "[CV 4/5; 13/24] END C=0.1, penalty=l1, solver=lbfgs;, score=nan total time=   0.0s\n",
      "[CV 5/5; 13/24] START C=0.1, penalty=l1, solver=lbfgs...........................\n",
      "[CV 5/5; 13/24] END C=0.1, penalty=l1, solver=lbfgs;, score=nan total time=   0.0s\n",
      "[CV 1/5; 14/24] START C=0.1, penalty=l1, solver=liblinear.......................\n",
      "[CV 1/5; 14/24] END C=0.1, penalty=l1, solver=liblinear;, score=0.658 total time=   0.9s\n",
      "[CV 2/5; 14/24] START C=0.1, penalty=l1, solver=liblinear.......................\n",
      "[CV 2/5; 14/24] END C=0.1, penalty=l1, solver=liblinear;, score=0.656 total time=   0.9s\n",
      "[CV 3/5; 14/24] START C=0.1, penalty=l1, solver=liblinear.......................\n",
      "[CV 3/5; 14/24] END C=0.1, penalty=l1, solver=liblinear;, score=0.656 total time=   0.9s\n",
      "[CV 4/5; 14/24] START C=0.1, penalty=l1, solver=liblinear.......................\n",
      "[CV 4/5; 14/24] END C=0.1, penalty=l1, solver=liblinear;, score=0.658 total time=   0.9s\n",
      "[CV 5/5; 14/24] START C=0.1, penalty=l1, solver=liblinear.......................\n",
      "[CV 5/5; 14/24] END C=0.1, penalty=l1, solver=liblinear;, score=0.658 total time=   0.9s\n",
      "[CV 1/5; 15/24] START C=0.1, penalty=l2, solver=lbfgs...........................\n",
      "[CV 1/5; 15/24] END C=0.1, penalty=l2, solver=lbfgs;, score=0.667 total time=   2.5s\n",
      "[CV 2/5; 15/24] START C=0.1, penalty=l2, solver=lbfgs...........................\n",
      "[CV 2/5; 15/24] END C=0.1, penalty=l2, solver=lbfgs;, score=0.650 total time=   3.1s\n",
      "[CV 3/5; 15/24] START C=0.1, penalty=l2, solver=lbfgs...........................\n",
      "[CV 3/5; 15/24] END C=0.1, penalty=l2, solver=lbfgs;, score=0.658 total time=   3.7s\n",
      "[CV 4/5; 15/24] START C=0.1, penalty=l2, solver=lbfgs...........................\n",
      "[CV 4/5; 15/24] END C=0.1, penalty=l2, solver=lbfgs;, score=0.656 total time=   2.5s\n",
      "[CV 5/5; 15/24] START C=0.1, penalty=l2, solver=lbfgs...........................\n",
      "[CV 5/5; 15/24] END C=0.1, penalty=l2, solver=lbfgs;, score=0.666 total time=   3.6s\n",
      "[CV 1/5; 16/24] START C=0.1, penalty=l2, solver=liblinear.......................\n",
      "[CV 1/5; 16/24] END C=0.1, penalty=l2, solver=liblinear;, score=0.658 total time=   0.9s\n",
      "[CV 2/5; 16/24] START C=0.1, penalty=l2, solver=liblinear.......................\n",
      "[CV 2/5; 16/24] END C=0.1, penalty=l2, solver=liblinear;, score=0.656 total time=   0.9s\n",
      "[CV 3/5; 16/24] START C=0.1, penalty=l2, solver=liblinear.......................\n",
      "[CV 3/5; 16/24] END C=0.1, penalty=l2, solver=liblinear;, score=0.656 total time=   0.9s\n",
      "[CV 4/5; 16/24] START C=0.1, penalty=l2, solver=liblinear.......................\n",
      "[CV 4/5; 16/24] END C=0.1, penalty=l2, solver=liblinear;, score=0.658 total time=   0.9s\n",
      "[CV 5/5; 16/24] START C=0.1, penalty=l2, solver=liblinear.......................\n",
      "[CV 5/5; 16/24] END C=0.1, penalty=l2, solver=liblinear;, score=0.658 total time=   0.9s\n",
      "[CV 1/5; 17/24] START C=0.1, penalty=elasticnet, solver=lbfgs...................\n",
      "[CV 1/5; 17/24] END C=0.1, penalty=elasticnet, solver=lbfgs;, score=nan total time=   0.0s\n",
      "[CV 2/5; 17/24] START C=0.1, penalty=elasticnet, solver=lbfgs...................\n",
      "[CV 2/5; 17/24] END C=0.1, penalty=elasticnet, solver=lbfgs;, score=nan total time=   0.0s\n",
      "[CV 3/5; 17/24] START C=0.1, penalty=elasticnet, solver=lbfgs...................\n",
      "[CV 3/5; 17/24] END C=0.1, penalty=elasticnet, solver=lbfgs;, score=nan total time=   0.0s\n",
      "[CV 4/5; 17/24] START C=0.1, penalty=elasticnet, solver=lbfgs...................\n",
      "[CV 4/5; 17/24] END C=0.1, penalty=elasticnet, solver=lbfgs;, score=nan total time=   0.0s\n",
      "[CV 5/5; 17/24] START C=0.1, penalty=elasticnet, solver=lbfgs...................\n",
      "[CV 5/5; 17/24] END C=0.1, penalty=elasticnet, solver=lbfgs;, score=nan total time=   0.0s\n",
      "[CV 1/5; 18/24] START C=0.1, penalty=elasticnet, solver=liblinear...............\n",
      "[CV 1/5; 18/24] END C=0.1, penalty=elasticnet, solver=liblinear;, score=nan total time=   0.0s\n",
      "[CV 2/5; 18/24] START C=0.1, penalty=elasticnet, solver=liblinear...............\n",
      "[CV 2/5; 18/24] END C=0.1, penalty=elasticnet, solver=liblinear;, score=nan total time=   0.0s\n",
      "[CV 3/5; 18/24] START C=0.1, penalty=elasticnet, solver=liblinear...............\n",
      "[CV 3/5; 18/24] END C=0.1, penalty=elasticnet, solver=liblinear;, score=nan total time=   0.0s\n",
      "[CV 4/5; 18/24] START C=0.1, penalty=elasticnet, solver=liblinear...............\n",
      "[CV 4/5; 18/24] END C=0.1, penalty=elasticnet, solver=liblinear;, score=nan total time=   0.0s\n",
      "[CV 5/5; 18/24] START C=0.1, penalty=elasticnet, solver=liblinear...............\n",
      "[CV 5/5; 18/24] END C=0.1, penalty=elasticnet, solver=liblinear;, score=nan total time=   0.0s\n",
      "[CV 1/5; 19/24] START C=1, penalty=l1, solver=lbfgs.............................\n",
      "[CV 1/5; 19/24] END C=1, penalty=l1, solver=lbfgs;, score=nan total time=   0.0s\n",
      "[CV 2/5; 19/24] START C=1, penalty=l1, solver=lbfgs.............................\n",
      "[CV 2/5; 19/24] END C=1, penalty=l1, solver=lbfgs;, score=nan total time=   0.0s\n",
      "[CV 3/5; 19/24] START C=1, penalty=l1, solver=lbfgs.............................\n",
      "[CV 3/5; 19/24] END C=1, penalty=l1, solver=lbfgs;, score=nan total time=   0.0s\n",
      "[CV 4/5; 19/24] START C=1, penalty=l1, solver=lbfgs.............................\n",
      "[CV 4/5; 19/24] END C=1, penalty=l1, solver=lbfgs;, score=nan total time=   0.0s\n",
      "[CV 5/5; 19/24] START C=1, penalty=l1, solver=lbfgs.............................\n",
      "[CV 5/5; 19/24] END C=1, penalty=l1, solver=lbfgs;, score=nan total time=   0.0s\n",
      "[CV 1/5; 20/24] START C=1, penalty=l1, solver=liblinear.........................\n",
      "[CV 1/5; 20/24] END C=1, penalty=l1, solver=liblinear;, score=0.667 total time=   0.9s\n",
      "[CV 2/5; 20/24] START C=1, penalty=l1, solver=liblinear.........................\n",
      "[CV 2/5; 20/24] END C=1, penalty=l1, solver=liblinear;, score=0.654 total time=   1.0s\n",
      "[CV 3/5; 20/24] START C=1, penalty=l1, solver=liblinear.........................\n",
      "[CV 3/5; 20/24] END C=1, penalty=l1, solver=liblinear;, score=0.654 total time=   0.9s\n",
      "[CV 4/5; 20/24] START C=1, penalty=l1, solver=liblinear.........................\n",
      "[CV 4/5; 20/24] END C=1, penalty=l1, solver=liblinear;, score=0.660 total time=   0.9s\n",
      "[CV 5/5; 20/24] START C=1, penalty=l1, solver=liblinear.........................\n",
      "[CV 5/5; 20/24] END C=1, penalty=l1, solver=liblinear;, score=0.647 total time=   1.0s\n",
      "[CV 1/5; 21/24] START C=1, penalty=l2, solver=lbfgs.............................\n",
      "[CV 1/5; 21/24] END C=1, penalty=l2, solver=lbfgs;, score=0.642 total time=   3.6s\n",
      "[CV 2/5; 21/24] START C=1, penalty=l2, solver=lbfgs.............................\n",
      "[CV 2/5; 21/24] END C=1, penalty=l2, solver=lbfgs;, score=0.646 total time=   3.7s\n",
      "[CV 3/5; 21/24] START C=1, penalty=l2, solver=lbfgs.............................\n",
      "[CV 3/5; 21/24] END C=1, penalty=l2, solver=lbfgs;, score=0.656 total time=   3.6s\n",
      "[CV 4/5; 21/24] START C=1, penalty=l2, solver=lbfgs.............................\n",
      "[CV 4/5; 21/24] END C=1, penalty=l2, solver=lbfgs;, score=0.664 total time=   4.2s\n",
      "[CV 5/5; 21/24] START C=1, penalty=l2, solver=lbfgs.............................\n",
      "[CV 5/5; 21/24] END C=1, penalty=l2, solver=lbfgs;, score=0.656 total time=   3.6s\n",
      "[CV 1/5; 22/24] START C=1, penalty=l2, solver=liblinear.........................\n",
      "[CV 1/5; 22/24] END C=1, penalty=l2, solver=liblinear;, score=0.660 total time=   0.9s\n",
      "[CV 2/5; 22/24] START C=1, penalty=l2, solver=liblinear.........................\n",
      "[CV 2/5; 22/24] END C=1, penalty=l2, solver=liblinear;, score=0.646 total time=   0.9s\n",
      "[CV 3/5; 22/24] START C=1, penalty=l2, solver=liblinear.........................\n",
      "[CV 3/5; 22/24] END C=1, penalty=l2, solver=liblinear;, score=0.652 total time=   0.9s\n",
      "[CV 4/5; 22/24] START C=1, penalty=l2, solver=liblinear.........................\n",
      "[CV 4/5; 22/24] END C=1, penalty=l2, solver=liblinear;, score=0.664 total time=   0.9s\n",
      "[CV 5/5; 22/24] START C=1, penalty=l2, solver=liblinear.........................\n",
      "[CV 5/5; 22/24] END C=1, penalty=l2, solver=liblinear;, score=0.645 total time=   0.9s\n",
      "[CV 1/5; 23/24] START C=1, penalty=elasticnet, solver=lbfgs.....................\n",
      "[CV 1/5; 23/24] END C=1, penalty=elasticnet, solver=lbfgs;, score=nan total time=   0.0s\n",
      "[CV 2/5; 23/24] START C=1, penalty=elasticnet, solver=lbfgs.....................\n",
      "[CV 2/5; 23/24] END C=1, penalty=elasticnet, solver=lbfgs;, score=nan total time=   0.0s\n",
      "[CV 3/5; 23/24] START C=1, penalty=elasticnet, solver=lbfgs.....................\n",
      "[CV 3/5; 23/24] END C=1, penalty=elasticnet, solver=lbfgs;, score=nan total time=   0.0s\n",
      "[CV 4/5; 23/24] START C=1, penalty=elasticnet, solver=lbfgs.....................\n",
      "[CV 4/5; 23/24] END C=1, penalty=elasticnet, solver=lbfgs;, score=nan total time=   0.0s\n",
      "[CV 5/5; 23/24] START C=1, penalty=elasticnet, solver=lbfgs.....................\n",
      "[CV 5/5; 23/24] END C=1, penalty=elasticnet, solver=lbfgs;, score=nan total time=   0.0s\n",
      "[CV 1/5; 24/24] START C=1, penalty=elasticnet, solver=liblinear.................\n",
      "[CV 1/5; 24/24] END C=1, penalty=elasticnet, solver=liblinear;, score=nan total time=   0.0s\n",
      "[CV 2/5; 24/24] START C=1, penalty=elasticnet, solver=liblinear.................\n",
      "[CV 2/5; 24/24] END C=1, penalty=elasticnet, solver=liblinear;, score=nan total time=   0.0s\n",
      "[CV 3/5; 24/24] START C=1, penalty=elasticnet, solver=liblinear.................\n",
      "[CV 3/5; 24/24] END C=1, penalty=elasticnet, solver=liblinear;, score=nan total time=   0.0s\n",
      "[CV 4/5; 24/24] START C=1, penalty=elasticnet, solver=liblinear.................\n",
      "[CV 4/5; 24/24] END C=1, penalty=elasticnet, solver=liblinear;, score=nan total time=   0.0s\n",
      "[CV 5/5; 24/24] START C=1, penalty=elasticnet, solver=liblinear.................\n",
      "[CV 5/5; 24/24] END C=1, penalty=elasticnet, solver=liblinear;, score=nan total time=   0.0s\n",
      "TFIDF Best Params: {'C': 0.1, 'penalty': 'l2', 'solver': 'lbfgs'}\n"
     ]
    }
   ],
   "source": [
    "grid_search.fit(Xt_train, yt_train)\n",
    "best_model_tfidf = grid_search.best_estimator_\n",
    "print(\"TFIDF Best Params:\", grid_search.best_params_)"
   ]
  },
  {
   "cell_type": "code",
   "execution_count": 294,
   "metadata": {},
   "outputs": [
    {
     "name": "stdout",
     "output_type": "stream",
     "text": [
      "Count Best Params: Count Best Params: {'C': 0.001, 'penalty': 'l1', 'solver': 'liblinear'}\n",
      "0.6572143452877398\n",
      "0.6566666666666666\n"
     ]
    }
   ],
   "source": [
    "print(\"Count Best Params: Count Best Params: {'C': 0.001, 'penalty': 'l1', 'solver': 'liblinear'}\")\n",
    "print(best_model_counts.score(Xc_train, yc_train))\n",
    "print(best_model_counts.score(Xc_test, yc_test))"
   ]
  },
  {
   "cell_type": "code",
   "execution_count": 296,
   "metadata": {},
   "outputs": [
    {
     "name": "stdout",
     "output_type": "stream",
     "text": [
      "TFIDF Best Params: {'C': 0.1, 'penalty': 'l2', 'solver': 'lbfgs'}\n",
      "0.658465387823186\n",
      "0.6383333333333333\n"
     ]
    }
   ],
   "source": [
    "print(\"TFIDF Best Params: {'C': 0.1, 'penalty': 'l2', 'solver': 'lbfgs'}\")\n",
    "print(best_model_tfidf.score(Xt_train, yt_train))\n",
    "print(best_model_tfidf.score(Xt_test, yt_test))"
   ]
  },
  {
   "cell_type": "markdown",
   "metadata": {},
   "source": [
    "##### Grid Search RF"
   ]
  },
  {
   "cell_type": "code",
   "execution_count": 297,
   "metadata": {},
   "outputs": [],
   "source": [
    "rf_param_grid = {\n",
    "    \"max_depth\": [30, 40, 50],\n",
    "    \"n_estimators\": [50, 100, 150, 200]\n",
    "}\n",
    "\n",
    "grid_search = GridSearchCV(estimator=rf, param_grid=rf_param_grid, cv=5, verbose=10)"
   ]
  },
  {
   "cell_type": "code",
   "execution_count": 298,
   "metadata": {},
   "outputs": [
    {
     "name": "stdout",
     "output_type": "stream",
     "text": [
      "Fitting 5 folds for each of 12 candidates, totalling 60 fits\n",
      "[CV 1/5; 1/12] START max_depth=30, n_estimators=50..............................\n",
      "[CV 1/5; 1/12] END max_depth=30, n_estimators=50;, score=0.656 total time=   1.9s\n",
      "[CV 2/5; 1/12] START max_depth=30, n_estimators=50..............................\n",
      "[CV 2/5; 1/12] END max_depth=30, n_estimators=50;, score=0.654 total time=   1.8s\n",
      "[CV 3/5; 1/12] START max_depth=30, n_estimators=50..............................\n",
      "[CV 3/5; 1/12] END max_depth=30, n_estimators=50;, score=0.652 total time=   1.9s\n",
      "[CV 4/5; 1/12] START max_depth=30, n_estimators=50..............................\n",
      "[CV 4/5; 1/12] END max_depth=30, n_estimators=50;, score=0.658 total time=   1.8s\n",
      "[CV 5/5; 1/12] START max_depth=30, n_estimators=50..............................\n",
      "[CV 5/5; 1/12] END max_depth=30, n_estimators=50;, score=0.662 total time=   1.8s\n",
      "[CV 1/5; 2/12] START max_depth=30, n_estimators=100.............................\n",
      "[CV 1/5; 2/12] END max_depth=30, n_estimators=100;, score=0.660 total time=   2.9s\n",
      "[CV 2/5; 2/12] START max_depth=30, n_estimators=100.............................\n",
      "[CV 2/5; 2/12] END max_depth=30, n_estimators=100;, score=0.658 total time=   2.9s\n",
      "[CV 3/5; 2/12] START max_depth=30, n_estimators=100.............................\n",
      "[CV 3/5; 2/12] END max_depth=30, n_estimators=100;, score=0.652 total time=   2.9s\n",
      "[CV 4/5; 2/12] START max_depth=30, n_estimators=100.............................\n",
      "[CV 4/5; 2/12] END max_depth=30, n_estimators=100;, score=0.658 total time=   2.9s\n",
      "[CV 5/5; 2/12] START max_depth=30, n_estimators=100.............................\n",
      "[CV 5/5; 2/12] END max_depth=30, n_estimators=100;, score=0.658 total time=   2.9s\n",
      "[CV 1/5; 3/12] START max_depth=30, n_estimators=150.............................\n",
      "[CV 1/5; 3/12] END max_depth=30, n_estimators=150;, score=0.658 total time=   4.0s\n",
      "[CV 2/5; 3/12] START max_depth=30, n_estimators=150.............................\n",
      "[CV 2/5; 3/12] END max_depth=30, n_estimators=150;, score=0.656 total time=   4.1s\n",
      "[CV 3/5; 3/12] START max_depth=30, n_estimators=150.............................\n",
      "[CV 3/5; 3/12] END max_depth=30, n_estimators=150;, score=0.654 total time=   4.0s\n",
      "[CV 4/5; 3/12] START max_depth=30, n_estimators=150.............................\n",
      "[CV 4/5; 3/12] END max_depth=30, n_estimators=150;, score=0.658 total time=   4.1s\n",
      "[CV 5/5; 3/12] START max_depth=30, n_estimators=150.............................\n",
      "[CV 5/5; 3/12] END max_depth=30, n_estimators=150;, score=0.658 total time=   4.3s\n",
      "[CV 1/5; 4/12] START max_depth=30, n_estimators=200.............................\n",
      "[CV 1/5; 4/12] END max_depth=30, n_estimators=200;, score=0.658 total time=   5.2s\n",
      "[CV 2/5; 4/12] START max_depth=30, n_estimators=200.............................\n",
      "[CV 2/5; 4/12] END max_depth=30, n_estimators=200;, score=0.656 total time=   5.2s\n",
      "[CV 3/5; 4/12] START max_depth=30, n_estimators=200.............................\n",
      "[CV 3/5; 4/12] END max_depth=30, n_estimators=200;, score=0.654 total time=   5.2s\n",
      "[CV 4/5; 4/12] START max_depth=30, n_estimators=200.............................\n",
      "[CV 4/5; 4/12] END max_depth=30, n_estimators=200;, score=0.658 total time=   5.3s\n",
      "[CV 5/5; 4/12] START max_depth=30, n_estimators=200.............................\n",
      "[CV 5/5; 4/12] END max_depth=30, n_estimators=200;, score=0.656 total time=   5.3s\n",
      "[CV 1/5; 5/12] START max_depth=40, n_estimators=50..............................\n",
      "[CV 1/5; 5/12] END max_depth=40, n_estimators=50;, score=0.654 total time=   2.1s\n",
      "[CV 2/5; 5/12] START max_depth=40, n_estimators=50..............................\n",
      "[CV 2/5; 5/12] END max_depth=40, n_estimators=50;, score=0.654 total time=   2.1s\n",
      "[CV 3/5; 5/12] START max_depth=40, n_estimators=50..............................\n",
      "[CV 3/5; 5/12] END max_depth=40, n_estimators=50;, score=0.652 total time=   2.0s\n",
      "[CV 4/5; 5/12] START max_depth=40, n_estimators=50..............................\n",
      "[CV 4/5; 5/12] END max_depth=40, n_estimators=50;, score=0.660 total time=   2.1s\n",
      "[CV 5/5; 5/12] START max_depth=40, n_estimators=50..............................\n",
      "[CV 5/5; 5/12] END max_depth=40, n_estimators=50;, score=0.656 total time=   2.1s\n",
      "[CV 1/5; 6/12] START max_depth=40, n_estimators=100.............................\n",
      "[CV 1/5; 6/12] END max_depth=40, n_estimators=100;, score=0.658 total time=   3.5s\n",
      "[CV 2/5; 6/12] START max_depth=40, n_estimators=100.............................\n",
      "[CV 2/5; 6/12] END max_depth=40, n_estimators=100;, score=0.656 total time=   3.6s\n",
      "[CV 3/5; 6/12] START max_depth=40, n_estimators=100.............................\n",
      "[CV 3/5; 6/12] END max_depth=40, n_estimators=100;, score=0.652 total time=   3.6s\n",
      "[CV 4/5; 6/12] START max_depth=40, n_estimators=100.............................\n",
      "[CV 4/5; 6/12] END max_depth=40, n_estimators=100;, score=0.658 total time=   3.7s\n",
      "[CV 5/5; 6/12] START max_depth=40, n_estimators=100.............................\n",
      "[CV 5/5; 6/12] END max_depth=40, n_estimators=100;, score=0.658 total time=   3.6s\n",
      "[CV 1/5; 7/12] START max_depth=40, n_estimators=150.............................\n",
      "[CV 1/5; 7/12] END max_depth=40, n_estimators=150;, score=0.660 total time=   5.0s\n",
      "[CV 2/5; 7/12] START max_depth=40, n_estimators=150.............................\n",
      "[CV 2/5; 7/12] END max_depth=40, n_estimators=150;, score=0.658 total time=   5.1s\n",
      "[CV 3/5; 7/12] START max_depth=40, n_estimators=150.............................\n",
      "[CV 3/5; 7/12] END max_depth=40, n_estimators=150;, score=0.654 total time=   5.0s\n",
      "[CV 4/5; 7/12] START max_depth=40, n_estimators=150.............................\n",
      "[CV 4/5; 7/12] END max_depth=40, n_estimators=150;, score=0.658 total time=   5.1s\n",
      "[CV 5/5; 7/12] START max_depth=40, n_estimators=150.............................\n",
      "[CV 5/5; 7/12] END max_depth=40, n_estimators=150;, score=0.658 total time=   5.1s\n",
      "[CV 1/5; 8/12] START max_depth=40, n_estimators=200.............................\n",
      "[CV 1/5; 8/12] END max_depth=40, n_estimators=200;, score=0.660 total time=   6.4s\n",
      "[CV 2/5; 8/12] START max_depth=40, n_estimators=200.............................\n",
      "[CV 2/5; 8/12] END max_depth=40, n_estimators=200;, score=0.656 total time=   6.5s\n",
      "[CV 3/5; 8/12] START max_depth=40, n_estimators=200.............................\n",
      "[CV 3/5; 8/12] END max_depth=40, n_estimators=200;, score=0.654 total time=   6.6s\n",
      "[CV 4/5; 8/12] START max_depth=40, n_estimators=200.............................\n",
      "[CV 4/5; 8/12] END max_depth=40, n_estimators=200;, score=0.658 total time=   6.6s\n",
      "[CV 5/5; 8/12] START max_depth=40, n_estimators=200.............................\n",
      "[CV 5/5; 8/12] END max_depth=40, n_estimators=200;, score=0.656 total time=   6.6s\n",
      "[CV 1/5; 9/12] START max_depth=50, n_estimators=50..............................\n",
      "[CV 1/5; 9/12] END max_depth=50, n_estimators=50;, score=0.656 total time=   2.3s\n",
      "[CV 2/5; 9/12] START max_depth=50, n_estimators=50..............................\n",
      "[CV 2/5; 9/12] END max_depth=50, n_estimators=50;, score=0.660 total time=   2.4s\n",
      "[CV 3/5; 9/12] START max_depth=50, n_estimators=50..............................\n",
      "[CV 3/5; 9/12] END max_depth=50, n_estimators=50;, score=0.652 total time=   2.3s\n",
      "[CV 4/5; 9/12] START max_depth=50, n_estimators=50..............................\n",
      "[CV 4/5; 9/12] END max_depth=50, n_estimators=50;, score=0.658 total time=   2.3s\n",
      "[CV 5/5; 9/12] START max_depth=50, n_estimators=50..............................\n",
      "[CV 5/5; 9/12] END max_depth=50, n_estimators=50;, score=0.649 total time=   2.4s\n",
      "[CV 1/5; 10/12] START max_depth=50, n_estimators=100............................\n",
      "[CV 1/5; 10/12] END max_depth=50, n_estimators=100;, score=0.652 total time=   4.1s\n",
      "[CV 2/5; 10/12] START max_depth=50, n_estimators=100............................\n",
      "[CV 2/5; 10/12] END max_depth=50, n_estimators=100;, score=0.658 total time=   4.1s\n",
      "[CV 3/5; 10/12] START max_depth=50, n_estimators=100............................\n",
      "[CV 3/5; 10/12] END max_depth=50, n_estimators=100;, score=0.654 total time=   4.2s\n",
      "[CV 4/5; 10/12] START max_depth=50, n_estimators=100............................\n",
      "[CV 4/5; 10/12] END max_depth=50, n_estimators=100;, score=0.656 total time=   4.2s\n",
      "[CV 5/5; 10/12] START max_depth=50, n_estimators=100............................\n",
      "[CV 5/5; 10/12] END max_depth=50, n_estimators=100;, score=0.651 total time=   4.1s\n",
      "[CV 1/5; 11/12] START max_depth=50, n_estimators=150............................\n",
      "[CV 1/5; 11/12] END max_depth=50, n_estimators=150;, score=0.654 total time=   5.8s\n",
      "[CV 2/5; 11/12] START max_depth=50, n_estimators=150............................\n",
      "[CV 2/5; 11/12] END max_depth=50, n_estimators=150;, score=0.658 total time=   6.0s\n",
      "[CV 3/5; 11/12] START max_depth=50, n_estimators=150............................\n",
      "[CV 3/5; 11/12] END max_depth=50, n_estimators=150;, score=0.650 total time=   5.9s\n",
      "[CV 4/5; 11/12] START max_depth=50, n_estimators=150............................\n",
      "[CV 4/5; 11/12] END max_depth=50, n_estimators=150;, score=0.658 total time=   6.1s\n",
      "[CV 5/5; 11/12] START max_depth=50, n_estimators=150............................\n",
      "[CV 5/5; 11/12] END max_depth=50, n_estimators=150;, score=0.653 total time=   5.9s\n",
      "[CV 1/5; 12/12] START max_depth=50, n_estimators=200............................\n",
      "[CV 1/5; 12/12] END max_depth=50, n_estimators=200;, score=0.658 total time=   7.8s\n",
      "[CV 2/5; 12/12] START max_depth=50, n_estimators=200............................\n",
      "[CV 2/5; 12/12] END max_depth=50, n_estimators=200;, score=0.658 total time=   7.9s\n",
      "[CV 3/5; 12/12] START max_depth=50, n_estimators=200............................\n",
      "[CV 3/5; 12/12] END max_depth=50, n_estimators=200;, score=0.650 total time=   7.8s\n",
      "[CV 4/5; 12/12] START max_depth=50, n_estimators=200............................\n",
      "[CV 4/5; 12/12] END max_depth=50, n_estimators=200;, score=0.658 total time=   7.8s\n",
      "[CV 5/5; 12/12] START max_depth=50, n_estimators=200............................\n",
      "[CV 5/5; 12/12] END max_depth=50, n_estimators=200;, score=0.658 total time=   7.9s\n",
      "Count Best Params: {'max_depth': 40, 'n_estimators': 150}\n"
     ]
    }
   ],
   "source": [
    "grid_search.fit(Xc_train, yc_train)\n",
    "best_model_counts = grid_search.best_estimator_\n",
    "print(\"Count Best Params:\", grid_search.best_params_)"
   ]
  },
  {
   "cell_type": "code",
   "execution_count": 300,
   "metadata": {},
   "outputs": [
    {
     "name": "stdout",
     "output_type": "stream",
     "text": [
      "Fitting 5 folds for each of 12 candidates, totalling 60 fits\n",
      "[CV 1/5; 1/12] START max_depth=30, n_estimators=50..............................\n",
      "[CV 1/5; 1/12] END max_depth=30, n_estimators=50;, score=0.660 total time=   2.3s\n",
      "[CV 2/5; 1/12] START max_depth=30, n_estimators=50..............................\n",
      "[CV 2/5; 1/12] END max_depth=30, n_estimators=50;, score=0.656 total time=   2.0s\n",
      "[CV 3/5; 1/12] START max_depth=30, n_estimators=50..............................\n",
      "[CV 3/5; 1/12] END max_depth=30, n_estimators=50;, score=0.656 total time=   2.2s\n",
      "[CV 4/5; 1/12] START max_depth=30, n_estimators=50..............................\n",
      "[CV 4/5; 1/12] END max_depth=30, n_estimators=50;, score=0.656 total time=   2.2s\n",
      "[CV 5/5; 1/12] START max_depth=30, n_estimators=50..............................\n",
      "[CV 5/5; 1/12] END max_depth=30, n_estimators=50;, score=0.660 total time=   2.0s\n",
      "[CV 1/5; 2/12] START max_depth=30, n_estimators=100.............................\n",
      "[CV 1/5; 2/12] END max_depth=30, n_estimators=100;, score=0.658 total time=   3.3s\n",
      "[CV 2/5; 2/12] START max_depth=30, n_estimators=100.............................\n",
      "[CV 2/5; 2/12] END max_depth=30, n_estimators=100;, score=0.656 total time=   3.3s\n",
      "[CV 3/5; 2/12] START max_depth=30, n_estimators=100.............................\n",
      "[CV 3/5; 2/12] END max_depth=30, n_estimators=100;, score=0.656 total time=   3.2s\n",
      "[CV 4/5; 2/12] START max_depth=30, n_estimators=100.............................\n",
      "[CV 4/5; 2/12] END max_depth=30, n_estimators=100;, score=0.658 total time=   3.2s\n",
      "[CV 5/5; 2/12] START max_depth=30, n_estimators=100.............................\n",
      "[CV 5/5; 2/12] END max_depth=30, n_estimators=100;, score=0.658 total time=   3.3s\n",
      "[CV 1/5; 3/12] START max_depth=30, n_estimators=150.............................\n",
      "[CV 1/5; 3/12] END max_depth=30, n_estimators=150;, score=0.662 total time=   4.7s\n",
      "[CV 2/5; 3/12] START max_depth=30, n_estimators=150.............................\n",
      "[CV 2/5; 3/12] END max_depth=30, n_estimators=150;, score=0.656 total time=   5.3s\n",
      "[CV 3/5; 3/12] START max_depth=30, n_estimators=150.............................\n",
      "[CV 3/5; 3/12] END max_depth=30, n_estimators=150;, score=0.654 total time=   4.7s\n",
      "[CV 4/5; 3/12] START max_depth=30, n_estimators=150.............................\n",
      "[CV 4/5; 3/12] END max_depth=30, n_estimators=150;, score=0.658 total time=   4.6s\n",
      "[CV 5/5; 3/12] START max_depth=30, n_estimators=150.............................\n",
      "[CV 5/5; 3/12] END max_depth=30, n_estimators=150;, score=0.658 total time=   4.7s\n",
      "[CV 1/5; 4/12] START max_depth=30, n_estimators=200.............................\n",
      "[CV 1/5; 4/12] END max_depth=30, n_estimators=200;, score=0.658 total time=   5.9s\n",
      "[CV 2/5; 4/12] START max_depth=30, n_estimators=200.............................\n",
      "[CV 2/5; 4/12] END max_depth=30, n_estimators=200;, score=0.656 total time=   6.0s\n",
      "[CV 3/5; 4/12] START max_depth=30, n_estimators=200.............................\n",
      "[CV 3/5; 4/12] END max_depth=30, n_estimators=200;, score=0.656 total time=   5.9s\n",
      "[CV 4/5; 4/12] START max_depth=30, n_estimators=200.............................\n",
      "[CV 4/5; 4/12] END max_depth=30, n_estimators=200;, score=0.658 total time=   6.0s\n",
      "[CV 5/5; 4/12] START max_depth=30, n_estimators=200.............................\n",
      "[CV 5/5; 4/12] END max_depth=30, n_estimators=200;, score=0.658 total time=   6.1s\n",
      "[CV 1/5; 5/12] START max_depth=40, n_estimators=50..............................\n",
      "[CV 1/5; 5/12] END max_depth=40, n_estimators=50;, score=0.652 total time=   2.2s\n",
      "[CV 2/5; 5/12] START max_depth=40, n_estimators=50..............................\n",
      "[CV 2/5; 5/12] END max_depth=40, n_estimators=50;, score=0.656 total time=   2.3s\n",
      "[CV 3/5; 5/12] START max_depth=40, n_estimators=50..............................\n",
      "[CV 3/5; 5/12] END max_depth=40, n_estimators=50;, score=0.656 total time=   2.3s\n",
      "[CV 4/5; 5/12] START max_depth=40, n_estimators=50..............................\n",
      "[CV 4/5; 5/12] END max_depth=40, n_estimators=50;, score=0.662 total time=   2.3s\n",
      "[CV 5/5; 5/12] START max_depth=40, n_estimators=50..............................\n",
      "[CV 5/5; 5/12] END max_depth=40, n_estimators=50;, score=0.653 total time=   2.3s\n",
      "[CV 1/5; 6/12] START max_depth=40, n_estimators=100.............................\n",
      "[CV 1/5; 6/12] END max_depth=40, n_estimators=100;, score=0.658 total time=   3.9s\n",
      "[CV 2/5; 6/12] START max_depth=40, n_estimators=100.............................\n",
      "[CV 2/5; 6/12] END max_depth=40, n_estimators=100;, score=0.658 total time=   4.1s\n",
      "[CV 3/5; 6/12] START max_depth=40, n_estimators=100.............................\n",
      "[CV 3/5; 6/12] END max_depth=40, n_estimators=100;, score=0.656 total time=   4.0s\n",
      "[CV 4/5; 6/12] START max_depth=40, n_estimators=100.............................\n",
      "[CV 4/5; 6/12] END max_depth=40, n_estimators=100;, score=0.656 total time=   4.0s\n",
      "[CV 5/5; 6/12] START max_depth=40, n_estimators=100.............................\n",
      "[CV 5/5; 6/12] END max_depth=40, n_estimators=100;, score=0.658 total time=   4.0s\n",
      "[CV 1/5; 7/12] START max_depth=40, n_estimators=150.............................\n",
      "[CV 1/5; 7/12] END max_depth=40, n_estimators=150;, score=0.654 total time=   5.6s\n",
      "[CV 2/5; 7/12] START max_depth=40, n_estimators=150.............................\n",
      "[CV 2/5; 7/12] END max_depth=40, n_estimators=150;, score=0.656 total time=   5.9s\n",
      "[CV 3/5; 7/12] START max_depth=40, n_estimators=150.............................\n",
      "[CV 3/5; 7/12] END max_depth=40, n_estimators=150;, score=0.656 total time=   5.7s\n",
      "[CV 4/5; 7/12] START max_depth=40, n_estimators=150.............................\n",
      "[CV 4/5; 7/12] END max_depth=40, n_estimators=150;, score=0.658 total time=   5.7s\n",
      "[CV 5/5; 7/12] START max_depth=40, n_estimators=150.............................\n",
      "[CV 5/5; 7/12] END max_depth=40, n_estimators=150;, score=0.658 total time=   5.8s\n",
      "[CV 1/5; 8/12] START max_depth=40, n_estimators=200.............................\n",
      "[CV 1/5; 8/12] END max_depth=40, n_estimators=200;, score=0.656 total time=   7.5s\n",
      "[CV 2/5; 8/12] START max_depth=40, n_estimators=200.............................\n",
      "[CV 2/5; 8/12] END max_depth=40, n_estimators=200;, score=0.656 total time=   7.5s\n",
      "[CV 3/5; 8/12] START max_depth=40, n_estimators=200.............................\n",
      "[CV 3/5; 8/12] END max_depth=40, n_estimators=200;, score=0.656 total time=   7.3s\n",
      "[CV 4/5; 8/12] START max_depth=40, n_estimators=200.............................\n",
      "[CV 4/5; 8/12] END max_depth=40, n_estimators=200;, score=0.656 total time=   7.5s\n",
      "[CV 5/5; 8/12] START max_depth=40, n_estimators=200.............................\n",
      "[CV 5/5; 8/12] END max_depth=40, n_estimators=200;, score=0.658 total time=   7.5s\n",
      "[CV 1/5; 9/12] START max_depth=50, n_estimators=50..............................\n",
      "[CV 1/5; 9/12] END max_depth=50, n_estimators=50;, score=0.652 total time=   2.6s\n",
      "[CV 2/5; 9/12] START max_depth=50, n_estimators=50..............................\n",
      "[CV 2/5; 9/12] END max_depth=50, n_estimators=50;, score=0.652 total time=   2.6s\n",
      "[CV 3/5; 9/12] START max_depth=50, n_estimators=50..............................\n",
      "[CV 3/5; 9/12] END max_depth=50, n_estimators=50;, score=0.654 total time=   2.6s\n",
      "[CV 4/5; 9/12] START max_depth=50, n_estimators=50..............................\n",
      "[CV 4/5; 9/12] END max_depth=50, n_estimators=50;, score=0.660 total time=   2.6s\n",
      "[CV 5/5; 9/12] START max_depth=50, n_estimators=50..............................\n",
      "[CV 5/5; 9/12] END max_depth=50, n_estimators=50;, score=0.649 total time=   2.6s\n",
      "[CV 1/5; 10/12] START max_depth=50, n_estimators=100............................\n",
      "[CV 1/5; 10/12] END max_depth=50, n_estimators=100;, score=0.656 total time=   4.6s\n",
      "[CV 2/5; 10/12] START max_depth=50, n_estimators=100............................\n",
      "[CV 2/5; 10/12] END max_depth=50, n_estimators=100;, score=0.654 total time=   4.6s\n",
      "[CV 3/5; 10/12] START max_depth=50, n_estimators=100............................\n",
      "[CV 3/5; 10/12] END max_depth=50, n_estimators=100;, score=0.656 total time=   4.6s\n",
      "[CV 4/5; 10/12] START max_depth=50, n_estimators=100............................\n",
      "[CV 4/5; 10/12] END max_depth=50, n_estimators=100;, score=0.656 total time=   4.6s\n",
      "[CV 5/5; 10/12] START max_depth=50, n_estimators=100............................\n",
      "[CV 5/5; 10/12] END max_depth=50, n_estimators=100;, score=0.658 total time=   4.6s\n",
      "[CV 1/5; 11/12] START max_depth=50, n_estimators=150............................\n",
      "[CV 1/5; 11/12] END max_depth=50, n_estimators=150;, score=0.660 total time=   6.6s\n",
      "[CV 2/5; 11/12] START max_depth=50, n_estimators=150............................\n",
      "[CV 2/5; 11/12] END max_depth=50, n_estimators=150;, score=0.658 total time=   6.6s\n",
      "[CV 3/5; 11/12] START max_depth=50, n_estimators=150............................\n",
      "[CV 3/5; 11/12] END max_depth=50, n_estimators=150;, score=0.656 total time=   6.6s\n",
      "[CV 4/5; 11/12] START max_depth=50, n_estimators=150............................\n",
      "[CV 4/5; 11/12] END max_depth=50, n_estimators=150;, score=0.658 total time=   6.7s\n",
      "[CV 5/5; 11/12] START max_depth=50, n_estimators=150............................\n",
      "[CV 5/5; 11/12] END max_depth=50, n_estimators=150;, score=0.658 total time=   7.4s\n",
      "[CV 1/5; 12/12] START max_depth=50, n_estimators=200............................\n",
      "[CV 1/5; 12/12] END max_depth=50, n_estimators=200;, score=0.656 total time=   8.8s\n",
      "[CV 2/5; 12/12] START max_depth=50, n_estimators=200............................\n",
      "[CV 2/5; 12/12] END max_depth=50, n_estimators=200;, score=0.656 total time=   8.6s\n",
      "[CV 3/5; 12/12] START max_depth=50, n_estimators=200............................\n",
      "[CV 3/5; 12/12] END max_depth=50, n_estimators=200;, score=0.658 total time=   8.7s\n",
      "[CV 4/5; 12/12] START max_depth=50, n_estimators=200............................\n",
      "[CV 4/5; 12/12] END max_depth=50, n_estimators=200;, score=0.658 total time=   8.6s\n",
      "[CV 5/5; 12/12] START max_depth=50, n_estimators=200............................\n",
      "[CV 5/5; 12/12] END max_depth=50, n_estimators=200;, score=0.656 total time=   8.7s\n",
      "TFIDF Best Params: {'max_depth': 50, 'n_estimators': 150}\n"
     ]
    }
   ],
   "source": [
    "grid_search.fit(Xt_train, yt_train)\n",
    "best_model_tfidf = grid_search.best_estimator_\n",
    "print(\"TFIDF Best Params:\", grid_search.best_params_)"
   ]
  },
  {
   "cell_type": "code",
   "execution_count": 299,
   "metadata": {},
   "outputs": [
    {
     "name": "stdout",
     "output_type": "stream",
     "text": [
      "Count Best Params: {'max_depth': 40, 'n_estimators': 150}\n",
      "0.7935779816513762\n",
      "0.6583333333333333\n"
     ]
    }
   ],
   "source": [
    "print(\"Count Best Params: {'max_depth': 40, 'n_estimators': 150}\")\n",
    "print(best_model_counts.score(Xc_train, yc_train))\n",
    "print(best_model_counts.score(Xc_test, yc_test))"
   ]
  },
  {
   "cell_type": "code",
   "execution_count": 301,
   "metadata": {},
   "outputs": [
    {
     "name": "stdout",
     "output_type": "stream",
     "text": [
      "TFIDF Best Params: {'max_depth': 50, 'n_estimators': 150}\n",
      "0.8974145120934112\n",
      "0.655\n"
     ]
    }
   ],
   "source": [
    "print(\"TFIDF Best Params: {'max_depth': 50, 'n_estimators': 150}\")\n",
    "print(best_model_tfidf.score(Xt_train, yt_train))\n",
    "print(best_model_tfidf.score(Xt_test, yt_test))"
   ]
  },
  {
   "cell_type": "markdown",
   "metadata": {},
   "source": [
    "#### Grid Search for XGB"
   ]
  },
  {
   "cell_type": "code",
   "execution_count": 302,
   "metadata": {},
   "outputs": [],
   "source": [
    "from xgboost import XGBClassifier\n",
    "\n",
    "xgb = XGBClassifier(seed = 27, objective=\"binary:logistic\")\n",
    "\n",
    "xgb_param_grid = {\n",
    "    \"max_depth\" : [4, 6, 8],\n",
    "    \"subsample\" : [0.8, 1],\n",
    "    \"learning_rate\" : [0.001, 0.01, 0.10]\n",
    "}\n",
    "\n",
    "grid_search = GridSearchCV(estimator=xgb, param_grid=xgb_param_grid, cv=5, verbose=10)"
   ]
  },
  {
   "cell_type": "code",
   "execution_count": 303,
   "metadata": {},
   "outputs": [
    {
     "name": "stdout",
     "output_type": "stream",
     "text": [
      "Fitting 5 folds for each of 18 candidates, totalling 90 fits\n",
      "[CV 1/5; 1/18] START learning_rate=0.001, max_depth=4, subsample=0.8............\n",
      "[CV 1/5; 1/18] END learning_rate=0.001, max_depth=4, subsample=0.8;, score=0.658 total time=  15.1s\n",
      "[CV 2/5; 1/18] START learning_rate=0.001, max_depth=4, subsample=0.8............\n",
      "[CV 2/5; 1/18] END learning_rate=0.001, max_depth=4, subsample=0.8;, score=0.656 total time=  13.5s\n",
      "[CV 3/5; 1/18] START learning_rate=0.001, max_depth=4, subsample=0.8............\n",
      "[CV 3/5; 1/18] END learning_rate=0.001, max_depth=4, subsample=0.8;, score=0.656 total time=  12.8s\n",
      "[CV 4/5; 1/18] START learning_rate=0.001, max_depth=4, subsample=0.8............\n",
      "[CV 4/5; 1/18] END learning_rate=0.001, max_depth=4, subsample=0.8;, score=0.658 total time=  12.9s\n",
      "[CV 5/5; 1/18] START learning_rate=0.001, max_depth=4, subsample=0.8............\n",
      "[CV 5/5; 1/18] END learning_rate=0.001, max_depth=4, subsample=0.8;, score=0.658 total time=  12.6s\n",
      "[CV 1/5; 2/18] START learning_rate=0.001, max_depth=4, subsample=1..............\n",
      "[CV 1/5; 2/18] END learning_rate=0.001, max_depth=4, subsample=1;, score=0.658 total time=  12.6s\n",
      "[CV 2/5; 2/18] START learning_rate=0.001, max_depth=4, subsample=1..............\n",
      "[CV 2/5; 2/18] END learning_rate=0.001, max_depth=4, subsample=1;, score=0.656 total time=  13.2s\n",
      "[CV 3/5; 2/18] START learning_rate=0.001, max_depth=4, subsample=1..............\n",
      "[CV 3/5; 2/18] END learning_rate=0.001, max_depth=4, subsample=1;, score=0.656 total time=  12.8s\n",
      "[CV 4/5; 2/18] START learning_rate=0.001, max_depth=4, subsample=1..............\n",
      "[CV 4/5; 2/18] END learning_rate=0.001, max_depth=4, subsample=1;, score=0.658 total time=  12.9s\n",
      "[CV 5/5; 2/18] START learning_rate=0.001, max_depth=4, subsample=1..............\n",
      "[CV 5/5; 2/18] END learning_rate=0.001, max_depth=4, subsample=1;, score=0.658 total time=  12.2s\n",
      "[CV 1/5; 3/18] START learning_rate=0.001, max_depth=6, subsample=0.8............\n",
      "[CV 1/5; 3/18] END learning_rate=0.001, max_depth=6, subsample=0.8;, score=0.658 total time=  13.9s\n",
      "[CV 2/5; 3/18] START learning_rate=0.001, max_depth=6, subsample=0.8............\n",
      "[CV 2/5; 3/18] END learning_rate=0.001, max_depth=6, subsample=0.8;, score=0.656 total time=  14.0s\n",
      "[CV 3/5; 3/18] START learning_rate=0.001, max_depth=6, subsample=0.8............\n",
      "[CV 3/5; 3/18] END learning_rate=0.001, max_depth=6, subsample=0.8;, score=0.656 total time=  13.8s\n",
      "[CV 4/5; 3/18] START learning_rate=0.001, max_depth=6, subsample=0.8............\n",
      "[CV 4/5; 3/18] END learning_rate=0.001, max_depth=6, subsample=0.8;, score=0.658 total time=  13.7s\n",
      "[CV 5/5; 3/18] START learning_rate=0.001, max_depth=6, subsample=0.8............\n",
      "[CV 5/5; 3/18] END learning_rate=0.001, max_depth=6, subsample=0.8;, score=0.658 total time=  13.4s\n",
      "[CV 1/5; 4/18] START learning_rate=0.001, max_depth=6, subsample=1..............\n",
      "[CV 1/5; 4/18] END learning_rate=0.001, max_depth=6, subsample=1;, score=0.658 total time=  13.6s\n",
      "[CV 2/5; 4/18] START learning_rate=0.001, max_depth=6, subsample=1..............\n",
      "[CV 2/5; 4/18] END learning_rate=0.001, max_depth=6, subsample=1;, score=0.656 total time=  14.2s\n",
      "[CV 3/5; 4/18] START learning_rate=0.001, max_depth=6, subsample=1..............\n",
      "[CV 3/5; 4/18] END learning_rate=0.001, max_depth=6, subsample=1;, score=0.656 total time=  13.9s\n",
      "[CV 4/5; 4/18] START learning_rate=0.001, max_depth=6, subsample=1..............\n",
      "[CV 4/5; 4/18] END learning_rate=0.001, max_depth=6, subsample=1;, score=0.658 total time=  14.2s\n",
      "[CV 5/5; 4/18] START learning_rate=0.001, max_depth=6, subsample=1..............\n",
      "[CV 5/5; 4/18] END learning_rate=0.001, max_depth=6, subsample=1;, score=0.658 total time=  12.9s\n",
      "[CV 1/5; 5/18] START learning_rate=0.001, max_depth=8, subsample=0.8............\n",
      "[CV 1/5; 5/18] END learning_rate=0.001, max_depth=8, subsample=0.8;, score=0.658 total time=  14.5s\n",
      "[CV 2/5; 5/18] START learning_rate=0.001, max_depth=8, subsample=0.8............\n",
      "[CV 2/5; 5/18] END learning_rate=0.001, max_depth=8, subsample=0.8;, score=0.656 total time=  14.8s\n",
      "[CV 3/5; 5/18] START learning_rate=0.001, max_depth=8, subsample=0.8............\n",
      "[CV 3/5; 5/18] END learning_rate=0.001, max_depth=8, subsample=0.8;, score=0.656 total time=  14.6s\n",
      "[CV 4/5; 5/18] START learning_rate=0.001, max_depth=8, subsample=0.8............\n",
      "[CV 4/5; 5/18] END learning_rate=0.001, max_depth=8, subsample=0.8;, score=0.658 total time=  15.0s\n",
      "[CV 5/5; 5/18] START learning_rate=0.001, max_depth=8, subsample=0.8............\n",
      "[CV 5/5; 5/18] END learning_rate=0.001, max_depth=8, subsample=0.8;, score=0.658 total time=  14.4s\n",
      "[CV 1/5; 6/18] START learning_rate=0.001, max_depth=8, subsample=1..............\n",
      "[CV 1/5; 6/18] END learning_rate=0.001, max_depth=8, subsample=1;, score=0.658 total time=  14.7s\n",
      "[CV 2/5; 6/18] START learning_rate=0.001, max_depth=8, subsample=1..............\n",
      "[CV 2/5; 6/18] END learning_rate=0.001, max_depth=8, subsample=1;, score=0.656 total time=  15.0s\n",
      "[CV 3/5; 6/18] START learning_rate=0.001, max_depth=8, subsample=1..............\n",
      "[CV 3/5; 6/18] END learning_rate=0.001, max_depth=8, subsample=1;, score=0.656 total time=  15.5s\n",
      "[CV 4/5; 6/18] START learning_rate=0.001, max_depth=8, subsample=1..............\n",
      "[CV 4/5; 6/18] END learning_rate=0.001, max_depth=8, subsample=1;, score=0.658 total time=  15.3s\n",
      "[CV 5/5; 6/18] START learning_rate=0.001, max_depth=8, subsample=1..............\n",
      "[CV 5/5; 6/18] END learning_rate=0.001, max_depth=8, subsample=1;, score=0.658 total time=  13.7s\n",
      "[CV 1/5; 7/18] START learning_rate=0.01, max_depth=4, subsample=0.8.............\n",
      "[CV 1/5; 7/18] END learning_rate=0.01, max_depth=4, subsample=0.8;, score=0.658 total time=  13.1s\n",
      "[CV 2/5; 7/18] START learning_rate=0.01, max_depth=4, subsample=0.8.............\n",
      "[CV 2/5; 7/18] END learning_rate=0.01, max_depth=4, subsample=0.8;, score=0.656 total time=  13.3s\n",
      "[CV 3/5; 7/18] START learning_rate=0.01, max_depth=4, subsample=0.8.............\n",
      "[CV 3/5; 7/18] END learning_rate=0.01, max_depth=4, subsample=0.8;, score=0.656 total time=  13.2s\n",
      "[CV 4/5; 7/18] START learning_rate=0.01, max_depth=4, subsample=0.8.............\n",
      "[CV 4/5; 7/18] END learning_rate=0.01, max_depth=4, subsample=0.8;, score=0.658 total time=  13.1s\n",
      "[CV 5/5; 7/18] START learning_rate=0.01, max_depth=4, subsample=0.8.............\n",
      "[CV 5/5; 7/18] END learning_rate=0.01, max_depth=4, subsample=0.8;, score=0.658 total time=  13.0s\n",
      "[CV 1/5; 8/18] START learning_rate=0.01, max_depth=4, subsample=1...............\n",
      "[CV 1/5; 8/18] END learning_rate=0.01, max_depth=4, subsample=1;, score=0.654 total time=  13.0s\n",
      "[CV 2/5; 8/18] START learning_rate=0.01, max_depth=4, subsample=1...............\n",
      "[CV 2/5; 8/18] END learning_rate=0.01, max_depth=4, subsample=1;, score=0.656 total time=  13.2s\n",
      "[CV 3/5; 8/18] START learning_rate=0.01, max_depth=4, subsample=1...............\n",
      "[CV 3/5; 8/18] END learning_rate=0.01, max_depth=4, subsample=1;, score=0.656 total time=  13.2s\n",
      "[CV 4/5; 8/18] START learning_rate=0.01, max_depth=4, subsample=1...............\n",
      "[CV 4/5; 8/18] END learning_rate=0.01, max_depth=4, subsample=1;, score=0.658 total time=  13.2s\n",
      "[CV 5/5; 8/18] START learning_rate=0.01, max_depth=4, subsample=1...............\n",
      "[CV 5/5; 8/18] END learning_rate=0.01, max_depth=4, subsample=1;, score=0.656 total time=  12.9s\n",
      "[CV 1/5; 9/18] START learning_rate=0.01, max_depth=6, subsample=0.8.............\n",
      "[CV 1/5; 9/18] END learning_rate=0.01, max_depth=6, subsample=0.8;, score=0.658 total time=  13.8s\n",
      "[CV 2/5; 9/18] START learning_rate=0.01, max_depth=6, subsample=0.8.............\n",
      "[CV 2/5; 9/18] END learning_rate=0.01, max_depth=6, subsample=0.8;, score=0.656 total time=  14.5s\n",
      "[CV 3/5; 9/18] START learning_rate=0.01, max_depth=6, subsample=0.8.............\n",
      "[CV 3/5; 9/18] END learning_rate=0.01, max_depth=6, subsample=0.8;, score=0.656 total time=  13.8s\n",
      "[CV 4/5; 9/18] START learning_rate=0.01, max_depth=6, subsample=0.8.............\n",
      "[CV 4/5; 9/18] END learning_rate=0.01, max_depth=6, subsample=0.8;, score=0.658 total time=  13.8s\n",
      "[CV 5/5; 9/18] START learning_rate=0.01, max_depth=6, subsample=0.8.............\n",
      "[CV 5/5; 9/18] END learning_rate=0.01, max_depth=6, subsample=0.8;, score=0.658 total time=  13.6s\n",
      "[CV 1/5; 10/18] START learning_rate=0.01, max_depth=6, subsample=1..............\n",
      "[CV 1/5; 10/18] END learning_rate=0.01, max_depth=6, subsample=1;, score=0.652 total time=  14.1s\n",
      "[CV 2/5; 10/18] START learning_rate=0.01, max_depth=6, subsample=1..............\n",
      "[CV 2/5; 10/18] END learning_rate=0.01, max_depth=6, subsample=1;, score=0.656 total time=  13.9s\n",
      "[CV 3/5; 10/18] START learning_rate=0.01, max_depth=6, subsample=1..............\n",
      "[CV 3/5; 10/18] END learning_rate=0.01, max_depth=6, subsample=1;, score=0.654 total time=  13.6s\n",
      "[CV 4/5; 10/18] START learning_rate=0.01, max_depth=6, subsample=1..............\n",
      "[CV 4/5; 10/18] END learning_rate=0.01, max_depth=6, subsample=1;, score=0.656 total time=  13.8s\n",
      "[CV 5/5; 10/18] START learning_rate=0.01, max_depth=6, subsample=1..............\n",
      "[CV 5/5; 10/18] END learning_rate=0.01, max_depth=6, subsample=1;, score=0.656 total time=  13.4s\n",
      "[CV 1/5; 11/18] START learning_rate=0.01, max_depth=8, subsample=0.8............\n",
      "[CV 1/5; 11/18] END learning_rate=0.01, max_depth=8, subsample=0.8;, score=0.656 total time=  14.5s\n",
      "[CV 2/5; 11/18] START learning_rate=0.01, max_depth=8, subsample=0.8............\n",
      "[CV 2/5; 11/18] END learning_rate=0.01, max_depth=8, subsample=0.8;, score=0.656 total time=  14.8s\n",
      "[CV 3/5; 11/18] START learning_rate=0.01, max_depth=8, subsample=0.8............\n",
      "[CV 3/5; 11/18] END learning_rate=0.01, max_depth=8, subsample=0.8;, score=0.656 total time=  14.6s\n",
      "[CV 4/5; 11/18] START learning_rate=0.01, max_depth=8, subsample=0.8............\n",
      "[CV 4/5; 11/18] END learning_rate=0.01, max_depth=8, subsample=0.8;, score=0.658 total time=  14.5s\n",
      "[CV 5/5; 11/18] START learning_rate=0.01, max_depth=8, subsample=0.8............\n",
      "[CV 5/5; 11/18] END learning_rate=0.01, max_depth=8, subsample=0.8;, score=0.658 total time=  14.2s\n",
      "[CV 1/5; 12/18] START learning_rate=0.01, max_depth=8, subsample=1..............\n",
      "[CV 1/5; 12/18] END learning_rate=0.01, max_depth=8, subsample=1;, score=0.650 total time=  14.4s\n",
      "[CV 2/5; 12/18] START learning_rate=0.01, max_depth=8, subsample=1..............\n",
      "[CV 2/5; 12/18] END learning_rate=0.01, max_depth=8, subsample=1;, score=0.658 total time=  14.4s\n",
      "[CV 3/5; 12/18] START learning_rate=0.01, max_depth=8, subsample=1..............\n",
      "[CV 3/5; 12/18] END learning_rate=0.01, max_depth=8, subsample=1;, score=0.654 total time=  14.2s\n",
      "[CV 4/5; 12/18] START learning_rate=0.01, max_depth=8, subsample=1..............\n",
      "[CV 4/5; 12/18] END learning_rate=0.01, max_depth=8, subsample=1;, score=0.658 total time=  14.5s\n",
      "[CV 5/5; 12/18] START learning_rate=0.01, max_depth=8, subsample=1..............\n",
      "[CV 5/5; 12/18] END learning_rate=0.01, max_depth=8, subsample=1;, score=0.649 total time=  14.0s\n",
      "[CV 1/5; 13/18] START learning_rate=0.1, max_depth=4, subsample=0.8.............\n",
      "[CV 1/5; 13/18] END learning_rate=0.1, max_depth=4, subsample=0.8;, score=0.627 total time=  13.2s\n",
      "[CV 2/5; 13/18] START learning_rate=0.1, max_depth=4, subsample=0.8.............\n",
      "[CV 2/5; 13/18] END learning_rate=0.1, max_depth=4, subsample=0.8;, score=0.640 total time=  13.1s\n",
      "[CV 3/5; 13/18] START learning_rate=0.1, max_depth=4, subsample=0.8.............\n",
      "[CV 3/5; 13/18] END learning_rate=0.1, max_depth=4, subsample=0.8;, score=0.635 total time=  13.2s\n",
      "[CV 4/5; 13/18] START learning_rate=0.1, max_depth=4, subsample=0.8.............\n",
      "[CV 4/5; 13/18] END learning_rate=0.1, max_depth=4, subsample=0.8;, score=0.647 total time=  13.0s\n",
      "[CV 5/5; 13/18] START learning_rate=0.1, max_depth=4, subsample=0.8.............\n",
      "[CV 5/5; 13/18] END learning_rate=0.1, max_depth=4, subsample=0.8;, score=0.635 total time=  13.0s\n",
      "[CV 1/5; 14/18] START learning_rate=0.1, max_depth=4, subsample=1...............\n",
      "[CV 1/5; 14/18] END learning_rate=0.1, max_depth=4, subsample=1;, score=0.631 total time=  13.3s\n",
      "[CV 2/5; 14/18] START learning_rate=0.1, max_depth=4, subsample=1...............\n",
      "[CV 2/5; 14/18] END learning_rate=0.1, max_depth=4, subsample=1;, score=0.646 total time=  13.3s\n",
      "[CV 3/5; 14/18] START learning_rate=0.1, max_depth=4, subsample=1...............\n",
      "[CV 3/5; 14/18] END learning_rate=0.1, max_depth=4, subsample=1;, score=0.656 total time=  13.2s\n",
      "[CV 4/5; 14/18] START learning_rate=0.1, max_depth=4, subsample=1...............\n",
      "[CV 4/5; 14/18] END learning_rate=0.1, max_depth=4, subsample=1;, score=0.662 total time=  12.8s\n",
      "[CV 5/5; 14/18] START learning_rate=0.1, max_depth=4, subsample=1...............\n",
      "[CV 5/5; 14/18] END learning_rate=0.1, max_depth=4, subsample=1;, score=0.641 total time=  12.9s\n",
      "[CV 1/5; 15/18] START learning_rate=0.1, max_depth=6, subsample=0.8.............\n",
      "[CV 1/5; 15/18] END learning_rate=0.1, max_depth=6, subsample=0.8;, score=0.615 total time=  13.5s\n",
      "[CV 2/5; 15/18] START learning_rate=0.1, max_depth=6, subsample=0.8.............\n",
      "[CV 2/5; 15/18] END learning_rate=0.1, max_depth=6, subsample=0.8;, score=0.615 total time=  13.7s\n",
      "[CV 3/5; 15/18] START learning_rate=0.1, max_depth=6, subsample=0.8.............\n",
      "[CV 3/5; 15/18] END learning_rate=0.1, max_depth=6, subsample=0.8;, score=0.631 total time=  13.7s\n",
      "[CV 4/5; 15/18] START learning_rate=0.1, max_depth=6, subsample=0.8.............\n",
      "[CV 4/5; 15/18] END learning_rate=0.1, max_depth=6, subsample=0.8;, score=0.626 total time=  13.6s\n",
      "[CV 5/5; 15/18] START learning_rate=0.1, max_depth=6, subsample=0.8.............\n",
      "[CV 5/5; 15/18] END learning_rate=0.1, max_depth=6, subsample=0.8;, score=0.628 total time=  13.6s\n",
      "[CV 1/5; 16/18] START learning_rate=0.1, max_depth=6, subsample=1...............\n",
      "[CV 1/5; 16/18] END learning_rate=0.1, max_depth=6, subsample=1;, score=0.610 total time=  13.5s\n",
      "[CV 2/5; 16/18] START learning_rate=0.1, max_depth=6, subsample=1...............\n",
      "[CV 2/5; 16/18] END learning_rate=0.1, max_depth=6, subsample=1;, score=0.631 total time=  13.4s\n",
      "[CV 3/5; 16/18] START learning_rate=0.1, max_depth=6, subsample=1...............\n",
      "[CV 3/5; 16/18] END learning_rate=0.1, max_depth=6, subsample=1;, score=0.640 total time=  13.5s\n",
      "[CV 4/5; 16/18] START learning_rate=0.1, max_depth=6, subsample=1...............\n",
      "[CV 4/5; 16/18] END learning_rate=0.1, max_depth=6, subsample=1;, score=0.664 total time=  13.3s\n",
      "[CV 5/5; 16/18] START learning_rate=0.1, max_depth=6, subsample=1...............\n",
      "[CV 5/5; 16/18] END learning_rate=0.1, max_depth=6, subsample=1;, score=0.620 total time=  13.2s\n",
      "[CV 1/5; 17/18] START learning_rate=0.1, max_depth=8, subsample=0.8.............\n",
      "[CV 1/5; 17/18] END learning_rate=0.1, max_depth=8, subsample=0.8;, score=0.625 total time=  14.3s\n",
      "[CV 2/5; 17/18] START learning_rate=0.1, max_depth=8, subsample=0.8.............\n",
      "[CV 2/5; 17/18] END learning_rate=0.1, max_depth=8, subsample=0.8;, score=0.621 total time=  14.2s\n",
      "[CV 3/5; 17/18] START learning_rate=0.1, max_depth=8, subsample=0.8.............\n",
      "[CV 3/5; 17/18] END learning_rate=0.1, max_depth=8, subsample=0.8;, score=0.631 total time=  14.2s\n",
      "[CV 4/5; 17/18] START learning_rate=0.1, max_depth=8, subsample=0.8.............\n",
      "[CV 4/5; 17/18] END learning_rate=0.1, max_depth=8, subsample=0.8;, score=0.645 total time=  14.0s\n",
      "[CV 5/5; 17/18] START learning_rate=0.1, max_depth=8, subsample=0.8.............\n",
      "[CV 5/5; 17/18] END learning_rate=0.1, max_depth=8, subsample=0.8;, score=0.612 total time=  14.2s\n",
      "[CV 1/5; 18/18] START learning_rate=0.1, max_depth=8, subsample=1...............\n",
      "[CV 1/5; 18/18] END learning_rate=0.1, max_depth=8, subsample=1;, score=0.608 total time=  13.7s\n",
      "[CV 2/5; 18/18] START learning_rate=0.1, max_depth=8, subsample=1...............\n",
      "[CV 2/5; 18/18] END learning_rate=0.1, max_depth=8, subsample=1;, score=0.629 total time=  13.8s\n",
      "[CV 3/5; 18/18] START learning_rate=0.1, max_depth=8, subsample=1...............\n",
      "[CV 3/5; 18/18] END learning_rate=0.1, max_depth=8, subsample=1;, score=0.633 total time=  14.1s\n",
      "[CV 4/5; 18/18] START learning_rate=0.1, max_depth=8, subsample=1...............\n",
      "[CV 4/5; 18/18] END learning_rate=0.1, max_depth=8, subsample=1;, score=0.641 total time=  13.8s\n",
      "[CV 5/5; 18/18] START learning_rate=0.1, max_depth=8, subsample=1...............\n",
      "[CV 5/5; 18/18] END learning_rate=0.1, max_depth=8, subsample=1;, score=0.620 total time=  13.8s\n",
      "Count Best Params: {'learning_rate': 0.001, 'max_depth': 4, 'subsample': 0.8}\n"
     ]
    }
   ],
   "source": [
    "grid_search.fit(Xc_train, yc_train)\n",
    "best_model_counts = grid_search.best_estimator_\n",
    "print(\"Count Best Params:\", grid_search.best_params_)"
   ]
  },
  {
   "cell_type": "code",
   "execution_count": 305,
   "metadata": {},
   "outputs": [
    {
     "name": "stdout",
     "output_type": "stream",
     "text": [
      "Fitting 5 folds for each of 18 candidates, totalling 90 fits\n",
      "[CV 1/5; 1/18] START learning_rate=0.001, max_depth=4, subsample=0.8............\n",
      "[CV 1/5; 1/18] END learning_rate=0.001, max_depth=4, subsample=0.8;, score=0.658 total time=  16.1s\n",
      "[CV 2/5; 1/18] START learning_rate=0.001, max_depth=4, subsample=0.8............\n",
      "[CV 2/5; 1/18] END learning_rate=0.001, max_depth=4, subsample=0.8;, score=0.656 total time=  15.6s\n",
      "[CV 3/5; 1/18] START learning_rate=0.001, max_depth=4, subsample=0.8............\n",
      "[CV 3/5; 1/18] END learning_rate=0.001, max_depth=4, subsample=0.8;, score=0.656 total time=  15.7s\n",
      "[CV 4/5; 1/18] START learning_rate=0.001, max_depth=4, subsample=0.8............\n",
      "[CV 4/5; 1/18] END learning_rate=0.001, max_depth=4, subsample=0.8;, score=0.658 total time=  15.7s\n",
      "[CV 5/5; 1/18] START learning_rate=0.001, max_depth=4, subsample=0.8............\n",
      "[CV 5/5; 1/18] END learning_rate=0.001, max_depth=4, subsample=0.8;, score=0.658 total time=  15.1s\n",
      "[CV 1/5; 2/18] START learning_rate=0.001, max_depth=4, subsample=1..............\n",
      "[CV 1/5; 2/18] END learning_rate=0.001, max_depth=4, subsample=1;, score=0.658 total time=  14.8s\n",
      "[CV 2/5; 2/18] START learning_rate=0.001, max_depth=4, subsample=1..............\n",
      "[CV 2/5; 2/18] END learning_rate=0.001, max_depth=4, subsample=1;, score=0.656 total time=  15.3s\n",
      "[CV 3/5; 2/18] START learning_rate=0.001, max_depth=4, subsample=1..............\n",
      "[CV 3/5; 2/18] END learning_rate=0.001, max_depth=4, subsample=1;, score=0.656 total time=  15.3s\n",
      "[CV 4/5; 2/18] START learning_rate=0.001, max_depth=4, subsample=1..............\n",
      "[CV 4/5; 2/18] END learning_rate=0.001, max_depth=4, subsample=1;, score=0.658 total time=  15.5s\n",
      "[CV 5/5; 2/18] START learning_rate=0.001, max_depth=4, subsample=1..............\n",
      "[CV 5/5; 2/18] END learning_rate=0.001, max_depth=4, subsample=1;, score=0.658 total time=  14.5s\n",
      "[CV 1/5; 3/18] START learning_rate=0.001, max_depth=6, subsample=0.8............\n",
      "[CV 1/5; 3/18] END learning_rate=0.001, max_depth=6, subsample=0.8;, score=0.658 total time=  16.8s\n",
      "[CV 2/5; 3/18] START learning_rate=0.001, max_depth=6, subsample=0.8............\n",
      "[CV 2/5; 3/18] END learning_rate=0.001, max_depth=6, subsample=0.8;, score=0.656 total time=  17.2s\n",
      "[CV 3/5; 3/18] START learning_rate=0.001, max_depth=6, subsample=0.8............\n",
      "[CV 3/5; 3/18] END learning_rate=0.001, max_depth=6, subsample=0.8;, score=0.656 total time=  17.2s\n",
      "[CV 4/5; 3/18] START learning_rate=0.001, max_depth=6, subsample=0.8............\n",
      "[CV 4/5; 3/18] END learning_rate=0.001, max_depth=6, subsample=0.8;, score=0.658 total time=  17.3s\n",
      "[CV 5/5; 3/18] START learning_rate=0.001, max_depth=6, subsample=0.8............\n",
      "[CV 5/5; 3/18] END learning_rate=0.001, max_depth=6, subsample=0.8;, score=0.658 total time=  16.4s\n",
      "[CV 1/5; 4/18] START learning_rate=0.001, max_depth=6, subsample=1..............\n",
      "[CV 1/5; 4/18] END learning_rate=0.001, max_depth=6, subsample=1;, score=0.658 total time=  15.9s\n",
      "[CV 2/5; 4/18] START learning_rate=0.001, max_depth=6, subsample=1..............\n",
      "[CV 2/5; 4/18] END learning_rate=0.001, max_depth=6, subsample=1;, score=0.656 total time=  16.2s\n",
      "[CV 3/5; 4/18] START learning_rate=0.001, max_depth=6, subsample=1..............\n",
      "[CV 3/5; 4/18] END learning_rate=0.001, max_depth=6, subsample=1;, score=0.656 total time=  16.6s\n",
      "[CV 4/5; 4/18] START learning_rate=0.001, max_depth=6, subsample=1..............\n",
      "[CV 4/5; 4/18] END learning_rate=0.001, max_depth=6, subsample=1;, score=0.658 total time=  17.3s\n",
      "[CV 5/5; 4/18] START learning_rate=0.001, max_depth=6, subsample=1..............\n",
      "[CV 5/5; 4/18] END learning_rate=0.001, max_depth=6, subsample=1;, score=0.658 total time=  15.3s\n",
      "[CV 1/5; 5/18] START learning_rate=0.001, max_depth=8, subsample=0.8............\n",
      "[CV 1/5; 5/18] END learning_rate=0.001, max_depth=8, subsample=0.8;, score=0.658 total time=  18.5s\n",
      "[CV 2/5; 5/18] START learning_rate=0.001, max_depth=8, subsample=0.8............\n",
      "[CV 2/5; 5/18] END learning_rate=0.001, max_depth=8, subsample=0.8;, score=0.656 total time=  18.7s\n",
      "[CV 3/5; 5/18] START learning_rate=0.001, max_depth=8, subsample=0.8............\n",
      "[CV 3/5; 5/18] END learning_rate=0.001, max_depth=8, subsample=0.8;, score=0.656 total time=  18.8s\n",
      "[CV 4/5; 5/18] START learning_rate=0.001, max_depth=8, subsample=0.8............\n",
      "[CV 4/5; 5/18] END learning_rate=0.001, max_depth=8, subsample=0.8;, score=0.658 total time=  19.3s\n",
      "[CV 5/5; 5/18] START learning_rate=0.001, max_depth=8, subsample=0.8............\n",
      "[CV 5/5; 5/18] END learning_rate=0.001, max_depth=8, subsample=0.8;, score=0.658 total time=  17.8s\n",
      "[CV 1/5; 6/18] START learning_rate=0.001, max_depth=8, subsample=1..............\n",
      "[CV 1/5; 6/18] END learning_rate=0.001, max_depth=8, subsample=1;, score=0.658 total time=  17.8s\n",
      "[CV 2/5; 6/18] START learning_rate=0.001, max_depth=8, subsample=1..............\n",
      "[CV 2/5; 6/18] END learning_rate=0.001, max_depth=8, subsample=1;, score=0.656 total time=  17.7s\n",
      "[CV 3/5; 6/18] START learning_rate=0.001, max_depth=8, subsample=1..............\n",
      "[CV 3/5; 6/18] END learning_rate=0.001, max_depth=8, subsample=1;, score=0.656 total time=  18.1s\n",
      "[CV 4/5; 6/18] START learning_rate=0.001, max_depth=8, subsample=1..............\n",
      "[CV 4/5; 6/18] END learning_rate=0.001, max_depth=8, subsample=1;, score=0.658 total time=  18.4s\n",
      "[CV 5/5; 6/18] START learning_rate=0.001, max_depth=8, subsample=1..............\n",
      "[CV 5/5; 6/18] END learning_rate=0.001, max_depth=8, subsample=1;, score=0.658 total time=  16.5s\n",
      "[CV 1/5; 7/18] START learning_rate=0.01, max_depth=4, subsample=0.8.............\n",
      "[CV 1/5; 7/18] END learning_rate=0.01, max_depth=4, subsample=0.8;, score=0.656 total time=  15.2s\n",
      "[CV 2/5; 7/18] START learning_rate=0.01, max_depth=4, subsample=0.8.............\n",
      "[CV 2/5; 7/18] END learning_rate=0.01, max_depth=4, subsample=0.8;, score=0.656 total time=  15.4s\n",
      "[CV 3/5; 7/18] START learning_rate=0.01, max_depth=4, subsample=0.8.............\n",
      "[CV 3/5; 7/18] END learning_rate=0.01, max_depth=4, subsample=0.8;, score=0.656 total time=  15.7s\n",
      "[CV 4/5; 7/18] START learning_rate=0.01, max_depth=4, subsample=0.8.............\n",
      "[CV 4/5; 7/18] END learning_rate=0.01, max_depth=4, subsample=0.8;, score=0.658 total time=  15.5s\n",
      "[CV 5/5; 7/18] START learning_rate=0.01, max_depth=4, subsample=0.8.............\n",
      "[CV 5/5; 7/18] END learning_rate=0.01, max_depth=4, subsample=0.8;, score=0.658 total time=  15.2s\n",
      "[CV 1/5; 8/18] START learning_rate=0.01, max_depth=4, subsample=1...............\n",
      "[CV 1/5; 8/18] END learning_rate=0.01, max_depth=4, subsample=1;, score=0.652 total time=  15.1s\n",
      "[CV 2/5; 8/18] START learning_rate=0.01, max_depth=4, subsample=1...............\n",
      "[CV 2/5; 8/18] END learning_rate=0.01, max_depth=4, subsample=1;, score=0.658 total time=  15.4s\n",
      "[CV 3/5; 8/18] START learning_rate=0.01, max_depth=4, subsample=1...............\n",
      "[CV 3/5; 8/18] END learning_rate=0.01, max_depth=4, subsample=1;, score=0.658 total time=  15.2s\n",
      "[CV 4/5; 8/18] START learning_rate=0.01, max_depth=4, subsample=1...............\n",
      "[CV 4/5; 8/18] END learning_rate=0.01, max_depth=4, subsample=1;, score=0.658 total time=  15.1s\n",
      "[CV 5/5; 8/18] START learning_rate=0.01, max_depth=4, subsample=1...............\n",
      "[CV 5/5; 8/18] END learning_rate=0.01, max_depth=4, subsample=1;, score=0.658 total time=  15.1s\n",
      "[CV 1/5; 9/18] START learning_rate=0.01, max_depth=6, subsample=0.8.............\n",
      "[CV 1/5; 9/18] END learning_rate=0.01, max_depth=6, subsample=0.8;, score=0.656 total time=  16.8s\n",
      "[CV 2/5; 9/18] START learning_rate=0.01, max_depth=6, subsample=0.8.............\n",
      "[CV 2/5; 9/18] END learning_rate=0.01, max_depth=6, subsample=0.8;, score=0.656 total time=  17.2s\n",
      "[CV 3/5; 9/18] START learning_rate=0.01, max_depth=6, subsample=0.8.............\n",
      "[CV 3/5; 9/18] END learning_rate=0.01, max_depth=6, subsample=0.8;, score=0.656 total time=  17.6s\n",
      "[CV 4/5; 9/18] START learning_rate=0.01, max_depth=6, subsample=0.8.............\n",
      "[CV 4/5; 9/18] END learning_rate=0.01, max_depth=6, subsample=0.8;, score=0.658 total time=  17.1s\n",
      "[CV 5/5; 9/18] START learning_rate=0.01, max_depth=6, subsample=0.8.............\n",
      "[CV 5/5; 9/18] END learning_rate=0.01, max_depth=6, subsample=0.8;, score=0.658 total time=  16.6s\n",
      "[CV 1/5; 10/18] START learning_rate=0.01, max_depth=6, subsample=1..............\n",
      "[CV 1/5; 10/18] END learning_rate=0.01, max_depth=6, subsample=1;, score=0.646 total time=  16.4s\n",
      "[CV 2/5; 10/18] START learning_rate=0.01, max_depth=6, subsample=1..............\n",
      "[CV 2/5; 10/18] END learning_rate=0.01, max_depth=6, subsample=1;, score=0.656 total time=  17.1s\n",
      "[CV 3/5; 10/18] START learning_rate=0.01, max_depth=6, subsample=1..............\n",
      "[CV 3/5; 10/18] END learning_rate=0.01, max_depth=6, subsample=1;, score=0.652 total time=  16.8s\n",
      "[CV 4/5; 10/18] START learning_rate=0.01, max_depth=6, subsample=1..............\n",
      "[CV 4/5; 10/18] END learning_rate=0.01, max_depth=6, subsample=1;, score=0.658 total time=  16.7s\n",
      "[CV 5/5; 10/18] START learning_rate=0.01, max_depth=6, subsample=1..............\n",
      "[CV 5/5; 10/18] END learning_rate=0.01, max_depth=6, subsample=1;, score=0.660 total time=  16.3s\n",
      "[CV 1/5; 11/18] START learning_rate=0.01, max_depth=8, subsample=0.8............\n",
      "[CV 1/5; 11/18] END learning_rate=0.01, max_depth=8, subsample=0.8;, score=0.656 total time=  18.4s\n",
      "[CV 2/5; 11/18] START learning_rate=0.01, max_depth=8, subsample=0.8............\n",
      "[CV 2/5; 11/18] END learning_rate=0.01, max_depth=8, subsample=0.8;, score=0.658 total time=  18.9s\n",
      "[CV 3/5; 11/18] START learning_rate=0.01, max_depth=8, subsample=0.8............\n",
      "[CV 3/5; 11/18] END learning_rate=0.01, max_depth=8, subsample=0.8;, score=0.656 total time=  19.0s\n",
      "[CV 4/5; 11/18] START learning_rate=0.01, max_depth=8, subsample=0.8............\n",
      "[CV 4/5; 11/18] END learning_rate=0.01, max_depth=8, subsample=0.8;, score=0.658 total time=  18.7s\n",
      "[CV 5/5; 11/18] START learning_rate=0.01, max_depth=8, subsample=0.8............\n",
      "[CV 5/5; 11/18] END learning_rate=0.01, max_depth=8, subsample=0.8;, score=0.658 total time=  18.4s\n",
      "[CV 1/5; 12/18] START learning_rate=0.01, max_depth=8, subsample=1..............\n",
      "[CV 1/5; 12/18] END learning_rate=0.01, max_depth=8, subsample=1;, score=0.648 total time=  18.0s\n",
      "[CV 2/5; 12/18] START learning_rate=0.01, max_depth=8, subsample=1..............\n",
      "[CV 2/5; 12/18] END learning_rate=0.01, max_depth=8, subsample=1;, score=0.652 total time=  18.3s\n",
      "[CV 3/5; 12/18] START learning_rate=0.01, max_depth=8, subsample=1..............\n",
      "[CV 3/5; 12/18] END learning_rate=0.01, max_depth=8, subsample=1;, score=0.652 total time=  18.3s\n",
      "[CV 4/5; 12/18] START learning_rate=0.01, max_depth=8, subsample=1..............\n",
      "[CV 4/5; 12/18] END learning_rate=0.01, max_depth=8, subsample=1;, score=0.656 total time=  18.2s\n",
      "[CV 5/5; 12/18] START learning_rate=0.01, max_depth=8, subsample=1..............\n",
      "[CV 5/5; 12/18] END learning_rate=0.01, max_depth=8, subsample=1;, score=0.653 total time=  17.9s\n",
      "[CV 1/5; 13/18] START learning_rate=0.1, max_depth=4, subsample=0.8.............\n",
      "[CV 1/5; 13/18] END learning_rate=0.1, max_depth=4, subsample=0.8;, score=0.627 total time=  15.3s\n",
      "[CV 2/5; 13/18] START learning_rate=0.1, max_depth=4, subsample=0.8.............\n",
      "[CV 2/5; 13/18] END learning_rate=0.1, max_depth=4, subsample=0.8;, score=0.623 total time=  15.4s\n",
      "[CV 3/5; 13/18] START learning_rate=0.1, max_depth=4, subsample=0.8.............\n",
      "[CV 3/5; 13/18] END learning_rate=0.1, max_depth=4, subsample=0.8;, score=0.637 total time=  15.1s\n",
      "[CV 4/5; 13/18] START learning_rate=0.1, max_depth=4, subsample=0.8.............\n",
      "[CV 4/5; 13/18] END learning_rate=0.1, max_depth=4, subsample=0.8;, score=0.628 total time=  14.6s\n",
      "[CV 5/5; 13/18] START learning_rate=0.1, max_depth=4, subsample=0.8.............\n",
      "[CV 5/5; 13/18] END learning_rate=0.1, max_depth=4, subsample=0.8;, score=0.643 total time=  14.5s\n",
      "[CV 1/5; 14/18] START learning_rate=0.1, max_depth=4, subsample=1...............\n",
      "[CV 1/5; 14/18] END learning_rate=0.1, max_depth=4, subsample=1;, score=0.629 total time=  14.4s\n",
      "[CV 2/5; 14/18] START learning_rate=0.1, max_depth=4, subsample=1...............\n",
      "[CV 2/5; 14/18] END learning_rate=0.1, max_depth=4, subsample=1;, score=0.633 total time=  14.4s\n",
      "[CV 3/5; 14/18] START learning_rate=0.1, max_depth=4, subsample=1...............\n",
      "[CV 3/5; 14/18] END learning_rate=0.1, max_depth=4, subsample=1;, score=0.644 total time=  14.6s\n",
      "[CV 4/5; 14/18] START learning_rate=0.1, max_depth=4, subsample=1...............\n",
      "[CV 4/5; 14/18] END learning_rate=0.1, max_depth=4, subsample=1;, score=0.641 total time=  15.2s\n",
      "[CV 5/5; 14/18] START learning_rate=0.1, max_depth=4, subsample=1...............\n",
      "[CV 5/5; 14/18] END learning_rate=0.1, max_depth=4, subsample=1;, score=0.633 total time=  15.0s\n",
      "[CV 1/5; 15/18] START learning_rate=0.1, max_depth=6, subsample=0.8.............\n",
      "[CV 1/5; 15/18] END learning_rate=0.1, max_depth=6, subsample=0.8;, score=0.617 total time=  16.6s\n",
      "[CV 2/5; 15/18] START learning_rate=0.1, max_depth=6, subsample=0.8.............\n",
      "[CV 2/5; 15/18] END learning_rate=0.1, max_depth=6, subsample=0.8;, score=0.621 total time=  16.8s\n",
      "[CV 3/5; 15/18] START learning_rate=0.1, max_depth=6, subsample=0.8.............\n",
      "[CV 3/5; 15/18] END learning_rate=0.1, max_depth=6, subsample=0.8;, score=0.631 total time=  16.6s\n",
      "[CV 4/5; 15/18] START learning_rate=0.1, max_depth=6, subsample=0.8.............\n",
      "[CV 4/5; 15/18] END learning_rate=0.1, max_depth=6, subsample=0.8;, score=0.633 total time=  16.9s\n",
      "[CV 5/5; 15/18] START learning_rate=0.1, max_depth=6, subsample=0.8.............\n",
      "[CV 5/5; 15/18] END learning_rate=0.1, max_depth=6, subsample=0.8;, score=0.633 total time=  18.7s\n",
      "[CV 1/5; 16/18] START learning_rate=0.1, max_depth=6, subsample=1...............\n",
      "[CV 1/5; 16/18] END learning_rate=0.1, max_depth=6, subsample=1;, score=0.623 total time=  17.0s\n",
      "[CV 2/5; 16/18] START learning_rate=0.1, max_depth=6, subsample=1...............\n",
      "[CV 2/5; 16/18] END learning_rate=0.1, max_depth=6, subsample=1;, score=0.625 total time=  16.1s\n",
      "[CV 3/5; 16/18] START learning_rate=0.1, max_depth=6, subsample=1...............\n",
      "[CV 3/5; 16/18] END learning_rate=0.1, max_depth=6, subsample=1;, score=0.623 total time=  16.0s\n",
      "[CV 4/5; 16/18] START learning_rate=0.1, max_depth=6, subsample=1...............\n",
      "[CV 4/5; 16/18] END learning_rate=0.1, max_depth=6, subsample=1;, score=0.647 total time=  15.8s\n",
      "[CV 5/5; 16/18] START learning_rate=0.1, max_depth=6, subsample=1...............\n",
      "[CV 5/5; 16/18] END learning_rate=0.1, max_depth=6, subsample=1;, score=0.624 total time=  16.0s\n",
      "[CV 1/5; 17/18] START learning_rate=0.1, max_depth=8, subsample=0.8.............\n",
      "[CV 1/5; 17/18] END learning_rate=0.1, max_depth=8, subsample=0.8;, score=0.604 total time=  17.9s\n",
      "[CV 2/5; 17/18] START learning_rate=0.1, max_depth=8, subsample=0.8.............\n",
      "[CV 2/5; 17/18] END learning_rate=0.1, max_depth=8, subsample=0.8;, score=0.590 total time=  18.1s\n",
      "[CV 3/5; 17/18] START learning_rate=0.1, max_depth=8, subsample=0.8.............\n",
      "[CV 3/5; 17/18] END learning_rate=0.1, max_depth=8, subsample=0.8;, score=0.642 total time=  17.9s\n",
      "[CV 4/5; 17/18] START learning_rate=0.1, max_depth=8, subsample=0.8.............\n",
      "[CV 4/5; 17/18] END learning_rate=0.1, max_depth=8, subsample=0.8;, score=0.614 total time=  18.0s\n",
      "[CV 5/5; 17/18] START learning_rate=0.1, max_depth=8, subsample=0.8.............\n",
      "[CV 5/5; 17/18] END learning_rate=0.1, max_depth=8, subsample=0.8;, score=0.614 total time=  17.9s\n",
      "[CV 1/5; 18/18] START learning_rate=0.1, max_depth=8, subsample=1...............\n",
      "[CV 1/5; 18/18] END learning_rate=0.1, max_depth=8, subsample=1;, score=0.602 total time=  17.1s\n",
      "[CV 2/5; 18/18] START learning_rate=0.1, max_depth=8, subsample=1...............\n",
      "[CV 2/5; 18/18] END learning_rate=0.1, max_depth=8, subsample=1;, score=0.625 total time=  17.4s\n",
      "[CV 3/5; 18/18] START learning_rate=0.1, max_depth=8, subsample=1...............\n",
      "[CV 3/5; 18/18] END learning_rate=0.1, max_depth=8, subsample=1;, score=0.627 total time=  17.2s\n",
      "[CV 4/5; 18/18] START learning_rate=0.1, max_depth=8, subsample=1...............\n",
      "[CV 4/5; 18/18] END learning_rate=0.1, max_depth=8, subsample=1;, score=0.633 total time=  17.2s\n",
      "[CV 5/5; 18/18] START learning_rate=0.1, max_depth=8, subsample=1...............\n",
      "[CV 5/5; 18/18] END learning_rate=0.1, max_depth=8, subsample=1;, score=0.624 total time=  17.0s\n",
      "TFIDF Best Params: {'learning_rate': 0.001, 'max_depth': 4, 'subsample': 0.8}\n"
     ]
    }
   ],
   "source": [
    "grid_search.fit(Xt_train, yt_train)\n",
    "best_model_tfidf = grid_search.best_estimator_\n",
    "print(\"TFIDF Best Params:\", grid_search.best_params_)"
   ]
  },
  {
   "cell_type": "code",
   "execution_count": 304,
   "metadata": {},
   "outputs": [
    {
     "name": "stdout",
     "output_type": "stream",
     "text": [
      "Count Best Params: {'learning_rate': 0.001, 'max_depth': 4, 'subsample': 0.8}\n",
      "0.6572143452877398\n",
      "0.6566666666666666\n"
     ]
    }
   ],
   "source": [
    "print(\"Count Best Params: {'learning_rate': 0.001, 'max_depth': 4, 'subsample': 0.8}\")\n",
    "print(best_model_counts.score(Xc_train, yc_train))\n",
    "print(best_model_counts.score(Xc_test, yc_test))"
   ]
  },
  {
   "cell_type": "code",
   "execution_count": 306,
   "metadata": {},
   "outputs": [
    {
     "name": "stdout",
     "output_type": "stream",
     "text": [
      "TFIDF Best Params: {'learning_rate': 0.001, 'max_depth': 4, 'subsample': 0.8}\n",
      "0.6572143452877398\n",
      "0.6566666666666666\n"
     ]
    }
   ],
   "source": [
    "print(\"TFIDF Best Params: {'learning_rate': 0.001, 'max_depth': 4, 'subsample': 0.8}\")\n",
    "print(best_model_tfidf.score(Xc_train, yc_train))\n",
    "print(best_model_tfidf.score(Xc_test, yc_test))"
   ]
  }
 ],
 "metadata": {
  "kernelspec": {
   "display_name": "datasci",
   "language": "python",
   "name": "python3"
  },
  "language_info": {
   "codemirror_mode": {
    "name": "ipython",
    "version": 3
   },
   "file_extension": ".py",
   "mimetype": "text/x-python",
   "name": "python",
   "nbconvert_exporter": "python",
   "pygments_lexer": "ipython3",
   "version": "3.10.13"
  }
 },
 "nbformat": 4,
 "nbformat_minor": 2
}
