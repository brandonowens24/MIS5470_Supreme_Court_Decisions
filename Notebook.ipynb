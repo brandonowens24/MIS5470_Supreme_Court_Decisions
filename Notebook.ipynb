{
 "cells": [
  {
   "cell_type": "markdown",
   "metadata": {},
   "source": [
    "## Supreme Court Decision Prediction"
   ]
  },
  {
   "cell_type": "markdown",
   "metadata": {},
   "source": [
    "### Load In Data"
   ]
  },
  {
   "cell_type": "code",
   "execution_count": 1,
   "metadata": {},
   "outputs": [],
   "source": [
    "import pandas as pd\n",
    "import numpy as np\n",
    "import re\n",
    "import warnings\n",
    "\n",
    "warnings.filterwarnings('ignore')"
   ]
  },
  {
   "cell_type": "code",
   "execution_count": 2,
   "metadata": {},
   "outputs": [],
   "source": [
    "cases = pd.read_csv('csvs/justice2.csv')\n",
    "cases2 = pd.read_csv('csvs/justice2.csv')\n",
    "judges = pd.read_csv('csvs/table_of_justices.csv')\n",
    "presidents = pd.read_csv('csvs/presidents.csv')"
   ]
  },
  {
   "cell_type": "code",
   "execution_count": 3,
   "metadata": {},
   "outputs": [
    {
     "name": "stdout",
     "output_type": "stream",
     "text": [
      "<class 'pandas.core.frame.DataFrame'>\n",
      "RangeIndex: 3303 entries, 0 to 3302\n",
      "Data columns (total 16 columns):\n",
      " #   Column              Non-Null Count  Dtype \n",
      "---  ------              --------------  ----- \n",
      " 0   Unnamed: 0          3303 non-null   int64 \n",
      " 1   ID                  3303 non-null   int64 \n",
      " 2   name                3303 non-null   object\n",
      " 3   href                3303 non-null   object\n",
      " 4   docket              3292 non-null   object\n",
      " 5   term                3303 non-null   int64 \n",
      " 6   first_party         3302 non-null   object\n",
      " 7   second_party        3302 non-null   object\n",
      " 8   facts               3303 non-null   object\n",
      " 9   facts_len           3303 non-null   int64 \n",
      " 10  majority_vote       3303 non-null   int64 \n",
      " 11  minority_vote       3303 non-null   int64 \n",
      " 12  first_party_winner  3288 non-null   object\n",
      " 13  decision_type       3296 non-null   object\n",
      " 14  disposition         3231 non-null   object\n",
      " 15  issue_area          3161 non-null   object\n",
      "dtypes: int64(6), object(10)\n",
      "memory usage: 413.0+ KB\n"
     ]
    }
   ],
   "source": [
    "cases.info()"
   ]
  },
  {
   "cell_type": "code",
   "execution_count": 4,
   "metadata": {},
   "outputs": [
    {
     "name": "stdout",
     "output_type": "stream",
     "text": [
      "<class 'pandas.core.frame.DataFrame'>\n",
      "RangeIndex: 121 entries, 0 to 120\n",
      "Data columns (total 6 columns):\n",
      " #   Column                    Non-Null Count  Dtype \n",
      "---  ------                    --------------  ----- \n",
      " 0   Index                     121 non-null    int64 \n",
      " 1   Justice Name              121 non-null    object\n",
      " 2   Supreme Court Term Start  121 non-null    object\n",
      " 3   Supreme Court Term End    121 non-null    object\n",
      " 4   Appointing President      121 non-null    object\n",
      " 5   Notable Opinion(s)        121 non-null    object\n",
      "dtypes: int64(1), object(5)\n",
      "memory usage: 5.8+ KB\n"
     ]
    }
   ],
   "source": [
    "judges.info()"
   ]
  },
  {
   "cell_type": "markdown",
   "metadata": {},
   "source": [
    "It's nice to note that there isn't any missing information regarding the entered judges here. Every judge has\n",
    "* Name\n",
    "* Start Term\n",
    "* End Term\n",
    "* Appointing President\n",
    "\n",
    "This will help us to potentially classify the judge's political affiliations when creating features for our model."
   ]
  },
  {
   "cell_type": "code",
   "execution_count": 5,
   "metadata": {},
   "outputs": [
    {
     "name": "stdout",
     "output_type": "stream",
     "text": [
      "<class 'pandas.core.frame.DataFrame'>\n",
      "RangeIndex: 46 entries, 0 to 45\n",
      "Data columns (total 2 columns):\n",
      " #   Column      Non-Null Count  Dtype \n",
      "---  ------      --------------  ----- \n",
      " 0   President   46 non-null     object\n",
      " 1   Party       46 non-null     object\n",
      "dtypes: object(2)\n",
      "memory usage: 868.0+ bytes\n"
     ]
    }
   ],
   "source": [
    "presidents.info()"
   ]
  },
  {
   "cell_type": "markdown",
   "metadata": {},
   "source": [
    "### Data Prep"
   ]
  },
  {
   "cell_type": "markdown",
   "metadata": {},
   "source": [
    "#### Get All Dates in Terms of Years"
   ]
  },
  {
   "cell_type": "code",
   "execution_count": 6,
   "metadata": {},
   "outputs": [],
   "source": [
    "judges['start_year'] = pd.to_datetime(judges['Supreme Court Term Start']).dt.year\n",
    "judges['end_year'] = pd.to_datetime(judges['Supreme Court Term End'].replace(\"--\",\"01-Mar-24\")).dt.year\n",
    "cases[\"feat_term\"] = cases[\"term\"]"
   ]
  },
  {
   "cell_type": "markdown",
   "metadata": {},
   "source": [
    "All cases just have a \"term\" in which a ruling was placed, not an actual date. Therefore, we will need to make an assumption that if a Supreme Court Justice's service encapsulates the term in which a ruling was passed, they will in fact have had been part of that ruling."
   ]
  },
  {
   "cell_type": "markdown",
   "metadata": {},
   "source": [
    "#### Match Judges to their Party Affiliations"
   ]
  },
  {
   "cell_type": "code",
   "execution_count": 7,
   "metadata": {},
   "outputs": [],
   "source": [
    "judges['president_last_name'] = judges[\"Appointing President\"].str.extract(r'^(\\w+),')\n",
    "presidents['president_last_name']= presidents['President '].str.extract(r'\\s(\\w+)$') "
   ]
  },
  {
   "cell_type": "code",
   "execution_count": 8,
   "metadata": {},
   "outputs": [],
   "source": [
    "president_party_dict = presidents.set_index('president_last_name')['Party '].to_dict()\n",
    "judges['party'] = np.where(judges['president_last_name'].isin(president_party_dict.keys()),\n",
    "                           judges['president_last_name'].map(president_party_dict),\n",
    "                           None)\n",
    "judges['party'] = judges['party'].dropna().apply(lambda x: x.strip())"
   ]
  },
  {
   "cell_type": "markdown",
   "metadata": {},
   "source": [
    "We make the assumption that the judges will have the same political affiliation as the President that inaugarated him/her. Therefore, it is helpful to map the President's party affiliation to the corresponding Supreme Court Justices they appointed."
   ]
  },
  {
   "cell_type": "code",
   "execution_count": 9,
   "metadata": {},
   "outputs": [
    {
     "data": {
      "text/plain": [
       "party\n",
       "Republican                                   49\n",
       "Democratic                                   44\n",
       "Independent                                  11\n",
       "Democratic-Republican                         6\n",
       "Republican/National Union                     5\n",
       "Democratic-Republican/National Republican     4\n",
       "Whig                                          2\n",
       "Name: count, dtype: int64"
      ]
     },
     "execution_count": 9,
     "metadata": {},
     "output_type": "execute_result"
    }
   ],
   "source": [
    "judges.value_counts(\"party\")"
   ]
  },
  {
   "cell_type": "markdown",
   "metadata": {},
   "source": [
    "This is a problem that was unforseen. There have been some different sounding political parties over the years with some unique ideals. It's hard to classify distinction with the change of names because...\n",
    "\n",
    "`Democratic` + `Republican` != `Democratic-Republican`\n",
    "\n",
    "Our solution here is to instead to map party ideology into \"neutral\", \"conservative\", or \"liberal\" utilizing our pre-existing knowledge of these parties."
   ]
  },
  {
   "cell_type": "code",
   "execution_count": 10,
   "metadata": {},
   "outputs": [],
   "source": [
    "ideology_map = {\n",
    "    \"Republican\": \"feat_conservative\",\n",
    "    \"Democratic\": \"feat_liberal\",\n",
    "    \"Independent\": \"feat_neutral\", \n",
    "    \"Whig\": \"feat_conservative\",\n",
    "    \"Democratic-Republican/National Republican\": \"feat_conservative\",\n",
    "    \"Republican/National Union\": \"feat_conservative\",\n",
    "    \"Democratic-Republican\": \"feat_liberal\"\n",
    "}"
   ]
  },
  {
   "cell_type": "code",
   "execution_count": 11,
   "metadata": {},
   "outputs": [],
   "source": [
    "judges['ideology'] = np.where(judges['party'].isin(ideology_map.keys()),\n",
    "                           judges['party'].map(ideology_map),\n",
    "                           None)"
   ]
  },
  {
   "cell_type": "markdown",
   "metadata": {},
   "source": [
    "#### Match Cases to Judges to Get Counts for Each Ideology\n"
   ]
  },
  {
   "cell_type": "code",
   "execution_count": 12,
   "metadata": {},
   "outputs": [],
   "source": [
    "cases[\"feat_conservative\"] = 0\n",
    "cases[\"feat_liberal\"] = 0\n",
    "cases[\"feat_neutral\"] = 0"
   ]
  },
  {
   "cell_type": "code",
   "execution_count": 13,
   "metadata": {},
   "outputs": [],
   "source": [
    "for case_index, term in enumerate(cases.term):\n",
    "    for judge_index, (start, end) in enumerate(zip(judges.start_year, judges.end_year)):\n",
    "        if (start <= term <= end):\n",
    "            judge_ideology = judges.ideology[judge_index]\n",
    "            cases.loc[case_index, judge_ideology] += 1\n",
    "        else:\n",
    "            pass"
   ]
  },
  {
   "cell_type": "markdown",
   "metadata": {},
   "source": [
    "#### Remove Rows Missing \"`Issue_area` \", `\"disposition\"`, and \"`first_party_winner`\""
   ]
  },
  {
   "cell_type": "code",
   "execution_count": 14,
   "metadata": {},
   "outputs": [],
   "source": [
    "cases = cases.loc[cases.issue_area.notnull()]\n",
    "cases = cases.loc[cases.first_party_winner.notnull()]\n",
    "cases = cases[cases.disposition != \"none\"]"
   ]
  },
  {
   "cell_type": "markdown",
   "metadata": {},
   "source": [
    "#### Regularize Facts Statements"
   ]
  },
  {
   "cell_type": "code",
   "execution_count": 15,
   "metadata": {},
   "outputs": [
    {
     "name": "stderr",
     "output_type": "stream",
     "text": [
      "[nltk_data] Downloading package punkt to\n",
      "[nltk_data]     /Users/haileynaugle/nltk_data...\n",
      "[nltk_data]   Package punkt is already up-to-date!\n",
      "[nltk_data] Downloading package stopwords to\n",
      "[nltk_data]     /Users/haileynaugle/nltk_data...\n",
      "[nltk_data]   Package stopwords is already up-to-date!\n",
      "[nltk_data] Downloading package wordnet to\n",
      "[nltk_data]     /Users/haileynaugle/nltk_data...\n",
      "[nltk_data]   Package wordnet is already up-to-date!\n"
     ]
    }
   ],
   "source": [
    "import nltk\n",
    "import string\n",
    "from nltk.corpus import stopwords\n",
    "from nltk.stem import WordNetLemmatizer\n",
    "\n",
    "\n",
    "nltk.download('punkt')\n",
    "nltk.download('stopwords')\n",
    "nltk.download('wordnet')\n",
    "\n",
    "stop_words = set(stopwords.words('english'))\n",
    "lemmatizer = WordNetLemmatizer()\n",
    "\n",
    "def tokenizer(text):\n",
    "    ''' Tokenize document text by stripping the text into individual tokens, removing digit characters, removing punctuation, remove stop words, and lemmatizing the tokens.\n",
    "    \n",
    "    Parameters\n",
    "    ----------\n",
    "    text : str\n",
    "        The body of text that you would like to tokenize\n",
    "    \n",
    "    Returns\n",
    "    -------\n",
    "    cleaned_doc_tokens : str\n",
    "        The cleaned and tokenized text\n",
    "\n",
    "    Example\n",
    "    -------\n",
    "    text = \"Hailey Naugle was quite the important contributor to this Supreme Court analysis. - Brandon Owens\"\n",
    "\n",
    "    clean_text = tokenizer(text)\n",
    "    \n",
    "    Will output:\n",
    "        \"hailey naugle important contributor supreme court analysis brandon owens\"\n",
    "\n",
    "    '''\n",
    "\n",
    "    text_tokens = []\n",
    "    sentences = nltk.sent_tokenize(text)\n",
    "    for sentence in sentences:\n",
    "        sent_tokens = nltk.word_tokenize(sentence)\n",
    "        sent_tokens = [lemmatizer.lemmatize(word.lower()) for word in sent_tokens \n",
    "                       if (word.lower() not in stop_words) and (word not in string.punctuation) and (len(word) > 1) and not(word.isdigit())]\n",
    "        text_tokens += sent_tokens\n",
    "\n",
    "    cleaned_doc_tokens = ' '.join(text_tokens)\n",
    "\n",
    "    return cleaned_doc_tokens\n"
   ]
  },
  {
   "cell_type": "code",
   "execution_count": 16,
   "metadata": {},
   "outputs": [],
   "source": [
    "cases[\"cleaned_facts\"] = cases[\"facts\"].apply(lambda x: tokenizer(x))"
   ]
  },
  {
   "cell_type": "markdown",
   "metadata": {},
   "source": [
    "#### Convert Some Columns to Binary"
   ]
  },
  {
   "cell_type": "code",
   "execution_count": 17,
   "metadata": {},
   "outputs": [],
   "source": [
    "issue_areas = pd.get_dummies(cases.issue_area)\n",
    "combo_dummies = pd.concat([issue_areas], axis = 1, join=\"inner\")"
   ]
  },
  {
   "cell_type": "code",
   "execution_count": 18,
   "metadata": {},
   "outputs": [],
   "source": [
    "cols = [\"name\", \"feat_term\", \"first_party\", \"second_party\", \"facts\", \"cleaned_facts\", \"disposition\", \"majority_vote\", \"minority_vote\", \"first_party_winner\", \"feat_conservative\", \"feat_liberal\", \"feat_neutral\"]\n",
    "cases = pd.concat([cases[cols], combo_dummies], axis=1, join=\"inner\")"
   ]
  },
  {
   "cell_type": "code",
   "execution_count": 19,
   "metadata": {},
   "outputs": [],
   "source": [
    "cases = cases.replace({True: 1, False: 0})"
   ]
  },
  {
   "cell_type": "code",
   "execution_count": 20,
   "metadata": {},
   "outputs": [
    {
     "data": {
      "text/html": [
       "<div>\n",
       "<style scoped>\n",
       "    .dataframe tbody tr th:only-of-type {\n",
       "        vertical-align: middle;\n",
       "    }\n",
       "\n",
       "    .dataframe tbody tr th {\n",
       "        vertical-align: top;\n",
       "    }\n",
       "\n",
       "    .dataframe thead th {\n",
       "        text-align: right;\n",
       "    }\n",
       "</style>\n",
       "<table border=\"1\" class=\"dataframe\">\n",
       "  <thead>\n",
       "    <tr style=\"text-align: right;\">\n",
       "      <th></th>\n",
       "      <th>index</th>\n",
       "      <th>name</th>\n",
       "      <th>feat_term</th>\n",
       "      <th>first_party</th>\n",
       "      <th>second_party</th>\n",
       "      <th>facts</th>\n",
       "      <th>cleaned_facts</th>\n",
       "      <th>disposition</th>\n",
       "      <th>majority_vote</th>\n",
       "      <th>minority_vote</th>\n",
       "      <th>...</th>\n",
       "      <th>Economic Activity</th>\n",
       "      <th>Federal Taxation</th>\n",
       "      <th>Federalism</th>\n",
       "      <th>First Amendment</th>\n",
       "      <th>Interstate Relations</th>\n",
       "      <th>Judicial Power</th>\n",
       "      <th>Miscellaneous</th>\n",
       "      <th>Privacy</th>\n",
       "      <th>Private Action</th>\n",
       "      <th>Unions</th>\n",
       "    </tr>\n",
       "  </thead>\n",
       "  <tbody>\n",
       "    <tr>\n",
       "      <th>0</th>\n",
       "      <td>1</td>\n",
       "      <td>Stanley v. Illinois</td>\n",
       "      <td>1971</td>\n",
       "      <td>Peter Stanley, Sr.</td>\n",
       "      <td>Illinois</td>\n",
       "      <td>&lt;p&gt;Joan Stanley had three children with Peter ...</td>\n",
       "      <td>joan stanley three child peter stanley stanley...</td>\n",
       "      <td>reversed/remanded</td>\n",
       "      <td>5</td>\n",
       "      <td>2</td>\n",
       "      <td>...</td>\n",
       "      <td>0</td>\n",
       "      <td>0</td>\n",
       "      <td>0</td>\n",
       "      <td>0</td>\n",
       "      <td>0</td>\n",
       "      <td>0</td>\n",
       "      <td>0</td>\n",
       "      <td>0</td>\n",
       "      <td>0</td>\n",
       "      <td>0</td>\n",
       "    </tr>\n",
       "    <tr>\n",
       "      <th>1</th>\n",
       "      <td>2</td>\n",
       "      <td>Giglio v. United States</td>\n",
       "      <td>1971</td>\n",
       "      <td>John Giglio</td>\n",
       "      <td>United States</td>\n",
       "      <td>&lt;p&gt;John Giglio was convicted of passing forged...</td>\n",
       "      <td>john giglio convicted passing forged money ord...</td>\n",
       "      <td>reversed/remanded</td>\n",
       "      <td>7</td>\n",
       "      <td>0</td>\n",
       "      <td>...</td>\n",
       "      <td>0</td>\n",
       "      <td>0</td>\n",
       "      <td>0</td>\n",
       "      <td>0</td>\n",
       "      <td>0</td>\n",
       "      <td>0</td>\n",
       "      <td>0</td>\n",
       "      <td>0</td>\n",
       "      <td>0</td>\n",
       "      <td>0</td>\n",
       "    </tr>\n",
       "    <tr>\n",
       "      <th>2</th>\n",
       "      <td>3</td>\n",
       "      <td>Reed v. Reed</td>\n",
       "      <td>1971</td>\n",
       "      <td>Sally Reed</td>\n",
       "      <td>Cecil Reed</td>\n",
       "      <td>&lt;p&gt;The Idaho Probate Code specified that \"male...</td>\n",
       "      <td>idaho probate code specified `` male must pref...</td>\n",
       "      <td>reversed/remanded</td>\n",
       "      <td>7</td>\n",
       "      <td>0</td>\n",
       "      <td>...</td>\n",
       "      <td>0</td>\n",
       "      <td>0</td>\n",
       "      <td>0</td>\n",
       "      <td>0</td>\n",
       "      <td>0</td>\n",
       "      <td>0</td>\n",
       "      <td>0</td>\n",
       "      <td>0</td>\n",
       "      <td>0</td>\n",
       "      <td>0</td>\n",
       "    </tr>\n",
       "    <tr>\n",
       "      <th>3</th>\n",
       "      <td>4</td>\n",
       "      <td>Miller v. California</td>\n",
       "      <td>1971</td>\n",
       "      <td>Marvin Miller</td>\n",
       "      <td>California</td>\n",
       "      <td>&lt;p&gt;Miller, after conducting a mass mailing cam...</td>\n",
       "      <td>miller conducting mass mailing campaign advert...</td>\n",
       "      <td>vacated/remanded</td>\n",
       "      <td>5</td>\n",
       "      <td>4</td>\n",
       "      <td>...</td>\n",
       "      <td>0</td>\n",
       "      <td>0</td>\n",
       "      <td>0</td>\n",
       "      <td>1</td>\n",
       "      <td>0</td>\n",
       "      <td>0</td>\n",
       "      <td>0</td>\n",
       "      <td>0</td>\n",
       "      <td>0</td>\n",
       "      <td>0</td>\n",
       "    </tr>\n",
       "    <tr>\n",
       "      <th>4</th>\n",
       "      <td>5</td>\n",
       "      <td>Kleindienst v. Mandel</td>\n",
       "      <td>1971</td>\n",
       "      <td>Richard G. Kleindienst, Attorney General of th...</td>\n",
       "      <td>Ernest E. Mandel, et al.</td>\n",
       "      <td>&lt;p&gt;Ernest E. Mandel was a Belgian professional...</td>\n",
       "      <td>ernest e. mandel belgian professional journali...</td>\n",
       "      <td>reversed</td>\n",
       "      <td>6</td>\n",
       "      <td>3</td>\n",
       "      <td>...</td>\n",
       "      <td>0</td>\n",
       "      <td>0</td>\n",
       "      <td>0</td>\n",
       "      <td>1</td>\n",
       "      <td>0</td>\n",
       "      <td>0</td>\n",
       "      <td>0</td>\n",
       "      <td>0</td>\n",
       "      <td>0</td>\n",
       "      <td>0</td>\n",
       "    </tr>\n",
       "    <tr>\n",
       "      <th>...</th>\n",
       "      <td>...</td>\n",
       "      <td>...</td>\n",
       "      <td>...</td>\n",
       "      <td>...</td>\n",
       "      <td>...</td>\n",
       "      <td>...</td>\n",
       "      <td>...</td>\n",
       "      <td>...</td>\n",
       "      <td>...</td>\n",
       "      <td>...</td>\n",
       "      <td>...</td>\n",
       "      <td>...</td>\n",
       "      <td>...</td>\n",
       "      <td>...</td>\n",
       "      <td>...</td>\n",
       "      <td>...</td>\n",
       "      <td>...</td>\n",
       "      <td>...</td>\n",
       "      <td>...</td>\n",
       "      <td>...</td>\n",
       "      <td>...</td>\n",
       "    </tr>\n",
       "    <tr>\n",
       "      <th>3141</th>\n",
       "      <td>3297</td>\n",
       "      <td>Yellen v. Confederated Tribes of the Chehalis ...</td>\n",
       "      <td>2020</td>\n",
       "      <td>Janet L. Yellen, Secretary of the Treasury</td>\n",
       "      <td>Confederated Tribes of the Chehalis Reservatio...</td>\n",
       "      <td>&lt;p&gt;For over a century after the Alaska Purchas...</td>\n",
       "      <td>century alaska purchase federal government set...</td>\n",
       "      <td>reversed/remanded</td>\n",
       "      <td>6</td>\n",
       "      <td>3</td>\n",
       "      <td>...</td>\n",
       "      <td>0</td>\n",
       "      <td>0</td>\n",
       "      <td>0</td>\n",
       "      <td>0</td>\n",
       "      <td>0</td>\n",
       "      <td>0</td>\n",
       "      <td>0</td>\n",
       "      <td>0</td>\n",
       "      <td>0</td>\n",
       "      <td>0</td>\n",
       "    </tr>\n",
       "    <tr>\n",
       "      <th>3142</th>\n",
       "      <td>3298</td>\n",
       "      <td>United States v. Palomar-Santiago</td>\n",
       "      <td>2020</td>\n",
       "      <td>United States</td>\n",
       "      <td>Refugio Palomar-Santiago</td>\n",
       "      <td>&lt;p&gt;Refugio Palomar-Santiago, a Mexican nationa...</td>\n",
       "      <td>refugio palomar-santiago mexican national gran...</td>\n",
       "      <td>reversed/remanded</td>\n",
       "      <td>9</td>\n",
       "      <td>0</td>\n",
       "      <td>...</td>\n",
       "      <td>0</td>\n",
       "      <td>0</td>\n",
       "      <td>0</td>\n",
       "      <td>0</td>\n",
       "      <td>0</td>\n",
       "      <td>0</td>\n",
       "      <td>0</td>\n",
       "      <td>0</td>\n",
       "      <td>0</td>\n",
       "      <td>0</td>\n",
       "    </tr>\n",
       "    <tr>\n",
       "      <th>3143</th>\n",
       "      <td>3299</td>\n",
       "      <td>Terry v. United States</td>\n",
       "      <td>2020</td>\n",
       "      <td>Tarahrick Terry</td>\n",
       "      <td>United States</td>\n",
       "      <td>&lt;p&gt;Tarahrick Terry pleaded guilty to one count...</td>\n",
       "      <td>tarahrick terry pleaded guilty one count posse...</td>\n",
       "      <td>affirmed</td>\n",
       "      <td>9</td>\n",
       "      <td>0</td>\n",
       "      <td>...</td>\n",
       "      <td>0</td>\n",
       "      <td>0</td>\n",
       "      <td>0</td>\n",
       "      <td>0</td>\n",
       "      <td>0</td>\n",
       "      <td>0</td>\n",
       "      <td>0</td>\n",
       "      <td>0</td>\n",
       "      <td>0</td>\n",
       "      <td>0</td>\n",
       "    </tr>\n",
       "    <tr>\n",
       "      <th>3144</th>\n",
       "      <td>3300</td>\n",
       "      <td>United States v. Cooley</td>\n",
       "      <td>2020</td>\n",
       "      <td>United States</td>\n",
       "      <td>Joshua James Cooley</td>\n",
       "      <td>&lt;p&gt;Joshua James Cooley was parked in his picku...</td>\n",
       "      <td>joshua james cooley parked pickup truck side r...</td>\n",
       "      <td>vacated/remanded</td>\n",
       "      <td>9</td>\n",
       "      <td>0</td>\n",
       "      <td>...</td>\n",
       "      <td>0</td>\n",
       "      <td>0</td>\n",
       "      <td>0</td>\n",
       "      <td>0</td>\n",
       "      <td>0</td>\n",
       "      <td>0</td>\n",
       "      <td>0</td>\n",
       "      <td>0</td>\n",
       "      <td>0</td>\n",
       "      <td>0</td>\n",
       "    </tr>\n",
       "    <tr>\n",
       "      <th>3145</th>\n",
       "      <td>3302</td>\n",
       "      <td>PennEast Pipeline Co. v. New Jersey</td>\n",
       "      <td>2020</td>\n",
       "      <td>PennEast Pipeline Co. LLC</td>\n",
       "      <td>New Jersey, et al.</td>\n",
       "      <td>&lt;p&gt;The Natural Gas Act (NGA), 15 U.S.C. §§ 717...</td>\n",
       "      <td>natural gas act nga u.s.c §§ 717–717z permit p...</td>\n",
       "      <td>reversed/remanded</td>\n",
       "      <td>5</td>\n",
       "      <td>4</td>\n",
       "      <td>...</td>\n",
       "      <td>0</td>\n",
       "      <td>0</td>\n",
       "      <td>0</td>\n",
       "      <td>0</td>\n",
       "      <td>0</td>\n",
       "      <td>0</td>\n",
       "      <td>0</td>\n",
       "      <td>0</td>\n",
       "      <td>0</td>\n",
       "      <td>0</td>\n",
       "    </tr>\n",
       "  </tbody>\n",
       "</table>\n",
       "<p>3146 rows × 28 columns</p>\n",
       "</div>"
      ],
      "text/plain": [
       "      index                                               name  feat_term  \\\n",
       "0         1                                Stanley v. Illinois       1971   \n",
       "1         2                            Giglio v. United States       1971   \n",
       "2         3                                       Reed v. Reed       1971   \n",
       "3         4                               Miller v. California       1971   \n",
       "4         5                              Kleindienst v. Mandel       1971   \n",
       "...     ...                                                ...        ...   \n",
       "3141   3297  Yellen v. Confederated Tribes of the Chehalis ...       2020   \n",
       "3142   3298                  United States v. Palomar-Santiago       2020   \n",
       "3143   3299                             Terry v. United States       2020   \n",
       "3144   3300                            United States v. Cooley       2020   \n",
       "3145   3302                PennEast Pipeline Co. v. New Jersey       2020   \n",
       "\n",
       "                                            first_party  \\\n",
       "0                                   Peter Stanley, Sr.    \n",
       "1                                          John Giglio    \n",
       "2                                            Sally Reed   \n",
       "3                                         Marvin Miller   \n",
       "4     Richard G. Kleindienst, Attorney General of th...   \n",
       "...                                                 ...   \n",
       "3141         Janet L. Yellen, Secretary of the Treasury   \n",
       "3142                                      United States   \n",
       "3143                                    Tarahrick Terry   \n",
       "3144                                      United States   \n",
       "3145                          PennEast Pipeline Co. LLC   \n",
       "\n",
       "                                           second_party  \\\n",
       "0                                              Illinois   \n",
       "1                                         United States   \n",
       "2                                            Cecil Reed   \n",
       "3                                            California   \n",
       "4                              Ernest E. Mandel, et al.   \n",
       "...                                                 ...   \n",
       "3141  Confederated Tribes of the Chehalis Reservatio...   \n",
       "3142                           Refugio Palomar-Santiago   \n",
       "3143                                      United States   \n",
       "3144                                Joshua James Cooley   \n",
       "3145                                 New Jersey, et al.   \n",
       "\n",
       "                                                  facts  \\\n",
       "0     <p>Joan Stanley had three children with Peter ...   \n",
       "1     <p>John Giglio was convicted of passing forged...   \n",
       "2     <p>The Idaho Probate Code specified that \"male...   \n",
       "3     <p>Miller, after conducting a mass mailing cam...   \n",
       "4     <p>Ernest E. Mandel was a Belgian professional...   \n",
       "...                                                 ...   \n",
       "3141  <p>For over a century after the Alaska Purchas...   \n",
       "3142  <p>Refugio Palomar-Santiago, a Mexican nationa...   \n",
       "3143  <p>Tarahrick Terry pleaded guilty to one count...   \n",
       "3144  <p>Joshua James Cooley was parked in his picku...   \n",
       "3145  <p>The Natural Gas Act (NGA), 15 U.S.C. §§ 717...   \n",
       "\n",
       "                                          cleaned_facts        disposition  \\\n",
       "0     joan stanley three child peter stanley stanley...  reversed/remanded   \n",
       "1     john giglio convicted passing forged money ord...  reversed/remanded   \n",
       "2     idaho probate code specified `` male must pref...  reversed/remanded   \n",
       "3     miller conducting mass mailing campaign advert...   vacated/remanded   \n",
       "4     ernest e. mandel belgian professional journali...           reversed   \n",
       "...                                                 ...                ...   \n",
       "3141  century alaska purchase federal government set...  reversed/remanded   \n",
       "3142  refugio palomar-santiago mexican national gran...  reversed/remanded   \n",
       "3143  tarahrick terry pleaded guilty one count posse...           affirmed   \n",
       "3144  joshua james cooley parked pickup truck side r...   vacated/remanded   \n",
       "3145  natural gas act nga u.s.c §§ 717–717z permit p...  reversed/remanded   \n",
       "\n",
       "      majority_vote  minority_vote  ...  Economic Activity  Federal Taxation  \\\n",
       "0                 5              2  ...                  0                 0   \n",
       "1                 7              0  ...                  0                 0   \n",
       "2                 7              0  ...                  0                 0   \n",
       "3                 5              4  ...                  0                 0   \n",
       "4                 6              3  ...                  0                 0   \n",
       "...             ...            ...  ...                ...               ...   \n",
       "3141              6              3  ...                  0                 0   \n",
       "3142              9              0  ...                  0                 0   \n",
       "3143              9              0  ...                  0                 0   \n",
       "3144              9              0  ...                  0                 0   \n",
       "3145              5              4  ...                  0                 0   \n",
       "\n",
       "      Federalism  First Amendment  Interstate Relations  Judicial Power  \\\n",
       "0              0                0                     0               0   \n",
       "1              0                0                     0               0   \n",
       "2              0                0                     0               0   \n",
       "3              0                1                     0               0   \n",
       "4              0                1                     0               0   \n",
       "...          ...              ...                   ...             ...   \n",
       "3141           0                0                     0               0   \n",
       "3142           0                0                     0               0   \n",
       "3143           0                0                     0               0   \n",
       "3144           0                0                     0               0   \n",
       "3145           0                0                     0               0   \n",
       "\n",
       "      Miscellaneous  Privacy  Private Action  Unions  \n",
       "0                 0        0               0       0  \n",
       "1                 0        0               0       0  \n",
       "2                 0        0               0       0  \n",
       "3                 0        0               0       0  \n",
       "4                 0        0               0       0  \n",
       "...             ...      ...             ...     ...  \n",
       "3141              0        0               0       0  \n",
       "3142              0        0               0       0  \n",
       "3143              0        0               0       0  \n",
       "3144              0        0               0       0  \n",
       "3145              0        0               0       0  \n",
       "\n",
       "[3146 rows x 28 columns]"
      ]
     },
     "execution_count": 20,
     "metadata": {},
     "output_type": "execute_result"
    }
   ],
   "source": [
    "cases.reset_index()"
   ]
  },
  {
   "cell_type": "code",
   "execution_count": 21,
   "metadata": {},
   "outputs": [
    {
     "data": {
      "text/plain": [
       "Index(['name', 'feat_term', 'first_party', 'second_party', 'facts',\n",
       "       'cleaned_facts', 'disposition', 'majority_vote', 'minority_vote',\n",
       "       'first_party_winner', 'feat_conservative', 'feat_liberal',\n",
       "       'feat_neutral', 'Attorneys', 'Civil Rights', 'Criminal Procedure',\n",
       "       'Due Process', 'Economic Activity', 'Federal Taxation', 'Federalism',\n",
       "       'First Amendment', 'Interstate Relations', 'Judicial Power',\n",
       "       'Miscellaneous', 'Privacy', 'Private Action', 'Unions'],\n",
       "      dtype='object')"
      ]
     },
     "execution_count": 21,
     "metadata": {},
     "output_type": "execute_result"
    }
   ],
   "source": [
    "cases.columns"
   ]
  },
  {
   "cell_type": "code",
   "execution_count": 22,
   "metadata": {},
   "outputs": [],
   "source": [
    "cases['first_party_winner'] = cases.first_party_winner.astype(int)"
   ]
  },
  {
   "cell_type": "markdown",
   "metadata": {},
   "source": [
    "#### Feature Engineer: Ratio of Conservative to Liberal"
   ]
  },
  {
   "cell_type": "code",
   "execution_count": 23,
   "metadata": {},
   "outputs": [
    {
     "data": {
      "text/plain": [
       "1       1.25\n",
       "2       1.25\n",
       "3       1.25\n",
       "4       1.25\n",
       "5       1.25\n",
       "        ... \n",
       "3297    1.50\n",
       "3298    1.50\n",
       "3299    1.50\n",
       "3300    1.50\n",
       "3302    1.50\n",
       "Name: ratio_conservative_to_liberal, Length: 3146, dtype: float64"
      ]
     },
     "execution_count": 23,
     "metadata": {},
     "output_type": "execute_result"
    }
   ],
   "source": [
    "cases['ratio_conservative_to_liberal'] = cases.feat_conservative / cases.feat_liberal\n",
    "\n",
    "cases['ratio_conservative_to_liberal']"
   ]
  },
  {
   "cell_type": "markdown",
   "metadata": {},
   "source": [
    "### EDA"
   ]
  },
  {
   "cell_type": "code",
   "execution_count": 24,
   "metadata": {},
   "outputs": [],
   "source": [
    "%matplotlib inline\n",
    "import matplotlib.pyplot as plt"
   ]
  },
  {
   "cell_type": "code",
   "execution_count": 25,
   "metadata": {},
   "outputs": [],
   "source": [
    "from sklearn.feature_extraction.text import CountVectorizer\n",
    "from sklearn.feature_extraction.text import TfidfVectorizer\n",
    "\n",
    "count_vectorizer = CountVectorizer()\n",
    "tfidf_vectorizer = TfidfVectorizer()"
   ]
  },
  {
   "cell_type": "code",
   "execution_count": 26,
   "metadata": {},
   "outputs": [],
   "source": [
    "counts_vectorized = count_vectorizer.fit_transform(cases[\"cleaned_facts\"]) \n",
    "counts_array = counts_vectorized.toarray()\n",
    "counts_df = pd.DataFrame(counts_array, columns = count_vectorizer.vocabulary_.keys())"
   ]
  },
  {
   "cell_type": "code",
   "execution_count": 27,
   "metadata": {},
   "outputs": [
    {
     "data": {
      "text/html": [
       "<div>\n",
       "<style scoped>\n",
       "    .dataframe tbody tr th:only-of-type {\n",
       "        vertical-align: middle;\n",
       "    }\n",
       "\n",
       "    .dataframe tbody tr th {\n",
       "        vertical-align: top;\n",
       "    }\n",
       "\n",
       "    .dataframe thead th {\n",
       "        text-align: right;\n",
       "    }\n",
       "</style>\n",
       "<table border=\"1\" class=\"dataframe\">\n",
       "  <thead>\n",
       "    <tr style=\"text-align: right;\">\n",
       "      <th></th>\n",
       "      <th>joan</th>\n",
       "      <th>stanley</th>\n",
       "      <th>three</th>\n",
       "      <th>child</th>\n",
       "      <th>peter</th>\n",
       "      <th>never</th>\n",
       "      <th>married</th>\n",
       "      <th>lived</th>\n",
       "      <th>together</th>\n",
       "      <th>year</th>\n",
       "      <th>...</th>\n",
       "      <th>aquino</th>\n",
       "      <th>aguilera</th>\n",
       "      <th>rios</th>\n",
       "      <th>tarahrick</th>\n",
       "      <th>cooley</th>\n",
       "      <th>saylor</th>\n",
       "      <th>icra</th>\n",
       "      <th>717</th>\n",
       "      <th>717z</th>\n",
       "      <th>penneast</th>\n",
       "    </tr>\n",
       "  </thead>\n",
       "  <tbody>\n",
       "    <tr>\n",
       "      <th>0</th>\n",
       "      <td>0</td>\n",
       "      <td>0</td>\n",
       "      <td>0</td>\n",
       "      <td>0</td>\n",
       "      <td>0</td>\n",
       "      <td>0</td>\n",
       "      <td>0</td>\n",
       "      <td>0</td>\n",
       "      <td>0</td>\n",
       "      <td>0</td>\n",
       "      <td>...</td>\n",
       "      <td>0</td>\n",
       "      <td>0</td>\n",
       "      <td>0</td>\n",
       "      <td>0</td>\n",
       "      <td>0</td>\n",
       "      <td>0</td>\n",
       "      <td>0</td>\n",
       "      <td>0</td>\n",
       "      <td>0</td>\n",
       "      <td>0</td>\n",
       "    </tr>\n",
       "    <tr>\n",
       "      <th>1</th>\n",
       "      <td>0</td>\n",
       "      <td>0</td>\n",
       "      <td>0</td>\n",
       "      <td>0</td>\n",
       "      <td>0</td>\n",
       "      <td>0</td>\n",
       "      <td>0</td>\n",
       "      <td>0</td>\n",
       "      <td>0</td>\n",
       "      <td>0</td>\n",
       "      <td>...</td>\n",
       "      <td>0</td>\n",
       "      <td>0</td>\n",
       "      <td>0</td>\n",
       "      <td>0</td>\n",
       "      <td>0</td>\n",
       "      <td>0</td>\n",
       "      <td>0</td>\n",
       "      <td>0</td>\n",
       "      <td>0</td>\n",
       "      <td>0</td>\n",
       "    </tr>\n",
       "    <tr>\n",
       "      <th>2</th>\n",
       "      <td>0</td>\n",
       "      <td>0</td>\n",
       "      <td>0</td>\n",
       "      <td>0</td>\n",
       "      <td>0</td>\n",
       "      <td>0</td>\n",
       "      <td>0</td>\n",
       "      <td>0</td>\n",
       "      <td>0</td>\n",
       "      <td>0</td>\n",
       "      <td>...</td>\n",
       "      <td>0</td>\n",
       "      <td>0</td>\n",
       "      <td>0</td>\n",
       "      <td>0</td>\n",
       "      <td>0</td>\n",
       "      <td>0</td>\n",
       "      <td>0</td>\n",
       "      <td>0</td>\n",
       "      <td>0</td>\n",
       "      <td>0</td>\n",
       "    </tr>\n",
       "    <tr>\n",
       "      <th>3</th>\n",
       "      <td>0</td>\n",
       "      <td>0</td>\n",
       "      <td>0</td>\n",
       "      <td>0</td>\n",
       "      <td>0</td>\n",
       "      <td>0</td>\n",
       "      <td>0</td>\n",
       "      <td>0</td>\n",
       "      <td>0</td>\n",
       "      <td>0</td>\n",
       "      <td>...</td>\n",
       "      <td>0</td>\n",
       "      <td>0</td>\n",
       "      <td>0</td>\n",
       "      <td>0</td>\n",
       "      <td>0</td>\n",
       "      <td>0</td>\n",
       "      <td>0</td>\n",
       "      <td>0</td>\n",
       "      <td>0</td>\n",
       "      <td>0</td>\n",
       "    </tr>\n",
       "    <tr>\n",
       "      <th>4</th>\n",
       "      <td>0</td>\n",
       "      <td>0</td>\n",
       "      <td>0</td>\n",
       "      <td>0</td>\n",
       "      <td>0</td>\n",
       "      <td>0</td>\n",
       "      <td>0</td>\n",
       "      <td>0</td>\n",
       "      <td>0</td>\n",
       "      <td>0</td>\n",
       "      <td>...</td>\n",
       "      <td>0</td>\n",
       "      <td>0</td>\n",
       "      <td>0</td>\n",
       "      <td>0</td>\n",
       "      <td>0</td>\n",
       "      <td>0</td>\n",
       "      <td>0</td>\n",
       "      <td>0</td>\n",
       "      <td>0</td>\n",
       "      <td>0</td>\n",
       "    </tr>\n",
       "    <tr>\n",
       "      <th>...</th>\n",
       "      <td>...</td>\n",
       "      <td>...</td>\n",
       "      <td>...</td>\n",
       "      <td>...</td>\n",
       "      <td>...</td>\n",
       "      <td>...</td>\n",
       "      <td>...</td>\n",
       "      <td>...</td>\n",
       "      <td>...</td>\n",
       "      <td>...</td>\n",
       "      <td>...</td>\n",
       "      <td>...</td>\n",
       "      <td>...</td>\n",
       "      <td>...</td>\n",
       "      <td>...</td>\n",
       "      <td>...</td>\n",
       "      <td>...</td>\n",
       "      <td>...</td>\n",
       "      <td>...</td>\n",
       "      <td>...</td>\n",
       "      <td>...</td>\n",
       "    </tr>\n",
       "    <tr>\n",
       "      <th>3141</th>\n",
       "      <td>0</td>\n",
       "      <td>0</td>\n",
       "      <td>0</td>\n",
       "      <td>0</td>\n",
       "      <td>0</td>\n",
       "      <td>0</td>\n",
       "      <td>0</td>\n",
       "      <td>0</td>\n",
       "      <td>0</td>\n",
       "      <td>0</td>\n",
       "      <td>...</td>\n",
       "      <td>0</td>\n",
       "      <td>0</td>\n",
       "      <td>0</td>\n",
       "      <td>0</td>\n",
       "      <td>0</td>\n",
       "      <td>0</td>\n",
       "      <td>0</td>\n",
       "      <td>0</td>\n",
       "      <td>0</td>\n",
       "      <td>0</td>\n",
       "    </tr>\n",
       "    <tr>\n",
       "      <th>3142</th>\n",
       "      <td>0</td>\n",
       "      <td>0</td>\n",
       "      <td>0</td>\n",
       "      <td>0</td>\n",
       "      <td>0</td>\n",
       "      <td>0</td>\n",
       "      <td>0</td>\n",
       "      <td>0</td>\n",
       "      <td>0</td>\n",
       "      <td>0</td>\n",
       "      <td>...</td>\n",
       "      <td>0</td>\n",
       "      <td>0</td>\n",
       "      <td>0</td>\n",
       "      <td>0</td>\n",
       "      <td>0</td>\n",
       "      <td>0</td>\n",
       "      <td>0</td>\n",
       "      <td>0</td>\n",
       "      <td>0</td>\n",
       "      <td>0</td>\n",
       "    </tr>\n",
       "    <tr>\n",
       "      <th>3143</th>\n",
       "      <td>0</td>\n",
       "      <td>0</td>\n",
       "      <td>0</td>\n",
       "      <td>0</td>\n",
       "      <td>0</td>\n",
       "      <td>0</td>\n",
       "      <td>0</td>\n",
       "      <td>0</td>\n",
       "      <td>0</td>\n",
       "      <td>0</td>\n",
       "      <td>...</td>\n",
       "      <td>0</td>\n",
       "      <td>0</td>\n",
       "      <td>0</td>\n",
       "      <td>0</td>\n",
       "      <td>0</td>\n",
       "      <td>0</td>\n",
       "      <td>0</td>\n",
       "      <td>0</td>\n",
       "      <td>0</td>\n",
       "      <td>0</td>\n",
       "    </tr>\n",
       "    <tr>\n",
       "      <th>3144</th>\n",
       "      <td>0</td>\n",
       "      <td>0</td>\n",
       "      <td>0</td>\n",
       "      <td>0</td>\n",
       "      <td>0</td>\n",
       "      <td>0</td>\n",
       "      <td>0</td>\n",
       "      <td>0</td>\n",
       "      <td>0</td>\n",
       "      <td>0</td>\n",
       "      <td>...</td>\n",
       "      <td>0</td>\n",
       "      <td>0</td>\n",
       "      <td>0</td>\n",
       "      <td>0</td>\n",
       "      <td>0</td>\n",
       "      <td>0</td>\n",
       "      <td>0</td>\n",
       "      <td>0</td>\n",
       "      <td>0</td>\n",
       "      <td>0</td>\n",
       "    </tr>\n",
       "    <tr>\n",
       "      <th>3145</th>\n",
       "      <td>0</td>\n",
       "      <td>0</td>\n",
       "      <td>0</td>\n",
       "      <td>0</td>\n",
       "      <td>0</td>\n",
       "      <td>0</td>\n",
       "      <td>0</td>\n",
       "      <td>0</td>\n",
       "      <td>0</td>\n",
       "      <td>0</td>\n",
       "      <td>...</td>\n",
       "      <td>0</td>\n",
       "      <td>0</td>\n",
       "      <td>0</td>\n",
       "      <td>0</td>\n",
       "      <td>0</td>\n",
       "      <td>0</td>\n",
       "      <td>0</td>\n",
       "      <td>0</td>\n",
       "      <td>0</td>\n",
       "      <td>0</td>\n",
       "    </tr>\n",
       "  </tbody>\n",
       "</table>\n",
       "<p>3146 rows × 17576 columns</p>\n",
       "</div>"
      ],
      "text/plain": [
       "      joan  stanley  three  child  peter  never  married  lived  together  \\\n",
       "0        0        0      0      0      0      0        0      0         0   \n",
       "1        0        0      0      0      0      0        0      0         0   \n",
       "2        0        0      0      0      0      0        0      0         0   \n",
       "3        0        0      0      0      0      0        0      0         0   \n",
       "4        0        0      0      0      0      0        0      0         0   \n",
       "...    ...      ...    ...    ...    ...    ...      ...    ...       ...   \n",
       "3141     0        0      0      0      0      0        0      0         0   \n",
       "3142     0        0      0      0      0      0        0      0         0   \n",
       "3143     0        0      0      0      0      0        0      0         0   \n",
       "3144     0        0      0      0      0      0        0      0         0   \n",
       "3145     0        0      0      0      0      0        0      0         0   \n",
       "\n",
       "      year  ...  aquino  aguilera  rios  tarahrick  cooley  saylor  icra  717  \\\n",
       "0        0  ...       0         0     0          0       0       0     0    0   \n",
       "1        0  ...       0         0     0          0       0       0     0    0   \n",
       "2        0  ...       0         0     0          0       0       0     0    0   \n",
       "3        0  ...       0         0     0          0       0       0     0    0   \n",
       "4        0  ...       0         0     0          0       0       0     0    0   \n",
       "...    ...  ...     ...       ...   ...        ...     ...     ...   ...  ...   \n",
       "3141     0  ...       0         0     0          0       0       0     0    0   \n",
       "3142     0  ...       0         0     0          0       0       0     0    0   \n",
       "3143     0  ...       0         0     0          0       0       0     0    0   \n",
       "3144     0  ...       0         0     0          0       0       0     0    0   \n",
       "3145     0  ...       0         0     0          0       0       0     0    0   \n",
       "\n",
       "      717z  penneast  \n",
       "0        0         0  \n",
       "1        0         0  \n",
       "2        0         0  \n",
       "3        0         0  \n",
       "4        0         0  \n",
       "...    ...       ...  \n",
       "3141     0         0  \n",
       "3142     0         0  \n",
       "3143     0         0  \n",
       "3144     0         0  \n",
       "3145     0         0  \n",
       "\n",
       "[3146 rows x 17576 columns]"
      ]
     },
     "execution_count": 27,
     "metadata": {},
     "output_type": "execute_result"
    }
   ],
   "source": [
    "counts_df"
   ]
  },
  {
<<<<<<< HEAD
   "cell_type": "code",
   "execution_count": 28,
   "metadata": {},
   "outputs": [
    {
     "data": {
      "text/plain": [
       "0.6586141131595677"
      ]
     },
     "execution_count": 28,
     "metadata": {},
     "output_type": "execute_result"
    }
   ],
   "source": [
    "cases.first_party_winner.mean()\n"
   ]
  },
  {
=======
>>>>>>> f12a9fdf94efc610f8fa156a0855c696d62f88cd
   "cell_type": "markdown",
   "metadata": {},
   "source": [
    "#### Cases By Term"
   ]
  },
  {
   "cell_type": "code",
   "execution_count": 29,
   "metadata": {},
   "outputs": [
    {
     "data": {
      "text/plain": [
       "Text(0, 0.5, 'count')"
      ]
     },
     "execution_count": 29,
     "metadata": {},
     "output_type": "execute_result"
    },
    {
     "data": {
      "image/png": "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",
      "text/plain": [
       "<Figure size 640x480 with 1 Axes>"
      ]
     },
     "metadata": {},
     "output_type": "display_data"
    }
   ],
   "source": [
    "ax = cases.feat_term.hist(color = 'skyblue', grid = False)\n",
    "ax.set_title('Histogram of Cases by Term')\n",
    "ax.set_xlabel('Term')\n",
    "ax.set_ylabel('count')"
   ]
  },
  {
   "cell_type": "markdown",
   "metadata": {},
   "source": [
    "From this histogram, we can see that the vast majority of the cases in this data set happened between 1950 and 2023"
   ]
  },
  {
   "cell_type": "markdown",
   "metadata": {},
   "source": [
    "#### First Party Winners"
   ]
  },
  {
   "cell_type": "code",
   "execution_count": 30,
   "metadata": {},
   "outputs": [
    {
     "data": {
      "text/plain": [
<<<<<<< HEAD
       "([<matplotlib.axis.XTick at 0x230152592d0>,\n",
       "  <matplotlib.axis.XTick at 0x230152592a0>],\n",
=======
       "([<matplotlib.axis.XTick at 0x128841650>,\n",
       "  <matplotlib.axis.XTick at 0x1288408d0>],\n",
>>>>>>> f12a9fdf94efc610f8fa156a0855c696d62f88cd
       " [Text(0, 0, 'False'), Text(1, 0, 'True')])"
      ]
     },
     "execution_count": 30,
     "metadata": {},
     "output_type": "execute_result"
    },
    {
     "data": {
      "image/png": "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",
      "text/plain": [
       "<Figure size 640x480 with 1 Axes>"
      ]
     },
     "metadata": {},
     "output_type": "display_data"
    }
   ],
   "source": [
    "winner_counts = cases.first_party_winner.value_counts()\n",
    " \n",
    "\n",
    "plt.figure()\n",
    "plt.bar(winner_counts.index, winner_counts, color = ['skyblue', 'purple'])\n",
    "plt.title('Count Plot of First party winner')\n",
    "plt.xlabel('First party winner')\n",
    "plt.ylabel('Count')\n",
    "plt.xticks( [0,1], [False, True])"
   ]
  },
  {
   "cell_type": "code",
   "execution_count": 31,
<<<<<<< HEAD
=======
   "metadata": {},
   "outputs": [
    {
     "data": {
      "text/plain": [
       "0.6586141131595677"
      ]
     },
     "execution_count": 31,
     "metadata": {},
     "output_type": "execute_result"
    }
   ],
   "source": [
    "cases.first_party_winner.mean()"
   ]
  },
  {
   "cell_type": "markdown",
   "metadata": {},
   "source": [
    "From the above graph as well as the previous code chunk, we can see that for the majority of these supreme coiurt cases, the appellant wins. This is true for about 66% of the time. "
   ]
  },
  {
   "cell_type": "markdown",
   "metadata": {},
   "source": [
    "Now, we want to look at how that percentage changes by issue area:"
   ]
  },
  {
   "cell_type": "code",
   "execution_count": 32,
>>>>>>> f12a9fdf94efc610f8fa156a0855c696d62f88cd
   "metadata": {},
   "outputs": [
    {
     "data": {
      "image/png": "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",
      "text/plain": [
       "<Figure size 640x480 with 1 Axes>"
      ]
     },
     "metadata": {},
     "output_type": "display_data"
    }
   ],
   "source": [
    "issue_counts = cases2.issue_area.value_counts()\n",
    "issue_true = cases2[cases2.first_party_winner == True].issue_area.value_counts()\n",
    "issue_false = cases2[cases2.first_party_winner == False].issue_area.value_counts()\n",
    "\n",
    "bar_width = 0.35\n",
    "bar_p1 = np.arange(len(issue_counts.index))\n",
    "bar_p2 = bar_p1 + bar_width\n",
    "\n",
    "plt.bar(bar_p1, issue_true, width=bar_width, label='First Party Won', color='skyblue')\n",
    "plt.bar(bar_p2, issue_false, width=bar_width, label='First Party Lost', color='purple')\n",
    "plt.xlabel('Issue Area')\n",
    "plt.ylabel('Count')\n",
    "plt.xticks(bar_p1 + bar_width/2, issue_counts.index.tolist(), rotation = 90)\n",
    "plt.title('Bar Graph of count of Issue Areas by Outcome')\n",
    "plt.legend()\n",
    "plt.show()"
   ]
  },
  {
   "cell_type": "markdown",
   "metadata": {},
   "source": [
    "This graph allows us to compare the number of cases in each issue area where the first party won to those where the first party lost. To get the percent of times the first party won for each area, we run to following code:"
   ]
  },
  {
   "cell_type": "code",
<<<<<<< HEAD
   "execution_count": 32,
=======
   "execution_count": 33,
>>>>>>> f12a9fdf94efc610f8fa156a0855c696d62f88cd
   "metadata": {},
   "outputs": [
    {
     "data": {
      "text/plain": [
       "issue_area\n",
       "Attorneys               0.729730\n",
       "Civil Rights            0.658451\n",
       "Criminal Procedure      0.690338\n",
       "Due Process             0.671875\n",
       "Economic Activity       0.652495\n",
       "Federal Taxation        0.568627\n",
       "Federalism              0.552000\n",
       "First Amendment         0.662890\n",
       "Interstate Relations    0.500000\n",
       "Judicial Power          0.624633\n",
       "Miscellaneous           0.450000\n",
       "Privacy                 0.700000\n",
       "Private Action          0.500000\n",
       "Unions                  0.616667\n",
       "Name: first_party_winner, dtype: float64"
      ]
     },
<<<<<<< HEAD
     "execution_count": 32,
=======
     "execution_count": 33,
>>>>>>> f12a9fdf94efc610f8fa156a0855c696d62f88cd
     "metadata": {},
     "output_type": "execute_result"
    }
   ],
   "source": [
    "cases2.groupby(['issue_area'])['first_party_winner'].apply(lambda x: x.mean())"
   ]
  },
  {
   "cell_type": "markdown",
   "metadata": {},
   "source": [
    "There seem to be slight differences in the percentages by issue area, these might be significant. We will inculde factor this in future models. "
   ]
  },
  {
   "cell_type": "code",
<<<<<<< HEAD
   "execution_count": 33,
=======
   "execution_count": 34,
>>>>>>> f12a9fdf94efc610f8fa156a0855c696d62f88cd
   "metadata": {},
   "outputs": [
    {
     "data": {
      "image/png": "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",
      "text/plain": [
       "<Figure size 640x480 with 1 Axes>"
      ]
     },
     "metadata": {},
     "output_type": "display_data"
    }
   ],
   "source": [
    "ideology_counts = cases.ratio_conservative_to_liberal.value_counts()\n",
    "ideology_true = cases[cases.first_party_winner == True].ratio_conservative_to_liberal.value_counts()\n",
    "ideology_false = cases[cases.first_party_winner == False].ratio_conservative_to_liberal.value_counts()\n",
    "\n",
    "bar_width = 0.4\n",
    "bar_p1 = np.arange(len(ideology_counts.index))\n",
    "bar_p2 = bar_p1 + bar_width\n",
    "loc = bar_p1 + bar_width/2\n",
    "rounded_ideology_ratios = [round(x,2) for x in ideology_counts.index.tolist()] \n",
    "\n",
    "\n",
    "plt.bar(bar_p1, ideology_true, width=bar_width, label='First Party Won', color='skyblue')\n",
    "plt.bar(bar_p2, ideology_false, width=bar_width, label='First Party Lost', color='purple')\n",
    "plt.xlabel('Ratio of Conservative to Liberal Judge Ideologies')\n",
    "plt.ylabel('Count')\n",
    "plt.xticks(loc, rounded_ideology_ratios, rotation = 90)\n",
    "plt.title('Bar Graph of count of Ratio of Conservative to Liberal Judge Ideologies by Outcome')\n",
    "plt.legend()\n",
    "plt.show()"
   ]
  },
  {
   "cell_type": "code",
<<<<<<< HEAD
   "execution_count": 34,
=======
   "execution_count": 35,
>>>>>>> f12a9fdf94efc610f8fa156a0855c696d62f88cd
   "metadata": {},
   "outputs": [
    {
     "data": {
      "text/plain": [
       "ratio_conservative_to_liberal\n",
       "0.285714    0.833333\n",
       "0.428571    0.722222\n",
       "0.666667    0.691176\n",
       "0.800000    0.758621\n",
       "0.833333    0.842105\n",
       "1.000000    0.594595\n",
       "1.250000    0.655285\n",
       "1.500000    0.688889\n",
       "2.000000    0.733333\n",
       "2.333333    0.735043\n",
       "3.500000    0.637199\n",
       "4.000000    0.657492\n",
       "4.500000    0.591837\n",
       "8.000000    0.586207\n",
       "Name: first_party_winner, dtype: float64"
      ]
     },
<<<<<<< HEAD
     "execution_count": 34,
=======
     "execution_count": 35,
>>>>>>> f12a9fdf94efc610f8fa156a0855c696d62f88cd
     "metadata": {},
     "output_type": "execute_result"
    }
   ],
   "source": [
    "cases.groupby(['ratio_conservative_to_liberal'])['first_party_winner'].apply(lambda x: x.mean())"
   ]
  },
  {
   "cell_type": "markdown",
   "metadata": {},
   "source": [
    "There seem to be slight differences in the percentages by ratio of ideology, these might be significant. We can inculde factor this in future models. "
   ]
  },
  {
   "cell_type": "markdown",
   "metadata": {},
   "source": [
    "#### Word Counts"
   ]
  },
  {
   "cell_type": "markdown",
   "metadata": {},
   "source": [
    "Now we will look at the most commonly used words in the case facts:"
   ]
  },
  {
   "cell_type": "code",
   "execution_count": 50,
   "metadata": {},
   "outputs": [
    {
     "data": {
      "text/plain": [
       "Text(0, 0.5, 'Count')"
      ]
     },
     "execution_count": 50,
     "metadata": {},
     "output_type": "execute_result"
    },
    {
     "data": {
      "image/png": "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",
      "text/plain": [
       "<Figure size 640x480 with 1 Axes>"
      ]
     },
     "metadata": {},
     "output_type": "display_data"
    }
   ],
   "source": [
    "sums = counts_df.sum()\n",
    "\n",
    "fig, ax = plt.subplots()\n",
    "ax.bar(sums.index[sums > 900],sorted(sums[sums >900], reverse = True), color = 'pink')\n",
    "ax.xaxis.set_tick_params(rotation=90, labelsize = 10)\n",
    "ax.set_xlabel('Word')\n",
    "ax.set_ylabel('Count')\n"
   ]
  },
  {
   "cell_type": "markdown",
   "metadata": {},
   "source": [
    "Here we can see that the most common word used in the case facts is gravel followed by played and then developing. "
   ]
  },
  {
   "cell_type": "code",
   "execution_count": 38,
   "metadata": {},
   "outputs": [
    {
     "data": {
      "image/png": "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",
      "text/plain": [
       "<Figure size 640x480 with 1 Axes>"
      ]
     },
     "metadata": {},
     "output_type": "display_data"
    }
   ],
   "source": [
    "sums = counts_df.sum()\n",
    "sums.sort_values(ascending=False, inplace=True)\n",
    "\n",
    "fig, ax = plt.subplots()\n",
    "ax.bar(sums.index[sums > 700],sums[sums >700])\n",
    "ax.xaxis.set_tick_params(rotation=90, labelsize = 8)"
   ]
  },
  {
   "cell_type": "markdown",
   "metadata": {},
   "source": [
    "## Modeling"
   ]
  },
  {
   "cell_type": "markdown",
   "metadata": {},
   "source": [
    "#### Baseline Model"
   ]
  },
  {
   "cell_type": "code",
   "execution_count": 261,
   "metadata": {},
   "outputs": [
    {
     "data": {
      "text/plain": [
       "disposition\n",
       "reversed/remanded            1052\n",
       "affirmed                      967\n",
       "reversed                      563\n",
       "vacated/remanded              417\n",
       "reversed in-part/remanded      61\n",
       "reversed in-part               19\n",
       "vacated                         6\n",
       "vacated in-part/remanded        5\n",
       "Name: count, dtype: int64"
      ]
     },
     "execution_count": 261,
     "metadata": {},
     "output_type": "execute_result"
    }
   ],
   "source": [
    "cases.value_counts(\"disposition\")"
   ]
  },
  {
   "cell_type": "markdown",
   "metadata": {},
   "source": [
    "What do these disposition terms mean exactly?\n",
    "* Reversed/Remanded: The Supreme Court disagrees with the decision of the lower court and sent it back for further consideration. \n",
    "* Affirmed: The Supreme Court agrees and upholds the lower court's decision.\n",
    "* Vacated/Remanded: The Supreme Court nullified the decision of the lower court and sent it back for further consideration.\n",
    "* Reversed-in-Part: The Supreme Court partially disagreed with the decision of the lower court but did not send the case back for further consideration.\n",
    "* Vacated: The Supreme Court nullified the decision of the lower court without sending it back for further consideration.\n",
    "* Vacated-in-Part/Remanded: The Supreme Court nullified part of the decision of the lower court and sent it back for further consideration.\n",
    "\n",
    "> Therefore, we are going to assume that our justice system gets things right well enough (if only!) to the point where there is no form of reversal ruling. "
   ]
  },
  {
   "cell_type": "code",
   "execution_count": 262,
   "metadata": {},
   "outputs": [
    {
     "name": "stdout",
     "output_type": "stream",
     "text": [
      "0.6401780038143674\n"
     ]
    }
   ],
   "source": [
    "from sklearn.model_selection import train_test_split\n",
    "\n",
    "null_acc = cases[(cases.disposition != \"reversed/remanded\") & (cases.disposition != \"reversed in-part/remanded\") & (cases.disposition != \"reversed in-part\")].count()[1] / len(cases)\n",
    "print(null_acc)"
   ]
  },
  {
   "cell_type": "markdown",
   "metadata": {},
   "source": [
    "**<null style=\"color:red;\">SCORE TO BEAT:</null>** 64.0% Accuracy"
   ]
  },
  {
   "cell_type": "markdown",
   "metadata": {},
   "source": [
    " Here, we see that the accuracy of this null model is around the same for the test and training data at about 66%. The sensitivity of the null model is 1 because it will never predict 0 for the target value and will always catch when it should be a 1. The Specificity is 0 because the null model will always assume 1 for the target value when it should be 0."
   ]
  },
  {
   "cell_type": "code",
   "execution_count": 263,
   "metadata": {},
   "outputs": [],
   "source": [
    "from sklearn.pipeline import Pipeline\n",
    "from sklearn.linear_model import LogisticRegression\n",
    "from sklearn.tree import DecisionTreeClassifier\n",
    "from sklearn.ensemble import RandomForestClassifier\n",
    "from sklearn.neighbors import KNeighborsClassifier\n",
    "from sklearn.metrics import accuracy_score"
   ]
  },
  {
   "cell_type": "markdown",
   "metadata": {},
   "source": [
    "#### Features without NLP"
   ]
  },
  {
   "cell_type": "code",
   "execution_count": 264,
   "metadata": {},
   "outputs": [],
   "source": [
    "features = cases[[\"feat_term\", \"feat_conservative\", \"feat_liberal\", \"feat_neutral\", \"ratio_conservative_to_liberal\", 'Attorneys', 'Civil Rights', 'Criminal Procedure', 'Due Process',\n",
    "       'Economic Activity', 'Federal Taxation', 'Federalism',\n",
    "       'First Amendment', 'Interstate Relations', 'Judicial Power',\n",
    "       'Miscellaneous', 'Privacy', 'Private Action', 'Unions']]\n",
    "targets = cases['first_party_winner']"
   ]
  },
  {
   "cell_type": "code",
   "execution_count": 265,
   "metadata": {},
   "outputs": [],
   "source": [
    "X_train, X_test, y_train, y_test = train_test_split(features, targets, test_size=0.2, random_state=27)"
   ]
  },
  {
   "cell_type": "markdown",
   "metadata": {},
   "source": [
    "##### Logistic Regression"
   ]
  },
  {
   "cell_type": "code",
   "execution_count": 266,
   "metadata": {},
   "outputs": [
    {
     "name": "stdout",
     "output_type": "stream",
     "text": [
      "0.6565977742448331\n",
      "0.6666666666666666\n"
     ]
    }
   ],
   "source": [
    "clf = LogisticRegression(random_state=27).fit(X_train, y_train)\n",
    "print(clf.score(X_train, y_train))\n",
    "print(clf.score(X_test, y_test))"
   ]
  },
  {
   "cell_type": "markdown",
   "metadata": {},
   "source": [
    "The logistic regression model scored about 65.6% accuracy on the training data and 66.7% on the test data."
   ]
  },
  {
   "cell_type": "markdown",
   "metadata": {},
   "source": [
    "##### Decision Tree"
   ]
  },
  {
   "cell_type": "code",
   "execution_count": 267,
   "metadata": {},
   "outputs": [
    {
     "name": "stdout",
     "output_type": "stream",
     "text": [
      "0.7273449920508744\n",
      "0.5936507936507937\n"
     ]
    }
   ],
   "source": [
    "dt = DecisionTreeClassifier(random_state=27).fit(X_train, y_train)\n",
    "print(dt.score(X_train, y_train))\n",
    "print(dt.score(X_test, y_test))"
   ]
  },
  {
   "cell_type": "markdown",
   "metadata": {},
   "source": [
    "The decision tree did pretty well on the training data, increasing the accuracy to about 73%, but it did not do well on the test data."
   ]
  },
  {
   "cell_type": "markdown",
   "metadata": {},
   "source": [
    "##### Random Forest"
   ]
  },
  {
   "cell_type": "code",
   "execution_count": 268,
   "metadata": {},
   "outputs": [
    {
     "name": "stdout",
     "output_type": "stream",
     "text": [
      "0.7273449920508744\n",
      "0.5952380952380952\n"
     ]
    }
   ],
   "source": [
    "rf = RandomForestClassifier(random_state=27).fit(X_train, y_train)\n",
    "print(rf.score(X_train, y_train))\n",
    "print(rf.score(X_test, y_test))"
   ]
  },
  {
   "cell_type": "markdown",
   "metadata": {},
   "source": [
    "Like the decision tree, the random forest did well on the training data, but no so well on the test data."
   ]
  },
  {
   "cell_type": "markdown",
   "metadata": {},
   "source": [
    "##### K-Nearest Neighbor"
   ]
  },
  {
   "cell_type": "code",
   "execution_count": 269,
   "metadata": {},
   "outputs": [
    {
     "name": "stdout",
     "output_type": "stream",
     "text": [
      "0.6864069952305246\n",
      "0.6063492063492063\n"
     ]
    }
   ],
   "source": [
    "knn = KNeighborsClassifier().fit(X_train, y_train)\n",
    "knn_X_train = X_train.to_numpy()\n",
    "knn_X_test = X_test.to_numpy()\n",
    "print(knn.score(knn_X_train, y_train))\n",
    "print(knn.score(knn_X_test, y_test))\n"
   ]
  },
  {
   "cell_type": "markdown",
   "metadata": {},
   "source": [
    "K-nearest neighbor model had slightly improved accuracy for the training data as compared to the null model, but performed worse on the test data."
   ]
  },
  {
   "cell_type": "markdown",
   "metadata": {},
   "source": [
    "#### NLP Extraction without Features"
   ]
  },
  {
   "cell_type": "code",
   "execution_count": 270,
   "metadata": {},
   "outputs": [],
   "source": [
    "features = cases[\"cleaned_facts\"]"
   ]
  },
  {
   "cell_type": "code",
   "execution_count": 271,
   "metadata": {},
   "outputs": [],
   "source": [
    "X_train, X_test, y_train, y_test = train_test_split(features, targets, test_size=0.2, random_state=27)"
   ]
  },
  {
   "cell_type": "markdown",
   "metadata": {},
   "source": [
    "##### Logistic Regression"
   ]
  },
  {
   "cell_type": "code",
   "execution_count": 272,
   "metadata": {},
   "outputs": [],
   "source": [
    "pipe_count_lr = Pipeline(steps=[('cv', CountVectorizer()),('lr', LogisticRegression(solver='liblinear'))])\n",
    "pipe_tfidf_lr = Pipeline(steps=[('tfidfv', TfidfVectorizer()),('lr', LogisticRegression(solver='liblinear'))])"
   ]
  },
  {
   "cell_type": "code",
   "execution_count": 273,
   "metadata": {},
   "outputs": [
    {
     "name": "stdout",
     "output_type": "stream",
     "text": [
      "1.0\n",
      "0.5777777777777777\n"
     ]
    }
   ],
   "source": [
    "pipe_count_lr.fit(X_train, y_train)\n",
    "print(pipe_count_lr.score(X_train, y_train))\n",
    "print(pipe_count_lr.score(X_test, y_test))"
   ]
  },
  {
   "cell_type": "code",
   "execution_count": 274,
   "metadata": {},
   "outputs": [
    {
     "name": "stdout",
     "output_type": "stream",
     "text": [
      "0.7452305246422893\n",
      "0.6666666666666666\n"
     ]
    }
   ],
   "source": [
    "pipe_tfidf_lr.fit(X_train, y_train)\n",
    "print(pipe_tfidf_lr.score(X_train, y_train))\n",
    "print(pipe_tfidf_lr.score(X_test, y_test))"
   ]
  },
  {
   "cell_type": "markdown",
   "metadata": {},
   "source": [
    "##### Decision Tree"
   ]
  },
  {
   "cell_type": "code",
   "execution_count": 275,
   "metadata": {},
   "outputs": [],
   "source": [
    "pipe_count_dt = Pipeline(steps=[('cv', CountVectorizer()),('dt', DecisionTreeClassifier(random_state=27))])\n",
    "pipe_tfidf_dt = Pipeline(steps=[('tfidfv', TfidfVectorizer()),('dt', DecisionTreeClassifier(random_state=27))])"
   ]
  },
  {
   "cell_type": "code",
   "execution_count": 276,
   "metadata": {},
   "outputs": [
    {
     "name": "stdout",
     "output_type": "stream",
     "text": [
      "1.0\n",
      "0.573015873015873\n"
     ]
    }
   ],
   "source": [
    "pipe_count_dt.fit(X_train, y_train)\n",
    "print(pipe_count_dt.score(X_train, y_train))\n",
    "print(pipe_count_dt.score(X_test, y_test))"
   ]
  },
  {
   "cell_type": "code",
   "execution_count": 277,
   "metadata": {},
   "outputs": [
    {
     "name": "stdout",
     "output_type": "stream",
     "text": [
      "1.0\n",
      "0.553968253968254\n"
     ]
    }
   ],
   "source": [
    "pipe_tfidf_dt.fit(X_train, y_train)\n",
    "print(pipe_tfidf_dt.score(X_train, y_train))\n",
    "print(pipe_tfidf_dt.score(X_test, y_test))"
   ]
  },
  {
   "cell_type": "markdown",
   "metadata": {},
   "source": [
    "##### Random Forest\n"
   ]
  },
  {
   "cell_type": "code",
   "execution_count": 278,
   "metadata": {},
   "outputs": [],
   "source": [
    "pipe_count_rf = Pipeline(steps=[('cv', CountVectorizer()),('rf', RandomForestClassifier(random_state=27))])\n",
    "pipe_tfidf_rf = Pipeline(steps=[('tfidfv', TfidfVectorizer()),('rf', RandomForestClassifier(random_state=27))])"
   ]
  },
  {
   "cell_type": "code",
   "execution_count": 279,
   "metadata": {},
   "outputs": [
    {
     "name": "stdout",
     "output_type": "stream",
     "text": [
      "1.0\n",
      "0.6682539682539682\n"
     ]
    }
   ],
   "source": [
    "pipe_count_rf.fit(X_train, y_train)\n",
    "print(pipe_count_rf.score(X_train, y_train))\n",
    "print(pipe_count_rf.score(X_test, y_test))"
   ]
  },
  {
   "cell_type": "code",
   "execution_count": 280,
   "metadata": {},
   "outputs": [
    {
     "name": "stdout",
     "output_type": "stream",
     "text": [
      "1.0\n",
      "0.6571428571428571\n"
     ]
    }
   ],
   "source": [
    "pipe_tfidf_rf.fit(X_train, y_train)\n",
    "print(pipe_tfidf_rf.score(X_train, y_train))\n",
    "print(pipe_tfidf_rf.score(X_test, y_test))"
   ]
  },
  {
   "cell_type": "markdown",
   "metadata": {},
   "source": [
    "##### K-Nearest Neighbors"
   ]
  },
  {
   "cell_type": "code",
   "execution_count": 281,
   "metadata": {},
   "outputs": [],
   "source": [
    "pipe_count_knn = Pipeline(steps=[('cv', CountVectorizer()),('knn', KNeighborsClassifier())])\n",
    "pipe_tfidf_knn = Pipeline(steps=[('tfidfv', TfidfVectorizer()),('knn', KNeighborsClassifier())])"
   ]
  },
  {
   "cell_type": "code",
   "execution_count": 282,
   "metadata": {},
   "outputs": [],
   "source": [
    "knn_X_train = X_train.to_numpy()\n",
    "knn_X_test = X_test.to_numpy()"
   ]
  },
  {
   "cell_type": "code",
   "execution_count": 283,
   "metadata": {},
   "outputs": [
    {
     "name": "stdout",
     "output_type": "stream",
     "text": [
      "0.7217806041335453\n",
      "0.6349206349206349\n"
     ]
    }
   ],
   "source": [
    "pipe_count_knn.fit(X_train, y_train)\n",
    "print(pipe_count_knn.score(knn_X_train, y_train))\n",
    "print(pipe_count_knn.score(knn_X_test, y_test))"
   ]
  },
  {
   "cell_type": "code",
   "execution_count": 284,
   "metadata": {},
   "outputs": [
    {
     "name": "stdout",
     "output_type": "stream",
     "text": [
      "0.7424483306836248\n",
      "0.5603174603174603\n"
     ]
    }
   ],
   "source": [
    "pipe_tfidf_knn.fit(X_train, y_train)\n",
    "print(pipe_tfidf_knn.score(knn_X_train, y_train))\n",
    "print(pipe_tfidf_knn.score(knn_X_test, y_test))"
   ]
  },
  {
   "cell_type": "markdown",
   "metadata": {},
   "source": [
    "#### Combine BOW Vectors with Features"
   ]
  },
  {
   "cell_type": "code",
   "execution_count": 285,
   "metadata": {},
   "outputs": [],
   "source": [
    "facts_count_vectorized = count_vectorizer.fit_transform(cases[\"cleaned_facts\"]) \n",
    "dense_counts_vector_array = facts_count_vectorized.toarray()\n",
    "counts_df = pd.DataFrame(dense_counts_vector_array, columns = count_vectorizer.vocabulary_.keys())"
   ]
  },
  {
   "cell_type": "code",
   "execution_count": 286,
   "metadata": {},
   "outputs": [],
   "source": [
    "facts_tfidf_vectorized = tfidf_vectorizer.fit_transform(cases[\"cleaned_facts\"]) \n",
    "dense_tfidf_vector_array = facts_tfidf_vectorized.toarray()\n",
    "tfidf_df = pd.DataFrame(dense_tfidf_vector_array, columns = tfidf_vectorizer.vocabulary_.keys())"
   ]
  },
  {
   "cell_type": "code",
   "execution_count": 287,
   "metadata": {},
   "outputs": [],
   "source": [
    "counts_features_df = pd.concat([counts_df, cases], axis=1, join=\"inner\")\n",
    "tfidf_features_df = pd.concat([tfidf_df, cases], axis=1, join=\"inner\")"
   ]
  },
  {
   "cell_type": "code",
   "execution_count": 288,
   "metadata": {},
   "outputs": [],
   "source": [
    "log_reg = LogisticRegression()\n",
    "rf = RandomForestClassifier()"
   ]
  },
  {
   "cell_type": "code",
   "execution_count": 289,
   "metadata": {},
   "outputs": [],
   "source": [
    "unncessary_cols = [\"name\", \"first_party\", \"second_party\", \"facts\", \"cleaned_facts\", \"majority_vote\", \"minority_vote\", \"first_party_winner\", \"disposition\"]\n",
    "counts_features = counts_features_df.loc[:, ~counts_features_df.columns.isin(unncessary_cols)]\n",
    "tfidf_features = tfidf_features_df.loc[:, ~tfidf_features_df.columns.isin(unncessary_cols)]\n",
    "targets = counts_features_df.loc[:, \"first_party_winner\"]"
   ]
  },
  {
   "cell_type": "code",
   "execution_count": 290,
   "metadata": {},
   "outputs": [],
   "source": [
    "Xc_train, Xc_test, yc_train, yc_test = train_test_split(counts_features, targets, test_size=0.2, random_state=27)\n",
    "Xt_train, Xt_test, yt_train, yt_test = train_test_split(tfidf_features, targets, test_size=0.2, random_state=27)"
   ]
  },
  {
   "cell_type": "markdown",
   "metadata": {},
   "source": [
    "##### Grid Search LR"
   ]
  },
  {
   "cell_type": "code",
   "execution_count": 127,
   "metadata": {},
   "outputs": [],
   "source": [
    "from sklearn.model_selection import GridSearchCV"
   ]
  },
  {
   "cell_type": "code",
   "execution_count": 292,
   "metadata": {},
   "outputs": [],
   "source": [
    "lr_param_grid = {\n",
    "    \"penalty\":[\"l1\", \"l2\", \"elasticnet\"],\n",
    "    \"solver\":[\"lbfgs\", \"liblinear\"],\n",
    "    \"C\": [0.001, 0.01, 0.1, 1],\n",
    "}\n",
    "\n",
    "grid_search = GridSearchCV(estimator=log_reg, param_grid=lr_param_grid, cv=5, verbose=10)"
   ]
  },
  {
   "cell_type": "code",
   "execution_count": 293,
   "metadata": {},
   "outputs": [
    {
     "name": "stdout",
     "output_type": "stream",
     "text": [
      "Fitting 5 folds for each of 24 candidates, totalling 120 fits\n",
      "[CV 1/5; 1/24] START C=0.001, penalty=l1, solver=lbfgs..........................\n",
      "[CV 1/5; 1/24] END C=0.001, penalty=l1, solver=lbfgs;, score=nan total time=   0.0s\n",
      "[CV 2/5; 1/24] START C=0.001, penalty=l1, solver=lbfgs..........................\n",
      "[CV 2/5; 1/24] END C=0.001, penalty=l1, solver=lbfgs;, score=nan total time=   0.0s\n",
      "[CV 3/5; 1/24] START C=0.001, penalty=l1, solver=lbfgs..........................\n",
      "[CV 3/5; 1/24] END C=0.001, penalty=l1, solver=lbfgs;, score=nan total time=   0.0s\n",
      "[CV 4/5; 1/24] START C=0.001, penalty=l1, solver=lbfgs..........................\n",
      "[CV 4/5; 1/24] END C=0.001, penalty=l1, solver=lbfgs;, score=nan total time=   0.0s\n",
      "[CV 5/5; 1/24] START C=0.001, penalty=l1, solver=lbfgs..........................\n",
      "[CV 5/5; 1/24] END C=0.001, penalty=l1, solver=lbfgs;, score=nan total time=   0.0s\n",
      "[CV 1/5; 2/24] START C=0.001, penalty=l1, solver=liblinear......................\n",
      "[CV 1/5; 2/24] END C=0.001, penalty=l1, solver=liblinear;, score=0.658 total time=   0.8s\n",
      "[CV 2/5; 2/24] START C=0.001, penalty=l1, solver=liblinear......................\n",
      "[CV 2/5; 2/24] END C=0.001, penalty=l1, solver=liblinear;, score=0.656 total time=   0.8s\n",
      "[CV 3/5; 2/24] START C=0.001, penalty=l1, solver=liblinear......................\n",
      "[CV 3/5; 2/24] END C=0.001, penalty=l1, solver=liblinear;, score=0.656 total time=   0.8s\n",
      "[CV 4/5; 2/24] START C=0.001, penalty=l1, solver=liblinear......................\n",
      "[CV 4/5; 2/24] END C=0.001, penalty=l1, solver=liblinear;, score=0.658 total time=   0.8s\n",
      "[CV 5/5; 2/24] START C=0.001, penalty=l1, solver=liblinear......................\n",
      "[CV 5/5; 2/24] END C=0.001, penalty=l1, solver=liblinear;, score=0.658 total time=   0.8s\n",
      "[CV 1/5; 3/24] START C=0.001, penalty=l2, solver=lbfgs..........................\n",
      "[CV 1/5; 3/24] END C=0.001, penalty=l2, solver=lbfgs;, score=0.658 total time=   2.7s\n",
      "[CV 2/5; 3/24] START C=0.001, penalty=l2, solver=lbfgs..........................\n",
      "[CV 2/5; 3/24] END C=0.001, penalty=l2, solver=lbfgs;, score=0.656 total time=   2.9s\n",
      "[CV 3/5; 3/24] START C=0.001, penalty=l2, solver=lbfgs..........................\n",
      "[CV 3/5; 3/24] END C=0.001, penalty=l2, solver=lbfgs;, score=0.656 total time=   2.0s\n",
      "[CV 4/5; 3/24] START C=0.001, penalty=l2, solver=lbfgs..........................\n",
      "[CV 4/5; 3/24] END C=0.001, penalty=l2, solver=lbfgs;, score=0.658 total time=   3.0s\n",
      "[CV 5/5; 3/24] START C=0.001, penalty=l2, solver=lbfgs..........................\n",
      "[CV 5/5; 3/24] END C=0.001, penalty=l2, solver=lbfgs;, score=0.658 total time=   3.0s\n",
      "[CV 1/5; 4/24] START C=0.001, penalty=l2, solver=liblinear......................\n",
      "[CV 1/5; 4/24] END C=0.001, penalty=l2, solver=liblinear;, score=0.658 total time=   0.9s\n",
      "[CV 2/5; 4/24] START C=0.001, penalty=l2, solver=liblinear......................\n",
      "[CV 2/5; 4/24] END C=0.001, penalty=l2, solver=liblinear;, score=0.656 total time=   0.8s\n",
      "[CV 3/5; 4/24] START C=0.001, penalty=l2, solver=liblinear......................\n",
      "[CV 3/5; 4/24] END C=0.001, penalty=l2, solver=liblinear;, score=0.656 total time=   0.8s\n",
      "[CV 4/5; 4/24] START C=0.001, penalty=l2, solver=liblinear......................\n",
      "[CV 4/5; 4/24] END C=0.001, penalty=l2, solver=liblinear;, score=0.658 total time=   0.8s\n",
      "[CV 5/5; 4/24] START C=0.001, penalty=l2, solver=liblinear......................\n",
      "[CV 5/5; 4/24] END C=0.001, penalty=l2, solver=liblinear;, score=0.658 total time=   0.9s\n",
      "[CV 1/5; 5/24] START C=0.001, penalty=elasticnet, solver=lbfgs..................\n",
      "[CV 1/5; 5/24] END C=0.001, penalty=elasticnet, solver=lbfgs;, score=nan total time=   0.0s\n",
      "[CV 2/5; 5/24] START C=0.001, penalty=elasticnet, solver=lbfgs..................\n",
      "[CV 2/5; 5/24] END C=0.001, penalty=elasticnet, solver=lbfgs;, score=nan total time=   0.0s\n",
      "[CV 3/5; 5/24] START C=0.001, penalty=elasticnet, solver=lbfgs..................\n",
      "[CV 3/5; 5/24] END C=0.001, penalty=elasticnet, solver=lbfgs;, score=nan total time=   0.0s\n",
      "[CV 4/5; 5/24] START C=0.001, penalty=elasticnet, solver=lbfgs..................\n",
      "[CV 4/5; 5/24] END C=0.001, penalty=elasticnet, solver=lbfgs;, score=nan total time=   0.0s\n",
      "[CV 5/5; 5/24] START C=0.001, penalty=elasticnet, solver=lbfgs..................\n",
      "[CV 5/5; 5/24] END C=0.001, penalty=elasticnet, solver=lbfgs;, score=nan total time=   0.0s\n",
      "[CV 1/5; 6/24] START C=0.001, penalty=elasticnet, solver=liblinear..............\n",
      "[CV 1/5; 6/24] END C=0.001, penalty=elasticnet, solver=liblinear;, score=nan total time=   0.0s\n",
      "[CV 2/5; 6/24] START C=0.001, penalty=elasticnet, solver=liblinear..............\n",
      "[CV 2/5; 6/24] END C=0.001, penalty=elasticnet, solver=liblinear;, score=nan total time=   0.0s\n",
      "[CV 3/5; 6/24] START C=0.001, penalty=elasticnet, solver=liblinear..............\n",
      "[CV 3/5; 6/24] END C=0.001, penalty=elasticnet, solver=liblinear;, score=nan total time=   0.0s\n",
      "[CV 4/5; 6/24] START C=0.001, penalty=elasticnet, solver=liblinear..............\n",
      "[CV 4/5; 6/24] END C=0.001, penalty=elasticnet, solver=liblinear;, score=nan total time=   0.0s\n",
      "[CV 5/5; 6/24] START C=0.001, penalty=elasticnet, solver=liblinear..............\n",
      "[CV 5/5; 6/24] END C=0.001, penalty=elasticnet, solver=liblinear;, score=nan total time=   0.0s\n",
      "[CV 1/5; 7/24] START C=0.01, penalty=l1, solver=lbfgs...........................\n",
      "[CV 1/5; 7/24] END C=0.01, penalty=l1, solver=lbfgs;, score=nan total time=   0.0s\n",
      "[CV 2/5; 7/24] START C=0.01, penalty=l1, solver=lbfgs...........................\n",
      "[CV 2/5; 7/24] END C=0.01, penalty=l1, solver=lbfgs;, score=nan total time=   0.0s\n",
      "[CV 3/5; 7/24] START C=0.01, penalty=l1, solver=lbfgs...........................\n",
      "[CV 3/5; 7/24] END C=0.01, penalty=l1, solver=lbfgs;, score=nan total time=   0.0s\n",
      "[CV 4/5; 7/24] START C=0.01, penalty=l1, solver=lbfgs...........................\n",
      "[CV 4/5; 7/24] END C=0.01, penalty=l1, solver=lbfgs;, score=nan total time=   0.0s\n",
      "[CV 5/5; 7/24] START C=0.01, penalty=l1, solver=lbfgs...........................\n",
      "[CV 5/5; 7/24] END C=0.01, penalty=l1, solver=lbfgs;, score=nan total time=   0.0s\n",
      "[CV 1/5; 8/24] START C=0.01, penalty=l1, solver=liblinear.......................\n",
      "[CV 1/5; 8/24] END C=0.01, penalty=l1, solver=liblinear;, score=0.658 total time=   0.9s\n",
      "[CV 2/5; 8/24] START C=0.01, penalty=l1, solver=liblinear.......................\n",
      "[CV 2/5; 8/24] END C=0.01, penalty=l1, solver=liblinear;, score=0.656 total time=   1.0s\n",
      "[CV 3/5; 8/24] START C=0.01, penalty=l1, solver=liblinear.......................\n",
      "[CV 3/5; 8/24] END C=0.01, penalty=l1, solver=liblinear;, score=0.656 total time=   1.0s\n",
      "[CV 4/5; 8/24] START C=0.01, penalty=l1, solver=liblinear.......................\n",
      "[CV 4/5; 8/24] END C=0.01, penalty=l1, solver=liblinear;, score=0.658 total time=   0.9s\n",
      "[CV 5/5; 8/24] START C=0.01, penalty=l1, solver=liblinear.......................\n",
      "[CV 5/5; 8/24] END C=0.01, penalty=l1, solver=liblinear;, score=0.658 total time=   0.8s\n",
      "[CV 1/5; 9/24] START C=0.01, penalty=l2, solver=lbfgs...........................\n",
      "[CV 1/5; 9/24] END C=0.01, penalty=l2, solver=lbfgs;, score=0.646 total time=   3.6s\n",
      "[CV 2/5; 9/24] START C=0.01, penalty=l2, solver=lbfgs...........................\n",
      "[CV 2/5; 9/24] END C=0.01, penalty=l2, solver=lbfgs;, score=0.646 total time=   3.6s\n",
      "[CV 3/5; 9/24] START C=0.01, penalty=l2, solver=lbfgs...........................\n",
      "[CV 3/5; 9/24] END C=0.01, penalty=l2, solver=lbfgs;, score=0.613 total time=   3.6s\n",
      "[CV 4/5; 9/24] START C=0.01, penalty=l2, solver=lbfgs...........................\n",
      "[CV 4/5; 9/24] END C=0.01, penalty=l2, solver=lbfgs;, score=0.649 total time=   3.7s\n",
      "[CV 5/5; 9/24] START C=0.01, penalty=l2, solver=lbfgs...........................\n",
      "[CV 5/5; 9/24] END C=0.01, penalty=l2, solver=lbfgs;, score=0.626 total time=   3.8s\n",
      "[CV 1/5; 10/24] START C=0.01, penalty=l2, solver=liblinear......................\n",
      "[CV 1/5; 10/24] END C=0.01, penalty=l2, solver=liblinear;, score=0.635 total time=   0.8s\n",
      "[CV 2/5; 10/24] START C=0.01, penalty=l2, solver=liblinear......................\n",
      "[CV 2/5; 10/24] END C=0.01, penalty=l2, solver=liblinear;, score=0.644 total time=   0.9s\n",
      "[CV 3/5; 10/24] START C=0.01, penalty=l2, solver=liblinear......................\n",
      "[CV 3/5; 10/24] END C=0.01, penalty=l2, solver=liblinear;, score=0.625 total time=   0.8s\n",
      "[CV 4/5; 10/24] START C=0.01, penalty=l2, solver=liblinear......................\n",
      "[CV 4/5; 10/24] END C=0.01, penalty=l2, solver=liblinear;, score=0.647 total time=   1.1s\n",
      "[CV 5/5; 10/24] START C=0.01, penalty=l2, solver=liblinear......................\n",
      "[CV 5/5; 10/24] END C=0.01, penalty=l2, solver=liblinear;, score=0.639 total time=   1.3s\n",
      "[CV 1/5; 11/24] START C=0.01, penalty=elasticnet, solver=lbfgs..................\n",
      "[CV 1/5; 11/24] END C=0.01, penalty=elasticnet, solver=lbfgs;, score=nan total time=   0.0s\n",
      "[CV 2/5; 11/24] START C=0.01, penalty=elasticnet, solver=lbfgs..................\n",
      "[CV 2/5; 11/24] END C=0.01, penalty=elasticnet, solver=lbfgs;, score=nan total time=   0.0s\n",
      "[CV 3/5; 11/24] START C=0.01, penalty=elasticnet, solver=lbfgs..................\n",
      "[CV 3/5; 11/24] END C=0.01, penalty=elasticnet, solver=lbfgs;, score=nan total time=   0.0s\n",
      "[CV 4/5; 11/24] START C=0.01, penalty=elasticnet, solver=lbfgs..................\n",
      "[CV 4/5; 11/24] END C=0.01, penalty=elasticnet, solver=lbfgs;, score=nan total time=   0.0s\n",
      "[CV 5/5; 11/24] START C=0.01, penalty=elasticnet, solver=lbfgs..................\n",
      "[CV 5/5; 11/24] END C=0.01, penalty=elasticnet, solver=lbfgs;, score=nan total time=   0.0s\n",
      "[CV 1/5; 12/24] START C=0.01, penalty=elasticnet, solver=liblinear..............\n",
      "[CV 1/5; 12/24] END C=0.01, penalty=elasticnet, solver=liblinear;, score=nan total time=   0.0s\n",
      "[CV 2/5; 12/24] START C=0.01, penalty=elasticnet, solver=liblinear..............\n",
      "[CV 2/5; 12/24] END C=0.01, penalty=elasticnet, solver=liblinear;, score=nan total time=   0.0s\n",
      "[CV 3/5; 12/24] START C=0.01, penalty=elasticnet, solver=liblinear..............\n",
      "[CV 3/5; 12/24] END C=0.01, penalty=elasticnet, solver=liblinear;, score=nan total time=   0.0s\n",
      "[CV 4/5; 12/24] START C=0.01, penalty=elasticnet, solver=liblinear..............\n",
      "[CV 4/5; 12/24] END C=0.01, penalty=elasticnet, solver=liblinear;, score=nan total time=   0.0s\n",
      "[CV 5/5; 12/24] START C=0.01, penalty=elasticnet, solver=liblinear..............\n",
      "[CV 5/5; 12/24] END C=0.01, penalty=elasticnet, solver=liblinear;, score=nan total time=   0.0s\n",
      "[CV 1/5; 13/24] START C=0.1, penalty=l1, solver=lbfgs...........................\n",
      "[CV 1/5; 13/24] END C=0.1, penalty=l1, solver=lbfgs;, score=nan total time=   0.0s\n",
      "[CV 2/5; 13/24] START C=0.1, penalty=l1, solver=lbfgs...........................\n",
      "[CV 2/5; 13/24] END C=0.1, penalty=l1, solver=lbfgs;, score=nan total time=   0.0s\n",
      "[CV 3/5; 13/24] START C=0.1, penalty=l1, solver=lbfgs...........................\n",
      "[CV 3/5; 13/24] END C=0.1, penalty=l1, solver=lbfgs;, score=nan total time=   0.0s\n",
      "[CV 4/5; 13/24] START C=0.1, penalty=l1, solver=lbfgs...........................\n",
      "[CV 4/5; 13/24] END C=0.1, penalty=l1, solver=lbfgs;, score=nan total time=   0.0s\n",
      "[CV 5/5; 13/24] START C=0.1, penalty=l1, solver=lbfgs...........................\n",
      "[CV 5/5; 13/24] END C=0.1, penalty=l1, solver=lbfgs;, score=nan total time=   0.0s\n",
      "[CV 1/5; 14/24] START C=0.1, penalty=l1, solver=liblinear.......................\n",
      "[CV 1/5; 14/24] END C=0.1, penalty=l1, solver=liblinear;, score=0.642 total time=   1.0s\n",
      "[CV 2/5; 14/24] START C=0.1, penalty=l1, solver=liblinear.......................\n",
      "[CV 2/5; 14/24] END C=0.1, penalty=l1, solver=liblinear;, score=0.652 total time=   1.0s\n",
      "[CV 3/5; 14/24] START C=0.1, penalty=l1, solver=liblinear.......................\n",
      "[CV 3/5; 14/24] END C=0.1, penalty=l1, solver=liblinear;, score=0.648 total time=   0.9s\n",
      "[CV 4/5; 14/24] START C=0.1, penalty=l1, solver=liblinear.......................\n",
      "[CV 4/5; 14/24] END C=0.1, penalty=l1, solver=liblinear;, score=0.668 total time=   1.0s\n",
      "[CV 5/5; 14/24] START C=0.1, penalty=l1, solver=liblinear.......................\n",
      "[CV 5/5; 14/24] END C=0.1, penalty=l1, solver=liblinear;, score=0.643 total time=   0.9s\n",
      "[CV 1/5; 15/24] START C=0.1, penalty=l2, solver=lbfgs...........................\n",
      "[CV 1/5; 15/24] END C=0.1, penalty=l2, solver=lbfgs;, score=0.596 total time=   3.7s\n",
      "[CV 2/5; 15/24] START C=0.1, penalty=l2, solver=lbfgs...........................\n",
      "[CV 2/5; 15/24] END C=0.1, penalty=l2, solver=lbfgs;, score=0.588 total time=   3.7s\n",
      "[CV 3/5; 15/24] START C=0.1, penalty=l2, solver=lbfgs...........................\n",
      "[CV 3/5; 15/24] END C=0.1, penalty=l2, solver=lbfgs;, score=0.588 total time=   3.8s\n",
      "[CV 4/5; 15/24] START C=0.1, penalty=l2, solver=lbfgs...........................\n",
      "[CV 4/5; 15/24] END C=0.1, penalty=l2, solver=lbfgs;, score=0.587 total time=   3.7s\n",
      "[CV 5/5; 15/24] START C=0.1, penalty=l2, solver=lbfgs...........................\n",
      "[CV 5/5; 15/24] END C=0.1, penalty=l2, solver=lbfgs;, score=0.605 total time=   4.0s\n",
      "[CV 1/5; 16/24] START C=0.1, penalty=l2, solver=liblinear.......................\n",
      "[CV 1/5; 16/24] END C=0.1, penalty=l2, solver=liblinear;, score=0.592 total time=   0.9s\n",
      "[CV 2/5; 16/24] START C=0.1, penalty=l2, solver=liblinear.......................\n",
      "[CV 2/5; 16/24] END C=0.1, penalty=l2, solver=liblinear;, score=0.596 total time=   0.9s\n",
      "[CV 3/5; 16/24] START C=0.1, penalty=l2, solver=liblinear.......................\n",
      "[CV 3/5; 16/24] END C=0.1, penalty=l2, solver=liblinear;, score=0.588 total time=   0.9s\n",
      "[CV 4/5; 16/24] START C=0.1, penalty=l2, solver=liblinear.......................\n",
      "[CV 4/5; 16/24] END C=0.1, penalty=l2, solver=liblinear;, score=0.591 total time=   0.9s\n",
      "[CV 5/5; 16/24] START C=0.1, penalty=l2, solver=liblinear.......................\n",
      "[CV 5/5; 16/24] END C=0.1, penalty=l2, solver=liblinear;, score=0.612 total time=   0.9s\n",
      "[CV 1/5; 17/24] START C=0.1, penalty=elasticnet, solver=lbfgs...................\n",
      "[CV 1/5; 17/24] END C=0.1, penalty=elasticnet, solver=lbfgs;, score=nan total time=   0.0s\n",
      "[CV 2/5; 17/24] START C=0.1, penalty=elasticnet, solver=lbfgs...................\n",
      "[CV 2/5; 17/24] END C=0.1, penalty=elasticnet, solver=lbfgs;, score=nan total time=   0.0s\n",
      "[CV 3/5; 17/24] START C=0.1, penalty=elasticnet, solver=lbfgs...................\n",
      "[CV 3/5; 17/24] END C=0.1, penalty=elasticnet, solver=lbfgs;, score=nan total time=   0.0s\n",
      "[CV 4/5; 17/24] START C=0.1, penalty=elasticnet, solver=lbfgs...................\n",
      "[CV 4/5; 17/24] END C=0.1, penalty=elasticnet, solver=lbfgs;, score=nan total time=   0.0s\n",
      "[CV 5/5; 17/24] START C=0.1, penalty=elasticnet, solver=lbfgs...................\n",
      "[CV 5/5; 17/24] END C=0.1, penalty=elasticnet, solver=lbfgs;, score=nan total time=   0.0s\n",
      "[CV 1/5; 18/24] START C=0.1, penalty=elasticnet, solver=liblinear...............\n",
      "[CV 1/5; 18/24] END C=0.1, penalty=elasticnet, solver=liblinear;, score=nan total time=   0.0s\n",
      "[CV 2/5; 18/24] START C=0.1, penalty=elasticnet, solver=liblinear...............\n",
      "[CV 2/5; 18/24] END C=0.1, penalty=elasticnet, solver=liblinear;, score=nan total time=   0.0s\n",
      "[CV 3/5; 18/24] START C=0.1, penalty=elasticnet, solver=liblinear...............\n",
      "[CV 3/5; 18/24] END C=0.1, penalty=elasticnet, solver=liblinear;, score=nan total time=   0.0s\n",
      "[CV 4/5; 18/24] START C=0.1, penalty=elasticnet, solver=liblinear...............\n",
      "[CV 4/5; 18/24] END C=0.1, penalty=elasticnet, solver=liblinear;, score=nan total time=   0.0s\n",
      "[CV 5/5; 18/24] START C=0.1, penalty=elasticnet, solver=liblinear...............\n",
      "[CV 5/5; 18/24] END C=0.1, penalty=elasticnet, solver=liblinear;, score=nan total time=   0.0s\n",
      "[CV 1/5; 19/24] START C=1, penalty=l1, solver=lbfgs.............................\n",
      "[CV 1/5; 19/24] END C=1, penalty=l1, solver=lbfgs;, score=nan total time=   0.0s\n",
      "[CV 2/5; 19/24] START C=1, penalty=l1, solver=lbfgs.............................\n",
      "[CV 2/5; 19/24] END C=1, penalty=l1, solver=lbfgs;, score=nan total time=   0.0s\n",
      "[CV 3/5; 19/24] START C=1, penalty=l1, solver=lbfgs.............................\n",
      "[CV 3/5; 19/24] END C=1, penalty=l1, solver=lbfgs;, score=nan total time=   0.0s\n",
      "[CV 4/5; 19/24] START C=1, penalty=l1, solver=lbfgs.............................\n",
      "[CV 4/5; 19/24] END C=1, penalty=l1, solver=lbfgs;, score=nan total time=   0.0s\n",
      "[CV 5/5; 19/24] START C=1, penalty=l1, solver=lbfgs.............................\n",
      "[CV 5/5; 19/24] END C=1, penalty=l1, solver=lbfgs;, score=nan total time=   0.0s\n",
      "[CV 1/5; 20/24] START C=1, penalty=l1, solver=liblinear.........................\n",
      "[CV 1/5; 20/24] END C=1, penalty=l1, solver=liblinear;, score=0.598 total time=   1.0s\n",
      "[CV 2/5; 20/24] START C=1, penalty=l1, solver=liblinear.........................\n",
      "[CV 2/5; 20/24] END C=1, penalty=l1, solver=liblinear;, score=0.552 total time=   1.2s\n",
      "[CV 3/5; 20/24] START C=1, penalty=l1, solver=liblinear.........................\n",
      "[CV 3/5; 20/24] END C=1, penalty=l1, solver=liblinear;, score=0.579 total time=   1.1s\n",
      "[CV 4/5; 20/24] START C=1, penalty=l1, solver=liblinear.........................\n",
      "[CV 4/5; 20/24] END C=1, penalty=l1, solver=liblinear;, score=0.610 total time=   1.2s\n",
      "[CV 5/5; 20/24] START C=1, penalty=l1, solver=liblinear.........................\n",
      "[CV 5/5; 20/24] END C=1, penalty=l1, solver=liblinear;, score=0.570 total time=   1.1s\n",
      "[CV 1/5; 21/24] START C=1, penalty=l2, solver=lbfgs.............................\n",
      "[CV 1/5; 21/24] END C=1, penalty=l2, solver=lbfgs;, score=0.594 total time=   3.8s\n",
      "[CV 2/5; 21/24] START C=1, penalty=l2, solver=lbfgs.............................\n",
      "[CV 2/5; 21/24] END C=1, penalty=l2, solver=lbfgs;, score=0.581 total time=   3.9s\n",
      "[CV 3/5; 21/24] START C=1, penalty=l2, solver=lbfgs.............................\n",
      "[CV 3/5; 21/24] END C=1, penalty=l2, solver=lbfgs;, score=0.565 total time=   3.7s\n",
      "[CV 4/5; 21/24] START C=1, penalty=l2, solver=lbfgs.............................\n",
      "[CV 4/5; 21/24] END C=1, penalty=l2, solver=lbfgs;, score=0.568 total time=   3.8s\n",
      "[CV 5/5; 21/24] START C=1, penalty=l2, solver=lbfgs.............................\n",
      "[CV 5/5; 21/24] END C=1, penalty=l2, solver=lbfgs;, score=0.614 total time=   3.8s\n",
      "[CV 1/5; 22/24] START C=1, penalty=l2, solver=liblinear.........................\n",
      "[CV 1/5; 22/24] END C=1, penalty=l2, solver=liblinear;, score=0.581 total time=   0.9s\n",
      "[CV 2/5; 22/24] START C=1, penalty=l2, solver=liblinear.........................\n",
      "[CV 2/5; 22/24] END C=1, penalty=l2, solver=liblinear;, score=0.571 total time=   0.9s\n",
      "[CV 3/5; 22/24] START C=1, penalty=l2, solver=liblinear.........................\n",
      "[CV 3/5; 22/24] END C=1, penalty=l2, solver=liblinear;, score=0.608 total time=   0.9s\n",
      "[CV 4/5; 22/24] START C=1, penalty=l2, solver=liblinear.........................\n",
      "[CV 4/5; 22/24] END C=1, penalty=l2, solver=liblinear;, score=0.574 total time=   0.9s\n",
      "[CV 5/5; 22/24] START C=1, penalty=l2, solver=liblinear.........................\n",
      "[CV 5/5; 22/24] END C=1, penalty=l2, solver=liblinear;, score=0.591 total time=   0.9s\n",
      "[CV 1/5; 23/24] START C=1, penalty=elasticnet, solver=lbfgs.....................\n",
      "[CV 1/5; 23/24] END C=1, penalty=elasticnet, solver=lbfgs;, score=nan total time=   0.0s\n",
      "[CV 2/5; 23/24] START C=1, penalty=elasticnet, solver=lbfgs.....................\n",
      "[CV 2/5; 23/24] END C=1, penalty=elasticnet, solver=lbfgs;, score=nan total time=   0.0s\n",
      "[CV 3/5; 23/24] START C=1, penalty=elasticnet, solver=lbfgs.....................\n",
      "[CV 3/5; 23/24] END C=1, penalty=elasticnet, solver=lbfgs;, score=nan total time=   0.0s\n",
      "[CV 4/5; 23/24] START C=1, penalty=elasticnet, solver=lbfgs.....................\n",
      "[CV 4/5; 23/24] END C=1, penalty=elasticnet, solver=lbfgs;, score=nan total time=   0.0s\n",
      "[CV 5/5; 23/24] START C=1, penalty=elasticnet, solver=lbfgs.....................\n",
      "[CV 5/5; 23/24] END C=1, penalty=elasticnet, solver=lbfgs;, score=nan total time=   0.0s\n",
      "[CV 1/5; 24/24] START C=1, penalty=elasticnet, solver=liblinear.................\n",
      "[CV 1/5; 24/24] END C=1, penalty=elasticnet, solver=liblinear;, score=nan total time=   0.0s\n",
      "[CV 2/5; 24/24] START C=1, penalty=elasticnet, solver=liblinear.................\n",
      "[CV 2/5; 24/24] END C=1, penalty=elasticnet, solver=liblinear;, score=nan total time=   0.0s\n",
      "[CV 3/5; 24/24] START C=1, penalty=elasticnet, solver=liblinear.................\n",
      "[CV 3/5; 24/24] END C=1, penalty=elasticnet, solver=liblinear;, score=nan total time=   0.0s\n",
      "[CV 4/5; 24/24] START C=1, penalty=elasticnet, solver=liblinear.................\n",
      "[CV 4/5; 24/24] END C=1, penalty=elasticnet, solver=liblinear;, score=nan total time=   0.0s\n",
      "[CV 5/5; 24/24] START C=1, penalty=elasticnet, solver=liblinear.................\n",
      "[CV 5/5; 24/24] END C=1, penalty=elasticnet, solver=liblinear;, score=nan total time=   0.0s\n",
      "Count Best Params: {'C': 0.001, 'penalty': 'l1', 'solver': 'liblinear'}\n"
     ]
    }
   ],
   "source": [
    "grid_search.fit(Xc_train, yc_train)\n",
    "best_model_counts = grid_search.best_estimator_\n",
    "print(\"Count Best Params:\", grid_search.best_params_)"
   ]
  },
  {
   "cell_type": "code",
   "execution_count": 295,
   "metadata": {},
   "outputs": [
    {
     "name": "stdout",
     "output_type": "stream",
     "text": [
      "Fitting 5 folds for each of 24 candidates, totalling 120 fits\n",
      "[CV 1/5; 1/24] START C=0.001, penalty=l1, solver=lbfgs..........................\n",
      "[CV 1/5; 1/24] END C=0.001, penalty=l1, solver=lbfgs;, score=nan total time=   0.0s\n",
      "[CV 2/5; 1/24] START C=0.001, penalty=l1, solver=lbfgs..........................\n",
      "[CV 2/5; 1/24] END C=0.001, penalty=l1, solver=lbfgs;, score=nan total time=   0.0s\n",
      "[CV 3/5; 1/24] START C=0.001, penalty=l1, solver=lbfgs..........................\n",
      "[CV 3/5; 1/24] END C=0.001, penalty=l1, solver=lbfgs;, score=nan total time=   0.0s\n",
      "[CV 4/5; 1/24] START C=0.001, penalty=l1, solver=lbfgs..........................\n",
      "[CV 4/5; 1/24] END C=0.001, penalty=l1, solver=lbfgs;, score=nan total time=   0.0s\n",
      "[CV 5/5; 1/24] START C=0.001, penalty=l1, solver=lbfgs..........................\n",
      "[CV 5/5; 1/24] END C=0.001, penalty=l1, solver=lbfgs;, score=nan total time=   0.0s\n",
      "[CV 1/5; 2/24] START C=0.001, penalty=l1, solver=liblinear......................\n",
      "[CV 1/5; 2/24] END C=0.001, penalty=l1, solver=liblinear;, score=0.658 total time=   1.0s\n",
      "[CV 2/5; 2/24] START C=0.001, penalty=l1, solver=liblinear......................\n",
      "[CV 2/5; 2/24] END C=0.001, penalty=l1, solver=liblinear;, score=0.656 total time=   0.9s\n",
      "[CV 3/5; 2/24] START C=0.001, penalty=l1, solver=liblinear......................\n",
      "[CV 3/5; 2/24] END C=0.001, penalty=l1, solver=liblinear;, score=0.656 total time=   0.9s\n",
      "[CV 4/5; 2/24] START C=0.001, penalty=l1, solver=liblinear......................\n",
      "[CV 4/5; 2/24] END C=0.001, penalty=l1, solver=liblinear;, score=0.658 total time=   0.9s\n",
      "[CV 5/5; 2/24] START C=0.001, penalty=l1, solver=liblinear......................\n",
      "[CV 5/5; 2/24] END C=0.001, penalty=l1, solver=liblinear;, score=0.658 total time=   0.9s\n",
      "[CV 1/5; 3/24] START C=0.001, penalty=l2, solver=lbfgs..........................\n",
      "[CV 1/5; 3/24] END C=0.001, penalty=l2, solver=lbfgs;, score=0.658 total time=   1.9s\n",
      "[CV 2/5; 3/24] START C=0.001, penalty=l2, solver=lbfgs..........................\n",
      "[CV 2/5; 3/24] END C=0.001, penalty=l2, solver=lbfgs;, score=0.656 total time=   1.7s\n",
      "[CV 3/5; 3/24] START C=0.001, penalty=l2, solver=lbfgs..........................\n",
      "[CV 3/5; 3/24] END C=0.001, penalty=l2, solver=lbfgs;, score=0.656 total time=   1.9s\n",
      "[CV 4/5; 3/24] START C=0.001, penalty=l2, solver=lbfgs..........................\n",
      "[CV 4/5; 3/24] END C=0.001, penalty=l2, solver=lbfgs;, score=0.658 total time=   1.8s\n",
      "[CV 5/5; 3/24] START C=0.001, penalty=l2, solver=lbfgs..........................\n",
      "[CV 5/5; 3/24] END C=0.001, penalty=l2, solver=lbfgs;, score=0.658 total time=   1.9s\n",
      "[CV 1/5; 4/24] START C=0.001, penalty=l2, solver=liblinear......................\n",
      "[CV 1/5; 4/24] END C=0.001, penalty=l2, solver=liblinear;, score=0.658 total time=   0.9s\n",
      "[CV 2/5; 4/24] START C=0.001, penalty=l2, solver=liblinear......................\n",
      "[CV 2/5; 4/24] END C=0.001, penalty=l2, solver=liblinear;, score=0.656 total time=   0.9s\n",
      "[CV 3/5; 4/24] START C=0.001, penalty=l2, solver=liblinear......................\n",
      "[CV 3/5; 4/24] END C=0.001, penalty=l2, solver=liblinear;, score=0.656 total time=   0.9s\n",
      "[CV 4/5; 4/24] START C=0.001, penalty=l2, solver=liblinear......................\n",
      "[CV 4/5; 4/24] END C=0.001, penalty=l2, solver=liblinear;, score=0.658 total time=   0.9s\n",
      "[CV 5/5; 4/24] START C=0.001, penalty=l2, solver=liblinear......................\n",
      "[CV 5/5; 4/24] END C=0.001, penalty=l2, solver=liblinear;, score=0.658 total time=   0.9s\n",
      "[CV 1/5; 5/24] START C=0.001, penalty=elasticnet, solver=lbfgs..................\n",
      "[CV 1/5; 5/24] END C=0.001, penalty=elasticnet, solver=lbfgs;, score=nan total time=   0.0s\n",
      "[CV 2/5; 5/24] START C=0.001, penalty=elasticnet, solver=lbfgs..................\n",
      "[CV 2/5; 5/24] END C=0.001, penalty=elasticnet, solver=lbfgs;, score=nan total time=   0.0s\n",
      "[CV 3/5; 5/24] START C=0.001, penalty=elasticnet, solver=lbfgs..................\n",
      "[CV 3/5; 5/24] END C=0.001, penalty=elasticnet, solver=lbfgs;, score=nan total time=   0.0s\n",
      "[CV 4/5; 5/24] START C=0.001, penalty=elasticnet, solver=lbfgs..................\n",
      "[CV 4/5; 5/24] END C=0.001, penalty=elasticnet, solver=lbfgs;, score=nan total time=   0.0s\n",
      "[CV 5/5; 5/24] START C=0.001, penalty=elasticnet, solver=lbfgs..................\n",
      "[CV 5/5; 5/24] END C=0.001, penalty=elasticnet, solver=lbfgs;, score=nan total time=   0.0s\n",
      "[CV 1/5; 6/24] START C=0.001, penalty=elasticnet, solver=liblinear..............\n",
      "[CV 1/5; 6/24] END C=0.001, penalty=elasticnet, solver=liblinear;, score=nan total time=   0.0s\n",
      "[CV 2/5; 6/24] START C=0.001, penalty=elasticnet, solver=liblinear..............\n",
      "[CV 2/5; 6/24] END C=0.001, penalty=elasticnet, solver=liblinear;, score=nan total time=   0.0s\n",
      "[CV 3/5; 6/24] START C=0.001, penalty=elasticnet, solver=liblinear..............\n",
      "[CV 3/5; 6/24] END C=0.001, penalty=elasticnet, solver=liblinear;, score=nan total time=   0.0s\n",
      "[CV 4/5; 6/24] START C=0.001, penalty=elasticnet, solver=liblinear..............\n",
      "[CV 4/5; 6/24] END C=0.001, penalty=elasticnet, solver=liblinear;, score=nan total time=   0.0s\n",
      "[CV 5/5; 6/24] START C=0.001, penalty=elasticnet, solver=liblinear..............\n",
      "[CV 5/5; 6/24] END C=0.001, penalty=elasticnet, solver=liblinear;, score=nan total time=   0.0s\n",
      "[CV 1/5; 7/24] START C=0.01, penalty=l1, solver=lbfgs...........................\n",
      "[CV 1/5; 7/24] END C=0.01, penalty=l1, solver=lbfgs;, score=nan total time=   0.0s\n",
      "[CV 2/5; 7/24] START C=0.01, penalty=l1, solver=lbfgs...........................\n",
      "[CV 2/5; 7/24] END C=0.01, penalty=l1, solver=lbfgs;, score=nan total time=   0.0s\n",
      "[CV 3/5; 7/24] START C=0.01, penalty=l1, solver=lbfgs...........................\n",
      "[CV 3/5; 7/24] END C=0.01, penalty=l1, solver=lbfgs;, score=nan total time=   0.0s\n",
      "[CV 4/5; 7/24] START C=0.01, penalty=l1, solver=lbfgs...........................\n",
      "[CV 4/5; 7/24] END C=0.01, penalty=l1, solver=lbfgs;, score=nan total time=   0.0s\n",
      "[CV 5/5; 7/24] START C=0.01, penalty=l1, solver=lbfgs...........................\n",
      "[CV 5/5; 7/24] END C=0.01, penalty=l1, solver=lbfgs;, score=nan total time=   0.0s\n",
      "[CV 1/5; 8/24] START C=0.01, penalty=l1, solver=liblinear.......................\n",
      "[CV 1/5; 8/24] END C=0.01, penalty=l1, solver=liblinear;, score=0.658 total time=   0.9s\n",
      "[CV 2/5; 8/24] START C=0.01, penalty=l1, solver=liblinear.......................\n",
      "[CV 2/5; 8/24] END C=0.01, penalty=l1, solver=liblinear;, score=0.656 total time=   0.8s\n",
      "[CV 3/5; 8/24] START C=0.01, penalty=l1, solver=liblinear.......................\n",
      "[CV 3/5; 8/24] END C=0.01, penalty=l1, solver=liblinear;, score=0.656 total time=   0.9s\n",
      "[CV 4/5; 8/24] START C=0.01, penalty=l1, solver=liblinear.......................\n",
      "[CV 4/5; 8/24] END C=0.01, penalty=l1, solver=liblinear;, score=0.658 total time=   0.8s\n",
      "[CV 5/5; 8/24] START C=0.01, penalty=l1, solver=liblinear.......................\n",
      "[CV 5/5; 8/24] END C=0.01, penalty=l1, solver=liblinear;, score=0.658 total time=   0.8s\n",
      "[CV 1/5; 9/24] START C=0.01, penalty=l2, solver=lbfgs...........................\n",
      "[CV 1/5; 9/24] END C=0.01, penalty=l2, solver=lbfgs;, score=0.658 total time=   2.6s\n",
      "[CV 2/5; 9/24] START C=0.01, penalty=l2, solver=lbfgs...........................\n",
      "[CV 2/5; 9/24] END C=0.01, penalty=l2, solver=lbfgs;, score=0.656 total time=   2.2s\n",
      "[CV 3/5; 9/24] START C=0.01, penalty=l2, solver=lbfgs...........................\n",
      "[CV 3/5; 9/24] END C=0.01, penalty=l2, solver=lbfgs;, score=0.656 total time=   1.7s\n",
      "[CV 4/5; 9/24] START C=0.01, penalty=l2, solver=lbfgs...........................\n",
      "[CV 4/5; 9/24] END C=0.01, penalty=l2, solver=lbfgs;, score=0.658 total time=   1.9s\n",
      "[CV 5/5; 9/24] START C=0.01, penalty=l2, solver=lbfgs...........................\n",
      "[CV 5/5; 9/24] END C=0.01, penalty=l2, solver=lbfgs;, score=0.658 total time=   1.7s\n",
      "[CV 1/5; 10/24] START C=0.01, penalty=l2, solver=liblinear......................\n",
      "[CV 1/5; 10/24] END C=0.01, penalty=l2, solver=liblinear;, score=0.658 total time=   0.9s\n",
      "[CV 2/5; 10/24] START C=0.01, penalty=l2, solver=liblinear......................\n",
      "[CV 2/5; 10/24] END C=0.01, penalty=l2, solver=liblinear;, score=0.656 total time=   0.8s\n",
      "[CV 3/5; 10/24] START C=0.01, penalty=l2, solver=liblinear......................\n",
      "[CV 3/5; 10/24] END C=0.01, penalty=l2, solver=liblinear;, score=0.656 total time=   0.9s\n",
      "[CV 4/5; 10/24] START C=0.01, penalty=l2, solver=liblinear......................\n",
      "[CV 4/5; 10/24] END C=0.01, penalty=l2, solver=liblinear;, score=0.658 total time=   0.9s\n",
      "[CV 5/5; 10/24] START C=0.01, penalty=l2, solver=liblinear......................\n",
      "[CV 5/5; 10/24] END C=0.01, penalty=l2, solver=liblinear;, score=0.658 total time=   0.9s\n",
      "[CV 1/5; 11/24] START C=0.01, penalty=elasticnet, solver=lbfgs..................\n",
      "[CV 1/5; 11/24] END C=0.01, penalty=elasticnet, solver=lbfgs;, score=nan total time=   0.0s\n",
      "[CV 2/5; 11/24] START C=0.01, penalty=elasticnet, solver=lbfgs..................\n",
      "[CV 2/5; 11/24] END C=0.01, penalty=elasticnet, solver=lbfgs;, score=nan total time=   0.0s\n",
      "[CV 3/5; 11/24] START C=0.01, penalty=elasticnet, solver=lbfgs..................\n",
      "[CV 3/5; 11/24] END C=0.01, penalty=elasticnet, solver=lbfgs;, score=nan total time=   0.0s\n",
      "[CV 4/5; 11/24] START C=0.01, penalty=elasticnet, solver=lbfgs..................\n",
      "[CV 4/5; 11/24] END C=0.01, penalty=elasticnet, solver=lbfgs;, score=nan total time=   0.0s\n",
      "[CV 5/5; 11/24] START C=0.01, penalty=elasticnet, solver=lbfgs..................\n",
      "[CV 5/5; 11/24] END C=0.01, penalty=elasticnet, solver=lbfgs;, score=nan total time=   0.0s\n",
      "[CV 1/5; 12/24] START C=0.01, penalty=elasticnet, solver=liblinear..............\n",
      "[CV 1/5; 12/24] END C=0.01, penalty=elasticnet, solver=liblinear;, score=nan total time=   0.0s\n",
      "[CV 2/5; 12/24] START C=0.01, penalty=elasticnet, solver=liblinear..............\n",
      "[CV 2/5; 12/24] END C=0.01, penalty=elasticnet, solver=liblinear;, score=nan total time=   0.0s\n",
      "[CV 3/5; 12/24] START C=0.01, penalty=elasticnet, solver=liblinear..............\n",
      "[CV 3/5; 12/24] END C=0.01, penalty=elasticnet, solver=liblinear;, score=nan total time=   0.0s\n",
      "[CV 4/5; 12/24] START C=0.01, penalty=elasticnet, solver=liblinear..............\n",
      "[CV 4/5; 12/24] END C=0.01, penalty=elasticnet, solver=liblinear;, score=nan total time=   0.0s\n",
      "[CV 5/5; 12/24] START C=0.01, penalty=elasticnet, solver=liblinear..............\n",
      "[CV 5/5; 12/24] END C=0.01, penalty=elasticnet, solver=liblinear;, score=nan total time=   0.0s\n",
      "[CV 1/5; 13/24] START C=0.1, penalty=l1, solver=lbfgs...........................\n",
      "[CV 1/5; 13/24] END C=0.1, penalty=l1, solver=lbfgs;, score=nan total time=   0.0s\n",
      "[CV 2/5; 13/24] START C=0.1, penalty=l1, solver=lbfgs...........................\n",
      "[CV 2/5; 13/24] END C=0.1, penalty=l1, solver=lbfgs;, score=nan total time=   0.0s\n",
      "[CV 3/5; 13/24] START C=0.1, penalty=l1, solver=lbfgs...........................\n",
      "[CV 3/5; 13/24] END C=0.1, penalty=l1, solver=lbfgs;, score=nan total time=   0.0s\n",
      "[CV 4/5; 13/24] START C=0.1, penalty=l1, solver=lbfgs...........................\n",
      "[CV 4/5; 13/24] END C=0.1, penalty=l1, solver=lbfgs;, score=nan total time=   0.0s\n",
      "[CV 5/5; 13/24] START C=0.1, penalty=l1, solver=lbfgs...........................\n",
      "[CV 5/5; 13/24] END C=0.1, penalty=l1, solver=lbfgs;, score=nan total time=   0.0s\n",
      "[CV 1/5; 14/24] START C=0.1, penalty=l1, solver=liblinear.......................\n",
      "[CV 1/5; 14/24] END C=0.1, penalty=l1, solver=liblinear;, score=0.658 total time=   0.9s\n",
      "[CV 2/5; 14/24] START C=0.1, penalty=l1, solver=liblinear.......................\n",
      "[CV 2/5; 14/24] END C=0.1, penalty=l1, solver=liblinear;, score=0.656 total time=   0.9s\n",
      "[CV 3/5; 14/24] START C=0.1, penalty=l1, solver=liblinear.......................\n",
      "[CV 3/5; 14/24] END C=0.1, penalty=l1, solver=liblinear;, score=0.656 total time=   0.9s\n",
      "[CV 4/5; 14/24] START C=0.1, penalty=l1, solver=liblinear.......................\n",
      "[CV 4/5; 14/24] END C=0.1, penalty=l1, solver=liblinear;, score=0.658 total time=   0.9s\n",
      "[CV 5/5; 14/24] START C=0.1, penalty=l1, solver=liblinear.......................\n",
      "[CV 5/5; 14/24] END C=0.1, penalty=l1, solver=liblinear;, score=0.658 total time=   0.9s\n",
      "[CV 1/5; 15/24] START C=0.1, penalty=l2, solver=lbfgs...........................\n",
      "[CV 1/5; 15/24] END C=0.1, penalty=l2, solver=lbfgs;, score=0.667 total time=   2.5s\n",
      "[CV 2/5; 15/24] START C=0.1, penalty=l2, solver=lbfgs...........................\n",
      "[CV 2/5; 15/24] END C=0.1, penalty=l2, solver=lbfgs;, score=0.650 total time=   3.1s\n",
      "[CV 3/5; 15/24] START C=0.1, penalty=l2, solver=lbfgs...........................\n",
      "[CV 3/5; 15/24] END C=0.1, penalty=l2, solver=lbfgs;, score=0.658 total time=   3.7s\n",
      "[CV 4/5; 15/24] START C=0.1, penalty=l2, solver=lbfgs...........................\n",
      "[CV 4/5; 15/24] END C=0.1, penalty=l2, solver=lbfgs;, score=0.656 total time=   2.5s\n",
      "[CV 5/5; 15/24] START C=0.1, penalty=l2, solver=lbfgs...........................\n",
      "[CV 5/5; 15/24] END C=0.1, penalty=l2, solver=lbfgs;, score=0.666 total time=   3.6s\n",
      "[CV 1/5; 16/24] START C=0.1, penalty=l2, solver=liblinear.......................\n",
      "[CV 1/5; 16/24] END C=0.1, penalty=l2, solver=liblinear;, score=0.658 total time=   0.9s\n",
      "[CV 2/5; 16/24] START C=0.1, penalty=l2, solver=liblinear.......................\n",
      "[CV 2/5; 16/24] END C=0.1, penalty=l2, solver=liblinear;, score=0.656 total time=   0.9s\n",
      "[CV 3/5; 16/24] START C=0.1, penalty=l2, solver=liblinear.......................\n",
      "[CV 3/5; 16/24] END C=0.1, penalty=l2, solver=liblinear;, score=0.656 total time=   0.9s\n",
      "[CV 4/5; 16/24] START C=0.1, penalty=l2, solver=liblinear.......................\n",
      "[CV 4/5; 16/24] END C=0.1, penalty=l2, solver=liblinear;, score=0.658 total time=   0.9s\n",
      "[CV 5/5; 16/24] START C=0.1, penalty=l2, solver=liblinear.......................\n",
      "[CV 5/5; 16/24] END C=0.1, penalty=l2, solver=liblinear;, score=0.658 total time=   0.9s\n",
      "[CV 1/5; 17/24] START C=0.1, penalty=elasticnet, solver=lbfgs...................\n",
      "[CV 1/5; 17/24] END C=0.1, penalty=elasticnet, solver=lbfgs;, score=nan total time=   0.0s\n",
      "[CV 2/5; 17/24] START C=0.1, penalty=elasticnet, solver=lbfgs...................\n",
      "[CV 2/5; 17/24] END C=0.1, penalty=elasticnet, solver=lbfgs;, score=nan total time=   0.0s\n",
      "[CV 3/5; 17/24] START C=0.1, penalty=elasticnet, solver=lbfgs...................\n",
      "[CV 3/5; 17/24] END C=0.1, penalty=elasticnet, solver=lbfgs;, score=nan total time=   0.0s\n",
      "[CV 4/5; 17/24] START C=0.1, penalty=elasticnet, solver=lbfgs...................\n",
      "[CV 4/5; 17/24] END C=0.1, penalty=elasticnet, solver=lbfgs;, score=nan total time=   0.0s\n",
      "[CV 5/5; 17/24] START C=0.1, penalty=elasticnet, solver=lbfgs...................\n",
      "[CV 5/5; 17/24] END C=0.1, penalty=elasticnet, solver=lbfgs;, score=nan total time=   0.0s\n",
      "[CV 1/5; 18/24] START C=0.1, penalty=elasticnet, solver=liblinear...............\n",
      "[CV 1/5; 18/24] END C=0.1, penalty=elasticnet, solver=liblinear;, score=nan total time=   0.0s\n",
      "[CV 2/5; 18/24] START C=0.1, penalty=elasticnet, solver=liblinear...............\n",
      "[CV 2/5; 18/24] END C=0.1, penalty=elasticnet, solver=liblinear;, score=nan total time=   0.0s\n",
      "[CV 3/5; 18/24] START C=0.1, penalty=elasticnet, solver=liblinear...............\n",
      "[CV 3/5; 18/24] END C=0.1, penalty=elasticnet, solver=liblinear;, score=nan total time=   0.0s\n",
      "[CV 4/5; 18/24] START C=0.1, penalty=elasticnet, solver=liblinear...............\n",
      "[CV 4/5; 18/24] END C=0.1, penalty=elasticnet, solver=liblinear;, score=nan total time=   0.0s\n",
      "[CV 5/5; 18/24] START C=0.1, penalty=elasticnet, solver=liblinear...............\n",
      "[CV 5/5; 18/24] END C=0.1, penalty=elasticnet, solver=liblinear;, score=nan total time=   0.0s\n",
      "[CV 1/5; 19/24] START C=1, penalty=l1, solver=lbfgs.............................\n",
      "[CV 1/5; 19/24] END C=1, penalty=l1, solver=lbfgs;, score=nan total time=   0.0s\n",
      "[CV 2/5; 19/24] START C=1, penalty=l1, solver=lbfgs.............................\n",
      "[CV 2/5; 19/24] END C=1, penalty=l1, solver=lbfgs;, score=nan total time=   0.0s\n",
      "[CV 3/5; 19/24] START C=1, penalty=l1, solver=lbfgs.............................\n",
      "[CV 3/5; 19/24] END C=1, penalty=l1, solver=lbfgs;, score=nan total time=   0.0s\n",
      "[CV 4/5; 19/24] START C=1, penalty=l1, solver=lbfgs.............................\n",
      "[CV 4/5; 19/24] END C=1, penalty=l1, solver=lbfgs;, score=nan total time=   0.0s\n",
      "[CV 5/5; 19/24] START C=1, penalty=l1, solver=lbfgs.............................\n",
      "[CV 5/5; 19/24] END C=1, penalty=l1, solver=lbfgs;, score=nan total time=   0.0s\n",
      "[CV 1/5; 20/24] START C=1, penalty=l1, solver=liblinear.........................\n",
      "[CV 1/5; 20/24] END C=1, penalty=l1, solver=liblinear;, score=0.667 total time=   0.9s\n",
      "[CV 2/5; 20/24] START C=1, penalty=l1, solver=liblinear.........................\n",
      "[CV 2/5; 20/24] END C=1, penalty=l1, solver=liblinear;, score=0.654 total time=   1.0s\n",
      "[CV 3/5; 20/24] START C=1, penalty=l1, solver=liblinear.........................\n",
      "[CV 3/5; 20/24] END C=1, penalty=l1, solver=liblinear;, score=0.654 total time=   0.9s\n",
      "[CV 4/5; 20/24] START C=1, penalty=l1, solver=liblinear.........................\n",
      "[CV 4/5; 20/24] END C=1, penalty=l1, solver=liblinear;, score=0.660 total time=   0.9s\n",
      "[CV 5/5; 20/24] START C=1, penalty=l1, solver=liblinear.........................\n",
      "[CV 5/5; 20/24] END C=1, penalty=l1, solver=liblinear;, score=0.647 total time=   1.0s\n",
      "[CV 1/5; 21/24] START C=1, penalty=l2, solver=lbfgs.............................\n",
      "[CV 1/5; 21/24] END C=1, penalty=l2, solver=lbfgs;, score=0.642 total time=   3.6s\n",
      "[CV 2/5; 21/24] START C=1, penalty=l2, solver=lbfgs.............................\n",
      "[CV 2/5; 21/24] END C=1, penalty=l2, solver=lbfgs;, score=0.646 total time=   3.7s\n",
      "[CV 3/5; 21/24] START C=1, penalty=l2, solver=lbfgs.............................\n",
      "[CV 3/5; 21/24] END C=1, penalty=l2, solver=lbfgs;, score=0.656 total time=   3.6s\n",
      "[CV 4/5; 21/24] START C=1, penalty=l2, solver=lbfgs.............................\n",
      "[CV 4/5; 21/24] END C=1, penalty=l2, solver=lbfgs;, score=0.664 total time=   4.2s\n",
      "[CV 5/5; 21/24] START C=1, penalty=l2, solver=lbfgs.............................\n",
      "[CV 5/5; 21/24] END C=1, penalty=l2, solver=lbfgs;, score=0.656 total time=   3.6s\n",
      "[CV 1/5; 22/24] START C=1, penalty=l2, solver=liblinear.........................\n",
      "[CV 1/5; 22/24] END C=1, penalty=l2, solver=liblinear;, score=0.660 total time=   0.9s\n",
      "[CV 2/5; 22/24] START C=1, penalty=l2, solver=liblinear.........................\n",
      "[CV 2/5; 22/24] END C=1, penalty=l2, solver=liblinear;, score=0.646 total time=   0.9s\n",
      "[CV 3/5; 22/24] START C=1, penalty=l2, solver=liblinear.........................\n",
      "[CV 3/5; 22/24] END C=1, penalty=l2, solver=liblinear;, score=0.652 total time=   0.9s\n",
      "[CV 4/5; 22/24] START C=1, penalty=l2, solver=liblinear.........................\n",
      "[CV 4/5; 22/24] END C=1, penalty=l2, solver=liblinear;, score=0.664 total time=   0.9s\n",
      "[CV 5/5; 22/24] START C=1, penalty=l2, solver=liblinear.........................\n",
      "[CV 5/5; 22/24] END C=1, penalty=l2, solver=liblinear;, score=0.645 total time=   0.9s\n",
      "[CV 1/5; 23/24] START C=1, penalty=elasticnet, solver=lbfgs.....................\n",
      "[CV 1/5; 23/24] END C=1, penalty=elasticnet, solver=lbfgs;, score=nan total time=   0.0s\n",
      "[CV 2/5; 23/24] START C=1, penalty=elasticnet, solver=lbfgs.....................\n",
      "[CV 2/5; 23/24] END C=1, penalty=elasticnet, solver=lbfgs;, score=nan total time=   0.0s\n",
      "[CV 3/5; 23/24] START C=1, penalty=elasticnet, solver=lbfgs.....................\n",
      "[CV 3/5; 23/24] END C=1, penalty=elasticnet, solver=lbfgs;, score=nan total time=   0.0s\n",
      "[CV 4/5; 23/24] START C=1, penalty=elasticnet, solver=lbfgs.....................\n",
      "[CV 4/5; 23/24] END C=1, penalty=elasticnet, solver=lbfgs;, score=nan total time=   0.0s\n",
      "[CV 5/5; 23/24] START C=1, penalty=elasticnet, solver=lbfgs.....................\n",
      "[CV 5/5; 23/24] END C=1, penalty=elasticnet, solver=lbfgs;, score=nan total time=   0.0s\n",
      "[CV 1/5; 24/24] START C=1, penalty=elasticnet, solver=liblinear.................\n",
      "[CV 1/5; 24/24] END C=1, penalty=elasticnet, solver=liblinear;, score=nan total time=   0.0s\n",
      "[CV 2/5; 24/24] START C=1, penalty=elasticnet, solver=liblinear.................\n",
      "[CV 2/5; 24/24] END C=1, penalty=elasticnet, solver=liblinear;, score=nan total time=   0.0s\n",
      "[CV 3/5; 24/24] START C=1, penalty=elasticnet, solver=liblinear.................\n",
      "[CV 3/5; 24/24] END C=1, penalty=elasticnet, solver=liblinear;, score=nan total time=   0.0s\n",
      "[CV 4/5; 24/24] START C=1, penalty=elasticnet, solver=liblinear.................\n",
      "[CV 4/5; 24/24] END C=1, penalty=elasticnet, solver=liblinear;, score=nan total time=   0.0s\n",
      "[CV 5/5; 24/24] START C=1, penalty=elasticnet, solver=liblinear.................\n",
      "[CV 5/5; 24/24] END C=1, penalty=elasticnet, solver=liblinear;, score=nan total time=   0.0s\n",
      "TFIDF Best Params: {'C': 0.1, 'penalty': 'l2', 'solver': 'lbfgs'}\n"
     ]
    }
   ],
   "source": [
    "grid_search.fit(Xt_train, yt_train)\n",
    "best_model_tfidf = grid_search.best_estimator_\n",
    "print(\"TFIDF Best Params:\", grid_search.best_params_)"
   ]
  },
  {
   "cell_type": "code",
   "execution_count": 294,
   "metadata": {},
   "outputs": [
    {
     "name": "stdout",
     "output_type": "stream",
     "text": [
      "Count Best Params: Count Best Params: {'C': 0.001, 'penalty': 'l1', 'solver': 'liblinear'}\n",
      "0.6572143452877398\n",
      "0.6566666666666666\n"
     ]
    }
   ],
   "source": [
    "print(\"Count Best Params: Count Best Params: {'C': 0.001, 'penalty': 'l1', 'solver': 'liblinear'}\")\n",
    "print(best_model_counts.score(Xc_train, yc_train))\n",
    "print(best_model_counts.score(Xc_test, yc_test))"
   ]
  },
  {
   "cell_type": "code",
   "execution_count": 296,
   "metadata": {},
   "outputs": [
    {
     "name": "stdout",
     "output_type": "stream",
     "text": [
      "TFIDF Best Params: {'C': 0.1, 'penalty': 'l2', 'solver': 'lbfgs'}\n",
      "0.658465387823186\n",
      "0.6383333333333333\n"
     ]
    }
   ],
   "source": [
    "print(\"TFIDF Best Params: {'C': 0.1, 'penalty': 'l2', 'solver': 'lbfgs'}\")\n",
    "print(best_model_tfidf.score(Xt_train, yt_train))\n",
    "print(best_model_tfidf.score(Xt_test, yt_test))"
   ]
  },
  {
   "cell_type": "markdown",
   "metadata": {},
   "source": [
    "##### Grid Search RF"
   ]
  },
  {
   "cell_type": "code",
   "execution_count": 297,
   "metadata": {},
   "outputs": [],
   "source": [
    "rf_param_grid = {\n",
    "    \"max_depth\": [30, 40, 50],\n",
    "    \"n_estimators\": [50, 100, 150, 200]\n",
    "}\n",
    "\n",
    "grid_search = GridSearchCV(estimator=rf, param_grid=rf_param_grid, cv=5, verbose=10)"
   ]
  },
  {
   "cell_type": "code",
   "execution_count": 298,
   "metadata": {},
   "outputs": [
    {
     "name": "stdout",
     "output_type": "stream",
     "text": [
      "Fitting 5 folds for each of 12 candidates, totalling 60 fits\n",
      "[CV 1/5; 1/12] START max_depth=30, n_estimators=50..............................\n",
      "[CV 1/5; 1/12] END max_depth=30, n_estimators=50;, score=0.656 total time=   1.9s\n",
      "[CV 2/5; 1/12] START max_depth=30, n_estimators=50..............................\n",
      "[CV 2/5; 1/12] END max_depth=30, n_estimators=50;, score=0.654 total time=   1.8s\n",
      "[CV 3/5; 1/12] START max_depth=30, n_estimators=50..............................\n",
      "[CV 3/5; 1/12] END max_depth=30, n_estimators=50;, score=0.652 total time=   1.9s\n",
      "[CV 4/5; 1/12] START max_depth=30, n_estimators=50..............................\n",
      "[CV 4/5; 1/12] END max_depth=30, n_estimators=50;, score=0.658 total time=   1.8s\n",
      "[CV 5/5; 1/12] START max_depth=30, n_estimators=50..............................\n",
      "[CV 5/5; 1/12] END max_depth=30, n_estimators=50;, score=0.662 total time=   1.8s\n",
      "[CV 1/5; 2/12] START max_depth=30, n_estimators=100.............................\n",
      "[CV 1/5; 2/12] END max_depth=30, n_estimators=100;, score=0.660 total time=   2.9s\n",
      "[CV 2/5; 2/12] START max_depth=30, n_estimators=100.............................\n",
      "[CV 2/5; 2/12] END max_depth=30, n_estimators=100;, score=0.658 total time=   2.9s\n",
      "[CV 3/5; 2/12] START max_depth=30, n_estimators=100.............................\n",
      "[CV 3/5; 2/12] END max_depth=30, n_estimators=100;, score=0.652 total time=   2.9s\n",
      "[CV 4/5; 2/12] START max_depth=30, n_estimators=100.............................\n",
      "[CV 4/5; 2/12] END max_depth=30, n_estimators=100;, score=0.658 total time=   2.9s\n",
      "[CV 5/5; 2/12] START max_depth=30, n_estimators=100.............................\n",
      "[CV 5/5; 2/12] END max_depth=30, n_estimators=100;, score=0.658 total time=   2.9s\n",
      "[CV 1/5; 3/12] START max_depth=30, n_estimators=150.............................\n",
      "[CV 1/5; 3/12] END max_depth=30, n_estimators=150;, score=0.658 total time=   4.0s\n",
      "[CV 2/5; 3/12] START max_depth=30, n_estimators=150.............................\n",
      "[CV 2/5; 3/12] END max_depth=30, n_estimators=150;, score=0.656 total time=   4.1s\n",
      "[CV 3/5; 3/12] START max_depth=30, n_estimators=150.............................\n",
      "[CV 3/5; 3/12] END max_depth=30, n_estimators=150;, score=0.654 total time=   4.0s\n",
      "[CV 4/5; 3/12] START max_depth=30, n_estimators=150.............................\n",
      "[CV 4/5; 3/12] END max_depth=30, n_estimators=150;, score=0.658 total time=   4.1s\n",
      "[CV 5/5; 3/12] START max_depth=30, n_estimators=150.............................\n",
      "[CV 5/5; 3/12] END max_depth=30, n_estimators=150;, score=0.658 total time=   4.3s\n",
      "[CV 1/5; 4/12] START max_depth=30, n_estimators=200.............................\n",
      "[CV 1/5; 4/12] END max_depth=30, n_estimators=200;, score=0.658 total time=   5.2s\n",
      "[CV 2/5; 4/12] START max_depth=30, n_estimators=200.............................\n",
      "[CV 2/5; 4/12] END max_depth=30, n_estimators=200;, score=0.656 total time=   5.2s\n",
      "[CV 3/5; 4/12] START max_depth=30, n_estimators=200.............................\n",
      "[CV 3/5; 4/12] END max_depth=30, n_estimators=200;, score=0.654 total time=   5.2s\n",
      "[CV 4/5; 4/12] START max_depth=30, n_estimators=200.............................\n",
      "[CV 4/5; 4/12] END max_depth=30, n_estimators=200;, score=0.658 total time=   5.3s\n",
      "[CV 5/5; 4/12] START max_depth=30, n_estimators=200.............................\n",
      "[CV 5/5; 4/12] END max_depth=30, n_estimators=200;, score=0.656 total time=   5.3s\n",
      "[CV 1/5; 5/12] START max_depth=40, n_estimators=50..............................\n",
      "[CV 1/5; 5/12] END max_depth=40, n_estimators=50;, score=0.654 total time=   2.1s\n",
      "[CV 2/5; 5/12] START max_depth=40, n_estimators=50..............................\n",
      "[CV 2/5; 5/12] END max_depth=40, n_estimators=50;, score=0.654 total time=   2.1s\n",
      "[CV 3/5; 5/12] START max_depth=40, n_estimators=50..............................\n",
      "[CV 3/5; 5/12] END max_depth=40, n_estimators=50;, score=0.652 total time=   2.0s\n",
      "[CV 4/5; 5/12] START max_depth=40, n_estimators=50..............................\n",
      "[CV 4/5; 5/12] END max_depth=40, n_estimators=50;, score=0.660 total time=   2.1s\n",
      "[CV 5/5; 5/12] START max_depth=40, n_estimators=50..............................\n",
      "[CV 5/5; 5/12] END max_depth=40, n_estimators=50;, score=0.656 total time=   2.1s\n",
      "[CV 1/5; 6/12] START max_depth=40, n_estimators=100.............................\n",
      "[CV 1/5; 6/12] END max_depth=40, n_estimators=100;, score=0.658 total time=   3.5s\n",
      "[CV 2/5; 6/12] START max_depth=40, n_estimators=100.............................\n",
      "[CV 2/5; 6/12] END max_depth=40, n_estimators=100;, score=0.656 total time=   3.6s\n",
      "[CV 3/5; 6/12] START max_depth=40, n_estimators=100.............................\n",
      "[CV 3/5; 6/12] END max_depth=40, n_estimators=100;, score=0.652 total time=   3.6s\n",
      "[CV 4/5; 6/12] START max_depth=40, n_estimators=100.............................\n",
      "[CV 4/5; 6/12] END max_depth=40, n_estimators=100;, score=0.658 total time=   3.7s\n",
      "[CV 5/5; 6/12] START max_depth=40, n_estimators=100.............................\n",
      "[CV 5/5; 6/12] END max_depth=40, n_estimators=100;, score=0.658 total time=   3.6s\n",
      "[CV 1/5; 7/12] START max_depth=40, n_estimators=150.............................\n",
      "[CV 1/5; 7/12] END max_depth=40, n_estimators=150;, score=0.660 total time=   5.0s\n",
      "[CV 2/5; 7/12] START max_depth=40, n_estimators=150.............................\n",
      "[CV 2/5; 7/12] END max_depth=40, n_estimators=150;, score=0.658 total time=   5.1s\n",
      "[CV 3/5; 7/12] START max_depth=40, n_estimators=150.............................\n",
      "[CV 3/5; 7/12] END max_depth=40, n_estimators=150;, score=0.654 total time=   5.0s\n",
      "[CV 4/5; 7/12] START max_depth=40, n_estimators=150.............................\n",
      "[CV 4/5; 7/12] END max_depth=40, n_estimators=150;, score=0.658 total time=   5.1s\n",
      "[CV 5/5; 7/12] START max_depth=40, n_estimators=150.............................\n",
      "[CV 5/5; 7/12] END max_depth=40, n_estimators=150;, score=0.658 total time=   5.1s\n",
      "[CV 1/5; 8/12] START max_depth=40, n_estimators=200.............................\n",
      "[CV 1/5; 8/12] END max_depth=40, n_estimators=200;, score=0.660 total time=   6.4s\n",
      "[CV 2/5; 8/12] START max_depth=40, n_estimators=200.............................\n",
      "[CV 2/5; 8/12] END max_depth=40, n_estimators=200;, score=0.656 total time=   6.5s\n",
      "[CV 3/5; 8/12] START max_depth=40, n_estimators=200.............................\n",
      "[CV 3/5; 8/12] END max_depth=40, n_estimators=200;, score=0.654 total time=   6.6s\n",
      "[CV 4/5; 8/12] START max_depth=40, n_estimators=200.............................\n",
      "[CV 4/5; 8/12] END max_depth=40, n_estimators=200;, score=0.658 total time=   6.6s\n",
      "[CV 5/5; 8/12] START max_depth=40, n_estimators=200.............................\n",
      "[CV 5/5; 8/12] END max_depth=40, n_estimators=200;, score=0.656 total time=   6.6s\n",
      "[CV 1/5; 9/12] START max_depth=50, n_estimators=50..............................\n",
      "[CV 1/5; 9/12] END max_depth=50, n_estimators=50;, score=0.656 total time=   2.3s\n",
      "[CV 2/5; 9/12] START max_depth=50, n_estimators=50..............................\n",
      "[CV 2/5; 9/12] END max_depth=50, n_estimators=50;, score=0.660 total time=   2.4s\n",
      "[CV 3/5; 9/12] START max_depth=50, n_estimators=50..............................\n",
      "[CV 3/5; 9/12] END max_depth=50, n_estimators=50;, score=0.652 total time=   2.3s\n",
      "[CV 4/5; 9/12] START max_depth=50, n_estimators=50..............................\n",
      "[CV 4/5; 9/12] END max_depth=50, n_estimators=50;, score=0.658 total time=   2.3s\n",
      "[CV 5/5; 9/12] START max_depth=50, n_estimators=50..............................\n",
      "[CV 5/5; 9/12] END max_depth=50, n_estimators=50;, score=0.649 total time=   2.4s\n",
      "[CV 1/5; 10/12] START max_depth=50, n_estimators=100............................\n",
      "[CV 1/5; 10/12] END max_depth=50, n_estimators=100;, score=0.652 total time=   4.1s\n",
      "[CV 2/5; 10/12] START max_depth=50, n_estimators=100............................\n",
      "[CV 2/5; 10/12] END max_depth=50, n_estimators=100;, score=0.658 total time=   4.1s\n",
      "[CV 3/5; 10/12] START max_depth=50, n_estimators=100............................\n",
      "[CV 3/5; 10/12] END max_depth=50, n_estimators=100;, score=0.654 total time=   4.2s\n",
      "[CV 4/5; 10/12] START max_depth=50, n_estimators=100............................\n",
      "[CV 4/5; 10/12] END max_depth=50, n_estimators=100;, score=0.656 total time=   4.2s\n",
      "[CV 5/5; 10/12] START max_depth=50, n_estimators=100............................\n",
      "[CV 5/5; 10/12] END max_depth=50, n_estimators=100;, score=0.651 total time=   4.1s\n",
      "[CV 1/5; 11/12] START max_depth=50, n_estimators=150............................\n",
      "[CV 1/5; 11/12] END max_depth=50, n_estimators=150;, score=0.654 total time=   5.8s\n",
      "[CV 2/5; 11/12] START max_depth=50, n_estimators=150............................\n",
      "[CV 2/5; 11/12] END max_depth=50, n_estimators=150;, score=0.658 total time=   6.0s\n",
      "[CV 3/5; 11/12] START max_depth=50, n_estimators=150............................\n",
      "[CV 3/5; 11/12] END max_depth=50, n_estimators=150;, score=0.650 total time=   5.9s\n",
      "[CV 4/5; 11/12] START max_depth=50, n_estimators=150............................\n",
      "[CV 4/5; 11/12] END max_depth=50, n_estimators=150;, score=0.658 total time=   6.1s\n",
      "[CV 5/5; 11/12] START max_depth=50, n_estimators=150............................\n",
      "[CV 5/5; 11/12] END max_depth=50, n_estimators=150;, score=0.653 total time=   5.9s\n",
      "[CV 1/5; 12/12] START max_depth=50, n_estimators=200............................\n",
      "[CV 1/5; 12/12] END max_depth=50, n_estimators=200;, score=0.658 total time=   7.8s\n",
      "[CV 2/5; 12/12] START max_depth=50, n_estimators=200............................\n",
      "[CV 2/5; 12/12] END max_depth=50, n_estimators=200;, score=0.658 total time=   7.9s\n",
      "[CV 3/5; 12/12] START max_depth=50, n_estimators=200............................\n",
      "[CV 3/5; 12/12] END max_depth=50, n_estimators=200;, score=0.650 total time=   7.8s\n",
      "[CV 4/5; 12/12] START max_depth=50, n_estimators=200............................\n",
      "[CV 4/5; 12/12] END max_depth=50, n_estimators=200;, score=0.658 total time=   7.8s\n",
      "[CV 5/5; 12/12] START max_depth=50, n_estimators=200............................\n",
      "[CV 5/5; 12/12] END max_depth=50, n_estimators=200;, score=0.658 total time=   7.9s\n",
      "Count Best Params: {'max_depth': 40, 'n_estimators': 150}\n"
     ]
    }
   ],
   "source": [
    "grid_search.fit(Xc_train, yc_train)\n",
    "best_model_counts = grid_search.best_estimator_\n",
    "print(\"Count Best Params:\", grid_search.best_params_)"
   ]
  },
  {
   "cell_type": "code",
   "execution_count": 300,
   "metadata": {},
   "outputs": [
    {
     "name": "stdout",
     "output_type": "stream",
     "text": [
      "Fitting 5 folds for each of 12 candidates, totalling 60 fits\n",
      "[CV 1/5; 1/12] START max_depth=30, n_estimators=50..............................\n",
      "[CV 1/5; 1/12] END max_depth=30, n_estimators=50;, score=0.660 total time=   2.3s\n",
      "[CV 2/5; 1/12] START max_depth=30, n_estimators=50..............................\n",
      "[CV 2/5; 1/12] END max_depth=30, n_estimators=50;, score=0.656 total time=   2.0s\n",
      "[CV 3/5; 1/12] START max_depth=30, n_estimators=50..............................\n",
      "[CV 3/5; 1/12] END max_depth=30, n_estimators=50;, score=0.656 total time=   2.2s\n",
      "[CV 4/5; 1/12] START max_depth=30, n_estimators=50..............................\n",
      "[CV 4/5; 1/12] END max_depth=30, n_estimators=50;, score=0.656 total time=   2.2s\n",
      "[CV 5/5; 1/12] START max_depth=30, n_estimators=50..............................\n",
      "[CV 5/5; 1/12] END max_depth=30, n_estimators=50;, score=0.660 total time=   2.0s\n",
      "[CV 1/5; 2/12] START max_depth=30, n_estimators=100.............................\n",
      "[CV 1/5; 2/12] END max_depth=30, n_estimators=100;, score=0.658 total time=   3.3s\n",
      "[CV 2/5; 2/12] START max_depth=30, n_estimators=100.............................\n",
      "[CV 2/5; 2/12] END max_depth=30, n_estimators=100;, score=0.656 total time=   3.3s\n",
      "[CV 3/5; 2/12] START max_depth=30, n_estimators=100.............................\n",
      "[CV 3/5; 2/12] END max_depth=30, n_estimators=100;, score=0.656 total time=   3.2s\n",
      "[CV 4/5; 2/12] START max_depth=30, n_estimators=100.............................\n",
      "[CV 4/5; 2/12] END max_depth=30, n_estimators=100;, score=0.658 total time=   3.2s\n",
      "[CV 5/5; 2/12] START max_depth=30, n_estimators=100.............................\n",
      "[CV 5/5; 2/12] END max_depth=30, n_estimators=100;, score=0.658 total time=   3.3s\n",
      "[CV 1/5; 3/12] START max_depth=30, n_estimators=150.............................\n",
      "[CV 1/5; 3/12] END max_depth=30, n_estimators=150;, score=0.662 total time=   4.7s\n",
      "[CV 2/5; 3/12] START max_depth=30, n_estimators=150.............................\n",
      "[CV 2/5; 3/12] END max_depth=30, n_estimators=150;, score=0.656 total time=   5.3s\n",
      "[CV 3/5; 3/12] START max_depth=30, n_estimators=150.............................\n",
      "[CV 3/5; 3/12] END max_depth=30, n_estimators=150;, score=0.654 total time=   4.7s\n",
      "[CV 4/5; 3/12] START max_depth=30, n_estimators=150.............................\n",
      "[CV 4/5; 3/12] END max_depth=30, n_estimators=150;, score=0.658 total time=   4.6s\n",
      "[CV 5/5; 3/12] START max_depth=30, n_estimators=150.............................\n",
      "[CV 5/5; 3/12] END max_depth=30, n_estimators=150;, score=0.658 total time=   4.7s\n",
      "[CV 1/5; 4/12] START max_depth=30, n_estimators=200.............................\n",
      "[CV 1/5; 4/12] END max_depth=30, n_estimators=200;, score=0.658 total time=   5.9s\n",
      "[CV 2/5; 4/12] START max_depth=30, n_estimators=200.............................\n",
      "[CV 2/5; 4/12] END max_depth=30, n_estimators=200;, score=0.656 total time=   6.0s\n",
      "[CV 3/5; 4/12] START max_depth=30, n_estimators=200.............................\n",
      "[CV 3/5; 4/12] END max_depth=30, n_estimators=200;, score=0.656 total time=   5.9s\n",
      "[CV 4/5; 4/12] START max_depth=30, n_estimators=200.............................\n",
      "[CV 4/5; 4/12] END max_depth=30, n_estimators=200;, score=0.658 total time=   6.0s\n",
      "[CV 5/5; 4/12] START max_depth=30, n_estimators=200.............................\n",
      "[CV 5/5; 4/12] END max_depth=30, n_estimators=200;, score=0.658 total time=   6.1s\n",
      "[CV 1/5; 5/12] START max_depth=40, n_estimators=50..............................\n",
      "[CV 1/5; 5/12] END max_depth=40, n_estimators=50;, score=0.652 total time=   2.2s\n",
      "[CV 2/5; 5/12] START max_depth=40, n_estimators=50..............................\n",
      "[CV 2/5; 5/12] END max_depth=40, n_estimators=50;, score=0.656 total time=   2.3s\n",
      "[CV 3/5; 5/12] START max_depth=40, n_estimators=50..............................\n",
      "[CV 3/5; 5/12] END max_depth=40, n_estimators=50;, score=0.656 total time=   2.3s\n",
      "[CV 4/5; 5/12] START max_depth=40, n_estimators=50..............................\n",
      "[CV 4/5; 5/12] END max_depth=40, n_estimators=50;, score=0.662 total time=   2.3s\n",
      "[CV 5/5; 5/12] START max_depth=40, n_estimators=50..............................\n",
      "[CV 5/5; 5/12] END max_depth=40, n_estimators=50;, score=0.653 total time=   2.3s\n",
      "[CV 1/5; 6/12] START max_depth=40, n_estimators=100.............................\n",
      "[CV 1/5; 6/12] END max_depth=40, n_estimators=100;, score=0.658 total time=   3.9s\n",
      "[CV 2/5; 6/12] START max_depth=40, n_estimators=100.............................\n",
      "[CV 2/5; 6/12] END max_depth=40, n_estimators=100;, score=0.658 total time=   4.1s\n",
      "[CV 3/5; 6/12] START max_depth=40, n_estimators=100.............................\n",
      "[CV 3/5; 6/12] END max_depth=40, n_estimators=100;, score=0.656 total time=   4.0s\n",
      "[CV 4/5; 6/12] START max_depth=40, n_estimators=100.............................\n",
      "[CV 4/5; 6/12] END max_depth=40, n_estimators=100;, score=0.656 total time=   4.0s\n",
      "[CV 5/5; 6/12] START max_depth=40, n_estimators=100.............................\n",
      "[CV 5/5; 6/12] END max_depth=40, n_estimators=100;, score=0.658 total time=   4.0s\n",
      "[CV 1/5; 7/12] START max_depth=40, n_estimators=150.............................\n",
      "[CV 1/5; 7/12] END max_depth=40, n_estimators=150;, score=0.654 total time=   5.6s\n",
      "[CV 2/5; 7/12] START max_depth=40, n_estimators=150.............................\n",
      "[CV 2/5; 7/12] END max_depth=40, n_estimators=150;, score=0.656 total time=   5.9s\n",
      "[CV 3/5; 7/12] START max_depth=40, n_estimators=150.............................\n",
      "[CV 3/5; 7/12] END max_depth=40, n_estimators=150;, score=0.656 total time=   5.7s\n",
      "[CV 4/5; 7/12] START max_depth=40, n_estimators=150.............................\n",
      "[CV 4/5; 7/12] END max_depth=40, n_estimators=150;, score=0.658 total time=   5.7s\n",
      "[CV 5/5; 7/12] START max_depth=40, n_estimators=150.............................\n",
      "[CV 5/5; 7/12] END max_depth=40, n_estimators=150;, score=0.658 total time=   5.8s\n",
      "[CV 1/5; 8/12] START max_depth=40, n_estimators=200.............................\n",
      "[CV 1/5; 8/12] END max_depth=40, n_estimators=200;, score=0.656 total time=   7.5s\n",
      "[CV 2/5; 8/12] START max_depth=40, n_estimators=200.............................\n",
      "[CV 2/5; 8/12] END max_depth=40, n_estimators=200;, score=0.656 total time=   7.5s\n",
      "[CV 3/5; 8/12] START max_depth=40, n_estimators=200.............................\n",
      "[CV 3/5; 8/12] END max_depth=40, n_estimators=200;, score=0.656 total time=   7.3s\n",
      "[CV 4/5; 8/12] START max_depth=40, n_estimators=200.............................\n",
      "[CV 4/5; 8/12] END max_depth=40, n_estimators=200;, score=0.656 total time=   7.5s\n",
      "[CV 5/5; 8/12] START max_depth=40, n_estimators=200.............................\n",
      "[CV 5/5; 8/12] END max_depth=40, n_estimators=200;, score=0.658 total time=   7.5s\n",
      "[CV 1/5; 9/12] START max_depth=50, n_estimators=50..............................\n",
      "[CV 1/5; 9/12] END max_depth=50, n_estimators=50;, score=0.652 total time=   2.6s\n",
      "[CV 2/5; 9/12] START max_depth=50, n_estimators=50..............................\n",
      "[CV 2/5; 9/12] END max_depth=50, n_estimators=50;, score=0.652 total time=   2.6s\n",
      "[CV 3/5; 9/12] START max_depth=50, n_estimators=50..............................\n",
      "[CV 3/5; 9/12] END max_depth=50, n_estimators=50;, score=0.654 total time=   2.6s\n",
      "[CV 4/5; 9/12] START max_depth=50, n_estimators=50..............................\n",
      "[CV 4/5; 9/12] END max_depth=50, n_estimators=50;, score=0.660 total time=   2.6s\n",
      "[CV 5/5; 9/12] START max_depth=50, n_estimators=50..............................\n",
      "[CV 5/5; 9/12] END max_depth=50, n_estimators=50;, score=0.649 total time=   2.6s\n",
      "[CV 1/5; 10/12] START max_depth=50, n_estimators=100............................\n",
      "[CV 1/5; 10/12] END max_depth=50, n_estimators=100;, score=0.656 total time=   4.6s\n",
      "[CV 2/5; 10/12] START max_depth=50, n_estimators=100............................\n",
      "[CV 2/5; 10/12] END max_depth=50, n_estimators=100;, score=0.654 total time=   4.6s\n",
      "[CV 3/5; 10/12] START max_depth=50, n_estimators=100............................\n",
      "[CV 3/5; 10/12] END max_depth=50, n_estimators=100;, score=0.656 total time=   4.6s\n",
      "[CV 4/5; 10/12] START max_depth=50, n_estimators=100............................\n",
      "[CV 4/5; 10/12] END max_depth=50, n_estimators=100;, score=0.656 total time=   4.6s\n",
      "[CV 5/5; 10/12] START max_depth=50, n_estimators=100............................\n",
      "[CV 5/5; 10/12] END max_depth=50, n_estimators=100;, score=0.658 total time=   4.6s\n",
      "[CV 1/5; 11/12] START max_depth=50, n_estimators=150............................\n",
      "[CV 1/5; 11/12] END max_depth=50, n_estimators=150;, score=0.660 total time=   6.6s\n",
      "[CV 2/5; 11/12] START max_depth=50, n_estimators=150............................\n",
      "[CV 2/5; 11/12] END max_depth=50, n_estimators=150;, score=0.658 total time=   6.6s\n",
      "[CV 3/5; 11/12] START max_depth=50, n_estimators=150............................\n",
      "[CV 3/5; 11/12] END max_depth=50, n_estimators=150;, score=0.656 total time=   6.6s\n",
      "[CV 4/5; 11/12] START max_depth=50, n_estimators=150............................\n",
      "[CV 4/5; 11/12] END max_depth=50, n_estimators=150;, score=0.658 total time=   6.7s\n",
      "[CV 5/5; 11/12] START max_depth=50, n_estimators=150............................\n",
      "[CV 5/5; 11/12] END max_depth=50, n_estimators=150;, score=0.658 total time=   7.4s\n",
      "[CV 1/5; 12/12] START max_depth=50, n_estimators=200............................\n",
      "[CV 1/5; 12/12] END max_depth=50, n_estimators=200;, score=0.656 total time=   8.8s\n",
      "[CV 2/5; 12/12] START max_depth=50, n_estimators=200............................\n",
      "[CV 2/5; 12/12] END max_depth=50, n_estimators=200;, score=0.656 total time=   8.6s\n",
      "[CV 3/5; 12/12] START max_depth=50, n_estimators=200............................\n",
      "[CV 3/5; 12/12] END max_depth=50, n_estimators=200;, score=0.658 total time=   8.7s\n",
      "[CV 4/5; 12/12] START max_depth=50, n_estimators=200............................\n",
      "[CV 4/5; 12/12] END max_depth=50, n_estimators=200;, score=0.658 total time=   8.6s\n",
      "[CV 5/5; 12/12] START max_depth=50, n_estimators=200............................\n",
      "[CV 5/5; 12/12] END max_depth=50, n_estimators=200;, score=0.656 total time=   8.7s\n",
      "TFIDF Best Params: {'max_depth': 50, 'n_estimators': 150}\n"
     ]
    }
   ],
   "source": [
    "grid_search.fit(Xt_train, yt_train)\n",
    "best_model_tfidf = grid_search.best_estimator_\n",
    "print(\"TFIDF Best Params:\", grid_search.best_params_)"
   ]
  },
  {
   "cell_type": "code",
   "execution_count": 299,
   "metadata": {},
   "outputs": [
    {
     "name": "stdout",
     "output_type": "stream",
     "text": [
      "Count Best Params: {'max_depth': 40, 'n_estimators': 150}\n",
      "0.7935779816513762\n",
      "0.6583333333333333\n"
     ]
    }
   ],
   "source": [
    "print(\"Count Best Params: {'max_depth': 40, 'n_estimators': 150}\")\n",
    "print(best_model_counts.score(Xc_train, yc_train))\n",
    "print(best_model_counts.score(Xc_test, yc_test))"
   ]
  },
  {
   "cell_type": "code",
   "execution_count": 301,
   "metadata": {},
   "outputs": [
    {
     "name": "stdout",
     "output_type": "stream",
     "text": [
      "TFIDF Best Params: {'max_depth': 50, 'n_estimators': 150}\n",
      "0.8974145120934112\n",
      "0.655\n"
     ]
    }
   ],
   "source": [
    "print(\"TFIDF Best Params: {'max_depth': 50, 'n_estimators': 150}\")\n",
    "print(best_model_tfidf.score(Xt_train, yt_train))\n",
    "print(best_model_tfidf.score(Xt_test, yt_test))"
   ]
  },
  {
   "cell_type": "markdown",
   "metadata": {},
   "source": [
    "#### Grid Search for XGB"
   ]
  },
  {
   "cell_type": "code",
   "execution_count": 302,
   "metadata": {},
   "outputs": [],
   "source": [
    "from xgboost import XGBClassifier\n",
    "\n",
    "xgb = XGBClassifier(seed = 27, objective=\"binary:logistic\")\n",
    "\n",
    "xgb_param_grid = {\n",
    "    \"max_depth\" : [4, 6, 8],\n",
    "    \"subsample\" : [0.8, 1],\n",
    "    \"learning_rate\" : [0.001, 0.01, 0.10]\n",
    "}\n",
    "\n",
    "grid_search = GridSearchCV(estimator=xgb, param_grid=xgb_param_grid, cv=5, verbose=10)"
   ]
  },
  {
   "cell_type": "code",
   "execution_count": 303,
   "metadata": {},
   "outputs": [
    {
     "name": "stdout",
     "output_type": "stream",
     "text": [
      "Fitting 5 folds for each of 18 candidates, totalling 90 fits\n",
      "[CV 1/5; 1/18] START learning_rate=0.001, max_depth=4, subsample=0.8............\n",
      "[CV 1/5; 1/18] END learning_rate=0.001, max_depth=4, subsample=0.8;, score=0.658 total time=  15.1s\n",
      "[CV 2/5; 1/18] START learning_rate=0.001, max_depth=4, subsample=0.8............\n",
      "[CV 2/5; 1/18] END learning_rate=0.001, max_depth=4, subsample=0.8;, score=0.656 total time=  13.5s\n",
      "[CV 3/5; 1/18] START learning_rate=0.001, max_depth=4, subsample=0.8............\n",
      "[CV 3/5; 1/18] END learning_rate=0.001, max_depth=4, subsample=0.8;, score=0.656 total time=  12.8s\n",
      "[CV 4/5; 1/18] START learning_rate=0.001, max_depth=4, subsample=0.8............\n",
      "[CV 4/5; 1/18] END learning_rate=0.001, max_depth=4, subsample=0.8;, score=0.658 total time=  12.9s\n",
      "[CV 5/5; 1/18] START learning_rate=0.001, max_depth=4, subsample=0.8............\n",
      "[CV 5/5; 1/18] END learning_rate=0.001, max_depth=4, subsample=0.8;, score=0.658 total time=  12.6s\n",
      "[CV 1/5; 2/18] START learning_rate=0.001, max_depth=4, subsample=1..............\n",
      "[CV 1/5; 2/18] END learning_rate=0.001, max_depth=4, subsample=1;, score=0.658 total time=  12.6s\n",
      "[CV 2/5; 2/18] START learning_rate=0.001, max_depth=4, subsample=1..............\n",
      "[CV 2/5; 2/18] END learning_rate=0.001, max_depth=4, subsample=1;, score=0.656 total time=  13.2s\n",
      "[CV 3/5; 2/18] START learning_rate=0.001, max_depth=4, subsample=1..............\n",
      "[CV 3/5; 2/18] END learning_rate=0.001, max_depth=4, subsample=1;, score=0.656 total time=  12.8s\n",
      "[CV 4/5; 2/18] START learning_rate=0.001, max_depth=4, subsample=1..............\n",
      "[CV 4/5; 2/18] END learning_rate=0.001, max_depth=4, subsample=1;, score=0.658 total time=  12.9s\n",
      "[CV 5/5; 2/18] START learning_rate=0.001, max_depth=4, subsample=1..............\n",
      "[CV 5/5; 2/18] END learning_rate=0.001, max_depth=4, subsample=1;, score=0.658 total time=  12.2s\n",
      "[CV 1/5; 3/18] START learning_rate=0.001, max_depth=6, subsample=0.8............\n",
      "[CV 1/5; 3/18] END learning_rate=0.001, max_depth=6, subsample=0.8;, score=0.658 total time=  13.9s\n",
      "[CV 2/5; 3/18] START learning_rate=0.001, max_depth=6, subsample=0.8............\n",
      "[CV 2/5; 3/18] END learning_rate=0.001, max_depth=6, subsample=0.8;, score=0.656 total time=  14.0s\n",
      "[CV 3/5; 3/18] START learning_rate=0.001, max_depth=6, subsample=0.8............\n",
      "[CV 3/5; 3/18] END learning_rate=0.001, max_depth=6, subsample=0.8;, score=0.656 total time=  13.8s\n",
      "[CV 4/5; 3/18] START learning_rate=0.001, max_depth=6, subsample=0.8............\n",
      "[CV 4/5; 3/18] END learning_rate=0.001, max_depth=6, subsample=0.8;, score=0.658 total time=  13.7s\n",
      "[CV 5/5; 3/18] START learning_rate=0.001, max_depth=6, subsample=0.8............\n",
      "[CV 5/5; 3/18] END learning_rate=0.001, max_depth=6, subsample=0.8;, score=0.658 total time=  13.4s\n",
      "[CV 1/5; 4/18] START learning_rate=0.001, max_depth=6, subsample=1..............\n",
      "[CV 1/5; 4/18] END learning_rate=0.001, max_depth=6, subsample=1;, score=0.658 total time=  13.6s\n",
      "[CV 2/5; 4/18] START learning_rate=0.001, max_depth=6, subsample=1..............\n",
      "[CV 2/5; 4/18] END learning_rate=0.001, max_depth=6, subsample=1;, score=0.656 total time=  14.2s\n",
      "[CV 3/5; 4/18] START learning_rate=0.001, max_depth=6, subsample=1..............\n",
      "[CV 3/5; 4/18] END learning_rate=0.001, max_depth=6, subsample=1;, score=0.656 total time=  13.9s\n",
      "[CV 4/5; 4/18] START learning_rate=0.001, max_depth=6, subsample=1..............\n",
      "[CV 4/5; 4/18] END learning_rate=0.001, max_depth=6, subsample=1;, score=0.658 total time=  14.2s\n",
      "[CV 5/5; 4/18] START learning_rate=0.001, max_depth=6, subsample=1..............\n",
      "[CV 5/5; 4/18] END learning_rate=0.001, max_depth=6, subsample=1;, score=0.658 total time=  12.9s\n",
      "[CV 1/5; 5/18] START learning_rate=0.001, max_depth=8, subsample=0.8............\n",
      "[CV 1/5; 5/18] END learning_rate=0.001, max_depth=8, subsample=0.8;, score=0.658 total time=  14.5s\n",
      "[CV 2/5; 5/18] START learning_rate=0.001, max_depth=8, subsample=0.8............\n",
      "[CV 2/5; 5/18] END learning_rate=0.001, max_depth=8, subsample=0.8;, score=0.656 total time=  14.8s\n",
      "[CV 3/5; 5/18] START learning_rate=0.001, max_depth=8, subsample=0.8............\n",
      "[CV 3/5; 5/18] END learning_rate=0.001, max_depth=8, subsample=0.8;, score=0.656 total time=  14.6s\n",
      "[CV 4/5; 5/18] START learning_rate=0.001, max_depth=8, subsample=0.8............\n",
      "[CV 4/5; 5/18] END learning_rate=0.001, max_depth=8, subsample=0.8;, score=0.658 total time=  15.0s\n",
      "[CV 5/5; 5/18] START learning_rate=0.001, max_depth=8, subsample=0.8............\n",
      "[CV 5/5; 5/18] END learning_rate=0.001, max_depth=8, subsample=0.8;, score=0.658 total time=  14.4s\n",
      "[CV 1/5; 6/18] START learning_rate=0.001, max_depth=8, subsample=1..............\n",
      "[CV 1/5; 6/18] END learning_rate=0.001, max_depth=8, subsample=1;, score=0.658 total time=  14.7s\n",
      "[CV 2/5; 6/18] START learning_rate=0.001, max_depth=8, subsample=1..............\n",
      "[CV 2/5; 6/18] END learning_rate=0.001, max_depth=8, subsample=1;, score=0.656 total time=  15.0s\n",
      "[CV 3/5; 6/18] START learning_rate=0.001, max_depth=8, subsample=1..............\n",
      "[CV 3/5; 6/18] END learning_rate=0.001, max_depth=8, subsample=1;, score=0.656 total time=  15.5s\n",
      "[CV 4/5; 6/18] START learning_rate=0.001, max_depth=8, subsample=1..............\n",
      "[CV 4/5; 6/18] END learning_rate=0.001, max_depth=8, subsample=1;, score=0.658 total time=  15.3s\n",
      "[CV 5/5; 6/18] START learning_rate=0.001, max_depth=8, subsample=1..............\n",
      "[CV 5/5; 6/18] END learning_rate=0.001, max_depth=8, subsample=1;, score=0.658 total time=  13.7s\n",
      "[CV 1/5; 7/18] START learning_rate=0.01, max_depth=4, subsample=0.8.............\n",
      "[CV 1/5; 7/18] END learning_rate=0.01, max_depth=4, subsample=0.8;, score=0.658 total time=  13.1s\n",
      "[CV 2/5; 7/18] START learning_rate=0.01, max_depth=4, subsample=0.8.............\n",
      "[CV 2/5; 7/18] END learning_rate=0.01, max_depth=4, subsample=0.8;, score=0.656 total time=  13.3s\n",
      "[CV 3/5; 7/18] START learning_rate=0.01, max_depth=4, subsample=0.8.............\n",
      "[CV 3/5; 7/18] END learning_rate=0.01, max_depth=4, subsample=0.8;, score=0.656 total time=  13.2s\n",
      "[CV 4/5; 7/18] START learning_rate=0.01, max_depth=4, subsample=0.8.............\n",
      "[CV 4/5; 7/18] END learning_rate=0.01, max_depth=4, subsample=0.8;, score=0.658 total time=  13.1s\n",
      "[CV 5/5; 7/18] START learning_rate=0.01, max_depth=4, subsample=0.8.............\n",
      "[CV 5/5; 7/18] END learning_rate=0.01, max_depth=4, subsample=0.8;, score=0.658 total time=  13.0s\n",
      "[CV 1/5; 8/18] START learning_rate=0.01, max_depth=4, subsample=1...............\n",
      "[CV 1/5; 8/18] END learning_rate=0.01, max_depth=4, subsample=1;, score=0.654 total time=  13.0s\n",
      "[CV 2/5; 8/18] START learning_rate=0.01, max_depth=4, subsample=1...............\n",
      "[CV 2/5; 8/18] END learning_rate=0.01, max_depth=4, subsample=1;, score=0.656 total time=  13.2s\n",
      "[CV 3/5; 8/18] START learning_rate=0.01, max_depth=4, subsample=1...............\n",
      "[CV 3/5; 8/18] END learning_rate=0.01, max_depth=4, subsample=1;, score=0.656 total time=  13.2s\n",
      "[CV 4/5; 8/18] START learning_rate=0.01, max_depth=4, subsample=1...............\n",
      "[CV 4/5; 8/18] END learning_rate=0.01, max_depth=4, subsample=1;, score=0.658 total time=  13.2s\n",
      "[CV 5/5; 8/18] START learning_rate=0.01, max_depth=4, subsample=1...............\n",
      "[CV 5/5; 8/18] END learning_rate=0.01, max_depth=4, subsample=1;, score=0.656 total time=  12.9s\n",
      "[CV 1/5; 9/18] START learning_rate=0.01, max_depth=6, subsample=0.8.............\n",
      "[CV 1/5; 9/18] END learning_rate=0.01, max_depth=6, subsample=0.8;, score=0.658 total time=  13.8s\n",
      "[CV 2/5; 9/18] START learning_rate=0.01, max_depth=6, subsample=0.8.............\n",
      "[CV 2/5; 9/18] END learning_rate=0.01, max_depth=6, subsample=0.8;, score=0.656 total time=  14.5s\n",
      "[CV 3/5; 9/18] START learning_rate=0.01, max_depth=6, subsample=0.8.............\n",
      "[CV 3/5; 9/18] END learning_rate=0.01, max_depth=6, subsample=0.8;, score=0.656 total time=  13.8s\n",
      "[CV 4/5; 9/18] START learning_rate=0.01, max_depth=6, subsample=0.8.............\n",
      "[CV 4/5; 9/18] END learning_rate=0.01, max_depth=6, subsample=0.8;, score=0.658 total time=  13.8s\n",
      "[CV 5/5; 9/18] START learning_rate=0.01, max_depth=6, subsample=0.8.............\n",
      "[CV 5/5; 9/18] END learning_rate=0.01, max_depth=6, subsample=0.8;, score=0.658 total time=  13.6s\n",
      "[CV 1/5; 10/18] START learning_rate=0.01, max_depth=6, subsample=1..............\n",
      "[CV 1/5; 10/18] END learning_rate=0.01, max_depth=6, subsample=1;, score=0.652 total time=  14.1s\n",
      "[CV 2/5; 10/18] START learning_rate=0.01, max_depth=6, subsample=1..............\n",
      "[CV 2/5; 10/18] END learning_rate=0.01, max_depth=6, subsample=1;, score=0.656 total time=  13.9s\n",
      "[CV 3/5; 10/18] START learning_rate=0.01, max_depth=6, subsample=1..............\n",
      "[CV 3/5; 10/18] END learning_rate=0.01, max_depth=6, subsample=1;, score=0.654 total time=  13.6s\n",
      "[CV 4/5; 10/18] START learning_rate=0.01, max_depth=6, subsample=1..............\n",
      "[CV 4/5; 10/18] END learning_rate=0.01, max_depth=6, subsample=1;, score=0.656 total time=  13.8s\n",
      "[CV 5/5; 10/18] START learning_rate=0.01, max_depth=6, subsample=1..............\n",
      "[CV 5/5; 10/18] END learning_rate=0.01, max_depth=6, subsample=1;, score=0.656 total time=  13.4s\n",
      "[CV 1/5; 11/18] START learning_rate=0.01, max_depth=8, subsample=0.8............\n",
      "[CV 1/5; 11/18] END learning_rate=0.01, max_depth=8, subsample=0.8;, score=0.656 total time=  14.5s\n",
      "[CV 2/5; 11/18] START learning_rate=0.01, max_depth=8, subsample=0.8............\n",
      "[CV 2/5; 11/18] END learning_rate=0.01, max_depth=8, subsample=0.8;, score=0.656 total time=  14.8s\n",
      "[CV 3/5; 11/18] START learning_rate=0.01, max_depth=8, subsample=0.8............\n",
      "[CV 3/5; 11/18] END learning_rate=0.01, max_depth=8, subsample=0.8;, score=0.656 total time=  14.6s\n",
      "[CV 4/5; 11/18] START learning_rate=0.01, max_depth=8, subsample=0.8............\n",
      "[CV 4/5; 11/18] END learning_rate=0.01, max_depth=8, subsample=0.8;, score=0.658 total time=  14.5s\n",
      "[CV 5/5; 11/18] START learning_rate=0.01, max_depth=8, subsample=0.8............\n",
      "[CV 5/5; 11/18] END learning_rate=0.01, max_depth=8, subsample=0.8;, score=0.658 total time=  14.2s\n",
      "[CV 1/5; 12/18] START learning_rate=0.01, max_depth=8, subsample=1..............\n",
      "[CV 1/5; 12/18] END learning_rate=0.01, max_depth=8, subsample=1;, score=0.650 total time=  14.4s\n",
      "[CV 2/5; 12/18] START learning_rate=0.01, max_depth=8, subsample=1..............\n",
      "[CV 2/5; 12/18] END learning_rate=0.01, max_depth=8, subsample=1;, score=0.658 total time=  14.4s\n",
      "[CV 3/5; 12/18] START learning_rate=0.01, max_depth=8, subsample=1..............\n",
      "[CV 3/5; 12/18] END learning_rate=0.01, max_depth=8, subsample=1;, score=0.654 total time=  14.2s\n",
      "[CV 4/5; 12/18] START learning_rate=0.01, max_depth=8, subsample=1..............\n",
      "[CV 4/5; 12/18] END learning_rate=0.01, max_depth=8, subsample=1;, score=0.658 total time=  14.5s\n",
      "[CV 5/5; 12/18] START learning_rate=0.01, max_depth=8, subsample=1..............\n",
      "[CV 5/5; 12/18] END learning_rate=0.01, max_depth=8, subsample=1;, score=0.649 total time=  14.0s\n",
      "[CV 1/5; 13/18] START learning_rate=0.1, max_depth=4, subsample=0.8.............\n",
      "[CV 1/5; 13/18] END learning_rate=0.1, max_depth=4, subsample=0.8;, score=0.627 total time=  13.2s\n",
      "[CV 2/5; 13/18] START learning_rate=0.1, max_depth=4, subsample=0.8.............\n",
      "[CV 2/5; 13/18] END learning_rate=0.1, max_depth=4, subsample=0.8;, score=0.640 total time=  13.1s\n",
      "[CV 3/5; 13/18] START learning_rate=0.1, max_depth=4, subsample=0.8.............\n",
      "[CV 3/5; 13/18] END learning_rate=0.1, max_depth=4, subsample=0.8;, score=0.635 total time=  13.2s\n",
      "[CV 4/5; 13/18] START learning_rate=0.1, max_depth=4, subsample=0.8.............\n",
      "[CV 4/5; 13/18] END learning_rate=0.1, max_depth=4, subsample=0.8;, score=0.647 total time=  13.0s\n",
      "[CV 5/5; 13/18] START learning_rate=0.1, max_depth=4, subsample=0.8.............\n",
      "[CV 5/5; 13/18] END learning_rate=0.1, max_depth=4, subsample=0.8;, score=0.635 total time=  13.0s\n",
      "[CV 1/5; 14/18] START learning_rate=0.1, max_depth=4, subsample=1...............\n",
      "[CV 1/5; 14/18] END learning_rate=0.1, max_depth=4, subsample=1;, score=0.631 total time=  13.3s\n",
      "[CV 2/5; 14/18] START learning_rate=0.1, max_depth=4, subsample=1...............\n",
      "[CV 2/5; 14/18] END learning_rate=0.1, max_depth=4, subsample=1;, score=0.646 total time=  13.3s\n",
      "[CV 3/5; 14/18] START learning_rate=0.1, max_depth=4, subsample=1...............\n",
      "[CV 3/5; 14/18] END learning_rate=0.1, max_depth=4, subsample=1;, score=0.656 total time=  13.2s\n",
      "[CV 4/5; 14/18] START learning_rate=0.1, max_depth=4, subsample=1...............\n",
      "[CV 4/5; 14/18] END learning_rate=0.1, max_depth=4, subsample=1;, score=0.662 total time=  12.8s\n",
      "[CV 5/5; 14/18] START learning_rate=0.1, max_depth=4, subsample=1...............\n",
      "[CV 5/5; 14/18] END learning_rate=0.1, max_depth=4, subsample=1;, score=0.641 total time=  12.9s\n",
      "[CV 1/5; 15/18] START learning_rate=0.1, max_depth=6, subsample=0.8.............\n",
      "[CV 1/5; 15/18] END learning_rate=0.1, max_depth=6, subsample=0.8;, score=0.615 total time=  13.5s\n",
      "[CV 2/5; 15/18] START learning_rate=0.1, max_depth=6, subsample=0.8.............\n",
      "[CV 2/5; 15/18] END learning_rate=0.1, max_depth=6, subsample=0.8;, score=0.615 total time=  13.7s\n",
      "[CV 3/5; 15/18] START learning_rate=0.1, max_depth=6, subsample=0.8.............\n",
      "[CV 3/5; 15/18] END learning_rate=0.1, max_depth=6, subsample=0.8;, score=0.631 total time=  13.7s\n",
      "[CV 4/5; 15/18] START learning_rate=0.1, max_depth=6, subsample=0.8.............\n",
      "[CV 4/5; 15/18] END learning_rate=0.1, max_depth=6, subsample=0.8;, score=0.626 total time=  13.6s\n",
      "[CV 5/5; 15/18] START learning_rate=0.1, max_depth=6, subsample=0.8.............\n",
      "[CV 5/5; 15/18] END learning_rate=0.1, max_depth=6, subsample=0.8;, score=0.628 total time=  13.6s\n",
      "[CV 1/5; 16/18] START learning_rate=0.1, max_depth=6, subsample=1...............\n",
      "[CV 1/5; 16/18] END learning_rate=0.1, max_depth=6, subsample=1;, score=0.610 total time=  13.5s\n",
      "[CV 2/5; 16/18] START learning_rate=0.1, max_depth=6, subsample=1...............\n",
      "[CV 2/5; 16/18] END learning_rate=0.1, max_depth=6, subsample=1;, score=0.631 total time=  13.4s\n",
      "[CV 3/5; 16/18] START learning_rate=0.1, max_depth=6, subsample=1...............\n",
      "[CV 3/5; 16/18] END learning_rate=0.1, max_depth=6, subsample=1;, score=0.640 total time=  13.5s\n",
      "[CV 4/5; 16/18] START learning_rate=0.1, max_depth=6, subsample=1...............\n",
      "[CV 4/5; 16/18] END learning_rate=0.1, max_depth=6, subsample=1;, score=0.664 total time=  13.3s\n",
      "[CV 5/5; 16/18] START learning_rate=0.1, max_depth=6, subsample=1...............\n",
      "[CV 5/5; 16/18] END learning_rate=0.1, max_depth=6, subsample=1;, score=0.620 total time=  13.2s\n",
      "[CV 1/5; 17/18] START learning_rate=0.1, max_depth=8, subsample=0.8.............\n",
      "[CV 1/5; 17/18] END learning_rate=0.1, max_depth=8, subsample=0.8;, score=0.625 total time=  14.3s\n",
      "[CV 2/5; 17/18] START learning_rate=0.1, max_depth=8, subsample=0.8.............\n",
      "[CV 2/5; 17/18] END learning_rate=0.1, max_depth=8, subsample=0.8;, score=0.621 total time=  14.2s\n",
      "[CV 3/5; 17/18] START learning_rate=0.1, max_depth=8, subsample=0.8.............\n",
      "[CV 3/5; 17/18] END learning_rate=0.1, max_depth=8, subsample=0.8;, score=0.631 total time=  14.2s\n",
      "[CV 4/5; 17/18] START learning_rate=0.1, max_depth=8, subsample=0.8.............\n",
      "[CV 4/5; 17/18] END learning_rate=0.1, max_depth=8, subsample=0.8;, score=0.645 total time=  14.0s\n",
      "[CV 5/5; 17/18] START learning_rate=0.1, max_depth=8, subsample=0.8.............\n",
      "[CV 5/5; 17/18] END learning_rate=0.1, max_depth=8, subsample=0.8;, score=0.612 total time=  14.2s\n",
      "[CV 1/5; 18/18] START learning_rate=0.1, max_depth=8, subsample=1...............\n",
      "[CV 1/5; 18/18] END learning_rate=0.1, max_depth=8, subsample=1;, score=0.608 total time=  13.7s\n",
      "[CV 2/5; 18/18] START learning_rate=0.1, max_depth=8, subsample=1...............\n",
      "[CV 2/5; 18/18] END learning_rate=0.1, max_depth=8, subsample=1;, score=0.629 total time=  13.8s\n",
      "[CV 3/5; 18/18] START learning_rate=0.1, max_depth=8, subsample=1...............\n",
      "[CV 3/5; 18/18] END learning_rate=0.1, max_depth=8, subsample=1;, score=0.633 total time=  14.1s\n",
      "[CV 4/5; 18/18] START learning_rate=0.1, max_depth=8, subsample=1...............\n",
      "[CV 4/5; 18/18] END learning_rate=0.1, max_depth=8, subsample=1;, score=0.641 total time=  13.8s\n",
      "[CV 5/5; 18/18] START learning_rate=0.1, max_depth=8, subsample=1...............\n",
      "[CV 5/5; 18/18] END learning_rate=0.1, max_depth=8, subsample=1;, score=0.620 total time=  13.8s\n",
      "Count Best Params: {'learning_rate': 0.001, 'max_depth': 4, 'subsample': 0.8}\n"
     ]
    }
   ],
   "source": [
    "grid_search.fit(Xc_train, yc_train)\n",
    "best_model_counts = grid_search.best_estimator_\n",
    "print(\"Count Best Params:\", grid_search.best_params_)"
   ]
  },
  {
   "cell_type": "code",
   "execution_count": 305,
   "metadata": {},
   "outputs": [
    {
     "name": "stdout",
     "output_type": "stream",
     "text": [
      "Fitting 5 folds for each of 18 candidates, totalling 90 fits\n",
      "[CV 1/5; 1/18] START learning_rate=0.001, max_depth=4, subsample=0.8............\n",
      "[CV 1/5; 1/18] END learning_rate=0.001, max_depth=4, subsample=0.8;, score=0.658 total time=  16.1s\n",
      "[CV 2/5; 1/18] START learning_rate=0.001, max_depth=4, subsample=0.8............\n",
      "[CV 2/5; 1/18] END learning_rate=0.001, max_depth=4, subsample=0.8;, score=0.656 total time=  15.6s\n",
      "[CV 3/5; 1/18] START learning_rate=0.001, max_depth=4, subsample=0.8............\n",
      "[CV 3/5; 1/18] END learning_rate=0.001, max_depth=4, subsample=0.8;, score=0.656 total time=  15.7s\n",
      "[CV 4/5; 1/18] START learning_rate=0.001, max_depth=4, subsample=0.8............\n",
      "[CV 4/5; 1/18] END learning_rate=0.001, max_depth=4, subsample=0.8;, score=0.658 total time=  15.7s\n",
      "[CV 5/5; 1/18] START learning_rate=0.001, max_depth=4, subsample=0.8............\n",
      "[CV 5/5; 1/18] END learning_rate=0.001, max_depth=4, subsample=0.8;, score=0.658 total time=  15.1s\n",
      "[CV 1/5; 2/18] START learning_rate=0.001, max_depth=4, subsample=1..............\n",
      "[CV 1/5; 2/18] END learning_rate=0.001, max_depth=4, subsample=1;, score=0.658 total time=  14.8s\n",
      "[CV 2/5; 2/18] START learning_rate=0.001, max_depth=4, subsample=1..............\n",
      "[CV 2/5; 2/18] END learning_rate=0.001, max_depth=4, subsample=1;, score=0.656 total time=  15.3s\n",
      "[CV 3/5; 2/18] START learning_rate=0.001, max_depth=4, subsample=1..............\n",
      "[CV 3/5; 2/18] END learning_rate=0.001, max_depth=4, subsample=1;, score=0.656 total time=  15.3s\n",
      "[CV 4/5; 2/18] START learning_rate=0.001, max_depth=4, subsample=1..............\n",
      "[CV 4/5; 2/18] END learning_rate=0.001, max_depth=4, subsample=1;, score=0.658 total time=  15.5s\n",
      "[CV 5/5; 2/18] START learning_rate=0.001, max_depth=4, subsample=1..............\n",
      "[CV 5/5; 2/18] END learning_rate=0.001, max_depth=4, subsample=1;, score=0.658 total time=  14.5s\n",
      "[CV 1/5; 3/18] START learning_rate=0.001, max_depth=6, subsample=0.8............\n",
      "[CV 1/5; 3/18] END learning_rate=0.001, max_depth=6, subsample=0.8;, score=0.658 total time=  16.8s\n",
      "[CV 2/5; 3/18] START learning_rate=0.001, max_depth=6, subsample=0.8............\n",
      "[CV 2/5; 3/18] END learning_rate=0.001, max_depth=6, subsample=0.8;, score=0.656 total time=  17.2s\n",
      "[CV 3/5; 3/18] START learning_rate=0.001, max_depth=6, subsample=0.8............\n",
      "[CV 3/5; 3/18] END learning_rate=0.001, max_depth=6, subsample=0.8;, score=0.656 total time=  17.2s\n",
      "[CV 4/5; 3/18] START learning_rate=0.001, max_depth=6, subsample=0.8............\n",
      "[CV 4/5; 3/18] END learning_rate=0.001, max_depth=6, subsample=0.8;, score=0.658 total time=  17.3s\n",
      "[CV 5/5; 3/18] START learning_rate=0.001, max_depth=6, subsample=0.8............\n",
      "[CV 5/5; 3/18] END learning_rate=0.001, max_depth=6, subsample=0.8;, score=0.658 total time=  16.4s\n",
      "[CV 1/5; 4/18] START learning_rate=0.001, max_depth=6, subsample=1..............\n",
      "[CV 1/5; 4/18] END learning_rate=0.001, max_depth=6, subsample=1;, score=0.658 total time=  15.9s\n",
      "[CV 2/5; 4/18] START learning_rate=0.001, max_depth=6, subsample=1..............\n",
      "[CV 2/5; 4/18] END learning_rate=0.001, max_depth=6, subsample=1;, score=0.656 total time=  16.2s\n",
      "[CV 3/5; 4/18] START learning_rate=0.001, max_depth=6, subsample=1..............\n",
      "[CV 3/5; 4/18] END learning_rate=0.001, max_depth=6, subsample=1;, score=0.656 total time=  16.6s\n",
      "[CV 4/5; 4/18] START learning_rate=0.001, max_depth=6, subsample=1..............\n",
      "[CV 4/5; 4/18] END learning_rate=0.001, max_depth=6, subsample=1;, score=0.658 total time=  17.3s\n",
      "[CV 5/5; 4/18] START learning_rate=0.001, max_depth=6, subsample=1..............\n",
      "[CV 5/5; 4/18] END learning_rate=0.001, max_depth=6, subsample=1;, score=0.658 total time=  15.3s\n",
      "[CV 1/5; 5/18] START learning_rate=0.001, max_depth=8, subsample=0.8............\n",
      "[CV 1/5; 5/18] END learning_rate=0.001, max_depth=8, subsample=0.8;, score=0.658 total time=  18.5s\n",
      "[CV 2/5; 5/18] START learning_rate=0.001, max_depth=8, subsample=0.8............\n",
      "[CV 2/5; 5/18] END learning_rate=0.001, max_depth=8, subsample=0.8;, score=0.656 total time=  18.7s\n",
      "[CV 3/5; 5/18] START learning_rate=0.001, max_depth=8, subsample=0.8............\n",
      "[CV 3/5; 5/18] END learning_rate=0.001, max_depth=8, subsample=0.8;, score=0.656 total time=  18.8s\n",
      "[CV 4/5; 5/18] START learning_rate=0.001, max_depth=8, subsample=0.8............\n",
      "[CV 4/5; 5/18] END learning_rate=0.001, max_depth=8, subsample=0.8;, score=0.658 total time=  19.3s\n",
      "[CV 5/5; 5/18] START learning_rate=0.001, max_depth=8, subsample=0.8............\n",
      "[CV 5/5; 5/18] END learning_rate=0.001, max_depth=8, subsample=0.8;, score=0.658 total time=  17.8s\n",
      "[CV 1/5; 6/18] START learning_rate=0.001, max_depth=8, subsample=1..............\n",
      "[CV 1/5; 6/18] END learning_rate=0.001, max_depth=8, subsample=1;, score=0.658 total time=  17.8s\n",
      "[CV 2/5; 6/18] START learning_rate=0.001, max_depth=8, subsample=1..............\n",
      "[CV 2/5; 6/18] END learning_rate=0.001, max_depth=8, subsample=1;, score=0.656 total time=  17.7s\n",
      "[CV 3/5; 6/18] START learning_rate=0.001, max_depth=8, subsample=1..............\n",
      "[CV 3/5; 6/18] END learning_rate=0.001, max_depth=8, subsample=1;, score=0.656 total time=  18.1s\n",
      "[CV 4/5; 6/18] START learning_rate=0.001, max_depth=8, subsample=1..............\n",
      "[CV 4/5; 6/18] END learning_rate=0.001, max_depth=8, subsample=1;, score=0.658 total time=  18.4s\n",
      "[CV 5/5; 6/18] START learning_rate=0.001, max_depth=8, subsample=1..............\n",
      "[CV 5/5; 6/18] END learning_rate=0.001, max_depth=8, subsample=1;, score=0.658 total time=  16.5s\n",
      "[CV 1/5; 7/18] START learning_rate=0.01, max_depth=4, subsample=0.8.............\n",
      "[CV 1/5; 7/18] END learning_rate=0.01, max_depth=4, subsample=0.8;, score=0.656 total time=  15.2s\n",
      "[CV 2/5; 7/18] START learning_rate=0.01, max_depth=4, subsample=0.8.............\n",
      "[CV 2/5; 7/18] END learning_rate=0.01, max_depth=4, subsample=0.8;, score=0.656 total time=  15.4s\n",
      "[CV 3/5; 7/18] START learning_rate=0.01, max_depth=4, subsample=0.8.............\n",
      "[CV 3/5; 7/18] END learning_rate=0.01, max_depth=4, subsample=0.8;, score=0.656 total time=  15.7s\n",
      "[CV 4/5; 7/18] START learning_rate=0.01, max_depth=4, subsample=0.8.............\n",
      "[CV 4/5; 7/18] END learning_rate=0.01, max_depth=4, subsample=0.8;, score=0.658 total time=  15.5s\n",
      "[CV 5/5; 7/18] START learning_rate=0.01, max_depth=4, subsample=0.8.............\n",
      "[CV 5/5; 7/18] END learning_rate=0.01, max_depth=4, subsample=0.8;, score=0.658 total time=  15.2s\n",
      "[CV 1/5; 8/18] START learning_rate=0.01, max_depth=4, subsample=1...............\n",
      "[CV 1/5; 8/18] END learning_rate=0.01, max_depth=4, subsample=1;, score=0.652 total time=  15.1s\n",
      "[CV 2/5; 8/18] START learning_rate=0.01, max_depth=4, subsample=1...............\n",
      "[CV 2/5; 8/18] END learning_rate=0.01, max_depth=4, subsample=1;, score=0.658 total time=  15.4s\n",
      "[CV 3/5; 8/18] START learning_rate=0.01, max_depth=4, subsample=1...............\n",
      "[CV 3/5; 8/18] END learning_rate=0.01, max_depth=4, subsample=1;, score=0.658 total time=  15.2s\n",
      "[CV 4/5; 8/18] START learning_rate=0.01, max_depth=4, subsample=1...............\n",
      "[CV 4/5; 8/18] END learning_rate=0.01, max_depth=4, subsample=1;, score=0.658 total time=  15.1s\n",
      "[CV 5/5; 8/18] START learning_rate=0.01, max_depth=4, subsample=1...............\n",
      "[CV 5/5; 8/18] END learning_rate=0.01, max_depth=4, subsample=1;, score=0.658 total time=  15.1s\n",
      "[CV 1/5; 9/18] START learning_rate=0.01, max_depth=6, subsample=0.8.............\n",
      "[CV 1/5; 9/18] END learning_rate=0.01, max_depth=6, subsample=0.8;, score=0.656 total time=  16.8s\n",
      "[CV 2/5; 9/18] START learning_rate=0.01, max_depth=6, subsample=0.8.............\n",
      "[CV 2/5; 9/18] END learning_rate=0.01, max_depth=6, subsample=0.8;, score=0.656 total time=  17.2s\n",
      "[CV 3/5; 9/18] START learning_rate=0.01, max_depth=6, subsample=0.8.............\n",
      "[CV 3/5; 9/18] END learning_rate=0.01, max_depth=6, subsample=0.8;, score=0.656 total time=  17.6s\n",
      "[CV 4/5; 9/18] START learning_rate=0.01, max_depth=6, subsample=0.8.............\n",
      "[CV 4/5; 9/18] END learning_rate=0.01, max_depth=6, subsample=0.8;, score=0.658 total time=  17.1s\n",
      "[CV 5/5; 9/18] START learning_rate=0.01, max_depth=6, subsample=0.8.............\n",
      "[CV 5/5; 9/18] END learning_rate=0.01, max_depth=6, subsample=0.8;, score=0.658 total time=  16.6s\n",
      "[CV 1/5; 10/18] START learning_rate=0.01, max_depth=6, subsample=1..............\n",
      "[CV 1/5; 10/18] END learning_rate=0.01, max_depth=6, subsample=1;, score=0.646 total time=  16.4s\n",
      "[CV 2/5; 10/18] START learning_rate=0.01, max_depth=6, subsample=1..............\n",
      "[CV 2/5; 10/18] END learning_rate=0.01, max_depth=6, subsample=1;, score=0.656 total time=  17.1s\n",
      "[CV 3/5; 10/18] START learning_rate=0.01, max_depth=6, subsample=1..............\n",
      "[CV 3/5; 10/18] END learning_rate=0.01, max_depth=6, subsample=1;, score=0.652 total time=  16.8s\n",
      "[CV 4/5; 10/18] START learning_rate=0.01, max_depth=6, subsample=1..............\n",
      "[CV 4/5; 10/18] END learning_rate=0.01, max_depth=6, subsample=1;, score=0.658 total time=  16.7s\n",
      "[CV 5/5; 10/18] START learning_rate=0.01, max_depth=6, subsample=1..............\n",
      "[CV 5/5; 10/18] END learning_rate=0.01, max_depth=6, subsample=1;, score=0.660 total time=  16.3s\n",
      "[CV 1/5; 11/18] START learning_rate=0.01, max_depth=8, subsample=0.8............\n",
      "[CV 1/5; 11/18] END learning_rate=0.01, max_depth=8, subsample=0.8;, score=0.656 total time=  18.4s\n",
      "[CV 2/5; 11/18] START learning_rate=0.01, max_depth=8, subsample=0.8............\n",
      "[CV 2/5; 11/18] END learning_rate=0.01, max_depth=8, subsample=0.8;, score=0.658 total time=  18.9s\n",
      "[CV 3/5; 11/18] START learning_rate=0.01, max_depth=8, subsample=0.8............\n",
      "[CV 3/5; 11/18] END learning_rate=0.01, max_depth=8, subsample=0.8;, score=0.656 total time=  19.0s\n",
      "[CV 4/5; 11/18] START learning_rate=0.01, max_depth=8, subsample=0.8............\n",
      "[CV 4/5; 11/18] END learning_rate=0.01, max_depth=8, subsample=0.8;, score=0.658 total time=  18.7s\n",
      "[CV 5/5; 11/18] START learning_rate=0.01, max_depth=8, subsample=0.8............\n",
      "[CV 5/5; 11/18] END learning_rate=0.01, max_depth=8, subsample=0.8;, score=0.658 total time=  18.4s\n",
      "[CV 1/5; 12/18] START learning_rate=0.01, max_depth=8, subsample=1..............\n",
      "[CV 1/5; 12/18] END learning_rate=0.01, max_depth=8, subsample=1;, score=0.648 total time=  18.0s\n",
      "[CV 2/5; 12/18] START learning_rate=0.01, max_depth=8, subsample=1..............\n",
      "[CV 2/5; 12/18] END learning_rate=0.01, max_depth=8, subsample=1;, score=0.652 total time=  18.3s\n",
      "[CV 3/5; 12/18] START learning_rate=0.01, max_depth=8, subsample=1..............\n",
      "[CV 3/5; 12/18] END learning_rate=0.01, max_depth=8, subsample=1;, score=0.652 total time=  18.3s\n",
      "[CV 4/5; 12/18] START learning_rate=0.01, max_depth=8, subsample=1..............\n",
      "[CV 4/5; 12/18] END learning_rate=0.01, max_depth=8, subsample=1;, score=0.656 total time=  18.2s\n",
      "[CV 5/5; 12/18] START learning_rate=0.01, max_depth=8, subsample=1..............\n",
      "[CV 5/5; 12/18] END learning_rate=0.01, max_depth=8, subsample=1;, score=0.653 total time=  17.9s\n",
      "[CV 1/5; 13/18] START learning_rate=0.1, max_depth=4, subsample=0.8.............\n",
      "[CV 1/5; 13/18] END learning_rate=0.1, max_depth=4, subsample=0.8;, score=0.627 total time=  15.3s\n",
      "[CV 2/5; 13/18] START learning_rate=0.1, max_depth=4, subsample=0.8.............\n",
      "[CV 2/5; 13/18] END learning_rate=0.1, max_depth=4, subsample=0.8;, score=0.623 total time=  15.4s\n",
      "[CV 3/5; 13/18] START learning_rate=0.1, max_depth=4, subsample=0.8.............\n",
      "[CV 3/5; 13/18] END learning_rate=0.1, max_depth=4, subsample=0.8;, score=0.637 total time=  15.1s\n",
      "[CV 4/5; 13/18] START learning_rate=0.1, max_depth=4, subsample=0.8.............\n",
      "[CV 4/5; 13/18] END learning_rate=0.1, max_depth=4, subsample=0.8;, score=0.628 total time=  14.6s\n",
      "[CV 5/5; 13/18] START learning_rate=0.1, max_depth=4, subsample=0.8.............\n",
      "[CV 5/5; 13/18] END learning_rate=0.1, max_depth=4, subsample=0.8;, score=0.643 total time=  14.5s\n",
      "[CV 1/5; 14/18] START learning_rate=0.1, max_depth=4, subsample=1...............\n",
      "[CV 1/5; 14/18] END learning_rate=0.1, max_depth=4, subsample=1;, score=0.629 total time=  14.4s\n",
      "[CV 2/5; 14/18] START learning_rate=0.1, max_depth=4, subsample=1...............\n",
      "[CV 2/5; 14/18] END learning_rate=0.1, max_depth=4, subsample=1;, score=0.633 total time=  14.4s\n",
      "[CV 3/5; 14/18] START learning_rate=0.1, max_depth=4, subsample=1...............\n",
      "[CV 3/5; 14/18] END learning_rate=0.1, max_depth=4, subsample=1;, score=0.644 total time=  14.6s\n",
      "[CV 4/5; 14/18] START learning_rate=0.1, max_depth=4, subsample=1...............\n",
      "[CV 4/5; 14/18] END learning_rate=0.1, max_depth=4, subsample=1;, score=0.641 total time=  15.2s\n",
      "[CV 5/5; 14/18] START learning_rate=0.1, max_depth=4, subsample=1...............\n",
      "[CV 5/5; 14/18] END learning_rate=0.1, max_depth=4, subsample=1;, score=0.633 total time=  15.0s\n",
      "[CV 1/5; 15/18] START learning_rate=0.1, max_depth=6, subsample=0.8.............\n",
      "[CV 1/5; 15/18] END learning_rate=0.1, max_depth=6, subsample=0.8;, score=0.617 total time=  16.6s\n",
      "[CV 2/5; 15/18] START learning_rate=0.1, max_depth=6, subsample=0.8.............\n",
      "[CV 2/5; 15/18] END learning_rate=0.1, max_depth=6, subsample=0.8;, score=0.621 total time=  16.8s\n",
      "[CV 3/5; 15/18] START learning_rate=0.1, max_depth=6, subsample=0.8.............\n",
      "[CV 3/5; 15/18] END learning_rate=0.1, max_depth=6, subsample=0.8;, score=0.631 total time=  16.6s\n",
      "[CV 4/5; 15/18] START learning_rate=0.1, max_depth=6, subsample=0.8.............\n",
      "[CV 4/5; 15/18] END learning_rate=0.1, max_depth=6, subsample=0.8;, score=0.633 total time=  16.9s\n",
      "[CV 5/5; 15/18] START learning_rate=0.1, max_depth=6, subsample=0.8.............\n",
      "[CV 5/5; 15/18] END learning_rate=0.1, max_depth=6, subsample=0.8;, score=0.633 total time=  18.7s\n",
      "[CV 1/5; 16/18] START learning_rate=0.1, max_depth=6, subsample=1...............\n",
      "[CV 1/5; 16/18] END learning_rate=0.1, max_depth=6, subsample=1;, score=0.623 total time=  17.0s\n",
      "[CV 2/5; 16/18] START learning_rate=0.1, max_depth=6, subsample=1...............\n",
      "[CV 2/5; 16/18] END learning_rate=0.1, max_depth=6, subsample=1;, score=0.625 total time=  16.1s\n",
      "[CV 3/5; 16/18] START learning_rate=0.1, max_depth=6, subsample=1...............\n",
      "[CV 3/5; 16/18] END learning_rate=0.1, max_depth=6, subsample=1;, score=0.623 total time=  16.0s\n",
      "[CV 4/5; 16/18] START learning_rate=0.1, max_depth=6, subsample=1...............\n",
      "[CV 4/5; 16/18] END learning_rate=0.1, max_depth=6, subsample=1;, score=0.647 total time=  15.8s\n",
      "[CV 5/5; 16/18] START learning_rate=0.1, max_depth=6, subsample=1...............\n",
      "[CV 5/5; 16/18] END learning_rate=0.1, max_depth=6, subsample=1;, score=0.624 total time=  16.0s\n",
      "[CV 1/5; 17/18] START learning_rate=0.1, max_depth=8, subsample=0.8.............\n",
      "[CV 1/5; 17/18] END learning_rate=0.1, max_depth=8, subsample=0.8;, score=0.604 total time=  17.9s\n",
      "[CV 2/5; 17/18] START learning_rate=0.1, max_depth=8, subsample=0.8.............\n",
      "[CV 2/5; 17/18] END learning_rate=0.1, max_depth=8, subsample=0.8;, score=0.590 total time=  18.1s\n",
      "[CV 3/5; 17/18] START learning_rate=0.1, max_depth=8, subsample=0.8.............\n",
      "[CV 3/5; 17/18] END learning_rate=0.1, max_depth=8, subsample=0.8;, score=0.642 total time=  17.9s\n",
      "[CV 4/5; 17/18] START learning_rate=0.1, max_depth=8, subsample=0.8.............\n",
      "[CV 4/5; 17/18] END learning_rate=0.1, max_depth=8, subsample=0.8;, score=0.614 total time=  18.0s\n",
      "[CV 5/5; 17/18] START learning_rate=0.1, max_depth=8, subsample=0.8.............\n",
      "[CV 5/5; 17/18] END learning_rate=0.1, max_depth=8, subsample=0.8;, score=0.614 total time=  17.9s\n",
      "[CV 1/5; 18/18] START learning_rate=0.1, max_depth=8, subsample=1...............\n",
      "[CV 1/5; 18/18] END learning_rate=0.1, max_depth=8, subsample=1;, score=0.602 total time=  17.1s\n",
      "[CV 2/5; 18/18] START learning_rate=0.1, max_depth=8, subsample=1...............\n",
      "[CV 2/5; 18/18] END learning_rate=0.1, max_depth=8, subsample=1;, score=0.625 total time=  17.4s\n",
      "[CV 3/5; 18/18] START learning_rate=0.1, max_depth=8, subsample=1...............\n",
      "[CV 3/5; 18/18] END learning_rate=0.1, max_depth=8, subsample=1;, score=0.627 total time=  17.2s\n",
      "[CV 4/5; 18/18] START learning_rate=0.1, max_depth=8, subsample=1...............\n",
      "[CV 4/5; 18/18] END learning_rate=0.1, max_depth=8, subsample=1;, score=0.633 total time=  17.2s\n",
      "[CV 5/5; 18/18] START learning_rate=0.1, max_depth=8, subsample=1...............\n",
      "[CV 5/5; 18/18] END learning_rate=0.1, max_depth=8, subsample=1;, score=0.624 total time=  17.0s\n",
      "TFIDF Best Params: {'learning_rate': 0.001, 'max_depth': 4, 'subsample': 0.8}\n"
     ]
    }
   ],
   "source": [
    "grid_search.fit(Xt_train, yt_train)\n",
    "best_model_tfidf = grid_search.best_estimator_\n",
    "print(\"TFIDF Best Params:\", grid_search.best_params_)"
   ]
  },
  {
   "cell_type": "code",
   "execution_count": 304,
   "metadata": {},
   "outputs": [
    {
     "name": "stdout",
     "output_type": "stream",
     "text": [
      "Count Best Params: {'learning_rate': 0.001, 'max_depth': 4, 'subsample': 0.8}\n",
      "0.6572143452877398\n",
      "0.6566666666666666\n"
     ]
    }
   ],
   "source": [
    "print(\"Count Best Params: {'learning_rate': 0.001, 'max_depth': 4, 'subsample': 0.8}\")\n",
    "print(best_model_counts.score(Xc_train, yc_train))\n",
    "print(best_model_counts.score(Xc_test, yc_test))"
   ]
  },
  {
   "cell_type": "code",
   "execution_count": 306,
   "metadata": {},
   "outputs": [
    {
     "name": "stdout",
     "output_type": "stream",
     "text": [
      "TFIDF Best Params: {'learning_rate': 0.001, 'max_depth': 4, 'subsample': 0.8}\n",
      "0.6572143452877398\n",
      "0.6566666666666666\n"
     ]
    }
   ],
   "source": [
    "print(\"TFIDF Best Params: {'learning_rate': 0.001, 'max_depth': 4, 'subsample': 0.8}\")\n",
    "print(best_model_tfidf.score(Xc_train, yc_train))\n",
    "print(best_model_tfidf.score(Xc_test, yc_test))"
   ]
  }
 ],
 "metadata": {
  "kernelspec": {
   "display_name": "datasci",
   "language": "python",
   "name": "python3"
  },
  "language_info": {
   "codemirror_mode": {
    "name": "ipython",
    "version": 3
   },
   "file_extension": ".py",
   "mimetype": "text/x-python",
   "name": "python",
   "nbconvert_exporter": "python",
   "pygments_lexer": "ipython3",
   "version": "3.11.5"
  }
 },
 "nbformat": 4,
 "nbformat_minor": 2
}
